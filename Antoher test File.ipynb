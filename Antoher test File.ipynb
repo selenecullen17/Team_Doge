{
 "cells": [
  {
   "cell_type": "code",
   "execution_count": 6,
   "metadata": {},
   "outputs": [],
   "source": [
    "import temp as tp"
   ]
  },
  {
   "cell_type": "code",
   "execution_count": 8,
   "metadata": {},
   "outputs": [
    {
     "name": "stdout",
     "output_type": "stream",
     "text": [
      "hello world!\n"
     ]
    }
   ],
   "source": [
    "%run temp"
   ]
  },
  {
   "cell_type": "code",
   "execution_count": 9,
   "metadata": {},
   "outputs": [
    {
     "data": {
      "text/plain": [
       "date\n",
       "2000-01-03    96.493223\n",
       "2000-01-04    92.719745\n",
       "2000-01-05    92.885612\n",
       "2000-01-06    91.392808\n",
       "2000-01-07    96.700557\n",
       "                ...    \n",
       "2001-12-24    77.919884\n",
       "2001-12-26    78.347752\n",
       "2001-12-27    78.823161\n",
       "2001-12-28    78.782413\n",
       "2001-12-31    77.627845\n",
       "Name: adjClose, Length: 500, dtype: float64"
      ]
     },
     "execution_count": 9,
     "metadata": {},
     "output_type": "execute_result"
    }
   ],
   "source": [
    "prices('SPY','1-1-2000','1-1-2002')"
   ]
  },
  {
   "cell_type": "code",
   "execution_count": 10,
   "metadata": {},
   "outputs": [
    {
     "ename": "NameError",
     "evalue": "name 'returns' is not defined",
     "output_type": "error",
     "traceback": [
      "\u001b[1;31m---------------------------------------------------------------------------\u001b[0m",
      "\u001b[1;31mNameError\u001b[0m                                 Traceback (most recent call last)",
      "\u001b[1;32m<ipython-input-10-49e0e95b6b4d>\u001b[0m in \u001b[0;36m<module>\u001b[1;34m\u001b[0m\n\u001b[1;32m----> 1\u001b[1;33m \u001b[0mreturns\u001b[0m\u001b[1;33m(\u001b[0m\u001b[1;34m'SPY'\u001b[0m\u001b[1;33m,\u001b[0m\u001b[1;34m'1-1-2000'\u001b[0m\u001b[1;33m,\u001b[0m\u001b[1;34m'1-1-2002'\u001b[0m\u001b[1;33m)\u001b[0m\u001b[1;33m\u001b[0m\u001b[1;33m\u001b[0m\u001b[0m\n\u001b[0m",
      "\u001b[1;31mNameError\u001b[0m: name 'returns' is not defined"
     ]
    }
   ],
   "source": [
    "returns('SPY','1-1-2000','1-1-2002')"
   ]
  },
  {
   "cell_type": "code",
   "execution_count": 11,
   "metadata": {},
   "outputs": [
    {
     "name": "stdout",
     "output_type": "stream",
     "text": [
      "hello world!\n"
     ]
    }
   ],
   "source": [
    "import sharpe_ratio_finder as sharpe"
   ]
  },
  {
   "cell_type": "code",
   "execution_count": 12,
   "metadata": {},
   "outputs": [],
   "source": [
    "tickers = ['SPY','TSLA']\n",
    "start_date = ['1-1-2013']\n",
    "end_date = ['1-1-2022']"
   ]
  },
  {
   "cell_type": "code",
   "execution_count": 15,
   "metadata": {},
   "outputs": [],
   "source": [
    "r = sharpe.returns(tickers,start_date,end_date)"
   ]
  },
  {
   "cell_type": "code",
   "execution_count": 16,
   "metadata": {},
   "outputs": [
    {
     "data": {
      "text/plain": [
       "SPY     0.15269\n",
       "TSLA    0.70156\n",
       "dtype: float64"
      ]
     },
     "execution_count": 16,
     "metadata": {},
     "output_type": "execute_result"
    }
   ],
   "source": [
    "risk_premiums = sharpe.rp(tickers,start_date,end_date)\n",
    "risk_premiums\n"
   ]
  },
  {
   "cell_type": "code",
   "execution_count": 17,
   "metadata": {},
   "outputs": [
    {
     "data": {
      "text/plain": [
       "SPY     0.164297\n",
       "TSLA    0.559628\n",
       "dtype: float64"
      ]
     },
     "execution_count": 17,
     "metadata": {},
     "output_type": "execute_result"
    }
   ],
   "source": [
    "volatility = sharpe.vol(tickers,start_date,end_date)\n",
    "volatility"
   ]
  },
  {
   "cell_type": "code",
   "execution_count": 18,
   "metadata": {},
   "outputs": [
    {
     "data": {
      "text/html": [
       "<div>\n",
       "<style scoped>\n",
       "    .dataframe tbody tr th:only-of-type {\n",
       "        vertical-align: middle;\n",
       "    }\n",
       "\n",
       "    .dataframe tbody tr th {\n",
       "        vertical-align: top;\n",
       "    }\n",
       "\n",
       "    .dataframe thead th {\n",
       "        text-align: right;\n",
       "    }\n",
       "</style>\n",
       "<table border=\"1\" class=\"dataframe\">\n",
       "  <thead>\n",
       "    <tr style=\"text-align: right;\">\n",
       "      <th></th>\n",
       "      <th>SPY</th>\n",
       "      <th>TSLA</th>\n",
       "    </tr>\n",
       "  </thead>\n",
       "  <tbody>\n",
       "    <tr>\n",
       "      <th>SPY</th>\n",
       "      <td>0.026993</td>\n",
       "      <td>0.036419</td>\n",
       "    </tr>\n",
       "    <tr>\n",
       "      <th>TSLA</th>\n",
       "      <td>0.036419</td>\n",
       "      <td>0.313184</td>\n",
       "    </tr>\n",
       "  </tbody>\n",
       "</table>\n",
       "</div>"
      ],
      "text/plain": [
       "           SPY      TSLA\n",
       "SPY   0.026993  0.036419\n",
       "TSLA  0.036419  0.313184"
      ]
     },
     "execution_count": 18,
     "metadata": {},
     "output_type": "execute_result"
    }
   ],
   "source": [
    "covariance = sharpe.cov(tickers,start_date,end_date)\n",
    "covariance"
   ]
  },
  {
   "cell_type": "code",
   "execution_count": 19,
   "metadata": {},
   "outputs": [
    {
     "data": {
      "text/html": [
       "<div>\n",
       "<style scoped>\n",
       "    .dataframe tbody tr th:only-of-type {\n",
       "        vertical-align: middle;\n",
       "    }\n",
       "\n",
       "    .dataframe tbody tr th {\n",
       "        vertical-align: top;\n",
       "    }\n",
       "\n",
       "    .dataframe thead th {\n",
       "        text-align: right;\n",
       "    }\n",
       "</style>\n",
       "<table border=\"1\" class=\"dataframe\">\n",
       "  <thead>\n",
       "    <tr style=\"text-align: right;\">\n",
       "      <th></th>\n",
       "      <th>SPY</th>\n",
       "      <th>TSLA</th>\n",
       "    </tr>\n",
       "  </thead>\n",
       "  <tbody>\n",
       "    <tr>\n",
       "      <th>SPY</th>\n",
       "      <td>1.000000</td>\n",
       "      <td>0.396095</td>\n",
       "    </tr>\n",
       "    <tr>\n",
       "      <th>TSLA</th>\n",
       "      <td>0.396095</td>\n",
       "      <td>1.000000</td>\n",
       "    </tr>\n",
       "  </tbody>\n",
       "</table>\n",
       "</div>"
      ],
      "text/plain": [
       "           SPY      TSLA\n",
       "SPY   1.000000  0.396095\n",
       "TSLA  0.396095  1.000000"
      ]
     },
     "execution_count": 19,
     "metadata": {},
     "output_type": "execute_result"
    }
   ],
   "source": [
    "correlation = sharpe.corr(tickers,start_date,end_date)\n",
    "correlation"
   ]
  },
  {
   "cell_type": "code",
   "execution_count": 25,
   "metadata": {},
   "outputs": [
    {
     "data": {
      "text/plain": [
       "<AxesSubplot:xlabel='Volatility', ylabel='Risk_premium'>"
      ]
     },
     "execution_count": 25,
     "metadata": {},
     "output_type": "execute_result"
    },
    {
     "data": {
      "image/png": "[encoded data removed]",
      "text/plain": [
       "<Figure size 432x288 with 1 Axes>"
      ]
     },
     "metadata": {},
     "output_type": "display_data"
    }
   ],
   "source": [
    "xmax = 1\n",
    "ymin = -.2\n",
    "ymax = 1.5\n",
    "sharpe.mean_vol_plot(tickers,risk_premiums,volatility,xmax,ymin,ymax)"
   ]
  },
  {
   "cell_type": "code",
   "execution_count": 27,
   "metadata": {},
   "outputs": [
    {
     "data": {
      "text/plain": [
       "<AxesSubplot:xlabel='Volatility', ylabel='Risk_premium'>"
      ]
     },
     "execution_count": 27,
     "metadata": {},
     "output_type": "execute_result"
    },
    {
     "data": {
      "image/png": "[encoded data removed]",
      "text/plain": [
       "<Figure size 432x288 with 1 Axes>"
      ]
     },
     "metadata": {},
     "output_type": "display_data"
    }
   ],
   "source": [
    "sharpe.efficient_frontier(tickers,risk_premiums,volatility,covariance,xmax,ymin,ymax)"
   ]
  },
  {
   "cell_type": "code",
   "execution_count": 28,
   "metadata": {},
   "outputs": [
    {
     "data": {
      "text/html": [
       "<div>\n",
       "<style scoped>\n",
       "    .dataframe tbody tr th:only-of-type {\n",
       "        vertical-align: middle;\n",
       "    }\n",
       "\n",
       "    .dataframe tbody tr th {\n",
       "        vertical-align: top;\n",
       "    }\n",
       "\n",
       "    .dataframe thead th {\n",
       "        text-align: right;\n",
       "    }\n",
       "</style>\n",
       "<table border=\"1\" class=\"dataframe\">\n",
       "  <thead>\n",
       "    <tr style=\"text-align: right;\">\n",
       "      <th></th>\n",
       "      <th>Risk_Premiums</th>\n",
       "      <th>Weights</th>\n",
       "      <th>weighted_ret</th>\n",
       "    </tr>\n",
       "  </thead>\n",
       "  <tbody>\n",
       "    <tr>\n",
       "      <th>SPY</th>\n",
       "      <td>0.15269</td>\n",
       "      <td>0.625882</td>\n",
       "      <td>0.095566</td>\n",
       "    </tr>\n",
       "    <tr>\n",
       "      <th>TSLA</th>\n",
       "      <td>0.70156</td>\n",
       "      <td>0.374118</td>\n",
       "      <td>0.262466</td>\n",
       "    </tr>\n",
       "  </tbody>\n",
       "</table>\n",
       "</div>"
      ],
      "text/plain": [
       "      Risk_Premiums   Weights  weighted_ret\n",
       "SPY         0.15269  0.625882      0.095566\n",
       "TSLA        0.70156  0.374118      0.262466"
      ]
     },
     "execution_count": 28,
     "metadata": {},
     "output_type": "execute_result"
    }
   ],
   "source": [
    "sharpe.max_sharpe_weights(tickers,risk_premiums,volatility,covariance)"
   ]
  },
  {
   "cell_type": "code",
   "execution_count": 29,
   "metadata": {},
   "outputs": [
    {
     "data": {
      "text/plain": [
       "1.3393013417822681"
      ]
     },
     "execution_count": 29,
     "metadata": {},
     "output_type": "execute_result"
    }
   ],
   "source": [
    "sharpe.sharpe_ratio_value(tickers,risk_premiums,volatility,covariance)"
   ]
  },
  {
   "cell_type": "code",
   "execution_count": 30,
   "metadata": {},
   "outputs": [
    {
     "data": {
      "text/plain": [
       "196    0.35858\n",
       "Name: Risk_premium, dtype: float64"
      ]
     },
     "execution_count": 30,
     "metadata": {},
     "output_type": "execute_result"
    }
   ],
   "source": [
    "sharpe.max_sharpe_risk_premium(tickers,risk_premiums,volatility,covariance)"
   ]
  },
  {
   "cell_type": "code",
   "execution_count": 31,
   "metadata": {},
   "outputs": [
    {
     "data": {
      "text/plain": [
       "69    0.26804\n",
       "Name: Volatility, dtype: float64"
      ]
     },
     "execution_count": 31,
     "metadata": {},
     "output_type": "execute_result"
    }
   ],
   "source": [
    "sharpe.max_sharpe_volatility(tickers,risk_premiums,volatility,covariance)"
   ]
  },
  {
   "cell_type": "code",
   "execution_count": 83,
   "metadata": {},
   "outputs": [],
   "source": [
    "def var_weight_plot(base_tickers,var_ticker,base_weights,start_date,end_date,n):\n",
    "    base_weights = np.array(base_weights)\n",
    "    \n",
    "    \n",
    "    base_prices = tiingo.get_dataframe(base_tickers, start_date, end_date, metric_name='adjClose')\n",
    "\n",
    "    \n",
    "    base_returns          = base_prices.pct_change()\n",
    "    weighted_base_returns = base_weights*base_returns\n",
    "    base_total_ret        = weighted_base_returns.sum(axis = 1)\n",
    "    \n",
    "    var_prices   = tiingo.get_dataframe(var_ticker, start_date, end_date, metric_name='adjClose')\n",
    "    var_prices   = pd.DataFrame(var_prices)\n",
    "    var_returns  = var_prices.pct_change()\n",
    "    \n",
    "    #now create the array of variable weights\n",
    "    var_weight = []\n",
    "    for i in range(n):\n",
    "        var_weight.append(i/n)\n",
    "    var_weight  = np.array(var_weight)\n",
    "    \n",
    "    test_returns                   = pd.DataFrame()\n",
    "    test_returns['Base_Portfolio'] = base_total_ret\n",
    "    test_returns['Variable_Sec']   = var_returns\n",
    "    \n",
    "    \n",
    "    Volatility   = []\n",
    "    Risk_Premium = []\n",
    "    Sharpe_Ratio = []\n",
    "\n",
    "    test_port_returns = []\n",
    "    #this for loop creates n portfolios with the desired weights and puts the summary statistics into a DF\n",
    "    for w in var_weight:\n",
    "        var_weighted_return  = test_returns.Variable_Sec*w\n",
    "        base_weighted_return = test_returns.Base_Portfolio*(1-w)\n",
    "    \n",
    "        total_ret = var_weighted_return + base_weighted_return\n",
    "        total_ret = pd.DataFrame(total_ret)\n",
    "    \n",
    "        return_average    = total_ret.mean()*252\n",
    "        return_volatility = total_ret.std()*252**0.5\n",
    "        return_rp         = return_average - 0.011\n",
    "        return_sharpe     = return_rp/return_volatility\n",
    "    \n",
    "        test_port_returns.append(return_average)\n",
    "        Volatility.append(return_volatility)\n",
    "        Risk_Premium.append(return_rp)\n",
    "    #this makes the numbers inside the arrays floats so that we can plot them\n",
    "    Risk_Premium = pd.DataFrame(Risk_Premium)\n",
    "    Volatility   = pd.DataFrame(Volatility)\n",
    "        \n",
    "    var_test_results                 = pd.DataFrame()\n",
    "    var_test_results['var_weight']   = var_weight\n",
    "    var_test_results['Risk_Premium'] = Risk_Premium\n",
    "    var_test_results['Volatility']   = Volatility\n",
    "    var_test_results['Sharpe_Ratio'] = var_test_results.Risk_Premium/var_test_results.Volatility\n",
    "    var_test_results\n",
    "  \n",
    "    #now create the plot \n",
    "    graph = var_test_results[['Risk_Premium','Volatility','Sharpe_Ratio']].plot(logy = False)\n",
    "    \n",
    "    \n",
    "    \n",
    "    return var_test_results,graph"
   ]
  },
  {
   "cell_type": "code",
   "execution_count": 87,
   "metadata": {},
   "outputs": [
    {
     "data": {
      "text/plain": [
       "(     var_weight  Risk_Premium  Volatility  Sharpe_Ratio\n",
       " 0         0.000      0.182378    0.275007      0.663177\n",
       " 1         0.002      0.185057    0.275017      0.672892\n",
       " 2         0.004      0.187735    0.275033      0.682589\n",
       " 3         0.006      0.190413    0.275056      0.692267\n",
       " 4         0.008      0.193091    0.275087      0.701927\n",
       " ..          ...           ...         ...           ...\n",
       " 495       0.990      1.508002    0.737115      2.045817\n",
       " 496       0.992      1.510680    0.738395      2.045898\n",
       " 497       0.994      1.513358    0.739675      2.045978\n",
       " 498       0.996      1.516036    0.740955      2.046056\n",
       " 499       0.998      1.518714    0.742236      2.046133\n",
       " \n",
       " [500 rows x 4 columns],\n",
       " <AxesSubplot:>)"
      ]
     },
     "execution_count": 87,
     "metadata": {},
     "output_type": "execute_result"
    },
    {
     "data": {
      "image/png": "[encoded data removed]",
      "text/plain": [
       "<Figure size 432x288 with 1 Axes>"
      ]
     },
     "metadata": {},
     "output_type": "display_data"
    }
   ],
   "source": [
    "base_tickers = ['ASX','AGG']\n",
    "var_ticker   =['TSLA']\n",
    "start_date   = '1-1-2020'\n",
    "end_date     = '1-1-2022'\n",
    "base_weights = [.6,.4]\n",
    "n = 500\n",
    "\n",
    "var_weight_plot(base_tickers,var_ticker,base_weights,start_date,end_date,n)"
   ]
  },
  {
   "cell_type": "code",
   "execution_count": 88,
   "metadata": {},
   "outputs": [
    {
     "ename": "SyntaxError",
     "evalue": "invalid syntax (<ipython-input-88-8badd4a90cd3>, line 1)",
     "output_type": "error",
     "traceback": [
      "\u001b[1;36m  File \u001b[1;32m\"<ipython-input-88-8badd4a90cd3>\"\u001b[1;36m, line \u001b[1;32m1\u001b[0m\n\u001b[1;33m    https://api.tiingo.com/tiingo/crypto/top?tickers=<ticker>\u001b[0m\n\u001b[1;37m          ^\u001b[0m\n\u001b[1;31mSyntaxError\u001b[0m\u001b[1;31m:\u001b[0m invalid syntax\n"
     ]
    }
   ],
   "source": [
    "https://api.tiingo.com/tiingo/crypto/top?tickers=<ticker>"
   ]
  },
  {
   "cell_type": "code",
   "execution_count": null,
   "metadata": {},
   "outputs": [],
   "source": []
  }
 ],
 "metadata": {
  "kernelspec": {
   "display_name": "Python 3",
   "language": "python",
   "name": "python3"
  },
  "language_info": {
   "codemirror_mode": {
    "name": "ipython",
    "version": 3
   },
   "file_extension": ".py",
   "mimetype": "text/x-python",
   "name": "python",
   "nbconvert_exporter": "python",
   "pygments_lexer": "ipython3",
   "version": "3.8.5"
  }
 },
 "nbformat": 4,
 "nbformat_minor": 4
}
