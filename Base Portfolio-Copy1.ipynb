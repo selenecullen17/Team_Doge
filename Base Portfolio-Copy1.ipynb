{
 "cells": [
  {
   "cell_type": "markdown",
   "metadata": {},
   "source": [
    "# Portfolio Contents\n",
    "\n",
    "I want to choose a couple of stock ETFs and Bond ETFs. To make things more tailored to me/people my age I'm going to pick some ETFs that are a little \"Interesting\", instead of just going with straightforward asset classes. Here is the list of ETFs that I am considering using:\n",
    "- SPDR Gender Diversity ETF (SHE)\n",
    "- ARQ\n",
    "\n",
    "- iShares MSCI Emerging Markets ETF (EEM)\n",
    "- iShares iBoxx High Yield Corporate Bond ETF (HYG)\n",
    "- Vanguard Mega Cap Index Fund ETF Shares (MGC)\n",
    "- iShares U.S. Real Estate ETF (IYR)\n",
    "- iShares 1-3 Year Treasury Bond ETF (SHY)\n",
    "- Consumer Staples Select Sector SPDR Fund (XLP)\n",
    "- SPDR Gold Shares (GLD)\n",
    "- Global X Lithium & Battery Tech ETF (LIT)\n",
    "\n",
    "I'm going to create a portfolio of these funds and use SPY as comparison to find the $\\Beta$ of the portfolio (as well as other stats). For the portfolio weights, I am going to find the maximum sharpe ratio. "
   ]
  },
  {
   "cell_type": "code",
   "execution_count": 7,
   "metadata": {},
   "outputs": [],
   "source": [
    "import pandas as pd                                    # Working with tables\n",
    "import numpy as np\n",
    "\n",
    "from tiingo import TiingoClient                       # Stock prices.\n",
    "import quandl                                         # Economic data, futures prices, ...\n",
    "\n",
    "# API keys:\n",
    "tiingo = TiingoClient({'api_key':'349dd4117e5d1ed71a22f0207a8e439cf3f7b06b'})\n",
    "quandl.ApiConfig.api_key = '_ci7hzC_sPkspKWz2yzt'                      # Replace the XXXX with your API key (must be inside the ' ').\n",
    "\n",
    "import matplotlib.pyplot as plt                        # Basic plot library.\n",
    "plt.style.use('ggplot')                                # Make plots look nice.\n",
    "%matplotlib inline"
   ]
  },
  {
   "cell_type": "code",
   "execution_count": 9,
   "metadata": {},
   "outputs": [],
   "source": [
    "tickers = ['AGG','ACG']\n",
    "prices  = tiingo.get_dataframe(tickers, '2016-3-8', metric_name='adjClose')\n",
    "prices.index = pd.to_datetime(prices.index).tz_convert(None)    # Get rid of hour, minutes, seconds in the row i\n",
    "prices\n",
    "spy = tiingo.get_dataframe('SPY', '2016-3-8', metric_name='adjClose')\n",
    "spy.index = pd.to_datetime(spy.index).tz_convert(None)"
   ]
  },
  {
   "cell_type": "code",
   "execution_count": 10,
   "metadata": {},
   "outputs": [],
   "source": [
    "spy.to_csv(\"C:\\\\Users\\\\selen\\\\Practicum Project\\\\spy.csv\")"
   ]
  },
  {
   "cell_type": "code",
   "execution_count": 11,
   "metadata": {},
   "outputs": [
    {
     "data": {
      "text/html": [
       "<div>\n",
       "<style scoped>\n",
       "    .dataframe tbody tr th:only-of-type {\n",
       "        vertical-align: middle;\n",
       "    }\n",
       "\n",
       "    .dataframe tbody tr th {\n",
       "        vertical-align: top;\n",
       "    }\n",
       "\n",
       "    .dataframe thead th {\n",
       "        text-align: right;\n",
       "    }\n",
       "</style>\n",
       "<table border=\"1\" class=\"dataframe\">\n",
       "  <thead>\n",
       "    <tr style=\"text-align: right;\">\n",
       "      <th></th>\n",
       "      <th>AGG</th>\n",
       "      <th>ACG</th>\n",
       "    </tr>\n",
       "  </thead>\n",
       "  <tbody>\n",
       "    <tr>\n",
       "      <th>2016-03-08</th>\n",
       "      <td>NaN</td>\n",
       "      <td>NaN</td>\n",
       "    </tr>\n",
       "    <tr>\n",
       "      <th>2016-03-09</th>\n",
       "      <td>-0.000456</td>\n",
       "      <td>0.000000</td>\n",
       "    </tr>\n",
       "    <tr>\n",
       "      <th>2016-03-10</th>\n",
       "      <td>0.000456</td>\n",
       "      <td>-0.001292</td>\n",
       "    </tr>\n",
       "    <tr>\n",
       "      <th>2016-03-11</th>\n",
       "      <td>-0.001824</td>\n",
       "      <td>0.003881</td>\n",
       "    </tr>\n",
       "    <tr>\n",
       "      <th>2016-03-14</th>\n",
       "      <td>0.000548</td>\n",
       "      <td>0.000000</td>\n",
       "    </tr>\n",
       "    <tr>\n",
       "      <th>...</th>\n",
       "      <td>...</td>\n",
       "      <td>...</td>\n",
       "    </tr>\n",
       "    <tr>\n",
       "      <th>2022-03-16</th>\n",
       "      <td>0.000743</td>\n",
       "      <td>0.000000</td>\n",
       "    </tr>\n",
       "    <tr>\n",
       "      <th>2022-03-17</th>\n",
       "      <td>0.001672</td>\n",
       "      <td>0.000000</td>\n",
       "    </tr>\n",
       "    <tr>\n",
       "      <th>2022-03-18</th>\n",
       "      <td>0.002225</td>\n",
       "      <td>0.000000</td>\n",
       "    </tr>\n",
       "    <tr>\n",
       "      <th>2022-03-21</th>\n",
       "      <td>-0.009806</td>\n",
       "      <td>0.000000</td>\n",
       "    </tr>\n",
       "    <tr>\n",
       "      <th>2022-03-22</th>\n",
       "      <td>-0.002709</td>\n",
       "      <td>0.000000</td>\n",
       "    </tr>\n",
       "  </tbody>\n",
       "</table>\n",
       "<p>1522 rows × 2 columns</p>\n",
       "</div>"
      ],
      "text/plain": [
       "                 AGG       ACG\n",
       "2016-03-08       NaN       NaN\n",
       "2016-03-09 -0.000456  0.000000\n",
       "2016-03-10  0.000456 -0.001292\n",
       "2016-03-11 -0.001824  0.003881\n",
       "2016-03-14  0.000548  0.000000\n",
       "...              ...       ...\n",
       "2022-03-16  0.000743  0.000000\n",
       "2022-03-17  0.001672  0.000000\n",
       "2022-03-18  0.002225  0.000000\n",
       "2022-03-21 -0.009806  0.000000\n",
       "2022-03-22 -0.002709  0.000000\n",
       "\n",
       "[1522 rows x 2 columns]"
      ]
     },
     "execution_count": 11,
     "metadata": {},
     "output_type": "execute_result"
    }
   ],
   "source": [
    "r = prices.pct_change()\n",
    "r\n"
   ]
  },
  {
   "cell_type": "code",
   "execution_count": 12,
   "metadata": {},
   "outputs": [
    {
     "data": {
      "text/plain": [
       "AGG    0.008733\n",
       "ACG   -0.007014\n",
       "dtype: float64"
      ]
     },
     "execution_count": 12,
     "metadata": {},
     "output_type": "execute_result"
    }
   ],
   "source": [
    "rf = 0.011\n",
    "risk_premiums = r.mean() * 252 - rf       \n",
    "vol           = r.std()  * 252**0.5\n",
    "cov           = r.cov()  * 252    \n",
    "corr          = r.corr() \n",
    "risk_premiums"
   ]
  },
  {
   "cell_type": "code",
   "execution_count": 13,
   "metadata": {},
   "outputs": [
    {
     "data": {
      "text/html": [
       "<div>\n",
       "<style scoped>\n",
       "    .dataframe tbody tr th:only-of-type {\n",
       "        vertical-align: middle;\n",
       "    }\n",
       "\n",
       "    .dataframe tbody tr th {\n",
       "        vertical-align: top;\n",
       "    }\n",
       "\n",
       "    .dataframe thead th {\n",
       "        text-align: right;\n",
       "    }\n",
       "</style>\n",
       "<table border=\"1\" class=\"dataframe\">\n",
       "  <thead>\n",
       "    <tr style=\"text-align: right;\">\n",
       "      <th></th>\n",
       "      <th>AGG</th>\n",
       "      <th>ACG</th>\n",
       "    </tr>\n",
       "  </thead>\n",
       "  <tbody>\n",
       "    <tr>\n",
       "      <th>AGG</th>\n",
       "      <td>478.645951</td>\n",
       "      <td>-56.556484</td>\n",
       "    </tr>\n",
       "    <tr>\n",
       "      <th>ACG</th>\n",
       "      <td>-56.556484</td>\n",
       "      <td>38473.596155</td>\n",
       "    </tr>\n",
       "  </tbody>\n",
       "</table>\n",
       "</div>"
      ],
      "text/plain": [
       "            AGG           ACG\n",
       "AGG  478.645951    -56.556484\n",
       "ACG  -56.556484  38473.596155"
      ]
     },
     "execution_count": 13,
     "metadata": {},
     "output_type": "execute_result"
    }
   ],
   "source": [
    "cov_inv = pd.DataFrame(np.linalg.pinv(cov.values), cov.columns, cov.index)\n",
    "cov_inv"
   ]
  },
  {
   "cell_type": "code",
   "execution_count": 14,
   "metadata": {},
   "outputs": [
    {
     "data": {
      "text/plain": [
       "AGG   -0.017219\n",
       "ACG    1.017219\n",
       "dtype: float64"
      ]
     },
     "execution_count": 14,
     "metadata": {},
     "output_type": "execute_result"
    }
   ],
   "source": [
    "w_max_Sharpe = cov_inv.dot(risk_premiums)/sum(cov_inv.dot(risk_premiums))\n",
    "w_max_Sharpe"
   ]
  },
  {
   "cell_type": "code",
   "execution_count": 15,
   "metadata": {},
   "outputs": [
    {
     "data": {
      "image/png": "[encoded data removed]",
      "text/plain": [
       "<Figure size 432x288 with 1 Axes>"
      ]
     },
     "metadata": {
      "needs_background": "light"
     },
     "output_type": "display_data"
    }
   ],
   "source": [
    "  # mean - volatility table\n",
    "assets = pd.DataFrame()                        \n",
    "assets['Risk_premium'] = risk_premiums\n",
    "assets['Volatility']   = vol    \n",
    "assets['Color']        = 'orange'\n",
    "assets['Size']         = 150\n",
    "\n",
    "all_portfolios = assets\n",
    "\n",
    "graph = all_portfolios.plot.scatter('Volatility','Risk_premium', color=all_portfolios.Color, s=all_portfolios.Size, xlim=(0,0.5), ylim=(-0.03,0.5))\n",
    "\n",
    "# add ticker symbols to plot:\n",
    "for s in tickers:                                 # loop over sectors\n",
    "    x = all_portfolios.loc[s,'Volatility']+0.005  # get x-coordinate from table (+ offset so the labels don't overlap with points)\n",
    "    y = all_portfolios.loc[s,'Risk_premium']      # get y-coordinate from table\n",
    "    graph.text(x,y,s)                             # add the ticker symbol to the graph"
   ]
  },
  {
   "cell_type": "code",
   "execution_count": 16,
   "metadata": {},
   "outputs": [
    {
     "data": {
      "image/png": "[encoded data removed]",
      "text/plain": [
       "<Figure size 432x288 with 1 Axes>"
      ]
     },
     "metadata": {
      "needs_background": "light"
     },
     "output_type": "display_data"
    }
   ],
   "source": [
    "n_portfolios = 1000\n",
    "\n",
    "random_arrays  = [ np.random.uniform(0,1,len(tickers)) for i in range(0,n_portfolios) ]\n",
    "random_weights = [ ra/ra.sum() for ra in random_arrays ]\n",
    "\n",
    "random = pd.DataFrame()\n",
    "random['Risk_premium'] = [ w.dot(risk_premiums)   for w in random_weights ]\n",
    "random['Volatility']   = [ w.dot(cov).dot(w)**0.5 for w in random_weights ]\n",
    "random['Color']        = 'gray'\n",
    "random['Size']         = 10\n",
    "random['sharpe']       = random['Risk_premium']/random['Volatility']\n",
    "\n",
    "all_portfolios = pd.concat([random, assets])\n",
    "\n",
    "graph = all_portfolios.plot.scatter('Volatility','Risk_premium', color=all_portfolios.Color, s=all_portfolios.Size, xlim=(0,0.5), ylim=(-0.03,0.5))\n",
    "\n",
    "# add ticker to plot:\n",
    "for s in tickers:                                 # loop over sectors\n",
    "    x = all_portfolios.loc[s,'Volatility']+0.005  # get x-coordinate from table (+ offset so the labels don't overlap with points)\n",
    "    y = all_portfolios.loc[s,'Risk_premium']      # get y-coordinate from table\n",
    "    graph.text(x,y,s)                             # add the ticker symbol to the graph"
   ]
  },
  {
   "cell_type": "code",
   "execution_count": 17,
   "metadata": {},
   "outputs": [
    {
     "name": "stderr",
     "output_type": "stream",
     "text": [
      "<ipython-input-17-8940feeb32bb>:1: UserWarning: Boolean Series key will be reindexed to match DataFrame index.\n",
      "  random[(random['Risk_premium']>= .1)][(random['Volatility']<= .17)].sharpe.max()\n"
     ]
    },
    {
     "data": {
      "text/plain": [
       "nan"
      ]
     },
     "execution_count": 17,
     "metadata": {},
     "output_type": "execute_result"
    }
   ],
   "source": [
    "random[(random['Risk_premium']>= .1)][(random['Volatility']<= .17)].sharpe.max()"
   ]
  },
  {
   "cell_type": "code",
   "execution_count": 18,
   "metadata": {},
   "outputs": [
    {
     "data": {
      "text/html": [
       "<div>\n",
       "<style scoped>\n",
       "    .dataframe tbody tr th:only-of-type {\n",
       "        vertical-align: middle;\n",
       "    }\n",
       "\n",
       "    .dataframe tbody tr th {\n",
       "        vertical-align: top;\n",
       "    }\n",
       "\n",
       "    .dataframe thead th {\n",
       "        text-align: right;\n",
       "    }\n",
       "</style>\n",
       "<table border=\"1\" class=\"dataframe\">\n",
       "  <thead>\n",
       "    <tr style=\"text-align: right;\">\n",
       "      <th></th>\n",
       "      <th>Risk_premium</th>\n",
       "      <th>Volatility</th>\n",
       "      <th>Color</th>\n",
       "      <th>Size</th>\n",
       "      <th>sharpe</th>\n",
       "      <th>weights</th>\n",
       "    </tr>\n",
       "  </thead>\n",
       "  <tbody>\n",
       "    <tr>\n",
       "      <th>0</th>\n",
       "      <td>0.003556</td>\n",
       "      <td>0.030751</td>\n",
       "      <td>gray</td>\n",
       "      <td>10</td>\n",
       "      <td>0.115626</td>\n",
       "      <td>[0.6712378314749334, 0.3287621685250666]</td>\n",
       "    </tr>\n",
       "    <tr>\n",
       "      <th>1</th>\n",
       "      <td>-0.001879</td>\n",
       "      <td>0.015343</td>\n",
       "      <td>gray</td>\n",
       "      <td>10</td>\n",
       "      <td>-0.122447</td>\n",
       "      <td>[0.32612858330026767, 0.6738714166997324]</td>\n",
       "    </tr>\n",
       "    <tr>\n",
       "      <th>2</th>\n",
       "      <td>-0.000828</td>\n",
       "      <td>0.018262</td>\n",
       "      <td>gray</td>\n",
       "      <td>10</td>\n",
       "      <td>-0.045358</td>\n",
       "      <td>[0.3928309862911408, 0.6071690137088591]</td>\n",
       "    </tr>\n",
       "    <tr>\n",
       "      <th>3</th>\n",
       "      <td>0.000197</td>\n",
       "      <td>0.021152</td>\n",
       "      <td>gray</td>\n",
       "      <td>10</td>\n",
       "      <td>0.009319</td>\n",
       "      <td>[0.45795294614753274, 0.5420470538524672]</td>\n",
       "    </tr>\n",
       "    <tr>\n",
       "      <th>4</th>\n",
       "      <td>-0.006588</td>\n",
       "      <td>0.005128</td>\n",
       "      <td>gray</td>\n",
       "      <td>10</td>\n",
       "      <td>-1.284727</td>\n",
       "      <td>[0.027038835054031228, 0.9729611649459687]</td>\n",
       "    </tr>\n",
       "    <tr>\n",
       "      <th>...</th>\n",
       "      <td>...</td>\n",
       "      <td>...</td>\n",
       "      <td>...</td>\n",
       "      <td>...</td>\n",
       "      <td>...</td>\n",
       "      <td>...</td>\n",
       "    </tr>\n",
       "    <tr>\n",
       "      <th>995</th>\n",
       "      <td>0.002690</td>\n",
       "      <td>0.028264</td>\n",
       "      <td>gray</td>\n",
       "      <td>10</td>\n",
       "      <td>0.095174</td>\n",
       "      <td>[0.6162664625934319, 0.38373353740656807]</td>\n",
       "    </tr>\n",
       "    <tr>\n",
       "      <th>996</th>\n",
       "      <td>0.007319</td>\n",
       "      <td>0.041616</td>\n",
       "      <td>gray</td>\n",
       "      <td>10</td>\n",
       "      <td>0.175864</td>\n",
       "      <td>[0.9102169789629825, 0.08978302103701752]</td>\n",
       "    </tr>\n",
       "    <tr>\n",
       "      <th>997</th>\n",
       "      <td>-0.002288</td>\n",
       "      <td>0.014221</td>\n",
       "      <td>gray</td>\n",
       "      <td>10</td>\n",
       "      <td>-0.160894</td>\n",
       "      <td>[0.30012693762500675, 0.6998730623749932]</td>\n",
       "    </tr>\n",
       "    <tr>\n",
       "      <th>998</th>\n",
       "      <td>-0.000203</td>\n",
       "      <td>0.020021</td>\n",
       "      <td>gray</td>\n",
       "      <td>10</td>\n",
       "      <td>-0.010141</td>\n",
       "      <td>[0.43254148950640553, 0.5674585104935945]</td>\n",
       "    </tr>\n",
       "    <tr>\n",
       "      <th>999</th>\n",
       "      <td>-0.002277</td>\n",
       "      <td>0.014252</td>\n",
       "      <td>gray</td>\n",
       "      <td>10</td>\n",
       "      <td>-0.159766</td>\n",
       "      <td>[0.30083674102708846, 0.6991632589729116]</td>\n",
       "    </tr>\n",
       "  </tbody>\n",
       "</table>\n",
       "<p>1000 rows × 6 columns</p>\n",
       "</div>"
      ],
      "text/plain": [
       "     Risk_premium  Volatility Color  Size    sharpe  \\\n",
       "0        0.003556    0.030751  gray    10  0.115626   \n",
       "1       -0.001879    0.015343  gray    10 -0.122447   \n",
       "2       -0.000828    0.018262  gray    10 -0.045358   \n",
       "3        0.000197    0.021152  gray    10  0.009319   \n",
       "4       -0.006588    0.005128  gray    10 -1.284727   \n",
       "..            ...         ...   ...   ...       ...   \n",
       "995      0.002690    0.028264  gray    10  0.095174   \n",
       "996      0.007319    0.041616  gray    10  0.175864   \n",
       "997     -0.002288    0.014221  gray    10 -0.160894   \n",
       "998     -0.000203    0.020021  gray    10 -0.010141   \n",
       "999     -0.002277    0.014252  gray    10 -0.159766   \n",
       "\n",
       "                                        weights  \n",
       "0      [0.6712378314749334, 0.3287621685250666]  \n",
       "1     [0.32612858330026767, 0.6738714166997324]  \n",
       "2      [0.3928309862911408, 0.6071690137088591]  \n",
       "3     [0.45795294614753274, 0.5420470538524672]  \n",
       "4    [0.027038835054031228, 0.9729611649459687]  \n",
       "..                                          ...  \n",
       "995   [0.6162664625934319, 0.38373353740656807]  \n",
       "996   [0.9102169789629825, 0.08978302103701752]  \n",
       "997   [0.30012693762500675, 0.6998730623749932]  \n",
       "998   [0.43254148950640553, 0.5674585104935945]  \n",
       "999   [0.30083674102708846, 0.6991632589729116]  \n",
       "\n",
       "[1000 rows x 6 columns]"
      ]
     },
     "execution_count": 18,
     "metadata": {},
     "output_type": "execute_result"
    }
   ],
   "source": [
    "random['weights'] = random_weights\n",
    "random"
   ]
  },
  {
   "cell_type": "code",
   "execution_count": 19,
   "metadata": {},
   "outputs": [],
   "source": [
    "wgts = random[(random['sharpe'] >= random.sharpe.max())].weights.astype(str)\n",
    "\n",
    "wgts\n",
    "rp = random[(random['sharpe'] == random.sharpe.max())].Risk_premium"
   ]
  },
  {
   "cell_type": "code",
   "execution_count": 20,
   "metadata": {
    "scrolled": true
   },
   "outputs": [
    {
     "data": {
      "text/plain": [
       "array([0.9923147, 0.0076853])"
      ]
     },
     "execution_count": 20,
     "metadata": {},
     "output_type": "execute_result"
    }
   ],
   "source": [
    "lw = list(wgts)\n",
    "ws = str(lw[0])\n",
    "ws = ws.replace('[','')\n",
    "ws = ws.replace(']','')\n",
    "lw = ws.split(' ')\n",
    "lw = list(filter(None, lw))\n",
    "nw = np.array(lw)\n",
    "nw = nw.astype(float)\n",
    "nw\n"
   ]
  },
  {
   "cell_type": "code",
   "execution_count": 21,
   "metadata": {
    "scrolled": true
   },
   "outputs": [
    {
     "data": {
      "text/html": [
       "<div>\n",
       "<style scoped>\n",
       "    .dataframe tbody tr th:only-of-type {\n",
       "        vertical-align: middle;\n",
       "    }\n",
       "\n",
       "    .dataframe tbody tr th {\n",
       "        vertical-align: top;\n",
       "    }\n",
       "\n",
       "    .dataframe thead th {\n",
       "        text-align: right;\n",
       "    }\n",
       "</style>\n",
       "<table border=\"1\" class=\"dataframe\">\n",
       "  <thead>\n",
       "    <tr style=\"text-align: right;\">\n",
       "      <th></th>\n",
       "      <th>Risk_Premiums</th>\n",
       "      <th>Weights</th>\n",
       "      <th>weighted_ret</th>\n",
       "    </tr>\n",
       "  </thead>\n",
       "  <tbody>\n",
       "    <tr>\n",
       "      <th>AGG</th>\n",
       "      <td>0.008733</td>\n",
       "      <td>0.992315</td>\n",
       "      <td>0.008666</td>\n",
       "    </tr>\n",
       "    <tr>\n",
       "      <th>ACG</th>\n",
       "      <td>-0.007014</td>\n",
       "      <td>0.007685</td>\n",
       "      <td>-0.000054</td>\n",
       "    </tr>\n",
       "  </tbody>\n",
       "</table>\n",
       "</div>"
      ],
      "text/plain": [
       "     Risk_Premiums   Weights  weighted_ret\n",
       "AGG       0.008733  0.992315      0.008666\n",
       "ACG      -0.007014  0.007685     -0.000054"
      ]
     },
     "execution_count": 21,
     "metadata": {},
     "output_type": "execute_result"
    }
   ],
   "source": [
    "t = pd.DataFrame()\n",
    "t['Risk_Premiums'] = risk_premiums\n",
    "t['Weights'] = nw\n",
    "t['weighted_ret'] = t['Weights']*t['Risk_Premiums']\n",
    "\n",
    "t"
   ]
  },
  {
   "cell_type": "code",
   "execution_count": 22,
   "metadata": {},
   "outputs": [
    {
     "data": {
      "text/plain": [
       "0.00861159470033871"
      ]
     },
     "execution_count": 22,
     "metadata": {},
     "output_type": "execute_result"
    }
   ],
   "source": [
    "mrp = t['weighted_ret'].sum()\n",
    "mrp\n"
   ]
  },
  {
   "cell_type": "code",
   "execution_count": 23,
   "metadata": {},
   "outputs": [
    {
     "data": {
      "text/plain": [
       "2016-03-08         NaN\n",
       "2016-03-09   -0.000453\n",
       "2016-03-10    0.000443\n",
       "2016-03-11   -0.001781\n",
       "2016-03-14    0.000544\n",
       "                ...   \n",
       "2022-03-16    0.000738\n",
       "2022-03-17    0.001659\n",
       "2022-03-18    0.002208\n",
       "2022-03-21   -0.009730\n",
       "2022-03-22   -0.002688\n",
       "Length: 1522, dtype: float64"
      ]
     },
     "execution_count": 23,
     "metadata": {},
     "output_type": "execute_result"
    }
   ],
   "source": [
    "r = r.dot(t['Weights'])\n",
    "r"
   ]
  },
  {
   "cell_type": "code",
   "execution_count": 24,
   "metadata": {},
   "outputs": [
    {
     "ename": "ValueError",
     "evalue": "No axis named 1 for object type Series",
     "output_type": "error",
     "traceback": [
      "\u001b[1;31m---------------------------------------------------------------------------\u001b[0m",
      "\u001b[1;31mKeyError\u001b[0m                                  Traceback (most recent call last)",
      "\u001b[1;32m~\\anaconda3\\lib\\site-packages\\pandas\\core\\generic.py\u001b[0m in \u001b[0;36m_get_axis_number\u001b[1;34m(cls, axis)\u001b[0m\n\u001b[0;32m    367\u001b[0m         \u001b[1;32mtry\u001b[0m\u001b[1;33m:\u001b[0m\u001b[1;33m\u001b[0m\u001b[1;33m\u001b[0m\u001b[0m\n\u001b[1;32m--> 368\u001b[1;33m             \u001b[1;32mreturn\u001b[0m \u001b[0mcls\u001b[0m\u001b[1;33m.\u001b[0m\u001b[0m_AXIS_TO_AXIS_NUMBER\u001b[0m\u001b[1;33m[\u001b[0m\u001b[0maxis\u001b[0m\u001b[1;33m]\u001b[0m\u001b[1;33m\u001b[0m\u001b[1;33m\u001b[0m\u001b[0m\n\u001b[0m\u001b[0;32m    369\u001b[0m         \u001b[1;32mexcept\u001b[0m \u001b[0mKeyError\u001b[0m\u001b[1;33m:\u001b[0m\u001b[1;33m\u001b[0m\u001b[1;33m\u001b[0m\u001b[0m\n",
      "\u001b[1;31mKeyError\u001b[0m: 1",
      "\nDuring handling of the above exception, another exception occurred:\n",
      "\u001b[1;31mValueError\u001b[0m                                Traceback (most recent call last)",
      "\u001b[1;32m<ipython-input-24-f8bdf67c2572>\u001b[0m in \u001b[0;36m<module>\u001b[1;34m\u001b[0m\n\u001b[1;32m----> 1\u001b[1;33m \u001b[0mr\u001b[0m\u001b[1;33m[\u001b[0m\u001b[1;34m'total_ret'\u001b[0m\u001b[1;33m]\u001b[0m \u001b[1;33m=\u001b[0m \u001b[0mr\u001b[0m\u001b[1;33m.\u001b[0m\u001b[0msum\u001b[0m\u001b[1;33m(\u001b[0m\u001b[0maxis\u001b[0m\u001b[1;33m=\u001b[0m\u001b[1;36m1\u001b[0m\u001b[1;33m)\u001b[0m\u001b[1;33m\u001b[0m\u001b[1;33m\u001b[0m\u001b[0m\n\u001b[0m\u001b[0;32m      2\u001b[0m \u001b[0mr\u001b[0m\u001b[1;33m\u001b[0m\u001b[1;33m\u001b[0m\u001b[0m\n",
      "\u001b[1;32m~\\anaconda3\\lib\\site-packages\\pandas\\core\\generic.py\u001b[0m in \u001b[0;36mstat_func\u001b[1;34m(self, axis, skipna, level, numeric_only, min_count, **kwargs)\u001b[0m\n\u001b[0;32m  11420\u001b[0m                 \u001b[0mname\u001b[0m\u001b[1;33m,\u001b[0m \u001b[0maxis\u001b[0m\u001b[1;33m=\u001b[0m\u001b[0maxis\u001b[0m\u001b[1;33m,\u001b[0m \u001b[0mlevel\u001b[0m\u001b[1;33m=\u001b[0m\u001b[0mlevel\u001b[0m\u001b[1;33m,\u001b[0m \u001b[0mskipna\u001b[0m\u001b[1;33m=\u001b[0m\u001b[0mskipna\u001b[0m\u001b[1;33m,\u001b[0m \u001b[0mmin_count\u001b[0m\u001b[1;33m=\u001b[0m\u001b[0mmin_count\u001b[0m\u001b[1;33m\u001b[0m\u001b[1;33m\u001b[0m\u001b[0m\n\u001b[0;32m  11421\u001b[0m             )\n\u001b[1;32m> 11422\u001b[1;33m         return self._reduce(\n\u001b[0m\u001b[0;32m  11423\u001b[0m             \u001b[0mfunc\u001b[0m\u001b[1;33m,\u001b[0m\u001b[1;33m\u001b[0m\u001b[1;33m\u001b[0m\u001b[0m\n\u001b[0;32m  11424\u001b[0m             \u001b[0mname\u001b[0m\u001b[1;33m=\u001b[0m\u001b[0mname\u001b[0m\u001b[1;33m,\u001b[0m\u001b[1;33m\u001b[0m\u001b[1;33m\u001b[0m\u001b[0m\n",
      "\u001b[1;32m~\\anaconda3\\lib\\site-packages\\pandas\\core\\series.py\u001b[0m in \u001b[0;36m_reduce\u001b[1;34m(self, op, name, axis, skipna, numeric_only, filter_type, **kwds)\u001b[0m\n\u001b[0;32m   4221\u001b[0m \u001b[1;33m\u001b[0m\u001b[0m\n\u001b[0;32m   4222\u001b[0m         \u001b[1;32mif\u001b[0m \u001b[0maxis\u001b[0m \u001b[1;32mis\u001b[0m \u001b[1;32mnot\u001b[0m \u001b[1;32mNone\u001b[0m\u001b[1;33m:\u001b[0m\u001b[1;33m\u001b[0m\u001b[1;33m\u001b[0m\u001b[0m\n\u001b[1;32m-> 4223\u001b[1;33m             \u001b[0mself\u001b[0m\u001b[1;33m.\u001b[0m\u001b[0m_get_axis_number\u001b[0m\u001b[1;33m(\u001b[0m\u001b[0maxis\u001b[0m\u001b[1;33m)\u001b[0m\u001b[1;33m\u001b[0m\u001b[1;33m\u001b[0m\u001b[0m\n\u001b[0m\u001b[0;32m   4224\u001b[0m \u001b[1;33m\u001b[0m\u001b[0m\n\u001b[0;32m   4225\u001b[0m         \u001b[1;32mif\u001b[0m \u001b[0misinstance\u001b[0m\u001b[1;33m(\u001b[0m\u001b[0mdelegate\u001b[0m\u001b[1;33m,\u001b[0m \u001b[0mExtensionArray\u001b[0m\u001b[1;33m)\u001b[0m\u001b[1;33m:\u001b[0m\u001b[1;33m\u001b[0m\u001b[1;33m\u001b[0m\u001b[0m\n",
      "\u001b[1;32m~\\anaconda3\\lib\\site-packages\\pandas\\core\\generic.py\u001b[0m in \u001b[0;36m_get_axis_number\u001b[1;34m(cls, axis)\u001b[0m\n\u001b[0;32m    368\u001b[0m             \u001b[1;32mreturn\u001b[0m \u001b[0mcls\u001b[0m\u001b[1;33m.\u001b[0m\u001b[0m_AXIS_TO_AXIS_NUMBER\u001b[0m\u001b[1;33m[\u001b[0m\u001b[0maxis\u001b[0m\u001b[1;33m]\u001b[0m\u001b[1;33m\u001b[0m\u001b[1;33m\u001b[0m\u001b[0m\n\u001b[0;32m    369\u001b[0m         \u001b[1;32mexcept\u001b[0m \u001b[0mKeyError\u001b[0m\u001b[1;33m:\u001b[0m\u001b[1;33m\u001b[0m\u001b[1;33m\u001b[0m\u001b[0m\n\u001b[1;32m--> 370\u001b[1;33m             \u001b[1;32mraise\u001b[0m \u001b[0mValueError\u001b[0m\u001b[1;33m(\u001b[0m\u001b[1;34mf\"No axis named {axis} for object type {cls.__name__}\"\u001b[0m\u001b[1;33m)\u001b[0m\u001b[1;33m\u001b[0m\u001b[1;33m\u001b[0m\u001b[0m\n\u001b[0m\u001b[0;32m    371\u001b[0m \u001b[1;33m\u001b[0m\u001b[0m\n\u001b[0;32m    372\u001b[0m     \u001b[1;33m@\u001b[0m\u001b[0mclassmethod\u001b[0m\u001b[1;33m\u001b[0m\u001b[1;33m\u001b[0m\u001b[0m\n",
      "\u001b[1;31mValueError\u001b[0m: No axis named 1 for object type Series"
     ]
    }
   ],
   "source": [
    "r['total_ret'] = r.sum(axis=1)\n",
    "r"
   ]
  },
  {
   "cell_type": "code",
   "execution_count": null,
   "metadata": {},
   "outputs": [],
   "source": [
    "#find Beta\n",
    "total = r['total_ret']\n",
    "rf = 0.011\n",
    "risk_premium = total.mean() * 252 - rf       \n",
    "vol           = total.std()  * 252**0.5\n",
    "vol\n",
    "risk_premium"
   ]
  },
  {
   "cell_type": "code",
   "execution_count": null,
   "metadata": {},
   "outputs": [],
   "source": []
  }
 ],
 "metadata": {
  "kernelspec": {
   "display_name": "Python 3",
   "language": "python",
   "name": "python3"
  },
  "language_info": {
   "codemirror_mode": {
    "name": "ipython",
    "version": 3
   },
   "file_extension": ".py",
   "mimetype": "text/x-python",
   "name": "python",
   "nbconvert_exporter": "python",
   "pygments_lexer": "ipython3",
   "version": "3.8.5"
  }
 },
 "nbformat": 4,
 "nbformat_minor": 4
}
