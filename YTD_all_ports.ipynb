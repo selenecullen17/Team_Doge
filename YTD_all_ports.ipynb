{
 "cells": [
  {
   "cell_type": "code",
   "execution_count": 2,
   "metadata": {},
   "outputs": [],
   "source": [
    "import pandas as pd                                    # Working with tables\n",
    "import numpy as np\n",
    "\n",
    "\n",
    "from tiingo import TiingoClient                       # Stock prices.\n",
    "import quandl                                         # Economic data, futures prices, ...\n",
    "\n",
    "# API keys:\n",
    "tiingo = TiingoClient({'api_key':'349dd4117e5d1ed71a22f0207a8e439cf3f7b06b'})\n",
    "quandl.ApiConfig.api_key = '_ci7hzC_sPkspKWz2yzt'                      # Replace the XXXX with your API key (must be inside the ' ').\n",
    "\n",
    "import matplotlib.pyplot as plt                        # Basic plot library.\n",
    "plt.style.use('ggplot')                                # Make plots look nice.\n",
    "%matplotlib inline"
   ]
  },
  {
   "cell_type": "markdown",
   "metadata": {},
   "source": [
    "# Base Portfolio"
   ]
  },
  {
   "cell_type": "code",
   "execution_count": 3,
   "metadata": {},
   "outputs": [],
   "source": [
    "tickers    = ['ASX','AGG']\n",
    "start_ytd  = '1-1-2022'\n",
    "end_ytd    = '3-23-2022'"
   ]
  },
  {
   "cell_type": "markdown",
   "metadata": {},
   "source": [
    "Now let's look at the returns"
   ]
  },
  {
   "cell_type": "code",
   "execution_count": 27,
   "metadata": {},
   "outputs": [
    {
     "data": {
      "text/plain": [
       "ASX    54\n",
       "AGG    54\n",
       "dtype: int64"
      ]
     },
     "execution_count": 27,
     "metadata": {},
     "output_type": "execute_result"
    }
   ],
   "source": [
    "\n",
    "prices  = tiingo.get_dataframe(tickers, start_ytd, end_ytd, metric_name='adjClose')\n",
    "prices.index = pd.to_datetime(prices.index).tz_convert(None) \n",
    "r = prices.pct_change()\n",
    "    \n",
    "r.count()\n"
   ]
  },
  {
   "cell_type": "code",
   "execution_count": 28,
   "metadata": {},
   "outputs": [
    {
     "data": {
      "text/plain": [
       "ASX   -0.041261\n",
       "AGG   -0.067165\n",
       "dtype: float64"
      ]
     },
     "execution_count": 28,
     "metadata": {},
     "output_type": "execute_result"
    }
   ],
   "source": [
    "rf = 0.011\n",
    "risk_premiums = r.mean() * 54 - rf  \n",
    "risk_premiums"
   ]
  },
  {
   "cell_type": "code",
   "execution_count": 29,
   "metadata": {},
   "outputs": [
    {
     "data": {
      "text/plain": [
       "ASX    0.190157\n",
       "AGG    0.030592\n",
       "dtype: float64"
      ]
     },
     "execution_count": 29,
     "metadata": {},
     "output_type": "execute_result"
    }
   ],
   "source": [
    "vol           = r.std()  * 54**0.5\n",
    "vol"
   ]
  },
  {
   "cell_type": "code",
   "execution_count": 30,
   "metadata": {},
   "outputs": [
    {
     "data": {
      "text/html": [
       "<div>\n",
       "<style scoped>\n",
       "    .dataframe tbody tr th:only-of-type {\n",
       "        vertical-align: middle;\n",
       "    }\n",
       "\n",
       "    .dataframe tbody tr th {\n",
       "        vertical-align: top;\n",
       "    }\n",
       "\n",
       "    .dataframe thead th {\n",
       "        text-align: right;\n",
       "    }\n",
       "</style>\n",
       "<table border=\"1\" class=\"dataframe\">\n",
       "  <thead>\n",
       "    <tr style=\"text-align: right;\">\n",
       "      <th></th>\n",
       "      <th>ASX</th>\n",
       "      <th>AGG</th>\n",
       "    </tr>\n",
       "  </thead>\n",
       "  <tbody>\n",
       "    <tr>\n",
       "      <th>ASX</th>\n",
       "      <td>1.000000</td>\n",
       "      <td>-0.086389</td>\n",
       "    </tr>\n",
       "    <tr>\n",
       "      <th>AGG</th>\n",
       "      <td>-0.086389</td>\n",
       "      <td>1.000000</td>\n",
       "    </tr>\n",
       "  </tbody>\n",
       "</table>\n",
       "</div>"
      ],
      "text/plain": [
       "          ASX       AGG\n",
       "ASX  1.000000 -0.086389\n",
       "AGG -0.086389  1.000000"
      ]
     },
     "execution_count": 30,
     "metadata": {},
     "output_type": "execute_result"
    }
   ],
   "source": [
    "corr          = r.corr()\n",
    "corr"
   ]
  },
  {
   "cell_type": "code",
   "execution_count": 31,
   "metadata": {},
   "outputs": [
    {
     "data": {
      "text/html": [
       "<div>\n",
       "<style scoped>\n",
       "    .dataframe tbody tr th:only-of-type {\n",
       "        vertical-align: middle;\n",
       "    }\n",
       "\n",
       "    .dataframe tbody tr th {\n",
       "        vertical-align: top;\n",
       "    }\n",
       "\n",
       "    .dataframe thead th {\n",
       "        text-align: right;\n",
       "    }\n",
       "</style>\n",
       "<table border=\"1\" class=\"dataframe\">\n",
       "  <thead>\n",
       "    <tr style=\"text-align: right;\">\n",
       "      <th></th>\n",
       "      <th>ASX</th>\n",
       "      <th>AGG</th>\n",
       "    </tr>\n",
       "  </thead>\n",
       "  <tbody>\n",
       "    <tr>\n",
       "      <th>ASX</th>\n",
       "      <td>0.036160</td>\n",
       "      <td>-0.000503</td>\n",
       "    </tr>\n",
       "    <tr>\n",
       "      <th>AGG</th>\n",
       "      <td>-0.000503</td>\n",
       "      <td>0.000936</td>\n",
       "    </tr>\n",
       "  </tbody>\n",
       "</table>\n",
       "</div>"
      ],
      "text/plain": [
       "          ASX       AGG\n",
       "ASX  0.036160 -0.000503\n",
       "AGG -0.000503  0.000936"
      ]
     },
     "execution_count": 31,
     "metadata": {},
     "output_type": "execute_result"
    }
   ],
   "source": [
    "cov           = r.cov()  * 54\n",
    "cov"
   ]
  },
  {
   "cell_type": "markdown",
   "metadata": {},
   "source": [
    "Now we can make a mean-volatility plot to see where these two stocks stand."
   ]
  },
  {
   "cell_type": "code",
   "execution_count": 32,
   "metadata": {},
   "outputs": [
    {
     "data": {
      "image/png": "[encoded data removed]",
      "text/plain": [
       "<Figure size 432x288 with 1 Axes>"
      ]
     },
     "metadata": {
      "needs_background": "light"
     },
     "output_type": "display_data"
    }
   ],
   "source": [
    "assets = pd.DataFrame()                        \n",
    "assets['Risk_premium'] = risk_premiums\n",
    "assets['Volatility']   = vol    \n",
    "assets['Color']        = 'orange'\n",
    "assets['Size']         = 150\n",
    "\n",
    "all_portfolios = assets\n",
    "all_portfolios\n",
    "    \n",
    "graph = all_portfolios.plot.scatter('Volatility','Risk_premium', color=all_portfolios.Color, s=all_portfolios.Size, xlim=(0,1), ylim=(-0.3,0.1))\n",
    "\n",
    "    # add ticker symbols to plot:\n",
    "for s in tickers:                                 # loop over sectors\n",
    "    x = all_portfolios.loc[s,'Volatility']+0.005  # get x-coordinate from table (+ offset so the labels don't overlap with points)\n",
    "    y = all_portfolios.loc[s,'Risk_premium']      # get y-coordinate from table\n",
    "    graph.text(x,y,s)                             # add the ticker symbol to the graph"
   ]
  },
  {
   "cell_type": "markdown",
   "metadata": {},
   "source": [
    "We can also make an efficient frontier plot to see how different weighted combinations of these stocks would land on the mean-volatility plot."
   ]
  },
  {
   "cell_type": "code",
   "execution_count": 33,
   "metadata": {},
   "outputs": [
    {
     "data": {
      "image/png": "[encoded data removed]",
      "text/plain": [
       "<Figure size 432x288 with 1 Axes>"
      ]
     },
     "metadata": {
      "needs_background": "light"
     },
     "output_type": "display_data"
    }
   ],
   "source": [
    "   \n",
    "# here we are building the simulation that finds the possible portfolios\n",
    "n_portfolios = 1000\n",
    "\n",
    "random_arrays  = [ np.random.uniform(0,1,len(tickers)) for i in range(0,n_portfolios) ]\n",
    "random_weights = [ ra/ra.sum() for ra in random_arrays ]\n",
    "    \n",
    "random = pd.DataFrame()\n",
    "random['Risk_premium'] = [ w.dot(risk_premiums)   for w in random_weights ]\n",
    "random['Volatility']   = [ w.dot(cov).dot(w)**0.5 for w in random_weights ]\n",
    "random['Color']        = 'gray'\n",
    "random['Size']         = 10\n",
    "random['sharpe']       = random['Risk_premium']/random['Volatility']\n",
    "\n",
    "all_portfolios = pd.concat([random, assets])\n",
    "    \n",
    "graph = all_portfolios.plot.scatter('Volatility','Risk_premium', color=all_portfolios.Color, s=all_portfolios.Size, xlim=(0,1), ylim=(-0.5,0.5))\n",
    "\n",
    "# add ticker to plot:\n",
    "for s in tickers:                                 # loop over sectors\n",
    "    x = all_portfolios.loc[s,'Volatility']+0.005  # get x-coordinate from table (+ offset so the labels don't overlap with points)\n",
    "    y = all_portfolios.loc[s,'Risk_premium']      # get y-coordinate from table\n",
    "    graph.text(x,y,s)                             # add the ticker symbol to the graph\n"
   ]
  },
  {
   "cell_type": "markdown",
   "metadata": {},
   "source": [
    "Time to find the weights that correspond to the maximum sharpe ratio portfolio."
   ]
  },
  {
   "cell_type": "code",
   "execution_count": 34,
   "metadata": {},
   "outputs": [
    {
     "data": {
      "text/html": [
       "<div>\n",
       "<style scoped>\n",
       "    .dataframe tbody tr th:only-of-type {\n",
       "        vertical-align: middle;\n",
       "    }\n",
       "\n",
       "    .dataframe tbody tr th {\n",
       "        vertical-align: top;\n",
       "    }\n",
       "\n",
       "    .dataframe thead th {\n",
       "        text-align: right;\n",
       "    }\n",
       "</style>\n",
       "<table border=\"1\" class=\"dataframe\">\n",
       "  <thead>\n",
       "    <tr style=\"text-align: right;\">\n",
       "      <th></th>\n",
       "      <th>Risk_Premiums</th>\n",
       "      <th>Weights</th>\n",
       "      <th>weighted_ret</th>\n",
       "    </tr>\n",
       "  </thead>\n",
       "  <tbody>\n",
       "    <tr>\n",
       "      <th>ASX</th>\n",
       "      <td>-0.041261</td>\n",
       "      <td>0.997658</td>\n",
       "      <td>-0.041165</td>\n",
       "    </tr>\n",
       "    <tr>\n",
       "      <th>AGG</th>\n",
       "      <td>-0.067165</td>\n",
       "      <td>0.002342</td>\n",
       "      <td>-0.000157</td>\n",
       "    </tr>\n",
       "  </tbody>\n",
       "</table>\n",
       "</div>"
      ],
      "text/plain": [
       "     Risk_Premiums   Weights  weighted_ret\n",
       "ASX      -0.041261  0.997658     -0.041165\n",
       "AGG      -0.067165  0.002342     -0.000157"
      ]
     },
     "execution_count": 34,
     "metadata": {},
     "output_type": "execute_result"
    }
   ],
   "source": [
    "\n",
    "random['weights'] = random_weights\n",
    "wgts = random[(random['sharpe'] >= random.sharpe.max())].weights.astype(str)\n",
    "\n",
    "rp = random[(random['sharpe'] == random.sharpe.max())].Risk_premium\n",
    "#now I have found the weights, but they are in string form. We want them to be a panda series\n",
    "#here i am turning the string weights into a list\n",
    "lw = list(wgts)\n",
    "#finding the first entry in the list(the first entry is always a quote)\n",
    "ws = str(lw[0])\n",
    "# replacing the quote with a blank\n",
    "ws = ws.replace('[','')\n",
    "ws = ws.replace(']','')\n",
    "#deliniating the list values by spaces\n",
    "lw = ws.split(' ')\n",
    "#filtering out the bad data\n",
    "lw = list(filter(None, lw))\n",
    "#Finally turning the list into a numpy array\n",
    "nw = np.array(lw)\n",
    "nw = nw.astype(float)\n",
    "    \n",
    "#now we have to turn the numpy array into a panda series \n",
    "    \n",
    "sharpe_weights                  = pd.DataFrame()\n",
    "sharpe_weights['Risk_Premiums'] = risk_premiums\n",
    "sharpe_weights['Weights']       = nw\n",
    "sharpe_weights['weighted_ret']  = sharpe_weights['Weights']*sharpe_weights['Risk_Premiums']\n",
    "sharpe_weights"
   ]
  },
  {
   "cell_type": "code",
   "execution_count": 35,
   "metadata": {},
   "outputs": [
    {
     "data": {
      "text/html": [
       "<div>\n",
       "<style scoped>\n",
       "    .dataframe tbody tr th:only-of-type {\n",
       "        vertical-align: middle;\n",
       "    }\n",
       "\n",
       "    .dataframe tbody tr th {\n",
       "        vertical-align: top;\n",
       "    }\n",
       "\n",
       "    .dataframe thead th {\n",
       "        text-align: right;\n",
       "    }\n",
       "</style>\n",
       "<table border=\"1\" class=\"dataframe\">\n",
       "  <thead>\n",
       "    <tr style=\"text-align: right;\">\n",
       "      <th></th>\n",
       "      <th>ASX</th>\n",
       "      <th>AGG</th>\n",
       "      <th>total_ret</th>\n",
       "    </tr>\n",
       "  </thead>\n",
       "  <tbody>\n",
       "    <tr>\n",
       "      <th>2022-01-03</th>\n",
       "      <td>NaN</td>\n",
       "      <td>NaN</td>\n",
       "      <td>NaN</td>\n",
       "    </tr>\n",
       "    <tr>\n",
       "      <th>2022-01-04</th>\n",
       "      <td>0.001271</td>\n",
       "      <td>-0.000088</td>\n",
       "      <td>0.001182</td>\n",
       "    </tr>\n",
       "    <tr>\n",
       "      <th>2022-01-05</th>\n",
       "      <td>0.005076</td>\n",
       "      <td>-0.003089</td>\n",
       "      <td>0.001987</td>\n",
       "    </tr>\n",
       "    <tr>\n",
       "      <th>2022-01-06</th>\n",
       "      <td>0.008838</td>\n",
       "      <td>-0.001063</td>\n",
       "      <td>0.007776</td>\n",
       "    </tr>\n",
       "    <tr>\n",
       "      <th>2022-01-07</th>\n",
       "      <td>-0.043805</td>\n",
       "      <td>-0.002925</td>\n",
       "      <td>-0.046730</td>\n",
       "    </tr>\n",
       "    <tr>\n",
       "      <th>2022-01-10</th>\n",
       "      <td>0.026178</td>\n",
       "      <td>-0.000889</td>\n",
       "      <td>0.025289</td>\n",
       "    </tr>\n",
       "    <tr>\n",
       "      <th>2022-01-11</th>\n",
       "      <td>0.008929</td>\n",
       "      <td>0.001868</td>\n",
       "      <td>0.010797</td>\n",
       "    </tr>\n",
       "    <tr>\n",
       "      <th>2022-01-12</th>\n",
       "      <td>-0.007585</td>\n",
       "      <td>0.000000</td>\n",
       "      <td>-0.007585</td>\n",
       "    </tr>\n",
       "    <tr>\n",
       "      <th>2022-01-13</th>\n",
       "      <td>-0.003822</td>\n",
       "      <td>0.001776</td>\n",
       "      <td>-0.002045</td>\n",
       "    </tr>\n",
       "    <tr>\n",
       "      <th>2022-01-14</th>\n",
       "      <td>0.014066</td>\n",
       "      <td>-0.005585</td>\n",
       "      <td>0.008481</td>\n",
       "    </tr>\n",
       "    <tr>\n",
       "      <th>2022-01-18</th>\n",
       "      <td>-0.030265</td>\n",
       "      <td>-0.006062</td>\n",
       "      <td>-0.036327</td>\n",
       "    </tr>\n",
       "    <tr>\n",
       "      <th>2022-01-19</th>\n",
       "      <td>-0.027308</td>\n",
       "      <td>0.002153</td>\n",
       "      <td>-0.025156</td>\n",
       "    </tr>\n",
       "    <tr>\n",
       "      <th>2022-01-20</th>\n",
       "      <td>0.000000</td>\n",
       "      <td>0.000537</td>\n",
       "      <td>0.000537</td>\n",
       "    </tr>\n",
       "    <tr>\n",
       "      <th>2022-01-21</th>\n",
       "      <td>-0.041444</td>\n",
       "      <td>0.003936</td>\n",
       "      <td>-0.037508</td>\n",
       "    </tr>\n",
       "    <tr>\n",
       "      <th>2022-01-24</th>\n",
       "      <td>0.005579</td>\n",
       "      <td>-0.001158</td>\n",
       "      <td>0.004420</td>\n",
       "    </tr>\n",
       "    <tr>\n",
       "      <th>2022-01-25</th>\n",
       "      <td>-0.027739</td>\n",
       "      <td>-0.000981</td>\n",
       "      <td>-0.028721</td>\n",
       "    </tr>\n",
       "    <tr>\n",
       "      <th>2022-01-26</th>\n",
       "      <td>0.011412</td>\n",
       "      <td>-0.005626</td>\n",
       "      <td>0.005787</td>\n",
       "    </tr>\n",
       "    <tr>\n",
       "      <th>2022-01-27</th>\n",
       "      <td>-0.053597</td>\n",
       "      <td>0.003323</td>\n",
       "      <td>-0.050274</td>\n",
       "    </tr>\n",
       "    <tr>\n",
       "      <th>2022-01-28</th>\n",
       "      <td>0.008942</td>\n",
       "      <td>0.000716</td>\n",
       "      <td>0.009658</td>\n",
       "    </tr>\n",
       "    <tr>\n",
       "      <th>2022-01-31</th>\n",
       "      <td>0.045790</td>\n",
       "      <td>-0.000089</td>\n",
       "      <td>0.045701</td>\n",
       "    </tr>\n",
       "    <tr>\n",
       "      <th>2022-02-01</th>\n",
       "      <td>0.015537</td>\n",
       "      <td>-0.000345</td>\n",
       "      <td>0.015192</td>\n",
       "    </tr>\n",
       "    <tr>\n",
       "      <th>2022-02-02</th>\n",
       "      <td>0.011127</td>\n",
       "      <td>0.001075</td>\n",
       "      <td>0.012202</td>\n",
       "    </tr>\n",
       "    <tr>\n",
       "      <th>2022-02-03</th>\n",
       "      <td>-0.053645</td>\n",
       "      <td>-0.004028</td>\n",
       "      <td>-0.057673</td>\n",
       "    </tr>\n",
       "    <tr>\n",
       "      <th>2022-02-04</th>\n",
       "      <td>0.021802</td>\n",
       "      <td>-0.006291</td>\n",
       "      <td>0.015511</td>\n",
       "    </tr>\n",
       "    <tr>\n",
       "      <th>2022-02-07</th>\n",
       "      <td>0.012802</td>\n",
       "      <td>0.000904</td>\n",
       "      <td>0.013707</td>\n",
       "    </tr>\n",
       "    <tr>\n",
       "      <th>2022-02-08</th>\n",
       "      <td>0.015449</td>\n",
       "      <td>-0.003072</td>\n",
       "      <td>0.012377</td>\n",
       "    </tr>\n",
       "    <tr>\n",
       "      <th>2022-02-09</th>\n",
       "      <td>0.034578</td>\n",
       "      <td>0.000634</td>\n",
       "      <td>0.035213</td>\n",
       "    </tr>\n",
       "    <tr>\n",
       "      <th>2022-02-10</th>\n",
       "      <td>0.010695</td>\n",
       "      <td>-0.009239</td>\n",
       "      <td>0.001456</td>\n",
       "    </tr>\n",
       "    <tr>\n",
       "      <th>2022-02-11</th>\n",
       "      <td>-0.038360</td>\n",
       "      <td>0.006583</td>\n",
       "      <td>-0.031777</td>\n",
       "    </tr>\n",
       "    <tr>\n",
       "      <th>2022-02-14</th>\n",
       "      <td>-0.011004</td>\n",
       "      <td>-0.005813</td>\n",
       "      <td>-0.016817</td>\n",
       "    </tr>\n",
       "    <tr>\n",
       "      <th>2022-02-15</th>\n",
       "      <td>0.044506</td>\n",
       "      <td>-0.001644</td>\n",
       "      <td>0.042862</td>\n",
       "    </tr>\n",
       "    <tr>\n",
       "      <th>2022-02-16</th>\n",
       "      <td>0.005326</td>\n",
       "      <td>0.001190</td>\n",
       "      <td>0.006516</td>\n",
       "    </tr>\n",
       "    <tr>\n",
       "      <th>2022-02-17</th>\n",
       "      <td>-0.022517</td>\n",
       "      <td>0.002102</td>\n",
       "      <td>-0.020414</td>\n",
       "    </tr>\n",
       "    <tr>\n",
       "      <th>2022-02-18</th>\n",
       "      <td>0.005420</td>\n",
       "      <td>0.002098</td>\n",
       "      <td>0.007518</td>\n",
       "    </tr>\n",
       "    <tr>\n",
       "      <th>2022-02-22</th>\n",
       "      <td>-0.010782</td>\n",
       "      <td>-0.001092</td>\n",
       "      <td>-0.011874</td>\n",
       "    </tr>\n",
       "    <tr>\n",
       "      <th>2022-02-23</th>\n",
       "      <td>-0.021798</td>\n",
       "      <td>-0.004465</td>\n",
       "      <td>-0.026263</td>\n",
       "    </tr>\n",
       "    <tr>\n",
       "      <th>2022-02-24</th>\n",
       "      <td>0.008357</td>\n",
       "      <td>0.001830</td>\n",
       "      <td>0.010187</td>\n",
       "    </tr>\n",
       "    <tr>\n",
       "      <th>2022-02-25</th>\n",
       "      <td>0.009669</td>\n",
       "      <td>0.001005</td>\n",
       "      <td>0.010673</td>\n",
       "    </tr>\n",
       "    <tr>\n",
       "      <th>2022-02-28</th>\n",
       "      <td>-0.010944</td>\n",
       "      <td>0.007210</td>\n",
       "      <td>-0.003734</td>\n",
       "    </tr>\n",
       "    <tr>\n",
       "      <th>2022-03-01</th>\n",
       "      <td>-0.002766</td>\n",
       "      <td>0.005624</td>\n",
       "      <td>0.002857</td>\n",
       "    </tr>\n",
       "    <tr>\n",
       "      <th>2022-03-02</th>\n",
       "      <td>0.026352</td>\n",
       "      <td>-0.012001</td>\n",
       "      <td>0.014351</td>\n",
       "    </tr>\n",
       "    <tr>\n",
       "      <th>2022-03-03</th>\n",
       "      <td>-0.008108</td>\n",
       "      <td>0.003379</td>\n",
       "      <td>-0.004729</td>\n",
       "    </tr>\n",
       "    <tr>\n",
       "      <th>2022-03-04</th>\n",
       "      <td>-0.034060</td>\n",
       "      <td>0.004005</td>\n",
       "      <td>-0.030055</td>\n",
       "    </tr>\n",
       "    <tr>\n",
       "      <th>2022-03-07</th>\n",
       "      <td>-0.063470</td>\n",
       "      <td>-0.005802</td>\n",
       "      <td>-0.069272</td>\n",
       "    </tr>\n",
       "    <tr>\n",
       "      <th>2022-03-08</th>\n",
       "      <td>0.027108</td>\n",
       "      <td>-0.003556</td>\n",
       "      <td>0.023552</td>\n",
       "    </tr>\n",
       "    <tr>\n",
       "      <th>2022-03-09</th>\n",
       "      <td>0.051320</td>\n",
       "      <td>-0.002105</td>\n",
       "      <td>0.049215</td>\n",
       "    </tr>\n",
       "    <tr>\n",
       "      <th>2022-03-10</th>\n",
       "      <td>-0.011158</td>\n",
       "      <td>-0.005594</td>\n",
       "      <td>-0.016752</td>\n",
       "    </tr>\n",
       "    <tr>\n",
       "      <th>2022-03-11</th>\n",
       "      <td>-0.011283</td>\n",
       "      <td>-0.000184</td>\n",
       "      <td>-0.011468</td>\n",
       "    </tr>\n",
       "    <tr>\n",
       "      <th>2022-03-14</th>\n",
       "      <td>-0.004280</td>\n",
       "      <td>-0.009685</td>\n",
       "      <td>-0.013965</td>\n",
       "    </tr>\n",
       "    <tr>\n",
       "      <th>2022-03-15</th>\n",
       "      <td>0.007163</td>\n",
       "      <td>0.002235</td>\n",
       "      <td>0.009399</td>\n",
       "    </tr>\n",
       "    <tr>\n",
       "      <th>2022-03-16</th>\n",
       "      <td>0.045519</td>\n",
       "      <td>0.000743</td>\n",
       "      <td>0.046263</td>\n",
       "    </tr>\n",
       "    <tr>\n",
       "      <th>2022-03-17</th>\n",
       "      <td>0.019048</td>\n",
       "      <td>0.001672</td>\n",
       "      <td>0.020719</td>\n",
       "    </tr>\n",
       "    <tr>\n",
       "      <th>2022-03-18</th>\n",
       "      <td>0.013351</td>\n",
       "      <td>0.002225</td>\n",
       "      <td>0.015576</td>\n",
       "    </tr>\n",
       "    <tr>\n",
       "      <th>2022-03-21</th>\n",
       "      <td>-0.018445</td>\n",
       "      <td>-0.009806</td>\n",
       "      <td>-0.028251</td>\n",
       "    </tr>\n",
       "    <tr>\n",
       "      <th>2022-03-22</th>\n",
       "      <td>0.006711</td>\n",
       "      <td>-0.002709</td>\n",
       "      <td>0.004002</td>\n",
       "    </tr>\n",
       "  </tbody>\n",
       "</table>\n",
       "</div>"
      ],
      "text/plain": [
       "                 ASX       AGG  total_ret\n",
       "2022-01-03       NaN       NaN        NaN\n",
       "2022-01-04  0.001271 -0.000088   0.001182\n",
       "2022-01-05  0.005076 -0.003089   0.001987\n",
       "2022-01-06  0.008838 -0.001063   0.007776\n",
       "2022-01-07 -0.043805 -0.002925  -0.046730\n",
       "2022-01-10  0.026178 -0.000889   0.025289\n",
       "2022-01-11  0.008929  0.001868   0.010797\n",
       "2022-01-12 -0.007585  0.000000  -0.007585\n",
       "2022-01-13 -0.003822  0.001776  -0.002045\n",
       "2022-01-14  0.014066 -0.005585   0.008481\n",
       "2022-01-18 -0.030265 -0.006062  -0.036327\n",
       "2022-01-19 -0.027308  0.002153  -0.025156\n",
       "2022-01-20  0.000000  0.000537   0.000537\n",
       "2022-01-21 -0.041444  0.003936  -0.037508\n",
       "2022-01-24  0.005579 -0.001158   0.004420\n",
       "2022-01-25 -0.027739 -0.000981  -0.028721\n",
       "2022-01-26  0.011412 -0.005626   0.005787\n",
       "2022-01-27 -0.053597  0.003323  -0.050274\n",
       "2022-01-28  0.008942  0.000716   0.009658\n",
       "2022-01-31  0.045790 -0.000089   0.045701\n",
       "2022-02-01  0.015537 -0.000345   0.015192\n",
       "2022-02-02  0.011127  0.001075   0.012202\n",
       "2022-02-03 -0.053645 -0.004028  -0.057673\n",
       "2022-02-04  0.021802 -0.006291   0.015511\n",
       "2022-02-07  0.012802  0.000904   0.013707\n",
       "2022-02-08  0.015449 -0.003072   0.012377\n",
       "2022-02-09  0.034578  0.000634   0.035213\n",
       "2022-02-10  0.010695 -0.009239   0.001456\n",
       "2022-02-11 -0.038360  0.006583  -0.031777\n",
       "2022-02-14 -0.011004 -0.005813  -0.016817\n",
       "2022-02-15  0.044506 -0.001644   0.042862\n",
       "2022-02-16  0.005326  0.001190   0.006516\n",
       "2022-02-17 -0.022517  0.002102  -0.020414\n",
       "2022-02-18  0.005420  0.002098   0.007518\n",
       "2022-02-22 -0.010782 -0.001092  -0.011874\n",
       "2022-02-23 -0.021798 -0.004465  -0.026263\n",
       "2022-02-24  0.008357  0.001830   0.010187\n",
       "2022-02-25  0.009669  0.001005   0.010673\n",
       "2022-02-28 -0.010944  0.007210  -0.003734\n",
       "2022-03-01 -0.002766  0.005624   0.002857\n",
       "2022-03-02  0.026352 -0.012001   0.014351\n",
       "2022-03-03 -0.008108  0.003379  -0.004729\n",
       "2022-03-04 -0.034060  0.004005  -0.030055\n",
       "2022-03-07 -0.063470 -0.005802  -0.069272\n",
       "2022-03-08  0.027108 -0.003556   0.023552\n",
       "2022-03-09  0.051320 -0.002105   0.049215\n",
       "2022-03-10 -0.011158 -0.005594  -0.016752\n",
       "2022-03-11 -0.011283 -0.000184  -0.011468\n",
       "2022-03-14 -0.004280 -0.009685  -0.013965\n",
       "2022-03-15  0.007163  0.002235   0.009399\n",
       "2022-03-16  0.045519  0.000743   0.046263\n",
       "2022-03-17  0.019048  0.001672   0.020719\n",
       "2022-03-18  0.013351  0.002225   0.015576\n",
       "2022-03-21 -0.018445 -0.009806  -0.028251\n",
       "2022-03-22  0.006711 -0.002709   0.004002"
      ]
     },
     "execution_count": 35,
     "metadata": {},
     "output_type": "execute_result"
    }
   ],
   "source": [
    "rf = 0.011\n",
    "r*sharpe_weights['Weights']\n",
    "r['total_ret'] = r.ASX + r.AGG\n",
    "r"
   ]
  },
  {
   "cell_type": "code",
   "execution_count": 37,
   "metadata": {},
   "outputs": [
    {
     "data": {
      "text/plain": [
       "-0.09742633594116"
      ]
     },
     "execution_count": 37,
     "metadata": {},
     "output_type": "execute_result"
    }
   ],
   "source": [
    "max_rp = r.total_ret.mean()*54 - 0.011\n",
    "max_rp"
   ]
  },
  {
   "cell_type": "code",
   "execution_count": 38,
   "metadata": {},
   "outputs": [
    {
     "data": {
      "text/plain": [
       "0.03155868643682369"
      ]
     },
     "execution_count": 38,
     "metadata": {},
     "output_type": "execute_result"
    }
   ],
   "source": [
    "max_vol = r.total_ret.std()*54**0.05\n",
    "max_vol"
   ]
  },
  {
   "cell_type": "code",
   "execution_count": 39,
   "metadata": {
    "scrolled": true
   },
   "outputs": [
    {
     "data": {
      "text/plain": [
       "-3.0871480071325093"
      ]
     },
     "execution_count": 39,
     "metadata": {},
     "output_type": "execute_result"
    }
   ],
   "source": [
    "max_sharpe = max_rp/max_vol\n",
    "max_sharpe"
   ]
  },
  {
   "cell_type": "markdown",
   "metadata": {},
   "source": [
    "# With Bitcoin"
   ]
  },
  {
   "cell_type": "code",
   "execution_count": 88,
   "metadata": {},
   "outputs": [],
   "source": [
    "tickers = ['ASX','AGG','btcusd']"
   ]
  },
  {
   "cell_type": "code",
   "execution_count": 91,
   "metadata": {},
   "outputs": [
    {
     "data": {
      "text/html": [
       "<div>\n",
       "<style scoped>\n",
       "    .dataframe tbody tr th:only-of-type {\n",
       "        vertical-align: middle;\n",
       "    }\n",
       "\n",
       "    .dataframe tbody tr th {\n",
       "        vertical-align: top;\n",
       "    }\n",
       "\n",
       "    .dataframe thead th {\n",
       "        text-align: right;\n",
       "    }\n",
       "</style>\n",
       "<table border=\"1\" class=\"dataframe\">\n",
       "  <thead>\n",
       "    <tr style=\"text-align: right;\">\n",
       "      <th></th>\n",
       "      <th>ASX</th>\n",
       "      <th>AGG</th>\n",
       "      <th>btcusd</th>\n",
       "    </tr>\n",
       "  </thead>\n",
       "  <tbody>\n",
       "    <tr>\n",
       "      <th>2022-01-02</th>\n",
       "      <td>NaN</td>\n",
       "      <td>NaN</td>\n",
       "      <td>NaN</td>\n",
       "    </tr>\n",
       "    <tr>\n",
       "      <th>2022-01-03</th>\n",
       "      <td>NaN</td>\n",
       "      <td>NaN</td>\n",
       "      <td>-0.017803</td>\n",
       "    </tr>\n",
       "    <tr>\n",
       "      <th>2022-01-04</th>\n",
       "      <td>0.001271</td>\n",
       "      <td>-0.000088</td>\n",
       "      <td>-0.013390</td>\n",
       "    </tr>\n",
       "    <tr>\n",
       "      <th>2022-01-05</th>\n",
       "      <td>0.005076</td>\n",
       "      <td>-0.003089</td>\n",
       "      <td>-0.051969</td>\n",
       "    </tr>\n",
       "    <tr>\n",
       "      <th>2022-01-06</th>\n",
       "      <td>0.008838</td>\n",
       "      <td>-0.001063</td>\n",
       "      <td>-0.008290</td>\n",
       "    </tr>\n",
       "    <tr>\n",
       "      <th>...</th>\n",
       "      <td>...</td>\n",
       "      <td>...</td>\n",
       "      <td>...</td>\n",
       "    </tr>\n",
       "    <tr>\n",
       "      <th>2022-03-19</th>\n",
       "      <td>0.000000</td>\n",
       "      <td>0.000000</td>\n",
       "      <td>0.010652</td>\n",
       "    </tr>\n",
       "    <tr>\n",
       "      <th>2022-03-20</th>\n",
       "      <td>0.000000</td>\n",
       "      <td>0.000000</td>\n",
       "      <td>-0.022298</td>\n",
       "    </tr>\n",
       "    <tr>\n",
       "      <th>2022-03-21</th>\n",
       "      <td>-0.018445</td>\n",
       "      <td>-0.009806</td>\n",
       "      <td>-0.006325</td>\n",
       "    </tr>\n",
       "    <tr>\n",
       "      <th>2022-03-22</th>\n",
       "      <td>0.006711</td>\n",
       "      <td>-0.002709</td>\n",
       "      <td>0.033309</td>\n",
       "    </tr>\n",
       "    <tr>\n",
       "      <th>2022-03-23</th>\n",
       "      <td>0.000000</td>\n",
       "      <td>0.000000</td>\n",
       "      <td>-0.000471</td>\n",
       "    </tr>\n",
       "  </tbody>\n",
       "</table>\n",
       "<p>81 rows × 3 columns</p>\n",
       "</div>"
      ],
      "text/plain": [
       "                 ASX       AGG    btcusd\n",
       "2022-01-02       NaN       NaN       NaN\n",
       "2022-01-03       NaN       NaN -0.017803\n",
       "2022-01-04  0.001271 -0.000088 -0.013390\n",
       "2022-01-05  0.005076 -0.003089 -0.051969\n",
       "2022-01-06  0.008838 -0.001063 -0.008290\n",
       "...              ...       ...       ...\n",
       "2022-03-19  0.000000  0.000000  0.010652\n",
       "2022-03-20  0.000000  0.000000 -0.022298\n",
       "2022-03-21 -0.018445 -0.009806 -0.006325\n",
       "2022-03-22  0.006711 -0.002709  0.033309\n",
       "2022-03-23  0.000000  0.000000 -0.000471\n",
       "\n",
       "[81 rows x 3 columns]"
      ]
     },
     "execution_count": 91,
     "metadata": {},
     "output_type": "execute_result"
    }
   ],
   "source": [
    "\n",
    "prices  = tiingo.get_dataframe(tickers, start_ytd, end_ytd, metric_name='adjClose')\n",
    "prices.index = pd.to_datetime(prices.index).tz_convert(None) \n",
    "r = prices.pct_change()\n",
    "    \n",
    "r\n"
   ]
  },
  {
   "cell_type": "code",
   "execution_count": 90,
   "metadata": {},
   "outputs": [
    {
     "data": {
      "text/plain": [
       "ASX      -0.031685\n",
       "AGG      -0.049391\n",
       "btcusd   -0.050209\n",
       "dtype: float64"
      ]
     },
     "execution_count": 90,
     "metadata": {},
     "output_type": "execute_result"
    }
   ],
   "source": [
    "rf = 0.011\n",
    "risk_premiums = r.mean() * 54 - rf  \n",
    "risk_premiums"
   ]
  },
  {
   "cell_type": "code",
   "execution_count": 92,
   "metadata": {},
   "outputs": [
    {
     "data": {
      "text/plain": [
       "ASX       0.156760\n",
       "AGG       0.025470\n",
       "btcusd    0.268931\n",
       "dtype: float64"
      ]
     },
     "execution_count": 92,
     "metadata": {},
     "output_type": "execute_result"
    }
   ],
   "source": [
    "vol           = r.std()  * 54**0.5\n",
    "vol"
   ]
  },
  {
   "cell_type": "code",
   "execution_count": 93,
   "metadata": {},
   "outputs": [
    {
     "data": {
      "text/html": [
       "<div>\n",
       "<style scoped>\n",
       "    .dataframe tbody tr th:only-of-type {\n",
       "        vertical-align: middle;\n",
       "    }\n",
       "\n",
       "    .dataframe tbody tr th {\n",
       "        vertical-align: top;\n",
       "    }\n",
       "\n",
       "    .dataframe thead th {\n",
       "        text-align: right;\n",
       "    }\n",
       "</style>\n",
       "<table border=\"1\" class=\"dataframe\">\n",
       "  <thead>\n",
       "    <tr style=\"text-align: right;\">\n",
       "      <th></th>\n",
       "      <th>ASX</th>\n",
       "      <th>AGG</th>\n",
       "      <th>btcusd</th>\n",
       "    </tr>\n",
       "  </thead>\n",
       "  <tbody>\n",
       "    <tr>\n",
       "      <th>ASX</th>\n",
       "      <td>1.000000</td>\n",
       "      <td>-0.083800</td>\n",
       "      <td>0.378004</td>\n",
       "    </tr>\n",
       "    <tr>\n",
       "      <th>AGG</th>\n",
       "      <td>-0.083800</td>\n",
       "      <td>1.000000</td>\n",
       "      <td>-0.062988</td>\n",
       "    </tr>\n",
       "    <tr>\n",
       "      <th>btcusd</th>\n",
       "      <td>0.378004</td>\n",
       "      <td>-0.062988</td>\n",
       "      <td>1.000000</td>\n",
       "    </tr>\n",
       "  </tbody>\n",
       "</table>\n",
       "</div>"
      ],
      "text/plain": [
       "             ASX       AGG    btcusd\n",
       "ASX     1.000000 -0.083800  0.378004\n",
       "AGG    -0.083800  1.000000 -0.062988\n",
       "btcusd  0.378004 -0.062988  1.000000"
      ]
     },
     "execution_count": 93,
     "metadata": {},
     "output_type": "execute_result"
    }
   ],
   "source": [
    "corr          = r.corr()\n",
    "corr"
   ]
  },
  {
   "cell_type": "code",
   "execution_count": 94,
   "metadata": {},
   "outputs": [
    {
     "data": {
      "text/html": [
       "<div>\n",
       "<style scoped>\n",
       "    .dataframe tbody tr th:only-of-type {\n",
       "        vertical-align: middle;\n",
       "    }\n",
       "\n",
       "    .dataframe tbody tr th {\n",
       "        vertical-align: top;\n",
       "    }\n",
       "\n",
       "    .dataframe thead th {\n",
       "        text-align: right;\n",
       "    }\n",
       "</style>\n",
       "<table border=\"1\" class=\"dataframe\">\n",
       "  <thead>\n",
       "    <tr style=\"text-align: right;\">\n",
       "      <th></th>\n",
       "      <th>ASX</th>\n",
       "      <th>AGG</th>\n",
       "      <th>btcusd</th>\n",
       "    </tr>\n",
       "  </thead>\n",
       "  <tbody>\n",
       "    <tr>\n",
       "      <th>ASX</th>\n",
       "      <td>0.024574</td>\n",
       "      <td>-0.000335</td>\n",
       "      <td>0.016015</td>\n",
       "    </tr>\n",
       "    <tr>\n",
       "      <th>AGG</th>\n",
       "      <td>-0.000335</td>\n",
       "      <td>0.000649</td>\n",
       "      <td>-0.000434</td>\n",
       "    </tr>\n",
       "    <tr>\n",
       "      <th>btcusd</th>\n",
       "      <td>0.016015</td>\n",
       "      <td>-0.000434</td>\n",
       "      <td>0.072324</td>\n",
       "    </tr>\n",
       "  </tbody>\n",
       "</table>\n",
       "</div>"
      ],
      "text/plain": [
       "             ASX       AGG    btcusd\n",
       "ASX     0.024574 -0.000335  0.016015\n",
       "AGG    -0.000335  0.000649 -0.000434\n",
       "btcusd  0.016015 -0.000434  0.072324"
      ]
     },
     "execution_count": 94,
     "metadata": {},
     "output_type": "execute_result"
    }
   ],
   "source": [
    "cov           = r.cov()  * 54\n",
    "cov"
   ]
  },
  {
   "cell_type": "markdown",
   "metadata": {},
   "source": [
    "Now we can make a mean-volatility plot to see where these two stocks stand."
   ]
  },
  {
   "cell_type": "code",
   "execution_count": 95,
   "metadata": {},
   "outputs": [
    {
     "data": {
      "image/png": "[encoded data removed]",
      "text/plain": [
       "<Figure size 432x288 with 1 Axes>"
      ]
     },
     "metadata": {
      "needs_background": "light"
     },
     "output_type": "display_data"
    }
   ],
   "source": [
    "assets = pd.DataFrame()                        \n",
    "assets['Risk_premium'] = risk_premiums\n",
    "assets['Volatility']   = vol    \n",
    "assets['Color']        = 'orange'\n",
    "assets['Size']         = 150\n",
    "\n",
    "all_portfolios = assets\n",
    "all_portfolios\n",
    "    \n",
    "graph = all_portfolios.plot.scatter('Volatility','Risk_premium', color=all_portfolios.Color, s=all_portfolios.Size, xlim=(0,0.6), ylim=(-0.1,0.1))\n",
    "\n",
    "    # add ticker symbols to plot:\n",
    "for s in tickers:                                 # loop over sectors\n",
    "    x = all_portfolios.loc[s,'Volatility']+0.005  # get x-coordinate from table (+ offset so the labels don't overlap with points)\n",
    "    y = all_portfolios.loc[s,'Risk_premium']      # get y-coordinate from table\n",
    "    graph.text(x,y,s)                             # add the ticker symbol to the graph"
   ]
  },
  {
   "cell_type": "markdown",
   "metadata": {},
   "source": [
    "We can also make an efficient frontier plot to see how different weighted combinations of these stocks would land on the mean-volatility plot."
   ]
  },
  {
   "cell_type": "code",
   "execution_count": 96,
   "metadata": {},
   "outputs": [
    {
     "data": {
      "image/png": "[encoded data removed]",
      "text/plain": [
       "<Figure size 432x288 with 1 Axes>"
      ]
     },
     "metadata": {
      "needs_background": "light"
     },
     "output_type": "display_data"
    }
   ],
   "source": [
    "   \n",
    "# here we are building the simulation that finds the possible portfolios\n",
    "n_portfolios = 1000\n",
    "\n",
    "random_arrays  = [ np.random.uniform(0,1,len(tickers)) for i in range(0,n_portfolios) ]\n",
    "random_weights = [ ra/ra.sum() for ra in random_arrays ]\n",
    "    \n",
    "random = pd.DataFrame()\n",
    "random['Risk_premium'] = [ w.dot(risk_premiums)   for w in random_weights ]\n",
    "random['Volatility']   = [ w.dot(cov).dot(w)**0.5 for w in random_weights ]\n",
    "random['Color']        = 'gray'\n",
    "random['Size']         = 10\n",
    "random['sharpe']       = random['Risk_premium']/random['Volatility']\n",
    "\n",
    "all_portfolios = pd.concat([random, assets])\n",
    "    \n",
    "graph = all_portfolios.plot.scatter('Volatility','Risk_premium', color=all_portfolios.Color, s=all_portfolios.Size, xlim=(0,.4), ylim=(-0.1,0.05))\n",
    "\n",
    "# add ticker to plot:\n",
    "for s in tickers:                                 # loop over sectors\n",
    "    x = all_portfolios.loc[s,'Volatility']+0.005  # get x-coordinate from table (+ offset so the labels don't overlap with points)\n",
    "    y = all_portfolios.loc[s,'Risk_premium']      # get y-coordinate from table\n",
    "    graph.text(x,y,s)                             # add the ticker symbol to the graph\n"
   ]
  },
  {
   "cell_type": "markdown",
   "metadata": {},
   "source": [
    "Time to find the weights that correspond to the maximum sharpe ratio portfolio."
   ]
  },
  {
   "cell_type": "code",
   "execution_count": 97,
   "metadata": {},
   "outputs": [
    {
     "data": {
      "text/html": [
       "<div>\n",
       "<style scoped>\n",
       "    .dataframe tbody tr th:only-of-type {\n",
       "        vertical-align: middle;\n",
       "    }\n",
       "\n",
       "    .dataframe tbody tr th {\n",
       "        vertical-align: top;\n",
       "    }\n",
       "\n",
       "    .dataframe thead th {\n",
       "        text-align: right;\n",
       "    }\n",
       "</style>\n",
       "<table border=\"1\" class=\"dataframe\">\n",
       "  <thead>\n",
       "    <tr style=\"text-align: right;\">\n",
       "      <th></th>\n",
       "      <th>Risk_Premiums</th>\n",
       "      <th>Weights</th>\n",
       "      <th>weighted_ret</th>\n",
       "    </tr>\n",
       "  </thead>\n",
       "  <tbody>\n",
       "    <tr>\n",
       "      <th>ASX</th>\n",
       "      <td>-0.031685</td>\n",
       "      <td>0.046495</td>\n",
       "      <td>-0.001473</td>\n",
       "    </tr>\n",
       "    <tr>\n",
       "      <th>AGG</th>\n",
       "      <td>-0.049391</td>\n",
       "      <td>0.001133</td>\n",
       "      <td>-0.000056</td>\n",
       "    </tr>\n",
       "    <tr>\n",
       "      <th>btcusd</th>\n",
       "      <td>-0.050209</td>\n",
       "      <td>0.952371</td>\n",
       "      <td>-0.047818</td>\n",
       "    </tr>\n",
       "  </tbody>\n",
       "</table>\n",
       "</div>"
      ],
      "text/plain": [
       "        Risk_Premiums   Weights  weighted_ret\n",
       "ASX         -0.031685  0.046495     -0.001473\n",
       "AGG         -0.049391  0.001133     -0.000056\n",
       "btcusd      -0.050209  0.952371     -0.047818"
      ]
     },
     "execution_count": 97,
     "metadata": {},
     "output_type": "execute_result"
    }
   ],
   "source": [
    "\n",
    "random['weights'] = random_weights\n",
    "wgts = random[(random['sharpe'] >= random.sharpe.max())].weights.astype(str)\n",
    "\n",
    "rp = random[(random['sharpe'] == random.sharpe.max())].Risk_premium\n",
    "#now I have found the weights, but they are in string form. We want them to be a panda series\n",
    "#here i am turning the string weights into a list\n",
    "lw = list(wgts)\n",
    "#finding the first entry in the list(the first entry is always a quote)\n",
    "ws = str(lw[0])\n",
    "# replacing the quote with a blank\n",
    "ws = ws.replace('[','')\n",
    "ws = ws.replace(']','')\n",
    "#deliniating the list values by spaces\n",
    "lw = ws.split(' ')\n",
    "#filtering out the bad data\n",
    "lw = list(filter(None, lw))\n",
    "#Finally turning the list into a numpy array\n",
    "nw = np.array(lw)\n",
    "nw = nw.astype(float)\n",
    "    \n",
    "#now we have to turn the numpy array into a panda series \n",
    "    \n",
    "sharpe_weights                  = pd.DataFrame()\n",
    "sharpe_weights['Risk_Premiums'] = risk_premiums\n",
    "sharpe_weights['Weights']       = nw\n",
    "sharpe_weights['weighted_ret']  = sharpe_weights['Weights']*sharpe_weights['Risk_Premiums']\n",
    "sharpe_weights"
   ]
  },
  {
   "cell_type": "code",
   "execution_count": 99,
   "metadata": {},
   "outputs": [
    {
     "data": {
      "text/html": [
       "<div>\n",
       "<style scoped>\n",
       "    .dataframe tbody tr th:only-of-type {\n",
       "        vertical-align: middle;\n",
       "    }\n",
       "\n",
       "    .dataframe tbody tr th {\n",
       "        vertical-align: top;\n",
       "    }\n",
       "\n",
       "    .dataframe thead th {\n",
       "        text-align: right;\n",
       "    }\n",
       "</style>\n",
       "<table border=\"1\" class=\"dataframe\">\n",
       "  <thead>\n",
       "    <tr style=\"text-align: right;\">\n",
       "      <th></th>\n",
       "      <th>ASX</th>\n",
       "      <th>AGG</th>\n",
       "      <th>btcusd</th>\n",
       "      <th>total_ret</th>\n",
       "    </tr>\n",
       "  </thead>\n",
       "  <tbody>\n",
       "    <tr>\n",
       "      <th>2022-01-02</th>\n",
       "      <td>NaN</td>\n",
       "      <td>NaN</td>\n",
       "      <td>NaN</td>\n",
       "      <td>NaN</td>\n",
       "    </tr>\n",
       "    <tr>\n",
       "      <th>2022-01-03</th>\n",
       "      <td>NaN</td>\n",
       "      <td>NaN</td>\n",
       "      <td>-0.017803</td>\n",
       "      <td>NaN</td>\n",
       "    </tr>\n",
       "    <tr>\n",
       "      <th>2022-01-04</th>\n",
       "      <td>0.001271</td>\n",
       "      <td>-0.000088</td>\n",
       "      <td>-0.013390</td>\n",
       "      <td>-0.012208</td>\n",
       "    </tr>\n",
       "    <tr>\n",
       "      <th>2022-01-05</th>\n",
       "      <td>0.005076</td>\n",
       "      <td>-0.003089</td>\n",
       "      <td>-0.051969</td>\n",
       "      <td>-0.049982</td>\n",
       "    </tr>\n",
       "    <tr>\n",
       "      <th>2022-01-06</th>\n",
       "      <td>0.008838</td>\n",
       "      <td>-0.001063</td>\n",
       "      <td>-0.008290</td>\n",
       "      <td>-0.000514</td>\n",
       "    </tr>\n",
       "    <tr>\n",
       "      <th>...</th>\n",
       "      <td>...</td>\n",
       "      <td>...</td>\n",
       "      <td>...</td>\n",
       "      <td>...</td>\n",
       "    </tr>\n",
       "    <tr>\n",
       "      <th>2022-03-19</th>\n",
       "      <td>0.000000</td>\n",
       "      <td>0.000000</td>\n",
       "      <td>0.010652</td>\n",
       "      <td>0.010652</td>\n",
       "    </tr>\n",
       "    <tr>\n",
       "      <th>2022-03-20</th>\n",
       "      <td>0.000000</td>\n",
       "      <td>0.000000</td>\n",
       "      <td>-0.022298</td>\n",
       "      <td>-0.022298</td>\n",
       "    </tr>\n",
       "    <tr>\n",
       "      <th>2022-03-21</th>\n",
       "      <td>-0.018445</td>\n",
       "      <td>-0.009806</td>\n",
       "      <td>-0.006325</td>\n",
       "      <td>-0.034576</td>\n",
       "    </tr>\n",
       "    <tr>\n",
       "      <th>2022-03-22</th>\n",
       "      <td>0.006711</td>\n",
       "      <td>-0.002709</td>\n",
       "      <td>0.033309</td>\n",
       "      <td>0.037311</td>\n",
       "    </tr>\n",
       "    <tr>\n",
       "      <th>2022-03-23</th>\n",
       "      <td>0.000000</td>\n",
       "      <td>0.000000</td>\n",
       "      <td>-0.000471</td>\n",
       "      <td>-0.000471</td>\n",
       "    </tr>\n",
       "  </tbody>\n",
       "</table>\n",
       "<p>81 rows × 4 columns</p>\n",
       "</div>"
      ],
      "text/plain": [
       "                 ASX       AGG    btcusd  total_ret\n",
       "2022-01-02       NaN       NaN       NaN        NaN\n",
       "2022-01-03       NaN       NaN -0.017803        NaN\n",
       "2022-01-04  0.001271 -0.000088 -0.013390  -0.012208\n",
       "2022-01-05  0.005076 -0.003089 -0.051969  -0.049982\n",
       "2022-01-06  0.008838 -0.001063 -0.008290  -0.000514\n",
       "...              ...       ...       ...        ...\n",
       "2022-03-19  0.000000  0.000000  0.010652   0.010652\n",
       "2022-03-20  0.000000  0.000000 -0.022298  -0.022298\n",
       "2022-03-21 -0.018445 -0.009806 -0.006325  -0.034576\n",
       "2022-03-22  0.006711 -0.002709  0.033309   0.037311\n",
       "2022-03-23  0.000000  0.000000 -0.000471  -0.000471\n",
       "\n",
       "[81 rows x 4 columns]"
      ]
     },
     "execution_count": 99,
     "metadata": {},
     "output_type": "execute_result"
    }
   ],
   "source": [
    "rf = 0.011\n",
    "r*sharpe_weights['Weights']\n",
    "r['total_ret'] = r.ASX + r.AGG + r.btcusd\n",
    "r"
   ]
  },
  {
   "cell_type": "code",
   "execution_count": 100,
   "metadata": {},
   "outputs": [
    {
     "data": {
      "text/plain": [
       "-0.09760916954424569"
      ]
     },
     "execution_count": 100,
     "metadata": {},
     "output_type": "execute_result"
    }
   ],
   "source": [
    "max_rp = r.total_ret.mean()*54 - 0.011\n",
    "max_rp"
   ]
  },
  {
   "cell_type": "code",
   "execution_count": 101,
   "metadata": {},
   "outputs": [
    {
     "data": {
      "text/plain": [
       "0.05960999966578532"
      ]
     },
     "execution_count": 101,
     "metadata": {},
     "output_type": "execute_result"
    }
   ],
   "source": [
    "max_vol = r.total_ret.std()*54**0.05\n",
    "max_vol"
   ]
  },
  {
   "cell_type": "code",
   "execution_count": 102,
   "metadata": {
    "scrolled": true
   },
   "outputs": [
    {
     "data": {
      "text/plain": [
       "-1.6374630110972968"
      ]
     },
     "execution_count": 102,
     "metadata": {},
     "output_type": "execute_result"
    }
   ],
   "source": [
    "max_sharpe = max_rp/max_vol\n",
    "max_sharpe"
   ]
  },
  {
   "cell_type": "markdown",
   "metadata": {},
   "source": [
    "# With Gold"
   ]
  },
  {
   "cell_type": "code",
   "execution_count": 106,
   "metadata": {},
   "outputs": [],
   "source": [
    "tickers = ['ASX','AGG','GLD']"
   ]
  },
  {
   "cell_type": "code",
   "execution_count": 107,
   "metadata": {},
   "outputs": [
    {
     "data": {
      "text/plain": [
       "ASX    55\n",
       "AGG    55\n",
       "GLD    55\n",
       "dtype: int64"
      ]
     },
     "execution_count": 107,
     "metadata": {},
     "output_type": "execute_result"
    }
   ],
   "source": [
    "\n",
    "prices  = tiingo.get_dataframe(tickers, start_ytd, end_ytd, metric_name='adjClose')\n",
    "prices.index = pd.to_datetime(prices.index).tz_convert(None) \n",
    "r = prices.pct_change()\n",
    "    \n",
    "r.count()\n"
   ]
  },
  {
   "cell_type": "code",
   "execution_count": 108,
   "metadata": {},
   "outputs": [
    {
     "data": {
      "text/plain": [
       "ASX   -0.069511\n",
       "AGG   -0.062097\n",
       "GLD    0.067540\n",
       "dtype: float64"
      ]
     },
     "execution_count": 108,
     "metadata": {},
     "output_type": "execute_result"
    }
   ],
   "source": [
    "rf = 0.011\n",
    "risk_premiums = r.mean() * 54 - rf  \n",
    "risk_premiums"
   ]
  },
  {
   "cell_type": "code",
   "execution_count": 109,
   "metadata": {},
   "outputs": [
    {
     "data": {
      "text/plain": [
       "ASX    0.190533\n",
       "AGG    0.030736\n",
       "GLD    0.076191\n",
       "dtype: float64"
      ]
     },
     "execution_count": 109,
     "metadata": {},
     "output_type": "execute_result"
    }
   ],
   "source": [
    "vol           = r.std()  * 54**0.5\n",
    "vol"
   ]
  },
  {
   "cell_type": "code",
   "execution_count": 110,
   "metadata": {},
   "outputs": [
    {
     "data": {
      "text/html": [
       "<div>\n",
       "<style scoped>\n",
       "    .dataframe tbody tr th:only-of-type {\n",
       "        vertical-align: middle;\n",
       "    }\n",
       "\n",
       "    .dataframe tbody tr th {\n",
       "        vertical-align: top;\n",
       "    }\n",
       "\n",
       "    .dataframe thead th {\n",
       "        text-align: right;\n",
       "    }\n",
       "</style>\n",
       "<table border=\"1\" class=\"dataframe\">\n",
       "  <thead>\n",
       "    <tr style=\"text-align: right;\">\n",
       "      <th></th>\n",
       "      <th>ASX</th>\n",
       "      <th>AGG</th>\n",
       "      <th>GLD</th>\n",
       "    </tr>\n",
       "  </thead>\n",
       "  <tbody>\n",
       "    <tr>\n",
       "      <th>ASX</th>\n",
       "      <td>1.000000</td>\n",
       "      <td>-0.109126</td>\n",
       "      <td>-0.278729</td>\n",
       "    </tr>\n",
       "    <tr>\n",
       "      <th>AGG</th>\n",
       "      <td>-0.109126</td>\n",
       "      <td>1.000000</td>\n",
       "      <td>0.287312</td>\n",
       "    </tr>\n",
       "    <tr>\n",
       "      <th>GLD</th>\n",
       "      <td>-0.278729</td>\n",
       "      <td>0.287312</td>\n",
       "      <td>1.000000</td>\n",
       "    </tr>\n",
       "  </tbody>\n",
       "</table>\n",
       "</div>"
      ],
      "text/plain": [
       "          ASX       AGG       GLD\n",
       "ASX  1.000000 -0.109126 -0.278729\n",
       "AGG -0.109126  1.000000  0.287312\n",
       "GLD -0.278729  0.287312  1.000000"
      ]
     },
     "execution_count": 110,
     "metadata": {},
     "output_type": "execute_result"
    }
   ],
   "source": [
    "corr          = r.corr()\n",
    "corr"
   ]
  },
  {
   "cell_type": "code",
   "execution_count": 111,
   "metadata": {},
   "outputs": [
    {
     "data": {
      "text/html": [
       "<div>\n",
       "<style scoped>\n",
       "    .dataframe tbody tr th:only-of-type {\n",
       "        vertical-align: middle;\n",
       "    }\n",
       "\n",
       "    .dataframe tbody tr th {\n",
       "        vertical-align: top;\n",
       "    }\n",
       "\n",
       "    .dataframe thead th {\n",
       "        text-align: right;\n",
       "    }\n",
       "</style>\n",
       "<table border=\"1\" class=\"dataframe\">\n",
       "  <thead>\n",
       "    <tr style=\"text-align: right;\">\n",
       "      <th></th>\n",
       "      <th>ASX</th>\n",
       "      <th>AGG</th>\n",
       "      <th>GLD</th>\n",
       "    </tr>\n",
       "  </thead>\n",
       "  <tbody>\n",
       "    <tr>\n",
       "      <th>ASX</th>\n",
       "      <td>0.036303</td>\n",
       "      <td>-0.000639</td>\n",
       "      <td>-0.004046</td>\n",
       "    </tr>\n",
       "    <tr>\n",
       "      <th>AGG</th>\n",
       "      <td>-0.000639</td>\n",
       "      <td>0.000945</td>\n",
       "      <td>0.000673</td>\n",
       "    </tr>\n",
       "    <tr>\n",
       "      <th>GLD</th>\n",
       "      <td>-0.004046</td>\n",
       "      <td>0.000673</td>\n",
       "      <td>0.005805</td>\n",
       "    </tr>\n",
       "  </tbody>\n",
       "</table>\n",
       "</div>"
      ],
      "text/plain": [
       "          ASX       AGG       GLD\n",
       "ASX  0.036303 -0.000639 -0.004046\n",
       "AGG -0.000639  0.000945  0.000673\n",
       "GLD -0.004046  0.000673  0.005805"
      ]
     },
     "execution_count": 111,
     "metadata": {},
     "output_type": "execute_result"
    }
   ],
   "source": [
    "cov           = r.cov()  * 54\n",
    "cov"
   ]
  },
  {
   "cell_type": "markdown",
   "metadata": {},
   "source": [
    "Now we can make a mean-volatility plot to see where these two stocks stand."
   ]
  },
  {
   "cell_type": "code",
   "execution_count": 112,
   "metadata": {},
   "outputs": [
    {
     "data": {
      "image/png": "[encoded data removed]",
      "text/plain": [
       "<Figure size 432x288 with 1 Axes>"
      ]
     },
     "metadata": {
      "needs_background": "light"
     },
     "output_type": "display_data"
    }
   ],
   "source": [
    "assets = pd.DataFrame()                        \n",
    "assets['Risk_premium'] = risk_premiums\n",
    "assets['Volatility']   = vol    \n",
    "assets['Color']        = 'orange'\n",
    "assets['Size']         = 150\n",
    "\n",
    "all_portfolios = assets\n",
    "all_portfolios\n",
    "    \n",
    "graph = all_portfolios.plot.scatter('Volatility','Risk_premium', color=all_portfolios.Color, s=all_portfolios.Size, xlim=(0,0.6), ylim=(-0.1,0.1))\n",
    "\n",
    "    # add ticker symbols to plot:\n",
    "for s in tickers:                                 # loop over sectors\n",
    "    x = all_portfolios.loc[s,'Volatility']+0.005  # get x-coordinate from table (+ offset so the labels don't overlap with points)\n",
    "    y = all_portfolios.loc[s,'Risk_premium']      # get y-coordinate from table\n",
    "    graph.text(x,y,s)                             # add the ticker symbol to the graph"
   ]
  },
  {
   "cell_type": "markdown",
   "metadata": {},
   "source": [
    "We can also make an efficient frontier plot to see how different weighted combinations of these stocks would land on the mean-volatility plot."
   ]
  },
  {
   "cell_type": "code",
   "execution_count": 120,
   "metadata": {},
   "outputs": [
    {
     "data": {
      "image/png": "[encoded data removed]",
      "text/plain": [
       "<Figure size 432x288 with 1 Axes>"
      ]
     },
     "metadata": {
      "needs_background": "light"
     },
     "output_type": "display_data"
    }
   ],
   "source": [
    "   \n",
    "# here we are building the simulation that finds the possible portfolios\n",
    "n_portfolios = 10000\n",
    "\n",
    "random_arrays  = [ np.random.uniform(0,1,len(tickers)) for i in range(0,n_portfolios) ]\n",
    "random_weights = [ ra/ra.sum() for ra in random_arrays ]\n",
    "    \n",
    "random = pd.DataFrame()\n",
    "random['Risk_premium'] = [ w.dot(risk_premiums)   for w in random_weights ]\n",
    "random['Volatility']   = [ w.dot(cov).dot(w)**0.5 for w in random_weights ]\n",
    "random['Color']        = 'gray'\n",
    "random['Size']         = 10\n",
    "random['sharpe']       = random['Risk_premium']/random['Volatility']\n",
    "\n",
    "all_portfolios = pd.concat([random, assets])\n",
    "    \n",
    "graph = all_portfolios.plot.scatter('Volatility','Risk_premium', color=all_portfolios.Color, s=all_portfolios.Size, xlim=(0,.4), ylim=(-0.1,0.08))\n",
    "\n",
    "# add ticker to plot:\n",
    "for s in tickers:                                 # loop over sectors\n",
    "    x = all_portfolios.loc[s,'Volatility']+0.005  # get x-coordinate from table (+ offset so the labels don't overlap with points)\n",
    "    y = all_portfolios.loc[s,'Risk_premium']      # get y-coordinate from table\n",
    "    graph.text(x,y,s)                             # add the ticker symbol to the graph\n"
   ]
  },
  {
   "cell_type": "markdown",
   "metadata": {},
   "source": [
    "Time to find the weights that correspond to the maximum sharpe ratio portfolio."
   ]
  },
  {
   "cell_type": "code",
   "execution_count": 114,
   "metadata": {},
   "outputs": [
    {
     "data": {
      "text/html": [
       "<div>\n",
       "<style scoped>\n",
       "    .dataframe tbody tr th:only-of-type {\n",
       "        vertical-align: middle;\n",
       "    }\n",
       "\n",
       "    .dataframe tbody tr th {\n",
       "        vertical-align: top;\n",
       "    }\n",
       "\n",
       "    .dataframe thead th {\n",
       "        text-align: right;\n",
       "    }\n",
       "</style>\n",
       "<table border=\"1\" class=\"dataframe\">\n",
       "  <thead>\n",
       "    <tr style=\"text-align: right;\">\n",
       "      <th></th>\n",
       "      <th>Risk_Premiums</th>\n",
       "      <th>Weights</th>\n",
       "      <th>weighted_ret</th>\n",
       "    </tr>\n",
       "  </thead>\n",
       "  <tbody>\n",
       "    <tr>\n",
       "      <th>ASX</th>\n",
       "      <td>-0.069511</td>\n",
       "      <td>0.016474</td>\n",
       "      <td>-0.001145</td>\n",
       "    </tr>\n",
       "    <tr>\n",
       "      <th>AGG</th>\n",
       "      <td>-0.062097</td>\n",
       "      <td>0.002301</td>\n",
       "      <td>-0.000143</td>\n",
       "    </tr>\n",
       "    <tr>\n",
       "      <th>GLD</th>\n",
       "      <td>0.067540</td>\n",
       "      <td>0.981225</td>\n",
       "      <td>0.066272</td>\n",
       "    </tr>\n",
       "  </tbody>\n",
       "</table>\n",
       "</div>"
      ],
      "text/plain": [
       "     Risk_Premiums   Weights  weighted_ret\n",
       "ASX      -0.069511  0.016474     -0.001145\n",
       "AGG      -0.062097  0.002301     -0.000143\n",
       "GLD       0.067540  0.981225      0.066272"
      ]
     },
     "execution_count": 114,
     "metadata": {},
     "output_type": "execute_result"
    }
   ],
   "source": [
    "\n",
    "random['weights'] = random_weights\n",
    "wgts = random[(random['sharpe'] >= random.sharpe.max())].weights.astype(str)\n",
    "\n",
    "rp = random[(random['sharpe'] == random.sharpe.max())].Risk_premium\n",
    "#now I have found the weights, but they are in string form. We want them to be a panda series\n",
    "#here i am turning the string weights into a list\n",
    "lw = list(wgts)\n",
    "#finding the first entry in the list(the first entry is always a quote)\n",
    "ws = str(lw[0])\n",
    "# replacing the quote with a blank\n",
    "ws = ws.replace('[','')\n",
    "ws = ws.replace(']','')\n",
    "#deliniating the list values by spaces\n",
    "lw = ws.split(' ')\n",
    "#filtering out the bad data\n",
    "lw = list(filter(None, lw))\n",
    "#Finally turning the list into a numpy array\n",
    "nw = np.array(lw)\n",
    "nw = nw.astype(float)\n",
    "    \n",
    "#now we have to turn the numpy array into a panda series \n",
    "    \n",
    "sharpe_weights                  = pd.DataFrame()\n",
    "sharpe_weights['Risk_Premiums'] = risk_premiums\n",
    "sharpe_weights['Weights']       = nw\n",
    "sharpe_weights['weighted_ret']  = sharpe_weights['Weights']*sharpe_weights['Risk_Premiums']\n",
    "sharpe_weights"
   ]
  },
  {
   "cell_type": "code",
   "execution_count": 115,
   "metadata": {},
   "outputs": [
    {
     "data": {
      "text/html": [
       "<div>\n",
       "<style scoped>\n",
       "    .dataframe tbody tr th:only-of-type {\n",
       "        vertical-align: middle;\n",
       "    }\n",
       "\n",
       "    .dataframe tbody tr th {\n",
       "        vertical-align: top;\n",
       "    }\n",
       "\n",
       "    .dataframe thead th {\n",
       "        text-align: right;\n",
       "    }\n",
       "</style>\n",
       "<table border=\"1\" class=\"dataframe\">\n",
       "  <thead>\n",
       "    <tr style=\"text-align: right;\">\n",
       "      <th></th>\n",
       "      <th>ASX</th>\n",
       "      <th>AGG</th>\n",
       "      <th>GLD</th>\n",
       "      <th>total_ret</th>\n",
       "    </tr>\n",
       "  </thead>\n",
       "  <tbody>\n",
       "    <tr>\n",
       "      <th>2022-01-03</th>\n",
       "      <td>NaN</td>\n",
       "      <td>NaN</td>\n",
       "      <td>NaN</td>\n",
       "      <td>NaN</td>\n",
       "    </tr>\n",
       "    <tr>\n",
       "      <th>2022-01-04</th>\n",
       "      <td>0.001271</td>\n",
       "      <td>-0.000088</td>\n",
       "      <td>0.007366</td>\n",
       "      <td>0.008549</td>\n",
       "    </tr>\n",
       "    <tr>\n",
       "      <th>2022-01-05</th>\n",
       "      <td>0.005076</td>\n",
       "      <td>-0.003089</td>\n",
       "      <td>-0.003008</td>\n",
       "      <td>-0.001021</td>\n",
       "    </tr>\n",
       "    <tr>\n",
       "      <th>2022-01-06</th>\n",
       "      <td>0.008838</td>\n",
       "      <td>-0.001063</td>\n",
       "      <td>-0.012244</td>\n",
       "      <td>-0.004468</td>\n",
       "    </tr>\n",
       "    <tr>\n",
       "      <th>2022-01-07</th>\n",
       "      <td>-0.043805</td>\n",
       "      <td>-0.002925</td>\n",
       "      <td>0.004551</td>\n",
       "      <td>-0.042179</td>\n",
       "    </tr>\n",
       "    <tr>\n",
       "      <th>2022-01-10</th>\n",
       "      <td>0.026178</td>\n",
       "      <td>-0.000889</td>\n",
       "      <td>0.003040</td>\n",
       "      <td>0.028329</td>\n",
       "    </tr>\n",
       "    <tr>\n",
       "      <th>2022-01-11</th>\n",
       "      <td>0.008929</td>\n",
       "      <td>0.001868</td>\n",
       "      <td>0.012065</td>\n",
       "      <td>0.022862</td>\n",
       "    </tr>\n",
       "    <tr>\n",
       "      <th>2022-01-12</th>\n",
       "      <td>-0.007585</td>\n",
       "      <td>0.000000</td>\n",
       "      <td>0.002643</td>\n",
       "      <td>-0.004943</td>\n",
       "    </tr>\n",
       "    <tr>\n",
       "      <th>2022-01-13</th>\n",
       "      <td>-0.003822</td>\n",
       "      <td>0.001776</td>\n",
       "      <td>-0.003397</td>\n",
       "      <td>-0.005442</td>\n",
       "    </tr>\n",
       "    <tr>\n",
       "      <th>2022-01-14</th>\n",
       "      <td>0.014066</td>\n",
       "      <td>-0.005585</td>\n",
       "      <td>-0.002880</td>\n",
       "      <td>0.005602</td>\n",
       "    </tr>\n",
       "    <tr>\n",
       "      <th>2022-01-18</th>\n",
       "      <td>-0.030265</td>\n",
       "      <td>-0.006062</td>\n",
       "      <td>-0.001650</td>\n",
       "      <td>-0.037977</td>\n",
       "    </tr>\n",
       "    <tr>\n",
       "      <th>2022-01-19</th>\n",
       "      <td>-0.027308</td>\n",
       "      <td>0.002153</td>\n",
       "      <td>0.015881</td>\n",
       "      <td>-0.009275</td>\n",
       "    </tr>\n",
       "    <tr>\n",
       "      <th>2022-01-20</th>\n",
       "      <td>0.000000</td>\n",
       "      <td>0.000537</td>\n",
       "      <td>-0.002499</td>\n",
       "      <td>-0.001962</td>\n",
       "    </tr>\n",
       "    <tr>\n",
       "      <th>2022-01-21</th>\n",
       "      <td>-0.041444</td>\n",
       "      <td>0.003936</td>\n",
       "      <td>-0.003262</td>\n",
       "      <td>-0.040770</td>\n",
       "    </tr>\n",
       "    <tr>\n",
       "      <th>2022-01-24</th>\n",
       "      <td>0.005579</td>\n",
       "      <td>-0.001158</td>\n",
       "      <td>0.005494</td>\n",
       "      <td>0.009915</td>\n",
       "    </tr>\n",
       "    <tr>\n",
       "      <th>2022-01-25</th>\n",
       "      <td>-0.027739</td>\n",
       "      <td>-0.000981</td>\n",
       "      <td>0.003197</td>\n",
       "      <td>-0.025523</td>\n",
       "    </tr>\n",
       "    <tr>\n",
       "      <th>2022-01-26</th>\n",
       "      <td>0.011412</td>\n",
       "      <td>-0.005626</td>\n",
       "      <td>-0.016166</td>\n",
       "      <td>-0.010380</td>\n",
       "    </tr>\n",
       "    <tr>\n",
       "      <th>2022-01-27</th>\n",
       "      <td>-0.053597</td>\n",
       "      <td>0.003323</td>\n",
       "      <td>-0.012898</td>\n",
       "      <td>-0.063172</td>\n",
       "    </tr>\n",
       "    <tr>\n",
       "      <th>2022-01-28</th>\n",
       "      <td>0.008942</td>\n",
       "      <td>0.000716</td>\n",
       "      <td>-0.002983</td>\n",
       "      <td>0.006675</td>\n",
       "    </tr>\n",
       "    <tr>\n",
       "      <th>2022-01-31</th>\n",
       "      <td>0.045790</td>\n",
       "      <td>-0.000089</td>\n",
       "      <td>0.005925</td>\n",
       "      <td>0.051625</td>\n",
       "    </tr>\n",
       "    <tr>\n",
       "      <th>2022-02-01</th>\n",
       "      <td>0.015537</td>\n",
       "      <td>-0.000345</td>\n",
       "      <td>0.000833</td>\n",
       "      <td>0.016025</td>\n",
       "    </tr>\n",
       "    <tr>\n",
       "      <th>2022-02-02</th>\n",
       "      <td>0.011127</td>\n",
       "      <td>0.001075</td>\n",
       "      <td>0.003626</td>\n",
       "      <td>0.015828</td>\n",
       "    </tr>\n",
       "    <tr>\n",
       "      <th>2022-02-03</th>\n",
       "      <td>-0.053645</td>\n",
       "      <td>-0.004028</td>\n",
       "      <td>-0.001421</td>\n",
       "      <td>-0.059095</td>\n",
       "    </tr>\n",
       "    <tr>\n",
       "      <th>2022-02-04</th>\n",
       "      <td>0.021802</td>\n",
       "      <td>-0.006291</td>\n",
       "      <td>0.001542</td>\n",
       "      <td>0.017053</td>\n",
       "    </tr>\n",
       "    <tr>\n",
       "      <th>2022-02-07</th>\n",
       "      <td>0.012802</td>\n",
       "      <td>0.000904</td>\n",
       "      <td>0.007403</td>\n",
       "      <td>0.021109</td>\n",
       "    </tr>\n",
       "    <tr>\n",
       "      <th>2022-02-08</th>\n",
       "      <td>0.015449</td>\n",
       "      <td>-0.003072</td>\n",
       "      <td>0.003057</td>\n",
       "      <td>0.015434</td>\n",
       "    </tr>\n",
       "    <tr>\n",
       "      <th>2022-02-09</th>\n",
       "      <td>0.034578</td>\n",
       "      <td>0.000634</td>\n",
       "      <td>0.003399</td>\n",
       "      <td>0.038612</td>\n",
       "    </tr>\n",
       "    <tr>\n",
       "      <th>2022-02-10</th>\n",
       "      <td>0.010695</td>\n",
       "      <td>-0.009239</td>\n",
       "      <td>-0.003797</td>\n",
       "      <td>-0.002340</td>\n",
       "    </tr>\n",
       "    <tr>\n",
       "      <th>2022-02-11</th>\n",
       "      <td>-0.038360</td>\n",
       "      <td>0.006583</td>\n",
       "      <td>0.019055</td>\n",
       "      <td>-0.012722</td>\n",
       "    </tr>\n",
       "    <tr>\n",
       "      <th>2022-02-14</th>\n",
       "      <td>-0.011004</td>\n",
       "      <td>-0.005813</td>\n",
       "      <td>0.005351</td>\n",
       "      <td>-0.011466</td>\n",
       "    </tr>\n",
       "    <tr>\n",
       "      <th>2022-02-15</th>\n",
       "      <td>0.044506</td>\n",
       "      <td>-0.001644</td>\n",
       "      <td>-0.009500</td>\n",
       "      <td>0.033362</td>\n",
       "    </tr>\n",
       "    <tr>\n",
       "      <th>2022-02-16</th>\n",
       "      <td>0.005326</td>\n",
       "      <td>0.001190</td>\n",
       "      <td>0.010284</td>\n",
       "      <td>0.016800</td>\n",
       "    </tr>\n",
       "    <tr>\n",
       "      <th>2022-02-17</th>\n",
       "      <td>-0.022517</td>\n",
       "      <td>0.002102</td>\n",
       "      <td>0.013668</td>\n",
       "      <td>-0.006746</td>\n",
       "    </tr>\n",
       "    <tr>\n",
       "      <th>2022-02-18</th>\n",
       "      <td>0.005420</td>\n",
       "      <td>0.002098</td>\n",
       "      <td>-0.000733</td>\n",
       "      <td>0.006784</td>\n",
       "    </tr>\n",
       "    <tr>\n",
       "      <th>2022-02-22</th>\n",
       "      <td>-0.010782</td>\n",
       "      <td>-0.001092</td>\n",
       "      <td>0.002089</td>\n",
       "      <td>-0.009785</td>\n",
       "    </tr>\n",
       "    <tr>\n",
       "      <th>2022-02-23</th>\n",
       "      <td>-0.021798</td>\n",
       "      <td>-0.004465</td>\n",
       "      <td>0.004507</td>\n",
       "      <td>-0.021756</td>\n",
       "    </tr>\n",
       "    <tr>\n",
       "      <th>2022-02-24</th>\n",
       "      <td>0.008357</td>\n",
       "      <td>0.001830</td>\n",
       "      <td>-0.006450</td>\n",
       "      <td>0.003737</td>\n",
       "    </tr>\n",
       "    <tr>\n",
       "      <th>2022-02-25</th>\n",
       "      <td>0.009669</td>\n",
       "      <td>0.001005</td>\n",
       "      <td>-0.003331</td>\n",
       "      <td>0.007343</td>\n",
       "    </tr>\n",
       "    <tr>\n",
       "      <th>2022-02-28</th>\n",
       "      <td>-0.010944</td>\n",
       "      <td>0.007210</td>\n",
       "      <td>0.010365</td>\n",
       "      <td>0.006631</td>\n",
       "    </tr>\n",
       "    <tr>\n",
       "      <th>2022-03-01</th>\n",
       "      <td>-0.002766</td>\n",
       "      <td>0.005624</td>\n",
       "      <td>0.018163</td>\n",
       "      <td>0.021021</td>\n",
       "    </tr>\n",
       "    <tr>\n",
       "      <th>2022-03-02</th>\n",
       "      <td>0.026352</td>\n",
       "      <td>-0.012001</td>\n",
       "      <td>-0.010406</td>\n",
       "      <td>0.003945</td>\n",
       "    </tr>\n",
       "    <tr>\n",
       "      <th>2022-03-03</th>\n",
       "      <td>-0.008108</td>\n",
       "      <td>0.003379</td>\n",
       "      <td>0.005953</td>\n",
       "      <td>0.001225</td>\n",
       "    </tr>\n",
       "    <tr>\n",
       "      <th>2022-03-04</th>\n",
       "      <td>-0.034060</td>\n",
       "      <td>0.004005</td>\n",
       "      <td>0.015929</td>\n",
       "      <td>-0.014126</td>\n",
       "    </tr>\n",
       "    <tr>\n",
       "      <th>2022-03-07</th>\n",
       "      <td>-0.063470</td>\n",
       "      <td>-0.005802</td>\n",
       "      <td>0.014863</td>\n",
       "      <td>-0.054409</td>\n",
       "    </tr>\n",
       "    <tr>\n",
       "      <th>2022-03-08</th>\n",
       "      <td>0.027108</td>\n",
       "      <td>-0.003556</td>\n",
       "      <td>0.027359</td>\n",
       "      <td>0.050911</td>\n",
       "    </tr>\n",
       "    <tr>\n",
       "      <th>2022-03-09</th>\n",
       "      <td>0.051320</td>\n",
       "      <td>-0.002105</td>\n",
       "      <td>-0.029711</td>\n",
       "      <td>0.019504</td>\n",
       "    </tr>\n",
       "    <tr>\n",
       "      <th>2022-03-10</th>\n",
       "      <td>-0.011158</td>\n",
       "      <td>-0.005594</td>\n",
       "      <td>0.003121</td>\n",
       "      <td>-0.013631</td>\n",
       "    </tr>\n",
       "    <tr>\n",
       "      <th>2022-03-11</th>\n",
       "      <td>-0.011283</td>\n",
       "      <td>-0.000184</td>\n",
       "      <td>-0.007028</td>\n",
       "      <td>-0.018496</td>\n",
       "    </tr>\n",
       "    <tr>\n",
       "      <th>2022-03-14</th>\n",
       "      <td>-0.004280</td>\n",
       "      <td>-0.009685</td>\n",
       "      <td>-0.015074</td>\n",
       "      <td>-0.029039</td>\n",
       "    </tr>\n",
       "    <tr>\n",
       "      <th>2022-03-15</th>\n",
       "      <td>0.007163</td>\n",
       "      <td>0.002235</td>\n",
       "      <td>-0.018705</td>\n",
       "      <td>-0.009307</td>\n",
       "    </tr>\n",
       "    <tr>\n",
       "      <th>2022-03-16</th>\n",
       "      <td>0.045519</td>\n",
       "      <td>0.000743</td>\n",
       "      <td>0.006261</td>\n",
       "      <td>0.052524</td>\n",
       "    </tr>\n",
       "    <tr>\n",
       "      <th>2022-03-17</th>\n",
       "      <td>0.019048</td>\n",
       "      <td>0.001672</td>\n",
       "      <td>0.004889</td>\n",
       "      <td>0.025608</td>\n",
       "    </tr>\n",
       "    <tr>\n",
       "      <th>2022-03-18</th>\n",
       "      <td>0.013351</td>\n",
       "      <td>0.002225</td>\n",
       "      <td>-0.008790</td>\n",
       "      <td>0.006786</td>\n",
       "    </tr>\n",
       "    <tr>\n",
       "      <th>2022-03-21</th>\n",
       "      <td>-0.018445</td>\n",
       "      <td>-0.009806</td>\n",
       "      <td>0.007641</td>\n",
       "      <td>-0.020610</td>\n",
       "    </tr>\n",
       "    <tr>\n",
       "      <th>2022-03-22</th>\n",
       "      <td>0.006711</td>\n",
       "      <td>-0.002709</td>\n",
       "      <td>-0.007251</td>\n",
       "      <td>-0.003249</td>\n",
       "    </tr>\n",
       "    <tr>\n",
       "      <th>2022-03-23</th>\n",
       "      <td>-0.029333</td>\n",
       "      <td>0.004122</td>\n",
       "      <td>0.013660</td>\n",
       "      <td>-0.011552</td>\n",
       "    </tr>\n",
       "  </tbody>\n",
       "</table>\n",
       "</div>"
      ],
      "text/plain": [
       "                 ASX       AGG       GLD  total_ret\n",
       "2022-01-03       NaN       NaN       NaN        NaN\n",
       "2022-01-04  0.001271 -0.000088  0.007366   0.008549\n",
       "2022-01-05  0.005076 -0.003089 -0.003008  -0.001021\n",
       "2022-01-06  0.008838 -0.001063 -0.012244  -0.004468\n",
       "2022-01-07 -0.043805 -0.002925  0.004551  -0.042179\n",
       "2022-01-10  0.026178 -0.000889  0.003040   0.028329\n",
       "2022-01-11  0.008929  0.001868  0.012065   0.022862\n",
       "2022-01-12 -0.007585  0.000000  0.002643  -0.004943\n",
       "2022-01-13 -0.003822  0.001776 -0.003397  -0.005442\n",
       "2022-01-14  0.014066 -0.005585 -0.002880   0.005602\n",
       "2022-01-18 -0.030265 -0.006062 -0.001650  -0.037977\n",
       "2022-01-19 -0.027308  0.002153  0.015881  -0.009275\n",
       "2022-01-20  0.000000  0.000537 -0.002499  -0.001962\n",
       "2022-01-21 -0.041444  0.003936 -0.003262  -0.040770\n",
       "2022-01-24  0.005579 -0.001158  0.005494   0.009915\n",
       "2022-01-25 -0.027739 -0.000981  0.003197  -0.025523\n",
       "2022-01-26  0.011412 -0.005626 -0.016166  -0.010380\n",
       "2022-01-27 -0.053597  0.003323 -0.012898  -0.063172\n",
       "2022-01-28  0.008942  0.000716 -0.002983   0.006675\n",
       "2022-01-31  0.045790 -0.000089  0.005925   0.051625\n",
       "2022-02-01  0.015537 -0.000345  0.000833   0.016025\n",
       "2022-02-02  0.011127  0.001075  0.003626   0.015828\n",
       "2022-02-03 -0.053645 -0.004028 -0.001421  -0.059095\n",
       "2022-02-04  0.021802 -0.006291  0.001542   0.017053\n",
       "2022-02-07  0.012802  0.000904  0.007403   0.021109\n",
       "2022-02-08  0.015449 -0.003072  0.003057   0.015434\n",
       "2022-02-09  0.034578  0.000634  0.003399   0.038612\n",
       "2022-02-10  0.010695 -0.009239 -0.003797  -0.002340\n",
       "2022-02-11 -0.038360  0.006583  0.019055  -0.012722\n",
       "2022-02-14 -0.011004 -0.005813  0.005351  -0.011466\n",
       "2022-02-15  0.044506 -0.001644 -0.009500   0.033362\n",
       "2022-02-16  0.005326  0.001190  0.010284   0.016800\n",
       "2022-02-17 -0.022517  0.002102  0.013668  -0.006746\n",
       "2022-02-18  0.005420  0.002098 -0.000733   0.006784\n",
       "2022-02-22 -0.010782 -0.001092  0.002089  -0.009785\n",
       "2022-02-23 -0.021798 -0.004465  0.004507  -0.021756\n",
       "2022-02-24  0.008357  0.001830 -0.006450   0.003737\n",
       "2022-02-25  0.009669  0.001005 -0.003331   0.007343\n",
       "2022-02-28 -0.010944  0.007210  0.010365   0.006631\n",
       "2022-03-01 -0.002766  0.005624  0.018163   0.021021\n",
       "2022-03-02  0.026352 -0.012001 -0.010406   0.003945\n",
       "2022-03-03 -0.008108  0.003379  0.005953   0.001225\n",
       "2022-03-04 -0.034060  0.004005  0.015929  -0.014126\n",
       "2022-03-07 -0.063470 -0.005802  0.014863  -0.054409\n",
       "2022-03-08  0.027108 -0.003556  0.027359   0.050911\n",
       "2022-03-09  0.051320 -0.002105 -0.029711   0.019504\n",
       "2022-03-10 -0.011158 -0.005594  0.003121  -0.013631\n",
       "2022-03-11 -0.011283 -0.000184 -0.007028  -0.018496\n",
       "2022-03-14 -0.004280 -0.009685 -0.015074  -0.029039\n",
       "2022-03-15  0.007163  0.002235 -0.018705  -0.009307\n",
       "2022-03-16  0.045519  0.000743  0.006261   0.052524\n",
       "2022-03-17  0.019048  0.001672  0.004889   0.025608\n",
       "2022-03-18  0.013351  0.002225 -0.008790   0.006786\n",
       "2022-03-21 -0.018445 -0.009806  0.007641  -0.020610\n",
       "2022-03-22  0.006711 -0.002709 -0.007251  -0.003249\n",
       "2022-03-23 -0.029333  0.004122  0.013660  -0.011552"
      ]
     },
     "execution_count": 115,
     "metadata": {},
     "output_type": "execute_result"
    }
   ],
   "source": [
    "rf = 0.011\n",
    "r*sharpe_weights['Weights']\n",
    "r['total_ret'] = r.ASX + r.AGG + r.GLD\n",
    "r"
   ]
  },
  {
   "cell_type": "code",
   "execution_count": 116,
   "metadata": {},
   "outputs": [
    {
     "data": {
      "text/plain": [
       "-0.0420681671830386"
      ]
     },
     "execution_count": 116,
     "metadata": {},
     "output_type": "execute_result"
    }
   ],
   "source": [
    "max_rp = r.total_ret.mean()*54 - 0.011\n",
    "max_rp"
   ]
  },
  {
   "cell_type": "code",
   "execution_count": 117,
   "metadata": {},
   "outputs": [
    {
     "data": {
      "text/plain": [
       "0.031090535790874486"
      ]
     },
     "execution_count": 117,
     "metadata": {},
     "output_type": "execute_result"
    }
   ],
   "source": [
    "max_vol = r.total_ret.std()*54**0.05\n",
    "max_vol"
   ]
  },
  {
   "cell_type": "code",
   "execution_count": 118,
   "metadata": {
    "scrolled": true
   },
   "outputs": [
    {
     "data": {
      "text/plain": [
       "-1.3530859508502329"
      ]
     },
     "execution_count": 118,
     "metadata": {},
     "output_type": "execute_result"
    }
   ],
   "source": [
    "max_sharpe = max_rp/max_vol\n",
    "max_sharpe"
   ]
  },
  {
   "cell_type": "markdown",
   "metadata": {},
   "source": [
    "Vary the amount of BTC/ GLD in the portfolio"
   ]
  },
  {
   "cell_type": "code",
   "execution_count": 128,
   "metadata": {},
   "outputs": [
    {
     "data": {
      "text/plain": [
       "array([1.  , 0.99, 0.98, 0.97, 0.96, 0.95, 0.94, 0.93, 0.92, 0.91, 0.9 ,\n",
       "       0.89, 0.88, 0.87, 0.86, 0.85, 0.84, 0.83, 0.82, 0.81, 0.8 , 0.79,\n",
       "       0.78, 0.77, 0.76, 0.75, 0.74, 0.73, 0.72, 0.71, 0.7 , 0.69, 0.68,\n",
       "       0.67, 0.66, 0.65, 0.64, 0.63, 0.62, 0.61, 0.6 , 0.59, 0.58, 0.57,\n",
       "       0.56, 0.55, 0.54, 0.53, 0.52, 0.51, 0.5 , 0.49, 0.48, 0.47, 0.46,\n",
       "       0.45, 0.44, 0.43, 0.42, 0.41, 0.4 , 0.39, 0.38, 0.37, 0.36, 0.35,\n",
       "       0.34, 0.33, 0.32, 0.31, 0.3 , 0.29, 0.28, 0.27, 0.26, 0.25, 0.24,\n",
       "       0.23, 0.22, 0.21, 0.2 , 0.19, 0.18, 0.17, 0.16, 0.15, 0.14, 0.13,\n",
       "       0.12, 0.11, 0.1 , 0.09, 0.08, 0.07, 0.06, 0.05, 0.04, 0.03, 0.02,\n",
       "       0.01])"
      ]
     },
     "execution_count": 128,
     "metadata": {},
     "output_type": "execute_result"
    }
   ],
   "source": [
    "btc_weight = []\n",
    "for i in range(100):\n",
    "    btc_weight.append(i/100)\n",
    "btc_weight = np.array(btc_weight)\n",
    "else_weight = 1 - btc_weight\n",
    "else_weight\n",
    "    "
   ]
  },
  {
   "cell_type": "code",
   "execution_count": null,
   "metadata": {},
   "outputs": [],
   "source": []
  }
 ],
 "metadata": {
  "kernelspec": {
   "display_name": "Python 3",
   "language": "python",
   "name": "python3"
  },
  "language_info": {
   "codemirror_mode": {
    "name": "ipython",
    "version": 3
   },
   "file_extension": ".py",
   "mimetype": "text/x-python",
   "name": "python",
   "nbconvert_exporter": "python",
   "pygments_lexer": "ipython3",
   "version": "3.8.5"
  }
 },
 "nbformat": 4,
 "nbformat_minor": 4
}
