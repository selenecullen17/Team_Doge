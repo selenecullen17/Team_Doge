{
 "cells": [
  {
   "cell_type": "code",
   "execution_count": 23,
   "metadata": {},
   "outputs": [],
   "source": [
    "import pandas as pd                                    # Working with tables\n",
    "import numpy as np\n",
    "\n",
    "\n",
    "from tiingo import TiingoClient                       # Stock prices.\n",
    "import quandl                                         # Economic data, futures prices, ...\n",
    "\n",
    "# API keys:\n",
    "tiingo = TiingoClient({'api_key':'349dd4117e5d1ed71a22f0207a8e439cf3f7b06b'})\n",
    "quandl.ApiConfig.api_key = '_ci7hzC_sPkspKWz2yzt'                      # Replace the XXXX with your API key (must be inside the ' ').\n",
    "\n",
    "import matplotlib.pyplot as plt                        # Basic plot library.\n",
    "plt.style.use('ggplot')                                # Make plots look nice.\n",
    "%matplotlib inline"
   ]
  },
  {
   "cell_type": "code",
   "execution_count": 22,
   "metadata": {},
   "outputs": [],
   "source": [
    "import sharpe_ratio_finder as srf"
   ]
  },
  {
   "cell_type": "code",
   "execution_count": 27,
   "metadata": {},
   "outputs": [
    {
     "ename": "NameError",
     "evalue": "name 'sharpe_ratio_finder' is not defined",
     "output_type": "error",
     "traceback": [
      "\u001b[1;31m---------------------------------------------------------------------------\u001b[0m",
      "\u001b[1;31mNameError\u001b[0m                                 Traceback (most recent call last)",
      "\u001b[1;32m<ipython-input-27-3803fc32ffb0>\u001b[0m in \u001b[0;36m<module>\u001b[1;34m\u001b[0m\n\u001b[0;32m      1\u001b[0m \u001b[1;32mimport\u001b[0m \u001b[0mimportlib\u001b[0m\u001b[1;33m\u001b[0m\u001b[1;33m\u001b[0m\u001b[0m\n\u001b[1;32m----> 2\u001b[1;33m \u001b[0mimportlib\u001b[0m\u001b[1;33m.\u001b[0m\u001b[0mreload\u001b[0m\u001b[1;33m(\u001b[0m\u001b[0msharpe_ratio_finder\u001b[0m\u001b[1;33m)\u001b[0m\u001b[1;33m\u001b[0m\u001b[1;33m\u001b[0m\u001b[0m\n\u001b[0m",
      "\u001b[1;31mNameError\u001b[0m: name 'sharpe_ratio_finder' is not defined"
     ]
    }
   ],
   "source": [
    "import importlib\n",
    "importlib.reload(srf)"
   ]
  },
  {
   "cell_type": "code",
   "execution_count": 24,
   "metadata": {},
   "outputs": [],
   "source": [
    "start_date   = '3-23-2020'\n",
    "end_date     = '3-23-2022'\n",
    "base_tickers = ['ASX','AGG']\n",
    "base_weights = [.99,.01]\n",
    "var_ticker   = ['btcusd']\n",
    "trading_days = 252"
   ]
  },
  {
   "cell_type": "markdown",
   "metadata": {},
   "source": [
    "# Here is the model"
   ]
  },
  {
   "cell_type": "code",
   "execution_count": 25,
   "metadata": {},
   "outputs": [],
   "source": [
    "tickers = ['ASX','AGG','btcusd']"
   ]
  },
  {
   "cell_type": "markdown",
   "metadata": {},
   "source": [
    "Basic Stock Stats functions\n",
    "```\n",
    "r             = srf.returns(tickers,start_date,end_date)\n",
    "risk_premiums = srf.rp(tickers,start_date,end_date)\n",
    "volatility    = srf.vol(tickers,start_date,end_date)\n",
    "covariance    = srf.cov(tickers,start_date,end_date)\n",
    "correlation   = srf.corr(tickers,start_date,end_date)\n",
    "```\n",
    "Return the statistic the function is named for. \n"
   ]
  },
  {
   "cell_type": "code",
   "execution_count": 26,
   "metadata": {},
   "outputs": [
    {
     "ename": "TypeError",
     "evalue": "returns() takes 3 positional arguments but 4 were given",
     "output_type": "error",
     "traceback": [
      "\u001b[1;31m---------------------------------------------------------------------------\u001b[0m",
      "\u001b[1;31mTypeError\u001b[0m                                 Traceback (most recent call last)",
      "\u001b[1;32m<ipython-input-26-7f92a7bf4724>\u001b[0m in \u001b[0;36m<module>\u001b[1;34m\u001b[0m\n\u001b[1;32m----> 1\u001b[1;33m \u001b[0mr\u001b[0m             \u001b[1;33m=\u001b[0m \u001b[0msrf\u001b[0m\u001b[1;33m.\u001b[0m\u001b[0mreturns\u001b[0m\u001b[1;33m(\u001b[0m\u001b[0mtickers\u001b[0m\u001b[1;33m,\u001b[0m\u001b[0mstart_date\u001b[0m\u001b[1;33m,\u001b[0m\u001b[0mend_date\u001b[0m\u001b[1;33m,\u001b[0m\u001b[0mtrading_days\u001b[0m\u001b[1;33m)\u001b[0m\u001b[1;33m\u001b[0m\u001b[1;33m\u001b[0m\u001b[0m\n\u001b[0m\u001b[0;32m      2\u001b[0m \u001b[0mrisk_premiums\u001b[0m \u001b[1;33m=\u001b[0m \u001b[0msrf\u001b[0m\u001b[1;33m.\u001b[0m\u001b[0mrp\u001b[0m\u001b[1;33m(\u001b[0m\u001b[0mtickers\u001b[0m\u001b[1;33m,\u001b[0m\u001b[0mstart_date\u001b[0m\u001b[1;33m,\u001b[0m\u001b[0mend_date\u001b[0m\u001b[1;33m,\u001b[0m\u001b[0mtrading_days\u001b[0m\u001b[1;33m)\u001b[0m\u001b[1;33m\u001b[0m\u001b[1;33m\u001b[0m\u001b[0m\n\u001b[0;32m      3\u001b[0m \u001b[0mvolatility\u001b[0m    \u001b[1;33m=\u001b[0m \u001b[0msrf\u001b[0m\u001b[1;33m.\u001b[0m\u001b[0mvol\u001b[0m\u001b[1;33m(\u001b[0m\u001b[0mtickers\u001b[0m\u001b[1;33m,\u001b[0m\u001b[0mstart_date\u001b[0m\u001b[1;33m,\u001b[0m\u001b[0mend_date\u001b[0m\u001b[1;33m,\u001b[0m\u001b[0mtrading_days\u001b[0m\u001b[1;33m)\u001b[0m\u001b[1;33m\u001b[0m\u001b[1;33m\u001b[0m\u001b[0m\n\u001b[0;32m      4\u001b[0m \u001b[0mcovariance\u001b[0m    \u001b[1;33m=\u001b[0m \u001b[0msrf\u001b[0m\u001b[1;33m.\u001b[0m\u001b[0mcov\u001b[0m\u001b[1;33m(\u001b[0m\u001b[0mtickers\u001b[0m\u001b[1;33m,\u001b[0m\u001b[0mstart_date\u001b[0m\u001b[1;33m,\u001b[0m\u001b[0mend_date\u001b[0m\u001b[1;33m,\u001b[0m\u001b[0mtrading_days\u001b[0m\u001b[1;33m)\u001b[0m\u001b[1;33m\u001b[0m\u001b[1;33m\u001b[0m\u001b[0m\n\u001b[0;32m      5\u001b[0m \u001b[0mcorrelation\u001b[0m   \u001b[1;33m=\u001b[0m \u001b[0msrf\u001b[0m\u001b[1;33m.\u001b[0m\u001b[0mcorr\u001b[0m\u001b[1;33m(\u001b[0m\u001b[0mtickers\u001b[0m\u001b[1;33m,\u001b[0m\u001b[0mstart_date\u001b[0m\u001b[1;33m,\u001b[0m\u001b[0mend_date\u001b[0m\u001b[1;33m,\u001b[0m\u001b[0mtrading_days\u001b[0m\u001b[1;33m)\u001b[0m\u001b[1;33m\u001b[0m\u001b[1;33m\u001b[0m\u001b[0m\n",
      "\u001b[1;31mTypeError\u001b[0m: returns() takes 3 positional arguments but 4 were given"
     ]
    }
   ],
   "source": [
    "r             = srf.returns(tickers,start_date,end_date,trading_days)\n",
    "risk_premiums = srf.rp(tickers,start_date,end_date,trading_days)\n",
    "volatility    = srf.vol(tickers,start_date,end_date,trading_days)\n",
    "covariance    = srf.cov(tickers,start_date,end_date,trading_days)\n",
    "correlation   = srf.corr(tickers,start_date,end_date,trading_days)"
   ]
  },
  {
   "cell_type": "code",
   "execution_count": 9,
   "metadata": {},
   "outputs": [],
   "source": [
    "xmax = 1\n",
    "ymin = -.2\n",
    "ymax = 2"
   ]
  },
  {
   "cell_type": "markdown",
   "metadata": {},
   "source": [
    "Mean Vol Plot Function:\n",
    "``` \n",
    "mean_vol_plot(tickers,risk_premiums,vol,xmax,ymin,ymax):\n",
    "```\n",
    "Returns a mean-volatility plot"
   ]
  },
  {
   "cell_type": "code",
   "execution_count": 10,
   "metadata": {},
   "outputs": [
    {
     "data": {
      "text/plain": [
       "<AxesSubplot:xlabel='Volatility', ylabel='Risk_premium'>"
      ]
     },
     "execution_count": 10,
     "metadata": {},
     "output_type": "execute_result"
    },
    {
     "data": {
      "image/png": "[encoded data removed]",
      "text/plain": [
       "<Figure size 432x288 with 1 Axes>"
      ]
     },
     "metadata": {
      "needs_background": "light"
     },
     "output_type": "display_data"
    }
   ],
   "source": [
    "srf.mean_vol_plot(tickers,risk_premiums,volatility,xmax,ymin,ymax)"
   ]
  },
  {
   "cell_type": "markdown",
   "metadata": {},
   "source": [
    "Efficient Frontier Function\n",
    "```\n",
    "efficient_frontier(tickers,risk_premiums,vol,cov,xmax,ymin,ymax)\n",
    "```\n",
    "Simulates 1000 random portfolios and graphs all of them on a mean-volatility plot. \n",
    "Returns the graph. "
   ]
  },
  {
   "cell_type": "code",
   "execution_count": 11,
   "metadata": {},
   "outputs": [
    {
     "data": {
      "text/plain": [
       "<AxesSubplot:xlabel='Volatility', ylabel='Risk_premium'>"
      ]
     },
     "execution_count": 11,
     "metadata": {},
     "output_type": "execute_result"
    },
    {
     "data": {
      "image/png": "[encoded data removed]",
      "text/plain": [
       "<Figure size 432x288 with 1 Axes>"
      ]
     },
     "metadata": {
      "needs_background": "light"
     },
     "output_type": "display_data"
    }
   ],
   "source": [
    "srf.efficient_frontier(tickers,risk_premiums,volatility,covariance,xmax,ymin,ymax)"
   ]
  },
  {
   "cell_type": "markdown",
   "metadata": {},
   "source": [
    "Max Sharpe Weight Function\n",
    "```\n",
    "max_sharpe_weights(tickers,risk_premiums,vol,cov)\n",
    "```\n",
    "Does the same simulation as the efficient frontier function, but puts the results in a DataFrame instead of a graph. The function then locates the maximum sharpe ratio, finds the corresponding weights, and puts those weights in a dataframe.\n",
    "Returns the dataframe."
   ]
  },
  {
   "cell_type": "code",
   "execution_count": 12,
   "metadata": {},
   "outputs": [
    {
     "data": {
      "text/html": [
       "<div>\n",
       "<style scoped>\n",
       "    .dataframe tbody tr th:only-of-type {\n",
       "        vertical-align: middle;\n",
       "    }\n",
       "\n",
       "    .dataframe tbody tr th {\n",
       "        vertical-align: top;\n",
       "    }\n",
       "\n",
       "    .dataframe thead th {\n",
       "        text-align: right;\n",
       "    }\n",
       "</style>\n",
       "<table border=\"1\" class=\"dataframe\">\n",
       "  <thead>\n",
       "    <tr style=\"text-align: right;\">\n",
       "      <th></th>\n",
       "      <th>Risk_Premiums</th>\n",
       "      <th>Weights</th>\n",
       "      <th>weighted_ret</th>\n",
       "    </tr>\n",
       "  </thead>\n",
       "  <tbody>\n",
       "    <tr>\n",
       "      <th>ASX</th>\n",
       "      <td>0.355279</td>\n",
       "      <td>0.478758</td>\n",
       "      <td>0.170093</td>\n",
       "    </tr>\n",
       "    <tr>\n",
       "      <th>AGG</th>\n",
       "      <td>-0.014476</td>\n",
       "      <td>0.018845</td>\n",
       "      <td>-0.000273</td>\n",
       "    </tr>\n",
       "    <tr>\n",
       "      <th>btcusd</th>\n",
       "      <td>0.812330</td>\n",
       "      <td>0.502397</td>\n",
       "      <td>0.408112</td>\n",
       "    </tr>\n",
       "  </tbody>\n",
       "</table>\n",
       "</div>"
      ],
      "text/plain": [
       "        Risk_Premiums   Weights  weighted_ret\n",
       "ASX          0.355279  0.478758      0.170093\n",
       "AGG         -0.014476  0.018845     -0.000273\n",
       "btcusd       0.812330  0.502397      0.408112"
      ]
     },
     "execution_count": 12,
     "metadata": {},
     "output_type": "execute_result"
    }
   ],
   "source": [
    "max_sharpe_weights = srf.max_sharpe_weights(tickers,risk_premiums,volatility,covariance)\n",
    "max_sharpe_weights"
   ]
  },
  {
   "cell_type": "markdown",
   "metadata": {},
   "source": [
    "Maximum Sharpe Ratio Value Function\n",
    "```\n",
    "sharpe_ratio_value(tickers,risk_premiums,vol,cov)\n",
    "```\n",
    "Returns the value of the sharpe ratio that corresponds with the above weights. \n",
    "\n",
    "Risk Premium Function\n",
    "```\n",
    "max_sharpe_risk_premium(tickers,risk_premiums,vol,cov)\n",
    "```\n",
    "Returns the risk premium associated with the maximum sharpe ratio.\n",
    "\n",
    "Volatility function\n",
    "```\n",
    "max_sharpe_volatility(tickers,risk_premiums,vol,cov)\n",
    "```\n",
    "Returns the volatility associated with the maximum sharpe ratio portfolio.\n"
   ]
  },
  {
   "cell_type": "code",
   "execution_count": 13,
   "metadata": {},
   "outputs": [
    {
     "data": {
      "text/plain": [
       "1.516745768221157"
      ]
     },
     "execution_count": 13,
     "metadata": {},
     "output_type": "execute_result"
    }
   ],
   "source": [
    "sharpe_ratio = srf.sharpe_ratio_value(tickers,risk_premiums,volatility,covariance)\n",
    "sharpe_ratio"
   ]
  },
  {
   "cell_type": "code",
   "execution_count": 14,
   "metadata": {},
   "outputs": [
    {
     "data": {
      "text/plain": [
       "564    0.578162\n",
       "Name: Risk_premium, dtype: float64"
      ]
     },
     "execution_count": 14,
     "metadata": {},
     "output_type": "execute_result"
    }
   ],
   "source": [
    "max_sharpe_risk_premium = srf.max_sharpe_risk_premium(tickers,risk_premiums,volatility,covariance)\n",
    "max_sharpe_risk_premium"
   ]
  },
  {
   "cell_type": "code",
   "execution_count": 15,
   "metadata": {},
   "outputs": [
    {
     "data": {
      "text/plain": [
       "820    0.382204\n",
       "Name: Volatility, dtype: float64"
      ]
     },
     "execution_count": 15,
     "metadata": {},
     "output_type": "execute_result"
    }
   ],
   "source": [
    "max_sharpe_volatility = srf.max_sharpe_volatility(tickers,risk_premiums,volatility,covariance)\n",
    "max_sharpe_volatility"
   ]
  },
  {
   "cell_type": "markdown",
   "metadata": {},
   "source": [
    "Variable Weights Function\n",
    "```\n",
    "var_weight_plot(base_tickers,var_ticker,base_weights,start_date,end_date,n)\n",
    "```\n",
    "Varies the weight of the variable security (in this case some kind of crypto) from 1/n to n/n and graphs the changes in Sharpe Ratio, Risk Premium, and Volatility. \n",
    "Important notes - \n",
    "    - There can be as many tickers in the base portfolio as you want, but there can only be one variable ticker\n",
    "    - You must put in the weights of the base portfolio as an argument to the function\n",
    "    \n",
    "This function returns the graph as well as the dataframe containing the simulation's results.\n",
    "  "
   ]
  },
  {
   "cell_type": "code",
   "execution_count": 16,
   "metadata": {},
   "outputs": [],
   "source": [
    "\n",
    "n = 100"
   ]
  },
  {
   "cell_type": "code",
   "execution_count": 17,
   "metadata": {},
   "outputs": [
    {
     "data": {
      "text/plain": [
       "(    var_weight  Risk_Premium  Volatility  Sharpe_Ratio\n",
       " 0         0.00      0.445453    0.411373      1.082845\n",
       " 1         0.01      0.451262    0.409271      1.102599\n",
       " 2         0.02      0.457070    0.407265      1.122293\n",
       " 3         0.03      0.462879    0.405356      1.141908\n",
       " 4         0.04      0.468687    0.403545      1.161424\n",
       " ..         ...           ...         ...           ...\n",
       " 95        0.95      0.997261    0.627367      1.589599\n",
       " 96        0.96      1.003070    0.632554      1.585746\n",
       " 97        0.97      1.008878    0.637767      1.581891\n",
       " 98        0.98      1.014687    0.643006      1.578037\n",
       " 99        0.99      1.020495    0.648269      1.574185\n",
       " \n",
       " [100 rows x 4 columns],\n",
       " <AxesSubplot:>)"
      ]
     },
     "execution_count": 17,
     "metadata": {},
     "output_type": "execute_result"
    },
    {
     "data": {
      "image/png": "[encoded data removed]",
      "text/plain": [
       "<Figure size 432x288 with 1 Axes>"
      ]
     },
     "metadata": {
      "needs_background": "light"
     },
     "output_type": "display_data"
    }
   ],
   "source": [
    "srf.var_weight_plot(base_tickers,var_ticker,base_weights,start_date,end_date,n)"
   ]
  },
  {
   "cell_type": "code",
   "execution_count": null,
   "metadata": {},
   "outputs": [],
   "source": []
  }
 ],
 "metadata": {
  "kernelspec": {
   "display_name": "Python 3",
   "language": "python",
   "name": "python3"
  },
  "language_info": {
   "codemirror_mode": {
    "name": "ipython",
    "version": 3
   },
   "file_extension": ".py",
   "mimetype": "text/x-python",
   "name": "python",
   "nbconvert_exporter": "python",
   "pygments_lexer": "ipython3",
   "version": "3.8.5"
  }
 },
 "nbformat": 4,
 "nbformat_minor": 4
}
