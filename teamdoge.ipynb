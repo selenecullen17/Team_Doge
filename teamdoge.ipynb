{
 "cells": [
  {
   "cell_type": "code",
   "execution_count": 3,
   "metadata": {},
   "outputs": [],
   "source": [
    "import pandas as pd                                    # Working with tables\n",
    "import numpy as np\n",
    "\n",
    "from tiingo import TiingoClient                       # Stock prices.\n",
    "import quandl                                         # Economic data, futures prices, ...\n",
    "\n",
    "# API keys:\n",
    "tiingo = TiingoClient({'api_key':'349dd4117e5d1ed71a22f0207a8e439cf3f7b06b'})\n",
    "quandl.ApiConfig.api_key = '_ci7hzC_sPkspKWz2yzt'                      # Replace the XXXX with your API key (must be inside the ' ').\n",
    "\n",
    "import matplotlib.pyplot as plt                        # Basic plot library.\n",
    "plt.style.use('ggplot')                                # Make plots look nice.\n",
    "%matplotlib inline"
   ]
  },
  {
   "cell_type": "markdown",
   "metadata": {},
   "source": [
    "# Here are a bunch of functions I made, and how to use them\n",
    "\n",
    "First, I made functions that return the basic stats we will need to do the analysis. When using them, you must enter the tickers and start and end dates as arguments. For the rest of the analysis to work, you need to define each of these stats as a variable when you use these functions, and the variable name **cannot** be the same as the function name. For example, to find returns you could write:\n",
    "``` \n",
    "r = returns(tickers,start_date,end_date)\n",
    "```\n"
   ]
  },
  {
   "cell_type": "code",
   "execution_count": 4,
   "metadata": {},
   "outputs": [],
   "source": [
    "#make functions for all of the major stats so that I can just put the tickers in to make things easier\n",
    "\n",
    "\n",
    "def returns(tickers,start_date,end_date):\n",
    "    from tiingo import TiingoClient  \n",
    "    # first pull the data you need from tiingo\n",
    "    tiingo = TiingoClient({'api_key':'349dd4117e5d1ed71a22f0207a8e439cf3f7b06b'})\n",
    "    prices  = tiingo.get_dataframe(tickers, start_date, end_date, metric_name='adjClose')\n",
    "    prices.index = pd.to_datetime(prices.index).tz_convert(None) \n",
    "    #bring in SPY now just because this is where we are getting our data\n",
    "    spy = tiingo.get_dataframe('SPY', '2016-3-8', metric_name='adjClose')\n",
    "    spy.index = pd.to_datetime(spy.index).tz_convert(None)\n",
    "    \n",
    "    #find the returns of the tickers in prices\n",
    "    r = prices.pct_change()\n",
    "    \n",
    "    return r\n",
    "    \n",
    "def rp(tickers,start_date,end_date):\n",
    "    # first pull the data you need from tiingo\n",
    "    prices  = tiingo.get_dataframe(tickers, start_date, end_date, metric_name='adjClose')\n",
    "    prices.index = pd.to_datetime(prices.index).tz_convert(None) \n",
    "    #bring in SPY now just because this is where we are getting our data\n",
    "    spy = tiingo.get_dataframe('SPY', '2016-3-8', metric_name='adjClose')\n",
    "    spy.index = pd.to_datetime(spy.index).tz_convert(None)\n",
    "    \n",
    "    #find the returns of the tickers in prices\n",
    "    r = prices.pct_change()\n",
    "    \n",
    "    #assuming the risk free rate for now\n",
    "    #gathering important statistics for analysis\n",
    "    rf = 0.011\n",
    "    risk_premiums = r.mean() * 252 - rf       \n",
    "    \n",
    "    return risk_premiums\n",
    " \n",
    "def vol(tickers,start_date,end_date):\n",
    "        # first pull the data you need from tiingo\n",
    "    prices  = tiingo.get_dataframe(tickers, start_date, end_date, metric_name='adjClose')\n",
    "    prices.index = pd.to_datetime(prices.index).tz_convert(None) \n",
    "    #bring in SPY now just because this is where we are getting our data\n",
    "    spy = tiingo.get_dataframe('SPY', '2016-3-8', metric_name='adjClose')\n",
    "    spy.index = pd.to_datetime(spy.index).tz_convert(None)\n",
    "    \n",
    "    #find the returns of the tickers in prices\n",
    "    r = prices.pct_change()\n",
    "    #find the volatility      \n",
    "    vol           = r.std()  * 252**0.5\n",
    "    \n",
    "    return vol\n",
    "\n",
    "def cov(tickers,start_date,end_date):\n",
    "        # first pull the data you need from tiingo\n",
    "    prices  = tiingo.get_dataframe(tickers, start_date, end_date, metric_name='adjClose')\n",
    "    prices.index = pd.to_datetime(prices.index).tz_convert(None) \n",
    "    #bring in SPY now just because this is where we are getting our data\n",
    "    spy = tiingo.get_dataframe('SPY', '2016-3-8', metric_name='adjClose')\n",
    "    spy.index = pd.to_datetime(spy.index).tz_convert(None)\n",
    "    \n",
    "    #find the returns of the tickers in prices\n",
    "    r = prices.pct_change()\n",
    "    #find the covariance      \n",
    "    cov           = r.cov()  * 252\n",
    "    \n",
    "    return cov\n",
    "\n",
    "def corr(tickers,start_date,end_date):\n",
    "        # first pull the data you need from tiingo\n",
    "    prices  = tiingo.get_dataframe(tickers, start_date, end_date, metric_name='adjClose')\n",
    "    prices.index = pd.to_datetime(prices.index).tz_convert(None) \n",
    "    #bring in SPY now just because this is where we are getting our data\n",
    "    spy = tiingo.get_dataframe('SPY', '2016-3-8', metric_name='adjClose')\n",
    "    spy.index = pd.to_datetime(spy.index).tz_convert(None)\n",
    "    \n",
    "    #find the returns of the tickers in prices\n",
    "    r = prices.pct_change()\n",
    "    #find the covariance      \n",
    "    corr          = r.corr()\n",
    "    \n",
    "    return corr\n",
    "    \n",
    "    "
   ]
  },
  {
   "cell_type": "code",
   "execution_count": 5,
   "metadata": {},
   "outputs": [],
   "source": [
    "tickers       = ['AGG','ACC','btcusd']\n",
    "start_date    = '1-1-2021'\n",
    "end_date      = '3-22-2022'"
   ]
  },
  {
   "cell_type": "code",
   "execution_count": 6,
   "metadata": {},
   "outputs": [
    {
     "data": {
      "text/html": [
       "<div>\n",
       "<style scoped>\n",
       "    .dataframe tbody tr th:only-of-type {\n",
       "        vertical-align: middle;\n",
       "    }\n",
       "\n",
       "    .dataframe tbody tr th {\n",
       "        vertical-align: top;\n",
       "    }\n",
       "\n",
       "    .dataframe thead th {\n",
       "        text-align: right;\n",
       "    }\n",
       "</style>\n",
       "<table border=\"1\" class=\"dataframe\">\n",
       "  <thead>\n",
       "    <tr style=\"text-align: right;\">\n",
       "      <th></th>\n",
       "      <th>AGG</th>\n",
       "      <th>ACC</th>\n",
       "      <th>btcusd</th>\n",
       "    </tr>\n",
       "  </thead>\n",
       "  <tbody>\n",
       "    <tr>\n",
       "      <th>2021-01-02</th>\n",
       "      <td>NaN</td>\n",
       "      <td>NaN</td>\n",
       "      <td>NaN</td>\n",
       "    </tr>\n",
       "    <tr>\n",
       "      <th>2021-01-03</th>\n",
       "      <td>NaN</td>\n",
       "      <td>NaN</td>\n",
       "      <td>0.025774</td>\n",
       "    </tr>\n",
       "    <tr>\n",
       "      <th>2021-01-04</th>\n",
       "      <td>NaN</td>\n",
       "      <td>NaN</td>\n",
       "      <td>-0.030807</td>\n",
       "    </tr>\n",
       "    <tr>\n",
       "      <th>2021-01-05</th>\n",
       "      <td>-0.001017</td>\n",
       "      <td>0.000974</td>\n",
       "      <td>0.061756</td>\n",
       "    </tr>\n",
       "    <tr>\n",
       "      <th>2021-01-06</th>\n",
       "      <td>-0.004919</td>\n",
       "      <td>0.018978</td>\n",
       "      <td>0.082936</td>\n",
       "    </tr>\n",
       "    <tr>\n",
       "      <th>...</th>\n",
       "      <td>...</td>\n",
       "      <td>...</td>\n",
       "      <td>...</td>\n",
       "    </tr>\n",
       "    <tr>\n",
       "      <th>2022-03-19</th>\n",
       "      <td>0.000000</td>\n",
       "      <td>0.000000</td>\n",
       "      <td>0.010652</td>\n",
       "    </tr>\n",
       "    <tr>\n",
       "      <th>2022-03-20</th>\n",
       "      <td>0.000000</td>\n",
       "      <td>0.000000</td>\n",
       "      <td>-0.022298</td>\n",
       "    </tr>\n",
       "    <tr>\n",
       "      <th>2022-03-21</th>\n",
       "      <td>-0.009806</td>\n",
       "      <td>-0.001086</td>\n",
       "      <td>-0.006325</td>\n",
       "    </tr>\n",
       "    <tr>\n",
       "      <th>2022-03-22</th>\n",
       "      <td>-0.002709</td>\n",
       "      <td>-0.002174</td>\n",
       "      <td>0.033309</td>\n",
       "    </tr>\n",
       "    <tr>\n",
       "      <th>2022-03-23</th>\n",
       "      <td>0.000000</td>\n",
       "      <td>0.000000</td>\n",
       "      <td>-0.007018</td>\n",
       "    </tr>\n",
       "  </tbody>\n",
       "</table>\n",
       "<p>446 rows × 3 columns</p>\n",
       "</div>"
      ],
      "text/plain": [
       "                 AGG       ACC    btcusd\n",
       "2021-01-02       NaN       NaN       NaN\n",
       "2021-01-03       NaN       NaN  0.025774\n",
       "2021-01-04       NaN       NaN -0.030807\n",
       "2021-01-05 -0.001017  0.000974  0.061756\n",
       "2021-01-06 -0.004919  0.018978  0.082936\n",
       "...              ...       ...       ...\n",
       "2022-03-19  0.000000  0.000000  0.010652\n",
       "2022-03-20  0.000000  0.000000 -0.022298\n",
       "2022-03-21 -0.009806 -0.001086 -0.006325\n",
       "2022-03-22 -0.002709 -0.002174  0.033309\n",
       "2022-03-23  0.000000  0.000000 -0.007018\n",
       "\n",
       "[446 rows x 3 columns]"
      ]
     },
     "execution_count": 6,
     "metadata": {},
     "output_type": "execute_result"
    }
   ],
   "source": [
    "returns(tickers,start_date,end_date)"
   ]
  },
  {
   "cell_type": "code",
   "execution_count": 7,
   "metadata": {},
   "outputs": [],
   "source": [
    "risk_premiums = rp(tickers,start_date,end_date)\n",
    "volatility    = vol(tickers,start_date,end_date)\n",
    "covariance    = cov(tickers,start_date,end_date)\n",
    "correlation   = corr(tickers,start_date,end_date)\n",
    "r             = returns(tickers,start_date,end_date)"
   ]
  },
  {
   "cell_type": "markdown",
   "metadata": {},
   "source": [
    "To find the efficent frontier, you have to find all of the basic stats first. After that, you can use the functions below with the following arguments. Note that you can't use the name of the functions that find the stats in the arguments. That will cause an error. "
   ]
  },
  {
   "cell_type": "code",
   "execution_count": 19,
   "metadata": {},
   "outputs": [],
   "source": [
    "def mean_vol_plot(risk_premiums,vol):\n",
    "    \n",
    "    assets = pd.DataFrame()                        \n",
    "    assets['Risk_premium'] = risk_premiums\n",
    "    assets['Volatility']   = vol    \n",
    "    assets['Color']        = 'orange'\n",
    "    assets['Size']         = 150\n",
    "\n",
    "    all_portfolios = assets\n",
    "    all_portfolios\n",
    "    \n",
    "    graph = all_portfolios.plot.scatter('Volatility','Risk_premium', color=all_portfolios.Color, s=all_portfolios.Size, xlim=(0,1), ylim=(-0.3,0.5))\n",
    "\n",
    "    # add ticker symbols to plot:\n",
    "    for s in tickers:                                 # loop over sectors\n",
    "        x = all_portfolios.loc[s,'Volatility']+0.005  # get x-coordinate from table (+ offset so the labels don't overlap with points)\n",
    "        y = all_portfolios.loc[s,'Risk_premium']      # get y-coordinate from table\n",
    "        graph.text(x,y,s)                             # add the ticker symbol to the graph\n",
    "    return graph"
   ]
  },
  {
   "cell_type": "code",
   "execution_count": 20,
   "metadata": {},
   "outputs": [
    {
     "data": {
      "text/plain": [
       "<AxesSubplot:xlabel='Volatility', ylabel='Risk_premium'>"
      ]
     },
     "execution_count": 20,
     "metadata": {},
     "output_type": "execute_result"
    },
    {
     "data": {
      "image/png": "[encoded data removed]",
      "text/plain": [
       "<Figure size 432x288 with 1 Axes>"
      ]
     },
     "metadata": {
      "needs_background": "light"
     },
     "output_type": "display_data"
    }
   ],
   "source": [
    "mean_vol_plot(risk_premiums,volatility)"
   ]
  },
  {
   "cell_type": "code",
   "execution_count": 10,
   "metadata": {},
   "outputs": [],
   "source": [
    "def efficient_frontier(risk_premiums,vol,cov):\n",
    "    assets = pd.DataFrame()                        \n",
    "    assets['Risk_premium'] = risk_premiums\n",
    "    assets['Volatility']   = vol    \n",
    "    assets['Color']        = 'orange'\n",
    "    assets['Size']         = 150\n",
    "\n",
    "    all_portfolios = assets\n",
    "    all_portfolios\n",
    "    \n",
    "   # here we are building the simulation that finds the possible portfolios\n",
    "    n_portfolios = 1000\n",
    "\n",
    "    random_arrays  = [ np.random.uniform(0,1,len(tickers)) for i in range(0,n_portfolios) ]\n",
    "    random_weights = [ ra/ra.sum() for ra in random_arrays ]\n",
    "    \n",
    "    random = pd.DataFrame()\n",
    "    random['Risk_premium'] = [ w.dot(risk_premiums)   for w in random_weights ]\n",
    "    random['Volatility']   = [ w.dot(cov).dot(w)**0.5 for w in random_weights ]\n",
    "    random['Color']        = 'gray'\n",
    "    random['Size']         = 10\n",
    "    random['sharpe']       = random['Risk_premium']/random['Volatility']\n",
    "\n",
    "    all_portfolios = pd.concat([random, assets])\n",
    "    \n",
    "    graph = all_portfolios.plot.scatter('Volatility','Risk_premium', color=all_portfolios.Color, s=all_portfolios.Size, xlim=(0,1), ylim=(-0.03,0.5))\n",
    "\n",
    "    # add ticker to plot:\n",
    "    for s in tickers:                                 # loop over sectors\n",
    "        x = all_portfolios.loc[s,'Volatility']+0.005  # get x-coordinate from table (+ offset so the labels don't overlap with points)\n",
    "        y = all_portfolios.loc[s,'Risk_premium']      # get y-coordinate from table\n",
    "        graph.text(x,y,s)                             # add the ticker symbol to the graph\n",
    "    return graph"
   ]
  },
  {
   "cell_type": "code",
   "execution_count": 11,
   "metadata": {},
   "outputs": [
    {
     "data": {
      "text/plain": [
       "<AxesSubplot:xlabel='Volatility', ylabel='Risk_premium'>"
      ]
     },
     "execution_count": 11,
     "metadata": {},
     "output_type": "execute_result"
    },
    {
     "data": {
      "image/png": "[encoded data removed]",
      "text/plain": [
       "<Figure size 432x288 with 1 Axes>"
      ]
     },
     "metadata": {
      "needs_background": "light"
     },
     "output_type": "display_data"
    }
   ],
   "source": [
    "efficient_frontier(risk_premiums,volatility,covariance)"
   ]
  },
  {
   "cell_type": "code",
   "execution_count": 12,
   "metadata": {},
   "outputs": [],
   "source": [
    "def max_sharpe_weights(risk_premiums,vol,cov):\n",
    "    #we have to do the simulation again, I'm sure this could also be done with a nested function but that's ok\n",
    "    assets = pd.DataFrame()                        \n",
    "    assets['Risk_premium'] = risk_premiums\n",
    "    assets['Volatility']   = vol    \n",
    "    assets['Color']        = 'orange'\n",
    "    assets['Size']         = 150\n",
    "\n",
    "    all_portfolios = assets\n",
    "    all_portfolios\n",
    "    \n",
    "    n_portfolios = 1000\n",
    "\n",
    "    random_arrays  = [ np.random.uniform(0,1,len(tickers)) for i in range(0,n_portfolios) ]\n",
    "    random_weights = [ ra/ra.sum() for ra in random_arrays ]\n",
    "    \n",
    "    random = pd.DataFrame()\n",
    "    random['Risk_premium'] = [ w.dot(risk_premiums)   for w in random_weights ]\n",
    "    random['Volatility']   = [ w.dot(cov).dot(w)**0.5 for w in random_weights ]\n",
    "    random['Color']        = 'gray'\n",
    "    random['Size']         = 10\n",
    "    random['sharpe']       = random['Risk_premium']/random['Volatility']\n",
    "\n",
    "    all_portfolios = pd.concat([random, assets])\n",
    "    \n",
    "    #now we have to do some crazy stuff, basically I am creating a data frame where all of the entries \n",
    "    #are themselves lists of possible weights\n",
    "    #I am going to parse through the dataframe to find the weights that correspond to the maximum sharpe ratio\n",
    "    random['weights'] = random_weights\n",
    "    wgts = random[(random['sharpe'] >= random.sharpe.max())].weights.astype(str)\n",
    "\n",
    "    rp = random[(random['sharpe'] == random.sharpe.max())].Risk_premium\n",
    "    #now I have found the weights, but they are in string form. We want them to be a panda series\n",
    "    #here i am turning the string weights into a list\n",
    "    lw = list(wgts)\n",
    "    #finding the first entry in the list(the first entry is always a quote)\n",
    "    ws = str(lw[0])\n",
    "    # replacing the quote with a blank\n",
    "    ws = ws.replace('[','')\n",
    "    ws = ws.replace(']','')\n",
    "    #deliniating the list values by spaces\n",
    "    lw = ws.split(' ')\n",
    "    #filtering out the bad data\n",
    "    lw = list(filter(None, lw))\n",
    "    #Finally turning the list into a numpy array\n",
    "    nw = np.array(lw)\n",
    "    nw = nw.astype(float)\n",
    "    \n",
    "    #now we have to turn the numpy array into a panda series \n",
    "    \n",
    "    sharpe_weights                  = pd.DataFrame()\n",
    "    sharpe_weights['Risk_Premiums'] = risk_premiums\n",
    "    sharpe_weights['Weights']       = nw\n",
    "    sharpe_weights['weighted_ret']  = sharpe_weights['Weights']*sharpe_weights['Risk_Premiums']\n",
    "    \n",
    "    return sharpe_weights\n",
    "\n",
    "#don't forget to turn this into a variable when you run the function!\n"
   ]
  },
  {
   "cell_type": "code",
   "execution_count": 13,
   "metadata": {},
   "outputs": [
    {
     "data": {
      "text/html": [
       "<div>\n",
       "<style scoped>\n",
       "    .dataframe tbody tr th:only-of-type {\n",
       "        vertical-align: middle;\n",
       "    }\n",
       "\n",
       "    .dataframe tbody tr th {\n",
       "        vertical-align: top;\n",
       "    }\n",
       "\n",
       "    .dataframe thead th {\n",
       "        text-align: right;\n",
       "    }\n",
       "</style>\n",
       "<table border=\"1\" class=\"dataframe\">\n",
       "  <thead>\n",
       "    <tr style=\"text-align: right;\">\n",
       "      <th></th>\n",
       "      <th>Risk_Premiums</th>\n",
       "      <th>Weights</th>\n",
       "      <th>weighted_ret</th>\n",
       "    </tr>\n",
       "  </thead>\n",
       "  <tbody>\n",
       "    <tr>\n",
       "      <th>AGG</th>\n",
       "      <td>-0.055910</td>\n",
       "      <td>0.005014</td>\n",
       "      <td>-0.000280</td>\n",
       "    </tr>\n",
       "    <tr>\n",
       "      <th>ACC</th>\n",
       "      <td>0.200038</td>\n",
       "      <td>0.907829</td>\n",
       "      <td>0.181601</td>\n",
       "    </tr>\n",
       "    <tr>\n",
       "      <th>btcusd</th>\n",
       "      <td>0.349611</td>\n",
       "      <td>0.087157</td>\n",
       "      <td>0.030471</td>\n",
       "    </tr>\n",
       "  </tbody>\n",
       "</table>\n",
       "</div>"
      ],
      "text/plain": [
       "        Risk_Premiums   Weights  weighted_ret\n",
       "AGG         -0.055910  0.005014     -0.000280\n",
       "ACC          0.200038  0.907829      0.181601\n",
       "btcusd       0.349611  0.087157      0.030471"
      ]
     },
     "execution_count": 13,
     "metadata": {},
     "output_type": "execute_result"
    }
   ],
   "source": [
    "sharpe_weights = max_sharpe_weights(risk_premiums, volatility, covariance)\n",
    "sharpe_weights"
   ]
  },
  {
   "cell_type": "code",
   "execution_count": 14,
   "metadata": {},
   "outputs": [],
   "source": [
    "def max_sharpe_stats(risk_premiums,vol,cov,sharpe_weights,r):\n",
    "    #we have to do the simulation again, I'm sure this could also be done with a nested function but that's ok\n",
    "    assets = pd.DataFrame()                        \n",
    "    assets['Risk_premium'] = risk_premiums\n",
    "    assets['Volatility']   = vol    \n",
    "    assets['Color']        = 'orange'\n",
    "    assets['Size']         = 150\n",
    "\n",
    "    all_portfolios = assets\n",
    "    all_portfolios\n",
    "    \n",
    "    n_portfolios = 1000\n",
    "\n",
    "    random_arrays  = [ np.random.uniform(0,1,len(tickers)) for i in range(0,n_portfolios) ]\n",
    "    random_weights = [ ra/ra.sum() for ra in random_arrays ]\n",
    "    \n",
    "    random = pd.DataFrame()\n",
    "    random['Risk_premium'] = [ w.dot(risk_premiums)   for w in random_weights ]\n",
    "    random['Volatility']   = [ w.dot(cov).dot(w)**0.5 for w in random_weights ]\n",
    "    random['Color']        = 'gray'\n",
    "    random['Size']         = 10\n",
    "    random['sharpe']       = random['Risk_premium']/random['Volatility']\n",
    "\n",
    "    all_portfolios = pd.concat([random, assets])\n",
    "    \n",
    "    #find the maximum sharpe ratio from the data\n",
    "    max_sharpe = random[(random['Risk_premium']>= 0)][(random['Volatility']<= 1)].sharpe.max()\n",
    "    \n",
    "    #find the volatility\n",
    "    r              = r.dot(sharpe_weights['Weights'])\n",
    "    r['total_ret'] = r.sum()\n",
    "    \n",
    "    total          = r['total_ret']\n",
    "    rf             = 0.011\n",
    "    erp            = total.mean() * 252 - rf       \n",
    "    volatility     = total.std()  * 252**0.5\n",
    "   \n",
    "  \n",
    "    \n",
    "    \n",
    "    "
   ]
  },
  {
   "cell_type": "code",
   "execution_count": 15,
   "metadata": {},
   "outputs": [
    {
     "name": "stderr",
     "output_type": "stream",
     "text": [
      "<ipython-input-14-5cb3a0d65b5c>:27: UserWarning: Boolean Series key will be reindexed to match DataFrame index.\n",
      "  max_sharpe = random[(random['Risk_premium']>= 0)][(random['Volatility']<= 1)].sharpe.max()\n"
     ]
    }
   ],
   "source": [
    "max_sharpe_stats(risk_premiums,volatility,covariance,sharpe_weights,r)"
   ]
  },
  {
   "cell_type": "code",
   "execution_count": null,
   "metadata": {},
   "outputs": [],
   "source": []
  }
 ],
 "metadata": {
  "kernelspec": {
   "display_name": "Python 3",
   "language": "python",
   "name": "python3"
  },
  "language_info": {
   "codemirror_mode": {
    "name": "ipython",
    "version": 3
   },
   "file_extension": ".py",
   "mimetype": "text/x-python",
   "name": "python",
   "nbconvert_exporter": "python",
   "pygments_lexer": "ipython3",
   "version": "3.8.5"
  }
 },
 "nbformat": 4,
 "nbformat_minor": 4
}
