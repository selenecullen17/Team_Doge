{
 "cells": [
  {
   "cell_type": "markdown",
   "metadata": {
    "id": "5xakOlyDRJOo"
   },
   "source": [
    "# Setting Up\n",
    "\n"
   ]
  },
  {
   "cell_type": "code",
   "execution_count": 3,
   "metadata": {
    "colab": {
     "base_uri": "https://localhost:8080/"
    },
    "id": "T8VdlT6cEv0q",
    "outputId": "2113c57b-43c8-44e2-f786-f5113ba5eb72"
   },
   "outputs": [
    {
     "name": "stdout",
     "output_type": "stream",
     "text": [
      "Requirement already satisfied: tiingo in c:\\users\\selen\\anaconda3\\lib\\site-packages (0.14.0)\n",
      "Requirement already satisfied: requests in c:\\users\\selen\\anaconda3\\lib\\site-packages (from tiingo) (2.24.0)\n",
      "Requirement already satisfied: certifi>=2017.4.17 in c:\\users\\selen\\anaconda3\\lib\\site-packages (from requests->tiingo) (2020.6.20)\n",
      "Requirement already satisfied: urllib3!=1.25.0,!=1.25.1,<1.26,>=1.21.1 in c:\\users\\selen\\anaconda3\\lib\\site-packages (from requests->tiingo) (1.25.11)\n",
      "Requirement already satisfied: idna<3,>=2.5 in c:\\users\\selen\\anaconda3\\lib\\site-packages (from requests->tiingo) (2.10)\n",
      "Requirement already satisfied: chardet<4,>=3.0.2 in c:\\users\\selen\\anaconda3\\lib\\site-packages (from requests->tiingo) (3.0.4)\n"
     ]
    }
   ],
   "source": [
    "!pip install tiingo"
   ]
  },
  {
   "cell_type": "code",
   "execution_count": 4,
   "metadata": {
    "colab": {
     "base_uri": "https://localhost:8080/"
    },
    "id": "MqDccfXRE9PX",
    "outputId": "a1922008-8315-49c5-eac0-d0c5b8a37978"
   },
   "outputs": [
    {
     "name": "stdout",
     "output_type": "stream",
     "text": [
      "Requirement already satisfied: quandl in c:\\users\\selen\\anaconda3\\lib\\site-packages (3.6.1)\n",
      "Requirement already satisfied: six in c:\\users\\selen\\anaconda3\\lib\\site-packages (from quandl) (1.15.0)\n",
      "Requirement already satisfied: more-itertools in c:\\users\\selen\\anaconda3\\lib\\site-packages (from quandl) (8.6.0)\n",
      "Requirement already satisfied: numpy>=1.8 in c:\\users\\selen\\anaconda3\\lib\\site-packages (from quandl) (1.19.2)\n",
      "Requirement already satisfied: requests>=2.7.0 in c:\\users\\selen\\anaconda3\\lib\\site-packages (from quandl) (2.24.0)\n",
      "Requirement already satisfied: python-dateutil in c:\\users\\selen\\anaconda3\\lib\\site-packages (from quandl) (2.8.1)\n",
      "Requirement already satisfied: pandas>=0.14 in c:\\users\\selen\\anaconda3\\lib\\site-packages (from quandl) (1.1.3)\n",
      "Requirement already satisfied: inflection>=0.3.1 in c:\\users\\selen\\anaconda3\\lib\\site-packages (from quandl) (0.5.1)\n",
      "Requirement already satisfied: urllib3!=1.25.0,!=1.25.1,<1.26,>=1.21.1 in c:\\users\\selen\\anaconda3\\lib\\site-packages (from requests>=2.7.0->quandl) (1.25.11)\n",
      "Requirement already satisfied: certifi>=2017.4.17 in c:\\users\\selen\\anaconda3\\lib\\site-packages (from requests>=2.7.0->quandl) (2020.6.20)\n",
      "Requirement already satisfied: idna<3,>=2.5 in c:\\users\\selen\\anaconda3\\lib\\site-packages (from requests>=2.7.0->quandl) (2.10)\n",
      "Requirement already satisfied: chardet<4,>=3.0.2 in c:\\users\\selen\\anaconda3\\lib\\site-packages (from requests>=2.7.0->quandl) (3.0.4)\n",
      "Requirement already satisfied: pytz>=2017.2 in c:\\users\\selen\\anaconda3\\lib\\site-packages (from pandas>=0.14->quandl) (2020.1)\n"
     ]
    }
   ],
   "source": [
    "!pip install quandl"
   ]
  },
  {
   "cell_type": "code",
   "execution_count": 5,
   "metadata": {
    "id": "EMJuIAiN525P"
   },
   "outputs": [],
   "source": [
    "# Working with data:\n",
    "import numpy  as np                                   # For scientific computing.\n",
    "import pandas as pd                                   # Working with tables.\n",
    "\n",
    "# Downloading files:\n",
    "import requests, zipfile, io                                # To access websites.\n",
    "\n",
    "# Specific data providers:\n",
    "from tiingo import TiingoClient                       # Stock prices.\n",
    "import quandl                                         # Economic data, futures prices, ...\n",
    "\n",
    "# API keys:\n",
    "tiingo = TiingoClient({'api_key':'349dd4117e5d1ed71a22f0207a8e439cf3f7b06b'})\n",
    "quandl.ApiConfig.api_key = '_ci7hzC_sPkspKWz2yzt'\n",
    "\n",
    "# Plotting:\n",
    "import matplotlib.pyplot as plt                        # Basic plot library.\n",
    "plt.style.use('ggplot')    \n",
    "\n"
   ]
  },
  {
   "cell_type": "code",
   "execution_count": 6,
   "metadata": {
    "colab": {
     "base_uri": "https://localhost:8080/",
     "height": 423
    },
    "id": "7S6JTlVeHfOz",
    "outputId": "ccf93458-9483-406d-bf58-c333c106a717"
   },
   "outputs": [
    {
     "data": {
      "text/html": [
       "<div>\n",
       "<style scoped>\n",
       "    .dataframe tbody tr th:only-of-type {\n",
       "        vertical-align: middle;\n",
       "    }\n",
       "\n",
       "    .dataframe tbody tr th {\n",
       "        vertical-align: top;\n",
       "    }\n",
       "\n",
       "    .dataframe thead th {\n",
       "        text-align: right;\n",
       "    }\n",
       "</style>\n",
       "<table border=\"1\" class=\"dataframe\">\n",
       "  <thead>\n",
       "    <tr style=\"text-align: right;\">\n",
       "      <th></th>\n",
       "      <th>GLD</th>\n",
       "    </tr>\n",
       "  </thead>\n",
       "  <tbody>\n",
       "    <tr>\n",
       "      <th>2008-01-02</th>\n",
       "      <td>NaN</td>\n",
       "    </tr>\n",
       "    <tr>\n",
       "      <th>2008-01-03</th>\n",
       "      <td>0.008367</td>\n",
       "    </tr>\n",
       "    <tr>\n",
       "      <th>2008-01-04</th>\n",
       "      <td>-0.005142</td>\n",
       "    </tr>\n",
       "    <tr>\n",
       "      <th>2008-01-07</th>\n",
       "      <td>-0.004229</td>\n",
       "    </tr>\n",
       "    <tr>\n",
       "      <th>2008-01-08</th>\n",
       "      <td>0.023711</td>\n",
       "    </tr>\n",
       "    <tr>\n",
       "      <th>...</th>\n",
       "      <td>...</td>\n",
       "    </tr>\n",
       "    <tr>\n",
       "      <th>2022-03-16</th>\n",
       "      <td>0.006261</td>\n",
       "    </tr>\n",
       "    <tr>\n",
       "      <th>2022-03-17</th>\n",
       "      <td>0.004889</td>\n",
       "    </tr>\n",
       "    <tr>\n",
       "      <th>2022-03-18</th>\n",
       "      <td>-0.008790</td>\n",
       "    </tr>\n",
       "    <tr>\n",
       "      <th>2022-03-21</th>\n",
       "      <td>0.007641</td>\n",
       "    </tr>\n",
       "    <tr>\n",
       "      <th>2022-03-22</th>\n",
       "      <td>-0.007251</td>\n",
       "    </tr>\n",
       "  </tbody>\n",
       "</table>\n",
       "<p>3581 rows × 1 columns</p>\n",
       "</div>"
      ],
      "text/plain": [
       "                 GLD\n",
       "2008-01-02       NaN\n",
       "2008-01-03  0.008367\n",
       "2008-01-04 -0.005142\n",
       "2008-01-07 -0.004229\n",
       "2008-01-08  0.023711\n",
       "...              ...\n",
       "2022-03-16  0.006261\n",
       "2022-03-17  0.004889\n",
       "2022-03-18 -0.008790\n",
       "2022-03-21  0.007641\n",
       "2022-03-22 -0.007251\n",
       "\n",
       "[3581 rows x 1 columns]"
      ]
     },
     "execution_count": 6,
     "metadata": {},
     "output_type": "execute_result"
    }
   ],
   "source": [
    "#find start of BTC data\n",
    "GLD= tiingo.get_dataframe(['GLD'],'2008-1-1',metric_name='adjClose')\n",
    "GLD.index = pd.to_datetime(GLD.index).tz_convert(None)\n",
    "GLD_ret = GLD.pct_change()\n",
    "GLD_ret\n",
    "#BTC start date is 2011-08-19, so that is the first date I will use for the analysis"
   ]
  },
  {
   "cell_type": "code",
   "execution_count": 7,
   "metadata": {
    "colab": {
     "base_uri": "https://localhost:8080/",
     "height": 143
    },
    "id": "M0XR0wh7Evus",
    "outputId": "0dca8bf5-228e-45a1-f935-0f07876bde25"
   },
   "outputs": [
    {
     "data": {
      "text/html": [
       "<div>\n",
       "<style scoped>\n",
       "    .dataframe tbody tr th:only-of-type {\n",
       "        vertical-align: middle;\n",
       "    }\n",
       "\n",
       "    .dataframe tbody tr th {\n",
       "        vertical-align: top;\n",
       "    }\n",
       "\n",
       "    .dataframe thead th {\n",
       "        text-align: right;\n",
       "    }\n",
       "</style>\n",
       "<table border=\"1\" class=\"dataframe\">\n",
       "  <thead>\n",
       "    <tr style=\"text-align: right;\">\n",
       "      <th></th>\n",
       "      <th>ACC</th>\n",
       "      <th>AGG</th>\n",
       "    </tr>\n",
       "  </thead>\n",
       "  <tbody>\n",
       "    <tr>\n",
       "      <th>2018-01-02</th>\n",
       "      <td>NaN</td>\n",
       "      <td>NaN</td>\n",
       "    </tr>\n",
       "    <tr>\n",
       "      <th>2018-01-03</th>\n",
       "      <td>-0.016589</td>\n",
       "      <td>0.000092</td>\n",
       "    </tr>\n",
       "    <tr>\n",
       "      <th>2018-01-04</th>\n",
       "      <td>-0.017862</td>\n",
       "      <td>-0.000641</td>\n",
       "    </tr>\n",
       "  </tbody>\n",
       "</table>\n",
       "</div>"
      ],
      "text/plain": [
       "                 ACC       AGG\n",
       "2018-01-02       NaN       NaN\n",
       "2018-01-03 -0.016589  0.000092\n",
       "2018-01-04 -0.017862 -0.000641"
      ]
     },
     "execution_count": 7,
     "metadata": {},
     "output_type": "execute_result"
    }
   ],
   "source": [
    "#get ETF prices for SPY and IEF (7-10 year treasuries)\n",
    "# it doesn't feel right to use 20 year treasuries here because crypto has only been publicly exchanged for around 10 years\n",
    "PRICE = tiingo.get_dataframe(['ACC','AGG'], '2018-01-01', metric_name='adjClose')\n",
    "PRICE.index = pd.to_datetime(PRICE.index).tz_convert(None)\n",
    "\n",
    "RET = PRICE.pct_change()\n",
    "RET[:3]\n"
   ]
  },
  {
   "cell_type": "code",
   "execution_count": null,
   "metadata": {
    "id": "g0u2MWpyTlDX"
   },
   "outputs": [],
   "source": []
  },
  {
   "cell_type": "code",
   "execution_count": 8,
   "metadata": {
    "colab": {
     "base_uri": "https://localhost:8080/",
     "height": 273
    },
    "id": "UTJDWJOeIR8P",
    "outputId": "f2ec7c8d-6a0d-4ff9-fae1-d59d37f9fc64"
   },
   "outputs": [
    {
     "data": {
      "text/plain": [
       "<AxesSubplot:>"
      ]
     },
     "execution_count": 8,
     "metadata": {},
     "output_type": "execute_result"
    },
    {
     "data": {
      "image/png": "[encoded data removed]",
      "text/plain": [
       "<Figure size 432x288 with 1 Axes>"
      ]
     },
     "metadata": {},
     "output_type": "display_data"
    }
   ],
   "source": [
    "#plot SPY and IEF\n",
    "RET.add(1).cumprod().plot(logy=True)"
   ]
  },
  {
   "cell_type": "code",
   "execution_count": 9,
   "metadata": {
    "colab": {
     "base_uri": "https://localhost:8080/",
     "height": 661
    },
    "id": "WLuFuT8xIaT4",
    "outputId": "ede4baa2-edbf-4678-d082-a1ba574d6139"
   },
   "outputs": [
    {
     "data": {
      "text/html": [
       "<div>\n",
       "<style scoped>\n",
       "    .dataframe tbody tr th:only-of-type {\n",
       "        vertical-align: middle;\n",
       "    }\n",
       "\n",
       "    .dataframe tbody tr th {\n",
       "        vertical-align: top;\n",
       "    }\n",
       "\n",
       "    .dataframe thead th {\n",
       "        text-align: right;\n",
       "    }\n",
       "</style>\n",
       "<table border=\"1\" class=\"dataframe\">\n",
       "  <thead>\n",
       "    <tr style=\"text-align: right;\">\n",
       "      <th></th>\n",
       "      <th>GLD</th>\n",
       "    </tr>\n",
       "  </thead>\n",
       "  <tbody>\n",
       "    <tr>\n",
       "      <th>2008-01-02</th>\n",
       "      <td>NaN</td>\n",
       "    </tr>\n",
       "    <tr>\n",
       "      <th>2008-01-03</th>\n",
       "      <td>0.008367</td>\n",
       "    </tr>\n",
       "    <tr>\n",
       "      <th>2008-01-04</th>\n",
       "      <td>-0.005142</td>\n",
       "    </tr>\n",
       "    <tr>\n",
       "      <th>2008-01-07</th>\n",
       "      <td>-0.004229</td>\n",
       "    </tr>\n",
       "    <tr>\n",
       "      <th>2008-01-08</th>\n",
       "      <td>0.023711</td>\n",
       "    </tr>\n",
       "    <tr>\n",
       "      <th>...</th>\n",
       "      <td>...</td>\n",
       "    </tr>\n",
       "    <tr>\n",
       "      <th>2022-03-16</th>\n",
       "      <td>0.006261</td>\n",
       "    </tr>\n",
       "    <tr>\n",
       "      <th>2022-03-17</th>\n",
       "      <td>0.004889</td>\n",
       "    </tr>\n",
       "    <tr>\n",
       "      <th>2022-03-18</th>\n",
       "      <td>-0.008790</td>\n",
       "    </tr>\n",
       "    <tr>\n",
       "      <th>2022-03-21</th>\n",
       "      <td>0.007641</td>\n",
       "    </tr>\n",
       "    <tr>\n",
       "      <th>2022-03-22</th>\n",
       "      <td>-0.007251</td>\n",
       "    </tr>\n",
       "  </tbody>\n",
       "</table>\n",
       "<p>3581 rows × 1 columns</p>\n",
       "</div>"
      ],
      "text/plain": [
       "                 GLD\n",
       "2008-01-02       NaN\n",
       "2008-01-03  0.008367\n",
       "2008-01-04 -0.005142\n",
       "2008-01-07 -0.004229\n",
       "2008-01-08  0.023711\n",
       "...              ...\n",
       "2022-03-16  0.006261\n",
       "2022-03-17  0.004889\n",
       "2022-03-18 -0.008790\n",
       "2022-03-21  0.007641\n",
       "2022-03-22 -0.007251\n",
       "\n",
       "[3581 rows x 1 columns]"
      ]
     },
     "execution_count": 9,
     "metadata": {},
     "output_type": "execute_result"
    },
    {
     "data": {
      "image/png": "[encoded data removed]",
      "text/plain": [
       "<Figure size 432x288 with 1 Axes>"
      ]
     },
     "metadata": {},
     "output_type": "display_data"
    }
   ],
   "source": [
    "#Add BTC for fun\n",
    "RET['GLD'] = GLD_ret\n",
    "RET.add(1).cumprod().plot(logy=True)\n",
    "GLD_ret"
   ]
  },
  {
   "cell_type": "code",
   "execution_count": 10,
   "metadata": {
    "colab": {
     "base_uri": "https://localhost:8080/",
     "height": 455
    },
    "id": "NthVpMtvJLyG",
    "outputId": "a384ef90-3f4b-4312-f624-e052e288efee"
   },
   "outputs": [
    {
     "data": {
      "text/html": [
       "<div>\n",
       "<style scoped>\n",
       "    .dataframe tbody tr th:only-of-type {\n",
       "        vertical-align: middle;\n",
       "    }\n",
       "\n",
       "    .dataframe tbody tr th {\n",
       "        vertical-align: top;\n",
       "    }\n",
       "\n",
       "    .dataframe thead th {\n",
       "        text-align: right;\n",
       "    }\n",
       "</style>\n",
       "<table border=\"1\" class=\"dataframe\">\n",
       "  <thead>\n",
       "    <tr style=\"text-align: right;\">\n",
       "      <th></th>\n",
       "      <th>FedFunds</th>\n",
       "      <th>Treasury_1</th>\n",
       "      <th>Treasury_5</th>\n",
       "      <th>Treasury_10</th>\n",
       "      <th>Treasury_30</th>\n",
       "    </tr>\n",
       "    <tr>\n",
       "      <th>Date</th>\n",
       "      <th></th>\n",
       "      <th></th>\n",
       "      <th></th>\n",
       "      <th></th>\n",
       "      <th></th>\n",
       "    </tr>\n",
       "  </thead>\n",
       "  <tbody>\n",
       "    <tr>\n",
       "      <th>1954-07-01</th>\n",
       "      <td>0.0080</td>\n",
       "      <td>NaN</td>\n",
       "      <td>NaN</td>\n",
       "      <td>NaN</td>\n",
       "      <td>NaN</td>\n",
       "    </tr>\n",
       "    <tr>\n",
       "      <th>1954-08-01</th>\n",
       "      <td>0.0122</td>\n",
       "      <td>NaN</td>\n",
       "      <td>NaN</td>\n",
       "      <td>NaN</td>\n",
       "      <td>NaN</td>\n",
       "    </tr>\n",
       "    <tr>\n",
       "      <th>1954-09-01</th>\n",
       "      <td>0.0107</td>\n",
       "      <td>NaN</td>\n",
       "      <td>NaN</td>\n",
       "      <td>NaN</td>\n",
       "      <td>NaN</td>\n",
       "    </tr>\n",
       "    <tr>\n",
       "      <th>1954-10-01</th>\n",
       "      <td>0.0085</td>\n",
       "      <td>NaN</td>\n",
       "      <td>NaN</td>\n",
       "      <td>NaN</td>\n",
       "      <td>NaN</td>\n",
       "    </tr>\n",
       "    <tr>\n",
       "      <th>1954-11-01</th>\n",
       "      <td>0.0083</td>\n",
       "      <td>NaN</td>\n",
       "      <td>NaN</td>\n",
       "      <td>NaN</td>\n",
       "      <td>NaN</td>\n",
       "    </tr>\n",
       "    <tr>\n",
       "      <th>...</th>\n",
       "      <td>...</td>\n",
       "      <td>...</td>\n",
       "      <td>...</td>\n",
       "      <td>...</td>\n",
       "      <td>...</td>\n",
       "    </tr>\n",
       "    <tr>\n",
       "      <th>2022-03-07</th>\n",
       "      <td>NaN</td>\n",
       "      <td>0.0107</td>\n",
       "      <td>0.0171</td>\n",
       "      <td>0.0178</td>\n",
       "      <td>0.0219</td>\n",
       "    </tr>\n",
       "    <tr>\n",
       "      <th>2022-03-08</th>\n",
       "      <td>NaN</td>\n",
       "      <td>0.0112</td>\n",
       "      <td>0.0180</td>\n",
       "      <td>0.0186</td>\n",
       "      <td>0.0224</td>\n",
       "    </tr>\n",
       "    <tr>\n",
       "      <th>2022-03-09</th>\n",
       "      <td>NaN</td>\n",
       "      <td>0.0115</td>\n",
       "      <td>0.0187</td>\n",
       "      <td>0.0194</td>\n",
       "      <td>0.0229</td>\n",
       "    </tr>\n",
       "    <tr>\n",
       "      <th>2022-03-10</th>\n",
       "      <td>NaN</td>\n",
       "      <td>0.0119</td>\n",
       "      <td>0.0192</td>\n",
       "      <td>0.0198</td>\n",
       "      <td>0.0238</td>\n",
       "    </tr>\n",
       "    <tr>\n",
       "      <th>2022-03-11</th>\n",
       "      <td>NaN</td>\n",
       "      <td>0.0122</td>\n",
       "      <td>0.0196</td>\n",
       "      <td>0.0200</td>\n",
       "      <td>0.0236</td>\n",
       "    </tr>\n",
       "  </tbody>\n",
       "</table>\n",
       "<p>15385 rows × 5 columns</p>\n",
       "</div>"
      ],
      "text/plain": [
       "            FedFunds  Treasury_1  Treasury_5  Treasury_10  Treasury_30\n",
       "Date                                                                  \n",
       "1954-07-01    0.0080         NaN         NaN          NaN          NaN\n",
       "1954-08-01    0.0122         NaN         NaN          NaN          NaN\n",
       "1954-09-01    0.0107         NaN         NaN          NaN          NaN\n",
       "1954-10-01    0.0085         NaN         NaN          NaN          NaN\n",
       "1954-11-01    0.0083         NaN         NaN          NaN          NaN\n",
       "...              ...         ...         ...          ...          ...\n",
       "2022-03-07       NaN      0.0107      0.0171       0.0178       0.0219\n",
       "2022-03-08       NaN      0.0112      0.0180       0.0186       0.0224\n",
       "2022-03-09       NaN      0.0115      0.0187       0.0194       0.0229\n",
       "2022-03-10       NaN      0.0119      0.0192       0.0198       0.0238\n",
       "2022-03-11       NaN      0.0122      0.0196       0.0200       0.0236\n",
       "\n",
       "[15385 rows x 5 columns]"
      ]
     },
     "execution_count": 10,
     "metadata": {},
     "output_type": "execute_result"
    }
   ],
   "source": [
    "#get fed funds rate and treasury yields\n",
    "RATES = quandl.get(['FRED/FEDFUNDS','FRED/DGS1','FRED/DGS5','FRED/DGS10','FRED/DGS30']) / 100\n",
    "RATES.columns = ['FedFunds','Treasury_1', 'Treasury_5', 'Treasury_10', 'Treasury_30']\n",
    "RATES"
   ]
  },
  {
   "cell_type": "markdown",
   "metadata": {
    "id": "aYXL-2jJJ3H7"
   },
   "source": [
    "Find Margin Rate (what does this mean? lol)"
   ]
  },
  {
   "cell_type": "code",
   "execution_count": 11,
   "metadata": {
    "colab": {
     "base_uri": "https://localhost:8080/",
     "height": 423
    },
    "id": "vwqtaOVHLwKr",
    "outputId": "1db9e2a9-b78a-4081-fea7-b6f3a50627d7"
   },
   "outputs": [
    {
     "data": {
      "text/html": [
       "<div>\n",
       "<style scoped>\n",
       "    .dataframe tbody tr th:only-of-type {\n",
       "        vertical-align: middle;\n",
       "    }\n",
       "\n",
       "    .dataframe tbody tr th {\n",
       "        vertical-align: top;\n",
       "    }\n",
       "\n",
       "    .dataframe thead th {\n",
       "        text-align: right;\n",
       "    }\n",
       "</style>\n",
       "<table border=\"1\" class=\"dataframe\">\n",
       "  <thead>\n",
       "    <tr style=\"text-align: right;\">\n",
       "      <th></th>\n",
       "      <th>ACC</th>\n",
       "      <th>AGG</th>\n",
       "      <th>GLD</th>\n",
       "    </tr>\n",
       "  </thead>\n",
       "  <tbody>\n",
       "    <tr>\n",
       "      <th>2018-01-02</th>\n",
       "      <td>NaN</td>\n",
       "      <td>NaN</td>\n",
       "      <td>0.012131</td>\n",
       "    </tr>\n",
       "    <tr>\n",
       "      <th>2018-01-03</th>\n",
       "      <td>-0.016589</td>\n",
       "      <td>0.000092</td>\n",
       "      <td>-0.002637</td>\n",
       "    </tr>\n",
       "    <tr>\n",
       "      <th>2018-01-04</th>\n",
       "      <td>-0.017862</td>\n",
       "      <td>-0.000641</td>\n",
       "      <td>0.005127</td>\n",
       "    </tr>\n",
       "    <tr>\n",
       "      <th>2018-01-05</th>\n",
       "      <td>0.001263</td>\n",
       "      <td>-0.000642</td>\n",
       "      <td>-0.001036</td>\n",
       "    </tr>\n",
       "    <tr>\n",
       "      <th>2018-01-08</th>\n",
       "      <td>0.018416</td>\n",
       "      <td>-0.000275</td>\n",
       "      <td>-0.000160</td>\n",
       "    </tr>\n",
       "    <tr>\n",
       "      <th>...</th>\n",
       "      <td>...</td>\n",
       "      <td>...</td>\n",
       "      <td>...</td>\n",
       "    </tr>\n",
       "    <tr>\n",
       "      <th>2022-03-16</th>\n",
       "      <td>0.000184</td>\n",
       "      <td>0.000743</td>\n",
       "      <td>0.006261</td>\n",
       "    </tr>\n",
       "    <tr>\n",
       "      <th>2022-03-17</th>\n",
       "      <td>0.015789</td>\n",
       "      <td>0.001672</td>\n",
       "      <td>0.004889</td>\n",
       "    </tr>\n",
       "    <tr>\n",
       "      <th>2022-03-18</th>\n",
       "      <td>-0.001265</td>\n",
       "      <td>0.002225</td>\n",
       "      <td>-0.008790</td>\n",
       "    </tr>\n",
       "    <tr>\n",
       "      <th>2022-03-21</th>\n",
       "      <td>-0.001086</td>\n",
       "      <td>-0.009806</td>\n",
       "      <td>0.007641</td>\n",
       "    </tr>\n",
       "    <tr>\n",
       "      <th>2022-03-22</th>\n",
       "      <td>-0.002174</td>\n",
       "      <td>-0.002709</td>\n",
       "      <td>-0.007251</td>\n",
       "    </tr>\n",
       "  </tbody>\n",
       "</table>\n",
       "<p>1063 rows × 3 columns</p>\n",
       "</div>"
      ],
      "text/plain": [
       "                 ACC       AGG       GLD\n",
       "2018-01-02       NaN       NaN  0.012131\n",
       "2018-01-03 -0.016589  0.000092 -0.002637\n",
       "2018-01-04 -0.017862 -0.000641  0.005127\n",
       "2018-01-05  0.001263 -0.000642 -0.001036\n",
       "2018-01-08  0.018416 -0.000275 -0.000160\n",
       "...              ...       ...       ...\n",
       "2022-03-16  0.000184  0.000743  0.006261\n",
       "2022-03-17  0.015789  0.001672  0.004889\n",
       "2022-03-18 -0.001265  0.002225 -0.008790\n",
       "2022-03-21 -0.001086 -0.009806  0.007641\n",
       "2022-03-22 -0.002174 -0.002709 -0.007251\n",
       "\n",
       "[1063 rows x 3 columns]"
      ]
     },
     "execution_count": 11,
     "metadata": {},
     "output_type": "execute_result"
    }
   ],
   "source": [
    "RET"
   ]
  },
  {
   "cell_type": "markdown",
   "metadata": {
    "id": "0qswoPXMOdvj"
   },
   "source": []
  },
  {
   "cell_type": "markdown",
   "metadata": {
    "id": "q14RIWooOdzE"
   },
   "source": [
    "For some reason it wouldn't let me add margin rate and then it added like way too many margin rate columns, so I deleted them all and then re-added the margin rate column "
   ]
  },
  {
   "cell_type": "code",
   "execution_count": 12,
   "metadata": {
    "colab": {
     "base_uri": "https://localhost:8080/",
     "height": 381
    },
    "id": "nIWWlAuB7whk",
    "outputId": "598d34d3-95a9-4f8f-d74c-6d7dcbb29191"
   },
   "outputs": [
    {
     "data": {
      "text/html": [
       "<div>\n",
       "<style scoped>\n",
       "    .dataframe tbody tr th:only-of-type {\n",
       "        vertical-align: middle;\n",
       "    }\n",
       "\n",
       "    .dataframe tbody tr th {\n",
       "        vertical-align: top;\n",
       "    }\n",
       "\n",
       "    .dataframe thead th {\n",
       "        text-align: right;\n",
       "    }\n",
       "</style>\n",
       "<table border=\"1\" class=\"dataframe\">\n",
       "  <thead>\n",
       "    <tr style=\"text-align: right;\">\n",
       "      <th></th>\n",
       "      <th>ACC</th>\n",
       "      <th>AGG</th>\n",
       "      <th>GLD</th>\n",
       "      <th>MarginRate</th>\n",
       "    </tr>\n",
       "  </thead>\n",
       "  <tbody>\n",
       "    <tr>\n",
       "      <th>2018-01-03</th>\n",
       "      <td>-0.016589</td>\n",
       "      <td>0.000092</td>\n",
       "      <td>-0.002637</td>\n",
       "      <td>0.000096</td>\n",
       "    </tr>\n",
       "    <tr>\n",
       "      <th>2018-01-04</th>\n",
       "      <td>-0.017862</td>\n",
       "      <td>-0.000641</td>\n",
       "      <td>0.005127</td>\n",
       "      <td>0.000096</td>\n",
       "    </tr>\n",
       "    <tr>\n",
       "      <th>2018-01-05</th>\n",
       "      <td>0.001263</td>\n",
       "      <td>-0.000642</td>\n",
       "      <td>-0.001036</td>\n",
       "      <td>0.000096</td>\n",
       "    </tr>\n",
       "    <tr>\n",
       "      <th>2018-01-08</th>\n",
       "      <td>0.018416</td>\n",
       "      <td>-0.000275</td>\n",
       "      <td>-0.000160</td>\n",
       "      <td>0.000096</td>\n",
       "    </tr>\n",
       "    <tr>\n",
       "      <th>2018-01-09</th>\n",
       "      <td>-0.016349</td>\n",
       "      <td>-0.002752</td>\n",
       "      <td>-0.004629</td>\n",
       "      <td>0.000096</td>\n",
       "    </tr>\n",
       "    <tr>\n",
       "      <th>...</th>\n",
       "      <td>...</td>\n",
       "      <td>...</td>\n",
       "      <td>...</td>\n",
       "      <td>...</td>\n",
       "    </tr>\n",
       "    <tr>\n",
       "      <th>2022-03-16</th>\n",
       "      <td>0.000184</td>\n",
       "      <td>0.000743</td>\n",
       "      <td>0.006261</td>\n",
       "      <td>0.000043</td>\n",
       "    </tr>\n",
       "    <tr>\n",
       "      <th>2022-03-17</th>\n",
       "      <td>0.015789</td>\n",
       "      <td>0.001672</td>\n",
       "      <td>0.004889</td>\n",
       "      <td>0.000043</td>\n",
       "    </tr>\n",
       "    <tr>\n",
       "      <th>2022-03-18</th>\n",
       "      <td>-0.001265</td>\n",
       "      <td>0.002225</td>\n",
       "      <td>-0.008790</td>\n",
       "      <td>0.000043</td>\n",
       "    </tr>\n",
       "    <tr>\n",
       "      <th>2022-03-21</th>\n",
       "      <td>-0.001086</td>\n",
       "      <td>-0.009806</td>\n",
       "      <td>0.007641</td>\n",
       "      <td>0.000043</td>\n",
       "    </tr>\n",
       "    <tr>\n",
       "      <th>2022-03-22</th>\n",
       "      <td>-0.002174</td>\n",
       "      <td>-0.002709</td>\n",
       "      <td>-0.007251</td>\n",
       "      <td>0.000043</td>\n",
       "    </tr>\n",
       "  </tbody>\n",
       "</table>\n",
       "<p>1062 rows × 4 columns</p>\n",
       "</div>"
      ],
      "text/plain": [
       "                 ACC       AGG       GLD  MarginRate\n",
       "2018-01-03 -0.016589  0.000092 -0.002637    0.000096\n",
       "2018-01-04 -0.017862 -0.000641  0.005127    0.000096\n",
       "2018-01-05  0.001263 -0.000642 -0.001036    0.000096\n",
       "2018-01-08  0.018416 -0.000275 -0.000160    0.000096\n",
       "2018-01-09 -0.016349 -0.002752 -0.004629    0.000096\n",
       "...              ...       ...       ...         ...\n",
       "2022-03-16  0.000184  0.000743  0.006261    0.000043\n",
       "2022-03-17  0.015789  0.001672  0.004889    0.000043\n",
       "2022-03-18 -0.001265  0.002225 -0.008790    0.000043\n",
       "2022-03-21 -0.001086 -0.009806  0.007641    0.000043\n",
       "2022-03-22 -0.002174 -0.002709 -0.007251    0.000043\n",
       "\n",
       "[1062 rows x 4 columns]"
      ]
     },
     "execution_count": 12,
     "metadata": {},
     "output_type": "execute_result"
    }
   ],
   "source": [
    "\n",
    "RET = RET.join(RATES.FedFunds.rename('MarginRate'), how='outer')\n",
    "RET['MarginRate'] = RET.MarginRate.ffill()/252 + 0.01/252           # Assume margin rate = fed funds rate + 100 bsp\n",
    "RET = RET.dropna(subset=['ACC'])\n",
    "RET"
   ]
  },
  {
   "cell_type": "code",
   "execution_count": 13,
   "metadata": {
    "colab": {
     "base_uri": "https://localhost:8080/",
     "height": 143
    },
    "id": "B7EmIZZt8rrY",
    "outputId": "fe3ea407-9242-4aeb-ac98-0cda15d26c6d"
   },
   "outputs": [
    {
     "data": {
      "text/html": [
       "<div>\n",
       "<style scoped>\n",
       "    .dataframe tbody tr th:only-of-type {\n",
       "        vertical-align: middle;\n",
       "    }\n",
       "\n",
       "    .dataframe tbody tr th {\n",
       "        vertical-align: top;\n",
       "    }\n",
       "\n",
       "    .dataframe thead th {\n",
       "        text-align: right;\n",
       "    }\n",
       "</style>\n",
       "<table border=\"1\" class=\"dataframe\">\n",
       "  <thead>\n",
       "    <tr style=\"text-align: right;\">\n",
       "      <th></th>\n",
       "      <th>ACC</th>\n",
       "      <th>AGG</th>\n",
       "      <th>GLD</th>\n",
       "      <th>MarginRate</th>\n",
       "    </tr>\n",
       "  </thead>\n",
       "  <tbody>\n",
       "    <tr>\n",
       "      <th>ACC</th>\n",
       "      <td>1.000000</td>\n",
       "      <td>0.134420</td>\n",
       "      <td>0.101760</td>\n",
       "      <td>-0.019667</td>\n",
       "    </tr>\n",
       "    <tr>\n",
       "      <th>AGG</th>\n",
       "      <td>0.134420</td>\n",
       "      <td>1.000000</td>\n",
       "      <td>0.312019</td>\n",
       "      <td>0.053366</td>\n",
       "    </tr>\n",
       "    <tr>\n",
       "      <th>GLD</th>\n",
       "      <td>0.101760</td>\n",
       "      <td>0.312019</td>\n",
       "      <td>1.000000</td>\n",
       "      <td>0.001256</td>\n",
       "    </tr>\n",
       "    <tr>\n",
       "      <th>MarginRate</th>\n",
       "      <td>-0.019667</td>\n",
       "      <td>0.053366</td>\n",
       "      <td>0.001256</td>\n",
       "      <td>1.000000</td>\n",
       "    </tr>\n",
       "  </tbody>\n",
       "</table>\n",
       "</div>"
      ],
      "text/plain": [
       "                 ACC       AGG       GLD  MarginRate\n",
       "ACC         1.000000  0.134420  0.101760   -0.019667\n",
       "AGG         0.134420  1.000000  0.312019    0.053366\n",
       "GLD         0.101760  0.312019  1.000000    0.001256\n",
       "MarginRate -0.019667  0.053366  0.001256    1.000000"
      ]
     },
     "execution_count": 13,
     "metadata": {},
     "output_type": "execute_result"
    }
   ],
   "source": [
    "RET.corr()"
   ]
  },
  {
   "cell_type": "code",
   "execution_count": 14,
   "metadata": {
    "colab": {
     "base_uri": "https://localhost:8080/",
     "height": 299
    },
    "id": "DtYKBOZ_Op-6",
    "outputId": "8fea949a-3f3a-48cd-e4f3-7f8aea5fbb61"
   },
   "outputs": [
    {
     "data": {
      "text/plain": [
       "<AxesSubplot:>"
      ]
     },
     "execution_count": 14,
     "metadata": {},
     "output_type": "execute_result"
    },
    {
     "data": {
      "image/png": "[encoded data removed]",
      "text/plain": [
       "<Figure size 432x288 with 1 Axes>"
      ]
     },
     "metadata": {},
     "output_type": "display_data"
    }
   ],
   "source": [
    "RET[['ACC','AGG']].groupby(RET.index.year).corr().unstack().ACC.AGG.plot.bar()"
   ]
  },
  {
   "cell_type": "markdown",
   "metadata": {
    "id": "SpvCkgZ5PZAt"
   },
   "source": [
    "Let's see what the historical corelation between BTC and the market has looked like. "
   ]
  },
  {
   "cell_type": "code",
   "execution_count": 15,
   "metadata": {
    "colab": {
     "base_uri": "https://localhost:8080/",
     "height": 329
    },
    "id": "UUfIcJG9PP1q",
    "outputId": "5fa54505-e31c-43f5-fbf1-b37f3aa61173"
   },
   "outputs": [
    {
     "data": {
      "text/plain": [
       "<AxesSubplot:>"
      ]
     },
     "execution_count": 15,
     "metadata": {},
     "output_type": "execute_result"
    },
    {
     "data": {
      "image/png": "[encoded data removed]",
      "text/plain": [
       "<Figure size 432x288 with 1 Axes>"
      ]
     },
     "metadata": {},
     "output_type": "display_data"
    }
   ],
   "source": [
    "#I'm doing SPY and BTC just to see what the historical correlation has looked like\n",
    "RET[['ACC','GLD']].groupby(RET.index.year).corr().unstack().ACC.GLD.plot.bar()\n"
   ]
  },
  {
   "cell_type": "markdown",
   "metadata": {
    "id": "d7YyoPKNPi0b"
   },
   "source": [
    "It looks like BTC's returns have actually become more correlated with the market over time, which I think checks out. According to the book I read, original demand for BTC was driven by black market activity. But as time went on it became a more popular investment tool for people. And you don't invest in something risky like bitcoin unless you're doing well financially, and more people are doing well when the economy is good. \n",
    "-SC"
   ]
  },
  {
   "cell_type": "markdown",
   "metadata": {
    "id": "b2wtKsn2QMM3"
   },
   "source": [
    "Next we find the annual returns:"
   ]
  },
  {
   "cell_type": "code",
   "execution_count": 16,
   "metadata": {
    "colab": {
     "base_uri": "https://localhost:8080/",
     "height": 394
    },
    "id": "fpZOK6raPgXD",
    "outputId": "ebfbd72b-2843-4dc3-cbed-db601ec3a8ae"
   },
   "outputs": [
    {
     "data": {
      "text/html": [
       "<div>\n",
       "<style scoped>\n",
       "    .dataframe tbody tr th:only-of-type {\n",
       "        vertical-align: middle;\n",
       "    }\n",
       "\n",
       "    .dataframe tbody tr th {\n",
       "        vertical-align: top;\n",
       "    }\n",
       "\n",
       "    .dataframe thead th {\n",
       "        text-align: right;\n",
       "    }\n",
       "</style>\n",
       "<table border=\"1\" class=\"dataframe\">\n",
       "  <thead>\n",
       "    <tr style=\"text-align: right;\">\n",
       "      <th></th>\n",
       "      <th>ACC</th>\n",
       "      <th>AGG</th>\n",
       "      <th>GLD</th>\n",
       "      <th>MarginRate</th>\n",
       "    </tr>\n",
       "  </thead>\n",
       "  <tbody>\n",
       "    <tr>\n",
       "      <th>2018-12-31</th>\n",
       "      <td>0.056895</td>\n",
       "      <td>0.002425</td>\n",
       "      <td>-0.031163</td>\n",
       "      <td>0.028524</td>\n",
       "    </tr>\n",
       "    <tr>\n",
       "      <th>2019-12-31</th>\n",
       "      <td>0.182683</td>\n",
       "      <td>0.084556</td>\n",
       "      <td>0.178557</td>\n",
       "      <td>0.032078</td>\n",
       "    </tr>\n",
       "    <tr>\n",
       "      <th>2020-12-31</th>\n",
       "      <td>-0.043823</td>\n",
       "      <td>0.074771</td>\n",
       "      <td>0.248146</td>\n",
       "      <td>0.013801</td>\n",
       "    </tr>\n",
       "    <tr>\n",
       "      <th>2021-12-31</th>\n",
       "      <td>0.394268</td>\n",
       "      <td>-0.017697</td>\n",
       "      <td>-0.041489</td>\n",
       "      <td>0.010858</td>\n",
       "    </tr>\n",
       "  </tbody>\n",
       "</table>\n",
       "</div>"
      ],
      "text/plain": [
       "                 ACC       AGG       GLD  MarginRate\n",
       "2018-12-31  0.056895  0.002425 -0.031163    0.028524\n",
       "2019-12-31  0.182683  0.084556  0.178557    0.032078\n",
       "2020-12-31 -0.043823  0.074771  0.248146    0.013801\n",
       "2021-12-31  0.394268 -0.017697 -0.041489    0.010858"
      ]
     },
     "execution_count": 16,
     "metadata": {},
     "output_type": "execute_result"
    }
   ],
   "source": [
    "r_annual = RET[:'2021'].add(1).resample('A').prod().sub(1)\n",
    "r_annual"
   ]
  },
  {
   "cell_type": "markdown",
   "metadata": {
    "id": "GilgyqrlQdZn"
   },
   "source": [
    "Calculating annual excess return (not really sure how this should be done for BTC yet but for now I'll just do it the normal way)"
   ]
  },
  {
   "cell_type": "code",
   "execution_count": 17,
   "metadata": {
    "colab": {
     "base_uri": "https://localhost:8080/"
    },
    "id": "PKskf_ejQOkY",
    "outputId": "88ce641d-6660-4a39-acca-1f25b2945140"
   },
   "outputs": [
    {
     "data": {
      "text/plain": [
       "Date\n",
       "1954-12-31       NaN\n",
       "1955-12-31       NaN\n",
       "1956-12-31       NaN\n",
       "1957-12-31       NaN\n",
       "1958-12-31       NaN\n",
       "               ...  \n",
       "2018-12-31    0.0183\n",
       "2019-12-31    0.0260\n",
       "2020-12-31    0.0156\n",
       "2021-12-31    0.0010\n",
       "2022-12-31    0.0040\n",
       "Freq: A-DEC, Name: Treasury_1, Length: 69, dtype: float64"
      ]
     },
     "execution_count": 17,
     "metadata": {},
     "output_type": "execute_result"
    }
   ],
   "source": [
    "r_annual_Tbill = RATES.Treasury_1.resample('A').first()  # Yield at the beginning of each year\n",
    "r_annual_Tbill\n",
    "\n"
   ]
  },
  {
   "cell_type": "code",
   "execution_count": 18,
   "metadata": {
    "colab": {
     "base_uri": "https://localhost:8080/",
     "height": 394
    },
    "id": "X9eu0yOWQwL2",
    "outputId": "bbf14dea-e0a2-4933-ba5b-4f76c1c52cad"
   },
   "outputs": [
    {
     "data": {
      "text/html": [
       "<div>\n",
       "<style scoped>\n",
       "    .dataframe tbody tr th:only-of-type {\n",
       "        vertical-align: middle;\n",
       "    }\n",
       "\n",
       "    .dataframe tbody tr th {\n",
       "        vertical-align: top;\n",
       "    }\n",
       "\n",
       "    .dataframe thead th {\n",
       "        text-align: right;\n",
       "    }\n",
       "</style>\n",
       "<table border=\"1\" class=\"dataframe\">\n",
       "  <thead>\n",
       "    <tr style=\"text-align: right;\">\n",
       "      <th></th>\n",
       "      <th>ACC</th>\n",
       "      <th>AGG</th>\n",
       "      <th>GLD</th>\n",
       "      <th>MarginRate</th>\n",
       "    </tr>\n",
       "  </thead>\n",
       "  <tbody>\n",
       "    <tr>\n",
       "      <th>2018-12-31</th>\n",
       "      <td>0.038595</td>\n",
       "      <td>-0.015875</td>\n",
       "      <td>-0.049463</td>\n",
       "      <td>0.010224</td>\n",
       "    </tr>\n",
       "    <tr>\n",
       "      <th>2019-12-31</th>\n",
       "      <td>0.156683</td>\n",
       "      <td>0.058556</td>\n",
       "      <td>0.152557</td>\n",
       "      <td>0.006078</td>\n",
       "    </tr>\n",
       "    <tr>\n",
       "      <th>2020-12-31</th>\n",
       "      <td>-0.059423</td>\n",
       "      <td>0.059171</td>\n",
       "      <td>0.232546</td>\n",
       "      <td>-0.001799</td>\n",
       "    </tr>\n",
       "    <tr>\n",
       "      <th>2021-12-31</th>\n",
       "      <td>0.393268</td>\n",
       "      <td>-0.018697</td>\n",
       "      <td>-0.042489</td>\n",
       "      <td>0.009858</td>\n",
       "    </tr>\n",
       "  </tbody>\n",
       "</table>\n",
       "</div>"
      ],
      "text/plain": [
       "                 ACC       AGG       GLD  MarginRate\n",
       "2018-12-31  0.038595 -0.015875 -0.049463    0.010224\n",
       "2019-12-31  0.156683  0.058556  0.152557    0.006078\n",
       "2020-12-31 -0.059423  0.059171  0.232546   -0.001799\n",
       "2021-12-31  0.393268 -0.018697 -0.042489    0.009858"
      ]
     },
     "execution_count": 18,
     "metadata": {},
     "output_type": "execute_result"
    }
   ],
   "source": [
    "rx_annual = r_annual.sub(r_annual_Tbill, 'rows').dropna() # Subtract a series from a table with table.sub(series, 'rows')\n",
    "rx_annual"
   ]
  },
  {
   "cell_type": "markdown",
   "metadata": {
    "id": "37bKUU-UQ9NE"
   },
   "source": [
    "# Finding the optimal portfolio of SPY and IEF"
   ]
  },
  {
   "cell_type": "markdown",
   "metadata": {
    "id": "1cuKsuwfRRAF"
   },
   "source": [
    "First Find their risk premiums:"
   ]
  },
  {
   "cell_type": "code",
   "execution_count": 19,
   "metadata": {
    "colab": {
     "base_uri": "https://localhost:8080/"
    },
    "id": "uVOsZXC0Qzpb",
    "outputId": "6fdeefa8-73cb-4f1f-c27a-47906b5ffd74"
   },
   "outputs": [
    {
     "data": {
      "text/plain": [
       "ACC    0.132281\n",
       "AGG    0.020789\n",
       "dtype: float64"
      ]
     },
     "execution_count": 19,
     "metadata": {},
     "output_type": "execute_result"
    }
   ],
   "source": [
    "meanx = rx_annual[['ACC','AGG']].mean()\n",
    "meanx"
   ]
  },
  {
   "cell_type": "markdown",
   "metadata": {
    "id": "Q0G7VCG7RcjN"
   },
   "source": [
    "Example Weights:\n"
   ]
  },
  {
   "cell_type": "code",
   "execution_count": 20,
   "metadata": {
    "colab": {
     "base_uri": "https://localhost:8080/"
    },
    "id": "AI0tmyVRRWYw",
    "outputId": "79129691-0598-47c0-cb70-45162bf9dbbc"
   },
   "outputs": [
    {
     "data": {
      "text/plain": [
       "ACC    0.6\n",
       "AGG    0.4\n",
       "dtype: float64"
      ]
     },
     "execution_count": 20,
     "metadata": {},
     "output_type": "execute_result"
    }
   ],
   "source": [
    "w = pd.Series({'ACC':0.6, 'AGG':0.4})\n",
    "w"
   ]
  },
  {
   "cell_type": "markdown",
   "metadata": {
    "id": "cCATCQBIR6zW"
   },
   "source": [
    "Calculate portfolio risk premium:\n",
    "\n",
    "$$\n",
    "\\text{portfolio risk premium}\n",
    "\\hspace{1em}=\\hspace{1em}\n",
    "\\mathbf{w}\\cdot E[\\mathbf{r}^x]\n",
    "\\hspace{1em}=\\hspace{1em}\n",
    "\\underbrace{\\begin{bmatrix}0.7&0.3\\end{bmatrix} \\times \\begin{bmatrix}0.100888\\\\0.064561\\end{bmatrix}}_\\text{\"dot product\"}\n",
    "\\hspace{1em}=\\hspace{1em}\n",
    "\\underbrace{0.7 \\times 0.100888 + 0.3 \\times 0.064561}_\\text{weighted average}\n",
    "$$"
   ]
  },
  {
   "cell_type": "code",
   "execution_count": 21,
   "metadata": {
    "colab": {
     "base_uri": "https://localhost:8080/"
    },
    "id": "Yi9z_8PyRjjH",
    "outputId": "abb159fc-0284-4ce3-f457-bc81941dcafd"
   },
   "outputs": [
    {
     "data": {
      "text/plain": [
       "0.08768391535539022"
      ]
     },
     "execution_count": 21,
     "metadata": {},
     "output_type": "execute_result"
    }
   ],
   "source": [
    "(w * meanx).sum()        # weighted average of individual risk premiums"
   ]
  },
  {
   "cell_type": "markdown",
   "metadata": {
    "id": "YjeUfeD_SHg9"
   },
   "source": [
    "The portfolio variance is the dot product between the portfolio weights and the covariance matrix:\n",
    "\n",
    "$$\n",
    "\\text{portfolio variance } =  \\text{weights }\\times\\text{ covariance matrix }\\times\\text{ weights}\n",
    "$$\n",
    "\n",
    "Implement this:"
   ]
  },
  {
   "cell_type": "code",
   "execution_count": 22,
   "metadata": {
    "colab": {
     "base_uri": "https://localhost:8080/",
     "height": 112
    },
    "id": "8gFSGlXAR7Oc",
    "outputId": "e0e8746f-64e2-4c98-e02b-a068f039f55d"
   },
   "outputs": [
    {
     "data": {
      "text/html": [
       "<div>\n",
       "<style scoped>\n",
       "    .dataframe tbody tr th:only-of-type {\n",
       "        vertical-align: middle;\n",
       "    }\n",
       "\n",
       "    .dataframe tbody tr th {\n",
       "        vertical-align: top;\n",
       "    }\n",
       "\n",
       "    .dataframe thead th {\n",
       "        text-align: right;\n",
       "    }\n",
       "</style>\n",
       "<table border=\"1\" class=\"dataframe\">\n",
       "  <thead>\n",
       "    <tr style=\"text-align: right;\">\n",
       "      <th></th>\n",
       "      <th>ACC</th>\n",
       "      <th>AGG</th>\n",
       "    </tr>\n",
       "  </thead>\n",
       "  <tbody>\n",
       "    <tr>\n",
       "      <th>ACC</th>\n",
       "      <td>0.128068</td>\n",
       "      <td>0.002461</td>\n",
       "    </tr>\n",
       "    <tr>\n",
       "      <th>AGG</th>\n",
       "      <td>0.002461</td>\n",
       "      <td>0.002617</td>\n",
       "    </tr>\n",
       "  </tbody>\n",
       "</table>\n",
       "</div>"
      ],
      "text/plain": [
       "          ACC       AGG\n",
       "ACC  0.128068  0.002461\n",
       "AGG  0.002461  0.002617"
      ]
     },
     "execution_count": 22,
     "metadata": {},
     "output_type": "execute_result"
    }
   ],
   "source": [
    "# Covariance matrix:\n",
    "cov = RET[['ACC','AGG']].cov() * 252      # multiply by 252 to annualize the covariance\n",
    "cov"
   ]
  },
  {
   "cell_type": "code",
   "execution_count": 23,
   "metadata": {
    "colab": {
     "base_uri": "https://localhost:8080/"
    },
    "id": "Skb5_tvbSDUv",
    "outputId": "45bd3af2-d7c6-4705-c80b-eb25c89bce1a"
   },
   "outputs": [
    {
     "data": {
      "text/plain": [
       "0.21841365704685353"
      ]
     },
     "execution_count": 23,
     "metadata": {},
     "output_type": "execute_result"
    }
   ],
   "source": [
    "w.dot(cov).dot(w)**0.5"
   ]
  },
  {
   "cell_type": "code",
   "execution_count": 24,
   "metadata": {
    "colab": {
     "base_uri": "https://localhost:8080/",
     "height": 394
    },
    "id": "TJE1h7HISbwM",
    "outputId": "4fe4f453-d187-4129-e1e4-e58a7f7ff755"
   },
   "outputs": [
    {
     "data": {
      "text/html": [
       "<div>\n",
       "<style scoped>\n",
       "    .dataframe tbody tr th:only-of-type {\n",
       "        vertical-align: middle;\n",
       "    }\n",
       "\n",
       "    .dataframe tbody tr th {\n",
       "        vertical-align: top;\n",
       "    }\n",
       "\n",
       "    .dataframe thead th {\n",
       "        text-align: right;\n",
       "    }\n",
       "</style>\n",
       "<table border=\"1\" class=\"dataframe\">\n",
       "  <thead>\n",
       "    <tr style=\"text-align: right;\">\n",
       "      <th></th>\n",
       "      <th>ACC</th>\n",
       "      <th>AGG</th>\n",
       "      <th>Risk_premium</th>\n",
       "      <th>Volatility</th>\n",
       "      <th>Sharpe</th>\n",
       "    </tr>\n",
       "  </thead>\n",
       "  <tbody>\n",
       "    <tr>\n",
       "      <th>0</th>\n",
       "      <td>0.0</td>\n",
       "      <td>1.0</td>\n",
       "      <td>0.020789</td>\n",
       "      <td>0.051157</td>\n",
       "      <td>0.406378</td>\n",
       "    </tr>\n",
       "    <tr>\n",
       "      <th>1</th>\n",
       "      <td>0.1</td>\n",
       "      <td>0.9</td>\n",
       "      <td>0.031938</td>\n",
       "      <td>0.061995</td>\n",
       "      <td>0.515170</td>\n",
       "    </tr>\n",
       "    <tr>\n",
       "      <th>2</th>\n",
       "      <td>0.2</td>\n",
       "      <td>0.8</td>\n",
       "      <td>0.043087</td>\n",
       "      <td>0.087092</td>\n",
       "      <td>0.494730</td>\n",
       "    </tr>\n",
       "    <tr>\n",
       "      <th>3</th>\n",
       "      <td>0.3</td>\n",
       "      <td>0.7</td>\n",
       "      <td>0.054236</td>\n",
       "      <td>0.117652</td>\n",
       "      <td>0.460989</td>\n",
       "    </tr>\n",
       "    <tr>\n",
       "      <th>4</th>\n",
       "      <td>0.4</td>\n",
       "      <td>0.6</td>\n",
       "      <td>0.065386</td>\n",
       "      <td>0.150380</td>\n",
       "      <td>0.434801</td>\n",
       "    </tr>\n",
       "    <tr>\n",
       "      <th>5</th>\n",
       "      <td>0.5</td>\n",
       "      <td>0.5</td>\n",
       "      <td>0.076535</td>\n",
       "      <td>0.184124</td>\n",
       "      <td>0.415669</td>\n",
       "    </tr>\n",
       "    <tr>\n",
       "      <th>6</th>\n",
       "      <td>0.6</td>\n",
       "      <td>0.4</td>\n",
       "      <td>0.087684</td>\n",
       "      <td>0.218414</td>\n",
       "      <td>0.401458</td>\n",
       "    </tr>\n",
       "    <tr>\n",
       "      <th>7</th>\n",
       "      <td>0.7</td>\n",
       "      <td>0.3</td>\n",
       "      <td>0.098833</td>\n",
       "      <td>0.253027</td>\n",
       "      <td>0.390603</td>\n",
       "    </tr>\n",
       "    <tr>\n",
       "      <th>8</th>\n",
       "      <td>0.8</td>\n",
       "      <td>0.2</td>\n",
       "      <td>0.109982</td>\n",
       "      <td>0.287847</td>\n",
       "      <td>0.382086</td>\n",
       "    </tr>\n",
       "    <tr>\n",
       "      <th>9</th>\n",
       "      <td>0.9</td>\n",
       "      <td>0.1</td>\n",
       "      <td>0.121131</td>\n",
       "      <td>0.322807</td>\n",
       "      <td>0.375244</td>\n",
       "    </tr>\n",
       "    <tr>\n",
       "      <th>10</th>\n",
       "      <td>1.0</td>\n",
       "      <td>0.0</td>\n",
       "      <td>0.132281</td>\n",
       "      <td>0.357866</td>\n",
       "      <td>0.369637</td>\n",
       "    </tr>\n",
       "  </tbody>\n",
       "</table>\n",
       "</div>"
      ],
      "text/plain": [
       "    ACC  AGG  Risk_premium  Volatility    Sharpe\n",
       "0   0.0  1.0      0.020789    0.051157  0.406378\n",
       "1   0.1  0.9      0.031938    0.061995  0.515170\n",
       "2   0.2  0.8      0.043087    0.087092  0.494730\n",
       "3   0.3  0.7      0.054236    0.117652  0.460989\n",
       "4   0.4  0.6      0.065386    0.150380  0.434801\n",
       "5   0.5  0.5      0.076535    0.184124  0.415669\n",
       "6   0.6  0.4      0.087684    0.218414  0.401458\n",
       "7   0.7  0.3      0.098833    0.253027  0.390603\n",
       "8   0.8  0.2      0.109982    0.287847  0.382086\n",
       "9   0.9  0.1      0.121131    0.322807  0.375244\n",
       "10  1.0  0.0      0.132281    0.357866  0.369637"
      ]
     },
     "execution_count": 24,
     "metadata": {},
     "output_type": "execute_result"
    }
   ],
   "source": [
    "t = pd.DataFrame(index=range(11))\n",
    "\n",
    "for i in t.index:\n",
    "    w                       = pd.Series({'ACC':i/10, 'AGG':1-i/10})\n",
    "    t.loc[i,'ACC']          = w.ACC\n",
    "    t.loc[i,'AGG']          = w.AGG\n",
    "    t.loc[i,'Risk_premium'] = w.dot(meanx)\n",
    "    t.loc[i,'Volatility']   = w.dot(cov).dot(w) ** 0.5\n",
    "\n",
    "t['Sharpe'] = t.Risk_premium / t.Volatility        \n",
    "t"
   ]
  },
  {
   "cell_type": "code",
   "execution_count": 25,
   "metadata": {
    "colab": {
     "base_uri": "https://localhost:8080/",
     "height": 299
    },
    "id": "or7rFqNvShXZ",
    "outputId": "aa27da4e-64fc-4a99-852a-c32b8ce036c9"
   },
   "outputs": [
    {
     "data": {
      "text/plain": [
       "<AxesSubplot:xlabel='Volatility', ylabel='Risk_premium'>"
      ]
     },
     "execution_count": 25,
     "metadata": {},
     "output_type": "execute_result"
    },
    {
     "data": {
      "image/png": "[encoded data removed]",
      "text/plain": [
       "<Figure size 432x288 with 1 Axes>"
      ]
     },
     "metadata": {},
     "output_type": "display_data"
    }
   ],
   "source": [
    "t.plot.scatter('Volatility','Risk_premium')"
   ]
  },
  {
   "cell_type": "code",
   "execution_count": 26,
   "metadata": {
    "colab": {
     "base_uri": "https://localhost:8080/",
     "height": 303
    },
    "id": "JeBdfxIISwkK",
    "outputId": "48da38e5-6c4f-49a3-e8ae-23d33f112323"
   },
   "outputs": [
    {
     "data": {
      "text/plain": [
       "<AxesSubplot:xlabel='Volatility', ylabel='Risk_premium'>"
      ]
     },
     "execution_count": 26,
     "metadata": {},
     "output_type": "execute_result"
    },
    {
     "data": {
      "image/png": "[encoded data removed]",
      "text/plain": [
       "<Figure size 432x288 with 1 Axes>"
      ]
     },
     "metadata": {},
     "output_type": "display_data"
    }
   ],
   "source": [
    "t.plot.scatter('Volatility','Risk_premium', ylim=(0,0.1), xlim=(0,0.2))"
   ]
  },
  {
   "cell_type": "markdown",
   "metadata": {
    "id": "7XO-scQ0SpCw"
   },
   "source": [
    "Maximum Sharpe ratio weights:\n",
    "\n",
    "$$\n",
    "\\mathbf{w} = \\frac{\\mathbf{\\Sigma}^{-1}E[\\mathbf{r}^x]}{\\text{Sum}\\big(\\mathbf{\\Sigma}^{-1}E[\\mathbf{r}^x]\\big)}\n",
    "$$\n",
    "\n",
    "($\\Sigma=$ covariance matrix).    \n",
    "\n",
    "Calculate the inverse of the covariance matrix:\n",
    "\n"
   ]
  },
  {
   "cell_type": "code",
   "execution_count": 27,
   "metadata": {
    "colab": {
     "base_uri": "https://localhost:8080/",
     "height": 112
    },
    "id": "jWwuBUKjS2Pw",
    "outputId": "c43d0798-a6f8-43aa-a8e1-32c3809ef549"
   },
   "outputs": [
    {
     "data": {
      "text/html": [
       "<div>\n",
       "<style scoped>\n",
       "    .dataframe tbody tr th:only-of-type {\n",
       "        vertical-align: middle;\n",
       "    }\n",
       "\n",
       "    .dataframe tbody tr th {\n",
       "        vertical-align: top;\n",
       "    }\n",
       "\n",
       "    .dataframe thead th {\n",
       "        text-align: right;\n",
       "    }\n",
       "</style>\n",
       "<table border=\"1\" class=\"dataframe\">\n",
       "  <thead>\n",
       "    <tr style=\"text-align: right;\">\n",
       "      <th></th>\n",
       "      <th>ACC</th>\n",
       "      <th>AGG</th>\n",
       "    </tr>\n",
       "  </thead>\n",
       "  <tbody>\n",
       "    <tr>\n",
       "      <th>ACC</th>\n",
       "      <td>7.952016</td>\n",
       "      <td>-7.477570</td>\n",
       "    </tr>\n",
       "    <tr>\n",
       "      <th>AGG</th>\n",
       "      <td>-7.477570</td>\n",
       "      <td>389.148064</td>\n",
       "    </tr>\n",
       "  </tbody>\n",
       "</table>\n",
       "</div>"
      ],
      "text/plain": [
       "          ACC         AGG\n",
       "ACC  7.952016   -7.477570\n",
       "AGG -7.477570  389.148064"
      ]
     },
     "execution_count": 27,
     "metadata": {},
     "output_type": "execute_result"
    }
   ],
   "source": [
    "cov_inv = pd.DataFrame(np.linalg.inv(cov), columns=cov.columns, index=cov.index)\n",
    "cov_inv\n"
   ]
  },
  {
   "cell_type": "code",
   "execution_count": 28,
   "metadata": {
    "colab": {
     "base_uri": "https://localhost:8080/"
    },
    "id": "eslUYC-eS4hr",
    "outputId": "64b8b717-a9af-4e0c-fdc8-6a7696225aba"
   },
   "outputs": [
    {
     "data": {
      "text/plain": [
       "ACC    0.112094\n",
       "AGG    0.887906\n",
       "dtype: float64"
      ]
     },
     "execution_count": 28,
     "metadata": {},
     "output_type": "execute_result"
    }
   ],
   "source": [
    "w_maxSharpe = cov_inv.dot(meanx) /  cov_inv.dot(meanx).sum()\n",
    "w_maxSharpe"
   ]
  },
  {
   "cell_type": "markdown",
   "metadata": {
    "id": "r2GKYobRTXq_"
   },
   "source": [
    "Minimum volatility portfolio weights:\n",
    "\n",
    "$$\n",
    "\\mathbf{w_{minvol}}\n",
    "= \\frac{\\mathbf{\\Sigma}^{-1}\\mathbf{1}}{\\text{Sum}\\big(\\mathbf{\\Sigma}^{-1}\\mathbf{1}\\big)}\n",
    "$$\n",
    "\n",
    "where $\\mathbf{1}$ is a vector of ones and $\\mathbf{\\Sigma}^{-1}\\mathbf{1}$ is row or column sum of the inverse covariance matrix.\n",
    "\n",
    "Implement this:"
   ]
  },
  {
   "cell_type": "code",
   "execution_count": 29,
   "metadata": {
    "colab": {
     "base_uri": "https://localhost:8080/"
    },
    "id": "yXYCTZq1TTwJ",
    "outputId": "a491eeb6-07f2-4763-ffe4-f0aee011cdc3"
   },
   "outputs": [
    {
     "data": {
      "text/plain": [
       "ACC    0.001242\n",
       "AGG    0.998758\n",
       "dtype: float64"
      ]
     },
     "execution_count": 29,
     "metadata": {},
     "output_type": "execute_result"
    }
   ],
   "source": [
    "w_minVol = cov_inv.sum() / cov_inv.sum().sum()\n",
    "w_minVol"
   ]
  },
  {
   "cell_type": "code",
   "execution_count": 30,
   "metadata": {
    "colab": {
     "base_uri": "https://localhost:8080/",
     "height": 273
    },
    "id": "1rbwjoE-TbBy",
    "outputId": "d75ca97c-c232-476e-868c-2340f15cf34c"
   },
   "outputs": [
    {
     "data": {
      "text/plain": [
       "<AxesSubplot:>"
      ]
     },
     "execution_count": 30,
     "metadata": {},
     "output_type": "execute_result"
    },
    {
     "data": {
      "image/png": "[encoded data removed]",
      "text/plain": [
       "<Figure size 432x288 with 1 Axes>"
      ]
     },
     "metadata": {},
     "output_type": "display_data"
    }
   ],
   "source": [
    "t = pd.DataFrame()\n",
    "t['ACC']        = RET.ACC\n",
    "t['AGG']        = RET.AGG\n",
    "t['Max_Sharpe'] = RET.multiply(w_maxSharpe).sum('columns')\n",
    "t['Min_Vol']    = RET.multiply(w_minVol).sum('columns')\n",
    "\n",
    "t.add(1).cumprod().plot(logy=True)"
   ]
  },
  {
   "cell_type": "code",
   "execution_count": 31,
   "metadata": {
    "colab": {
     "base_uri": "https://localhost:8080/",
     "height": 423
    },
    "id": "VM-pLda4Te0B",
    "outputId": "8fbea7b3-79cd-4460-af7a-a2c15799b316"
   },
   "outputs": [
    {
     "data": {
      "text/html": [
       "<div>\n",
       "<style scoped>\n",
       "    .dataframe tbody tr th:only-of-type {\n",
       "        vertical-align: middle;\n",
       "    }\n",
       "\n",
       "    .dataframe tbody tr th {\n",
       "        vertical-align: top;\n",
       "    }\n",
       "\n",
       "    .dataframe thead th {\n",
       "        text-align: right;\n",
       "    }\n",
       "</style>\n",
       "<table border=\"1\" class=\"dataframe\">\n",
       "  <thead>\n",
       "    <tr style=\"text-align: right;\">\n",
       "      <th></th>\n",
       "      <th>ACC</th>\n",
       "      <th>AGG</th>\n",
       "      <th>Max_Sharpe</th>\n",
       "      <th>Min_Vol</th>\n",
       "    </tr>\n",
       "  </thead>\n",
       "  <tbody>\n",
       "    <tr>\n",
       "      <th>2018-01-03</th>\n",
       "      <td>-0.016589</td>\n",
       "      <td>0.000092</td>\n",
       "      <td>-0.001778</td>\n",
       "      <td>0.000071</td>\n",
       "    </tr>\n",
       "    <tr>\n",
       "      <th>2018-01-04</th>\n",
       "      <td>-0.017862</td>\n",
       "      <td>-0.000641</td>\n",
       "      <td>-0.002571</td>\n",
       "      <td>-0.000663</td>\n",
       "    </tr>\n",
       "    <tr>\n",
       "      <th>2018-01-05</th>\n",
       "      <td>0.001263</td>\n",
       "      <td>-0.000642</td>\n",
       "      <td>-0.000428</td>\n",
       "      <td>-0.000639</td>\n",
       "    </tr>\n",
       "    <tr>\n",
       "      <th>2018-01-08</th>\n",
       "      <td>0.018416</td>\n",
       "      <td>-0.000275</td>\n",
       "      <td>0.001820</td>\n",
       "      <td>-0.000252</td>\n",
       "    </tr>\n",
       "    <tr>\n",
       "      <th>2018-01-09</th>\n",
       "      <td>-0.016349</td>\n",
       "      <td>-0.002752</td>\n",
       "      <td>-0.004276</td>\n",
       "      <td>-0.002769</td>\n",
       "    </tr>\n",
       "    <tr>\n",
       "      <th>...</th>\n",
       "      <td>...</td>\n",
       "      <td>...</td>\n",
       "      <td>...</td>\n",
       "      <td>...</td>\n",
       "    </tr>\n",
       "    <tr>\n",
       "      <th>2022-03-16</th>\n",
       "      <td>0.000184</td>\n",
       "      <td>0.000743</td>\n",
       "      <td>0.000681</td>\n",
       "      <td>0.000743</td>\n",
       "    </tr>\n",
       "    <tr>\n",
       "      <th>2022-03-17</th>\n",
       "      <td>0.015789</td>\n",
       "      <td>0.001672</td>\n",
       "      <td>0.003254</td>\n",
       "      <td>0.001689</td>\n",
       "    </tr>\n",
       "    <tr>\n",
       "      <th>2022-03-18</th>\n",
       "      <td>-0.001265</td>\n",
       "      <td>0.002225</td>\n",
       "      <td>0.001834</td>\n",
       "      <td>0.002221</td>\n",
       "    </tr>\n",
       "    <tr>\n",
       "      <th>2022-03-21</th>\n",
       "      <td>-0.001086</td>\n",
       "      <td>-0.009806</td>\n",
       "      <td>-0.008828</td>\n",
       "      <td>-0.009795</td>\n",
       "    </tr>\n",
       "    <tr>\n",
       "      <th>2022-03-22</th>\n",
       "      <td>-0.002174</td>\n",
       "      <td>-0.002709</td>\n",
       "      <td>-0.002649</td>\n",
       "      <td>-0.002709</td>\n",
       "    </tr>\n",
       "  </tbody>\n",
       "</table>\n",
       "<p>1062 rows × 4 columns</p>\n",
       "</div>"
      ],
      "text/plain": [
       "                 ACC       AGG  Max_Sharpe   Min_Vol\n",
       "2018-01-03 -0.016589  0.000092   -0.001778  0.000071\n",
       "2018-01-04 -0.017862 -0.000641   -0.002571 -0.000663\n",
       "2018-01-05  0.001263 -0.000642   -0.000428 -0.000639\n",
       "2018-01-08  0.018416 -0.000275    0.001820 -0.000252\n",
       "2018-01-09 -0.016349 -0.002752   -0.004276 -0.002769\n",
       "...              ...       ...         ...       ...\n",
       "2022-03-16  0.000184  0.000743    0.000681  0.000743\n",
       "2022-03-17  0.015789  0.001672    0.003254  0.001689\n",
       "2022-03-18 -0.001265  0.002225    0.001834  0.002221\n",
       "2022-03-21 -0.001086 -0.009806   -0.008828 -0.009795\n",
       "2022-03-22 -0.002174 -0.002709   -0.002649 -0.002709\n",
       "\n",
       "[1062 rows x 4 columns]"
      ]
     },
     "execution_count": 31,
     "metadata": {},
     "output_type": "execute_result"
    }
   ],
   "source": [
    "t"
   ]
  },
  {
   "cell_type": "markdown",
   "metadata": {
    "id": "VBNjeReSTo0Z"
   },
   "source": [
    "# Adding Gold to the portfolio\n",
    "I think that the best way to do this is to treat the portfolio with crypto as if it only has two elements: \n",
    "1. The portfolio we just made with SPY and IEF\n",
    "2. Crypto\n",
    "\n",
    "In other words, we just treat the base portfolio as if it is one security, and as if we are investing in that security and a varying amount of crypto. I think we did something like this in valuation or last year's investment class, where we started with a base portfolio and invested in that portfolio and varying weights of bonds. Doing it this way will make it easier to find the optimized weights with crypto involved. "
   ]
  },
  {
   "cell_type": "markdown",
   "metadata": {
    "id": "dSKzr1AvUcqF"
   },
   "source": [
    "## Starting with the Max Sharpe Portfolio\n",
    "Find the risk premium of the portfolio:"
   ]
  },
  {
   "cell_type": "code",
   "execution_count": 32,
   "metadata": {
    "colab": {
     "base_uri": "https://localhost:8080/",
     "height": 423
    },
    "id": "n_DcnbNJTjrH",
    "outputId": "00a3546f-57ca-45d6-dfe6-ac64eb1ae9b5"
   },
   "outputs": [
    {
     "data": {
      "text/html": [
       "<div>\n",
       "<style scoped>\n",
       "    .dataframe tbody tr th:only-of-type {\n",
       "        vertical-align: middle;\n",
       "    }\n",
       "\n",
       "    .dataframe tbody tr th {\n",
       "        vertical-align: top;\n",
       "    }\n",
       "\n",
       "    .dataframe thead th {\n",
       "        text-align: right;\n",
       "    }\n",
       "</style>\n",
       "<table border=\"1\" class=\"dataframe\">\n",
       "  <thead>\n",
       "    <tr style=\"text-align: right;\">\n",
       "      <th></th>\n",
       "      <th>ACC</th>\n",
       "      <th>AGG</th>\n",
       "      <th>Max_Sharpe</th>\n",
       "      <th>Min_Vol</th>\n",
       "      <th>GLD</th>\n",
       "    </tr>\n",
       "  </thead>\n",
       "  <tbody>\n",
       "    <tr>\n",
       "      <th>2018-01-03</th>\n",
       "      <td>-0.016589</td>\n",
       "      <td>0.000092</td>\n",
       "      <td>-0.001778</td>\n",
       "      <td>0.000071</td>\n",
       "      <td>-0.002637</td>\n",
       "    </tr>\n",
       "    <tr>\n",
       "      <th>2018-01-04</th>\n",
       "      <td>-0.017862</td>\n",
       "      <td>-0.000641</td>\n",
       "      <td>-0.002571</td>\n",
       "      <td>-0.000663</td>\n",
       "      <td>0.005127</td>\n",
       "    </tr>\n",
       "    <tr>\n",
       "      <th>2018-01-05</th>\n",
       "      <td>0.001263</td>\n",
       "      <td>-0.000642</td>\n",
       "      <td>-0.000428</td>\n",
       "      <td>-0.000639</td>\n",
       "      <td>-0.001036</td>\n",
       "    </tr>\n",
       "    <tr>\n",
       "      <th>2018-01-08</th>\n",
       "      <td>0.018416</td>\n",
       "      <td>-0.000275</td>\n",
       "      <td>0.001820</td>\n",
       "      <td>-0.000252</td>\n",
       "      <td>-0.000160</td>\n",
       "    </tr>\n",
       "    <tr>\n",
       "      <th>2018-01-09</th>\n",
       "      <td>-0.016349</td>\n",
       "      <td>-0.002752</td>\n",
       "      <td>-0.004276</td>\n",
       "      <td>-0.002769</td>\n",
       "      <td>-0.004629</td>\n",
       "    </tr>\n",
       "    <tr>\n",
       "      <th>...</th>\n",
       "      <td>...</td>\n",
       "      <td>...</td>\n",
       "      <td>...</td>\n",
       "      <td>...</td>\n",
       "      <td>...</td>\n",
       "    </tr>\n",
       "    <tr>\n",
       "      <th>2022-03-16</th>\n",
       "      <td>0.000184</td>\n",
       "      <td>0.000743</td>\n",
       "      <td>0.000681</td>\n",
       "      <td>0.000743</td>\n",
       "      <td>0.006261</td>\n",
       "    </tr>\n",
       "    <tr>\n",
       "      <th>2022-03-17</th>\n",
       "      <td>0.015789</td>\n",
       "      <td>0.001672</td>\n",
       "      <td>0.003254</td>\n",
       "      <td>0.001689</td>\n",
       "      <td>0.004889</td>\n",
       "    </tr>\n",
       "    <tr>\n",
       "      <th>2022-03-18</th>\n",
       "      <td>-0.001265</td>\n",
       "      <td>0.002225</td>\n",
       "      <td>0.001834</td>\n",
       "      <td>0.002221</td>\n",
       "      <td>-0.008790</td>\n",
       "    </tr>\n",
       "    <tr>\n",
       "      <th>2022-03-21</th>\n",
       "      <td>-0.001086</td>\n",
       "      <td>-0.009806</td>\n",
       "      <td>-0.008828</td>\n",
       "      <td>-0.009795</td>\n",
       "      <td>0.007641</td>\n",
       "    </tr>\n",
       "    <tr>\n",
       "      <th>2022-03-22</th>\n",
       "      <td>-0.002174</td>\n",
       "      <td>-0.002709</td>\n",
       "      <td>-0.002649</td>\n",
       "      <td>-0.002709</td>\n",
       "      <td>-0.007251</td>\n",
       "    </tr>\n",
       "  </tbody>\n",
       "</table>\n",
       "<p>1062 rows × 5 columns</p>\n",
       "</div>"
      ],
      "text/plain": [
       "                 ACC       AGG  Max_Sharpe   Min_Vol       GLD\n",
       "2018-01-03 -0.016589  0.000092   -0.001778  0.000071 -0.002637\n",
       "2018-01-04 -0.017862 -0.000641   -0.002571 -0.000663  0.005127\n",
       "2018-01-05  0.001263 -0.000642   -0.000428 -0.000639 -0.001036\n",
       "2018-01-08  0.018416 -0.000275    0.001820 -0.000252 -0.000160\n",
       "2018-01-09 -0.016349 -0.002752   -0.004276 -0.002769 -0.004629\n",
       "...              ...       ...         ...       ...       ...\n",
       "2022-03-16  0.000184  0.000743    0.000681  0.000743  0.006261\n",
       "2022-03-17  0.015789  0.001672    0.003254  0.001689  0.004889\n",
       "2022-03-18 -0.001265  0.002225    0.001834  0.002221 -0.008790\n",
       "2022-03-21 -0.001086 -0.009806   -0.008828 -0.009795  0.007641\n",
       "2022-03-22 -0.002174 -0.002709   -0.002649 -0.002709 -0.007251\n",
       "\n",
       "[1062 rows x 5 columns]"
      ]
     },
     "execution_count": 32,
     "metadata": {},
     "output_type": "execute_result"
    }
   ],
   "source": [
    "t['GLD'] = GLD_ret\n",
    "t"
   ]
  },
  {
   "cell_type": "code",
   "execution_count": 33,
   "metadata": {
    "colab": {
     "base_uri": "https://localhost:8080/",
     "height": 394
    },
    "id": "G6C0vGRYU_XG",
    "outputId": "0806a35f-58ec-44fe-e413-5a73682c4655"
   },
   "outputs": [
    {
     "data": {
      "text/html": [
       "<div>\n",
       "<style scoped>\n",
       "    .dataframe tbody tr th:only-of-type {\n",
       "        vertical-align: middle;\n",
       "    }\n",
       "\n",
       "    .dataframe tbody tr th {\n",
       "        vertical-align: top;\n",
       "    }\n",
       "\n",
       "    .dataframe thead th {\n",
       "        text-align: right;\n",
       "    }\n",
       "</style>\n",
       "<table border=\"1\" class=\"dataframe\">\n",
       "  <thead>\n",
       "    <tr style=\"text-align: right;\">\n",
       "      <th></th>\n",
       "      <th>ACC</th>\n",
       "      <th>AGG</th>\n",
       "      <th>Max_Sharpe</th>\n",
       "      <th>Min_Vol</th>\n",
       "      <th>GLD</th>\n",
       "    </tr>\n",
       "  </thead>\n",
       "  <tbody>\n",
       "    <tr>\n",
       "      <th>2018-12-31</th>\n",
       "      <td>0.056895</td>\n",
       "      <td>0.002425</td>\n",
       "      <td>0.010311</td>\n",
       "      <td>0.002515</td>\n",
       "      <td>-0.031163</td>\n",
       "    </tr>\n",
       "    <tr>\n",
       "      <th>2019-12-31</th>\n",
       "      <td>0.182683</td>\n",
       "      <td>0.084556</td>\n",
       "      <td>0.096382</td>\n",
       "      <td>0.084688</td>\n",
       "      <td>0.178557</td>\n",
       "    </tr>\n",
       "    <tr>\n",
       "      <th>2020-12-31</th>\n",
       "      <td>-0.043823</td>\n",
       "      <td>0.074771</td>\n",
       "      <td>0.084210</td>\n",
       "      <td>0.074905</td>\n",
       "      <td>0.248146</td>\n",
       "    </tr>\n",
       "    <tr>\n",
       "      <th>2021-12-31</th>\n",
       "      <td>0.394268</td>\n",
       "      <td>-0.017697</td>\n",
       "      <td>0.024084</td>\n",
       "      <td>-0.017240</td>\n",
       "      <td>-0.041489</td>\n",
       "    </tr>\n",
       "  </tbody>\n",
       "</table>\n",
       "</div>"
      ],
      "text/plain": [
       "                 ACC       AGG  Max_Sharpe   Min_Vol       GLD\n",
       "2018-12-31  0.056895  0.002425    0.010311  0.002515 -0.031163\n",
       "2019-12-31  0.182683  0.084556    0.096382  0.084688  0.178557\n",
       "2020-12-31 -0.043823  0.074771    0.084210  0.074905  0.248146\n",
       "2021-12-31  0.394268 -0.017697    0.024084 -0.017240 -0.041489"
      ]
     },
     "execution_count": 33,
     "metadata": {},
     "output_type": "execute_result"
    }
   ],
   "source": [
    "max_r_annual = t[:'2021'].add(1).resample('A').prod().sub(1)\n",
    "max_r_annual"
   ]
  },
  {
   "cell_type": "code",
   "execution_count": 34,
   "metadata": {
    "colab": {
     "base_uri": "https://localhost:8080/",
     "height": 394
    },
    "id": "drXgPc2JVQk-",
    "outputId": "cab9350a-d86c-4a67-f0b7-eccba341dd4c"
   },
   "outputs": [
    {
     "data": {
      "text/html": [
       "<div>\n",
       "<style scoped>\n",
       "    .dataframe tbody tr th:only-of-type {\n",
       "        vertical-align: middle;\n",
       "    }\n",
       "\n",
       "    .dataframe tbody tr th {\n",
       "        vertical-align: top;\n",
       "    }\n",
       "\n",
       "    .dataframe thead th {\n",
       "        text-align: right;\n",
       "    }\n",
       "</style>\n",
       "<table border=\"1\" class=\"dataframe\">\n",
       "  <thead>\n",
       "    <tr style=\"text-align: right;\">\n",
       "      <th></th>\n",
       "      <th>ACC</th>\n",
       "      <th>AGG</th>\n",
       "      <th>Max_Sharpe</th>\n",
       "      <th>Min_Vol</th>\n",
       "      <th>GLD</th>\n",
       "    </tr>\n",
       "  </thead>\n",
       "  <tbody>\n",
       "    <tr>\n",
       "      <th>2018-12-31</th>\n",
       "      <td>0.038595</td>\n",
       "      <td>-0.015875</td>\n",
       "      <td>-0.007989</td>\n",
       "      <td>-0.015785</td>\n",
       "      <td>-0.049463</td>\n",
       "    </tr>\n",
       "    <tr>\n",
       "      <th>2019-12-31</th>\n",
       "      <td>0.156683</td>\n",
       "      <td>0.058556</td>\n",
       "      <td>0.070382</td>\n",
       "      <td>0.058688</td>\n",
       "      <td>0.152557</td>\n",
       "    </tr>\n",
       "    <tr>\n",
       "      <th>2020-12-31</th>\n",
       "      <td>-0.059423</td>\n",
       "      <td>0.059171</td>\n",
       "      <td>0.068610</td>\n",
       "      <td>0.059305</td>\n",
       "      <td>0.232546</td>\n",
       "    </tr>\n",
       "    <tr>\n",
       "      <th>2021-12-31</th>\n",
       "      <td>0.393268</td>\n",
       "      <td>-0.018697</td>\n",
       "      <td>0.023084</td>\n",
       "      <td>-0.018240</td>\n",
       "      <td>-0.042489</td>\n",
       "    </tr>\n",
       "  </tbody>\n",
       "</table>\n",
       "</div>"
      ],
      "text/plain": [
       "                 ACC       AGG  Max_Sharpe   Min_Vol       GLD\n",
       "2018-12-31  0.038595 -0.015875   -0.007989 -0.015785 -0.049463\n",
       "2019-12-31  0.156683  0.058556    0.070382  0.058688  0.152557\n",
       "2020-12-31 -0.059423  0.059171    0.068610  0.059305  0.232546\n",
       "2021-12-31  0.393268 -0.018697    0.023084 -0.018240 -0.042489"
      ]
     },
     "execution_count": 34,
     "metadata": {},
     "output_type": "execute_result"
    }
   ],
   "source": [
    "max_rx_annual = max_r_annual.sub(r_annual_Tbill, 'rows').dropna() # Subtract a series from a table with table.sub(series, 'rows')\n",
    "max_rx_annual"
   ]
  },
  {
   "cell_type": "code",
   "execution_count": 35,
   "metadata": {
    "colab": {
     "base_uri": "https://localhost:8080/"
    },
    "id": "HNx5A5L9VzBD",
    "outputId": "3a099b4a-d90c-402b-e12a-dd2e10b7784f"
   },
   "outputs": [
    {
     "data": {
      "text/plain": [
       "Max_Sharpe    0.038522\n",
       "GLD           0.073288\n",
       "dtype: float64"
      ]
     },
     "execution_count": 35,
     "metadata": {},
     "output_type": "execute_result"
    }
   ],
   "source": [
    "max_meanx = max_rx_annual[['Max_Sharpe','GLD']].mean()\n",
    "max_meanx"
   ]
  },
  {
   "cell_type": "markdown",
   "metadata": {
    "id": "2kyBHE65W8e2"
   },
   "source": [
    "Obviously, using the annual mean rx for bitcoin isn't going to work here. Using the Median might help here, because it is a metric less sensitive to outliers. I don't know if this is valid to do for the linear algebra though.\n"
   ]
  },
  {
   "cell_type": "code",
   "execution_count": 36,
   "metadata": {
    "colab": {
     "base_uri": "https://localhost:8080/"
    },
    "id": "nU6oP_G0W2vA",
    "outputId": "b2747212-260e-4147-a2b8-c7fd338c2752"
   },
   "outputs": [
    {
     "data": {
      "text/plain": [
       "Max_Sharpe    0.045847\n",
       "GLD           0.055034\n",
       "dtype: float64"
      ]
     },
     "execution_count": 36,
     "metadata": {},
     "output_type": "execute_result"
    }
   ],
   "source": [
    "max_medx = max_rx_annual[['Max_Sharpe','GLD']].median()\n",
    "max_medx"
   ]
  },
  {
   "cell_type": "markdown",
   "metadata": {
    "id": "VPLTGwUzX3Kp"
   },
   "source": [
    "Now, set the example weights:"
   ]
  },
  {
   "cell_type": "code",
   "execution_count": 37,
   "metadata": {
    "colab": {
     "base_uri": "https://localhost:8080/"
    },
    "id": "LxfkYf9kXq4K",
    "outputId": "72f6b635-1fee-4a04-843c-8c5736f68d2f"
   },
   "outputs": [
    {
     "data": {
      "text/plain": [
       "Max_Sharpe    0.6\n",
       "GLD           0.4\n",
       "dtype: float64"
      ]
     },
     "execution_count": 37,
     "metadata": {},
     "output_type": "execute_result"
    }
   ],
   "source": [
    "max_w = pd.Series({'Max_Sharpe':0.6,'GLD':0.4})\n",
    "max_w"
   ]
  },
  {
   "cell_type": "markdown",
   "metadata": {
    "id": "6KDyX-lpYM8Y"
   },
   "source": [
    "Calculate portfolio risk premium:\n"
   ]
  },
  {
   "cell_type": "code",
   "execution_count": 38,
   "metadata": {
    "colab": {
     "base_uri": "https://localhost:8080/"
    },
    "id": "NwSL9QNqYHks",
    "outputId": "e78932fb-9121-4824-b9ac-83f6c9f0fc17"
   },
   "outputs": [
    {
     "data": {
      "text/plain": [
       "0.052428100279738474"
      ]
     },
     "execution_count": 38,
     "metadata": {},
     "output_type": "execute_result"
    }
   ],
   "source": [
    "(max_w * max_meanx).sum()"
   ]
  },
  {
   "cell_type": "markdown",
   "metadata": {
    "id": "qnfe7o9cYbh5"
   },
   "source": [
    "Now find portfolio variance:"
   ]
  },
  {
   "cell_type": "code",
   "execution_count": 39,
   "metadata": {
    "colab": {
     "base_uri": "https://localhost:8080/",
     "height": 112
    },
    "id": "JUIaNZ_XYa8u",
    "outputId": "449731a4-ca02-41f5-e94e-ef3f260132b5"
   },
   "outputs": [
    {
     "data": {
      "text/html": [
       "<div>\n",
       "<style scoped>\n",
       "    .dataframe tbody tr th:only-of-type {\n",
       "        vertical-align: middle;\n",
       "    }\n",
       "\n",
       "    .dataframe tbody tr th {\n",
       "        vertical-align: top;\n",
       "    }\n",
       "\n",
       "    .dataframe thead th {\n",
       "        text-align: right;\n",
       "    }\n",
       "</style>\n",
       "<table border=\"1\" class=\"dataframe\">\n",
       "  <thead>\n",
       "    <tr style=\"text-align: right;\">\n",
       "      <th></th>\n",
       "      <th>Max_Sharpe</th>\n",
       "      <th>GLD</th>\n",
       "    </tr>\n",
       "  </thead>\n",
       "  <tbody>\n",
       "    <tr>\n",
       "      <th>Max_Sharpe</th>\n",
       "      <td>0.004162</td>\n",
       "      <td>0.002602</td>\n",
       "    </tr>\n",
       "    <tr>\n",
       "      <th>GLD</th>\n",
       "      <td>0.002602</td>\n",
       "      <td>0.020322</td>\n",
       "    </tr>\n",
       "  </tbody>\n",
       "</table>\n",
       "</div>"
      ],
      "text/plain": [
       "            Max_Sharpe       GLD\n",
       "Max_Sharpe    0.004162  0.002602\n",
       "GLD           0.002602  0.020322"
      ]
     },
     "execution_count": 39,
     "metadata": {},
     "output_type": "execute_result"
    }
   ],
   "source": [
    "max_cov = t[['Max_Sharpe','GLD']].cov()*252\n",
    "max_cov"
   ]
  },
  {
   "cell_type": "markdown",
   "metadata": {
    "id": "X9ov0Wo2Y5s_"
   },
   "source": [
    "Volatility:"
   ]
  },
  {
   "cell_type": "code",
   "execution_count": 40,
   "metadata": {
    "colab": {
     "base_uri": "https://localhost:8080/"
    },
    "id": "ySCg9y8hYbEI",
    "outputId": "8e45b02d-5d90-4abd-d9bd-a709116e9cac"
   },
   "outputs": [
    {
     "data": {
      "text/plain": [
       "0.07745362557135471"
      ]
     },
     "execution_count": 40,
     "metadata": {},
     "output_type": "execute_result"
    }
   ],
   "source": [
    "max_w.dot(max_cov).dot(max_w) ** 0.5 "
   ]
  },
  {
   "cell_type": "code",
   "execution_count": 41,
   "metadata": {
    "colab": {
     "base_uri": "https://localhost:8080/",
     "height": 394
    },
    "id": "c47dct9YYY6S",
    "outputId": "47591b27-2d7e-44cb-c8af-b57268b28b70"
   },
   "outputs": [
    {
     "data": {
      "text/html": [
       "<div>\n",
       "<style scoped>\n",
       "    .dataframe tbody tr th:only-of-type {\n",
       "        vertical-align: middle;\n",
       "    }\n",
       "\n",
       "    .dataframe tbody tr th {\n",
       "        vertical-align: top;\n",
       "    }\n",
       "\n",
       "    .dataframe thead th {\n",
       "        text-align: right;\n",
       "    }\n",
       "</style>\n",
       "<table border=\"1\" class=\"dataframe\">\n",
       "  <thead>\n",
       "    <tr style=\"text-align: right;\">\n",
       "      <th></th>\n",
       "      <th>Max_Sharpe</th>\n",
       "      <th>GLD</th>\n",
       "      <th>Risk_premium</th>\n",
       "      <th>Volatility</th>\n",
       "      <th>Sharpe</th>\n",
       "    </tr>\n",
       "  </thead>\n",
       "  <tbody>\n",
       "    <tr>\n",
       "      <th>0</th>\n",
       "      <td>0.0</td>\n",
       "      <td>1.0</td>\n",
       "      <td>0.073288</td>\n",
       "      <td>0.142556</td>\n",
       "      <td>0.514097</td>\n",
       "    </tr>\n",
       "    <tr>\n",
       "      <th>1</th>\n",
       "      <td>0.1</td>\n",
       "      <td>0.9</td>\n",
       "      <td>0.069811</td>\n",
       "      <td>0.130273</td>\n",
       "      <td>0.535883</td>\n",
       "    </tr>\n",
       "    <tr>\n",
       "      <th>2</th>\n",
       "      <td>0.2</td>\n",
       "      <td>0.8</td>\n",
       "      <td>0.066334</td>\n",
       "      <td>0.118345</td>\n",
       "      <td>0.560520</td>\n",
       "    </tr>\n",
       "    <tr>\n",
       "      <th>3</th>\n",
       "      <td>0.3</td>\n",
       "      <td>0.7</td>\n",
       "      <td>0.062858</td>\n",
       "      <td>0.106890</td>\n",
       "      <td>0.588062</td>\n",
       "    </tr>\n",
       "    <tr>\n",
       "      <th>4</th>\n",
       "      <td>0.4</td>\n",
       "      <td>0.6</td>\n",
       "      <td>0.059381</td>\n",
       "      <td>0.096078</td>\n",
       "      <td>0.618050</td>\n",
       "    </tr>\n",
       "    <tr>\n",
       "      <th>5</th>\n",
       "      <td>0.5</td>\n",
       "      <td>0.5</td>\n",
       "      <td>0.055905</td>\n",
       "      <td>0.086153</td>\n",
       "      <td>0.648903</td>\n",
       "    </tr>\n",
       "    <tr>\n",
       "      <th>6</th>\n",
       "      <td>0.6</td>\n",
       "      <td>0.4</td>\n",
       "      <td>0.052428</td>\n",
       "      <td>0.077454</td>\n",
       "      <td>0.676897</td>\n",
       "    </tr>\n",
       "    <tr>\n",
       "      <th>7</th>\n",
       "      <td>0.7</td>\n",
       "      <td>0.3</td>\n",
       "      <td>0.048952</td>\n",
       "      <td>0.070438</td>\n",
       "      <td>0.694963</td>\n",
       "    </tr>\n",
       "    <tr>\n",
       "      <th>8</th>\n",
       "      <td>0.8</td>\n",
       "      <td>0.2</td>\n",
       "      <td>0.045475</td>\n",
       "      <td>0.065646</td>\n",
       "      <td>0.692725</td>\n",
       "    </tr>\n",
       "    <tr>\n",
       "      <th>9</th>\n",
       "      <td>0.9</td>\n",
       "      <td>0.1</td>\n",
       "      <td>0.041998</td>\n",
       "      <td>0.063585</td>\n",
       "      <td>0.660508</td>\n",
       "    </tr>\n",
       "    <tr>\n",
       "      <th>10</th>\n",
       "      <td>1.0</td>\n",
       "      <td>0.0</td>\n",
       "      <td>0.038522</td>\n",
       "      <td>0.064515</td>\n",
       "      <td>0.597095</td>\n",
       "    </tr>\n",
       "  </tbody>\n",
       "</table>\n",
       "</div>"
      ],
      "text/plain": [
       "    Max_Sharpe  GLD  Risk_premium  Volatility    Sharpe\n",
       "0          0.0  1.0      0.073288    0.142556  0.514097\n",
       "1          0.1  0.9      0.069811    0.130273  0.535883\n",
       "2          0.2  0.8      0.066334    0.118345  0.560520\n",
       "3          0.3  0.7      0.062858    0.106890  0.588062\n",
       "4          0.4  0.6      0.059381    0.096078  0.618050\n",
       "5          0.5  0.5      0.055905    0.086153  0.648903\n",
       "6          0.6  0.4      0.052428    0.077454  0.676897\n",
       "7          0.7  0.3      0.048952    0.070438  0.694963\n",
       "8          0.8  0.2      0.045475    0.065646  0.692725\n",
       "9          0.9  0.1      0.041998    0.063585  0.660508\n",
       "10         1.0  0.0      0.038522    0.064515  0.597095"
      ]
     },
     "execution_count": 41,
     "metadata": {},
     "output_type": "execute_result"
    }
   ],
   "source": [
    "m = pd.DataFrame(index=range(11))\n",
    "\n",
    "for i in m.index:\n",
    "    w                       = pd.Series({'Max_Sharpe':i/10, 'GLD':1-i/10})\n",
    "    m.loc[i,'Max_Sharpe']   = w.Max_Sharpe\n",
    "    m.loc[i,'GLD']          = w.GLD\n",
    "    m.loc[i,'Risk_premium'] = w.dot(max_meanx)\n",
    "    m.loc[i,'Volatility']   = w.dot(max_cov).dot(w) ** 0.5\n",
    "\n",
    "m['Sharpe'] = m.Risk_premium / m.Volatility        \n",
    "m"
   ]
  },
  {
   "cell_type": "code",
   "execution_count": 42,
   "metadata": {
    "colab": {
     "base_uri": "https://localhost:8080/",
     "height": 299
    },
    "id": "pSqWylL5YTou",
    "outputId": "e5eef51b-782f-4b7c-b17e-50644ac31d8c"
   },
   "outputs": [
    {
     "data": {
      "text/plain": [
       "<AxesSubplot:xlabel='Volatility', ylabel='Risk_premium'>"
      ]
     },
     "execution_count": 42,
     "metadata": {},
     "output_type": "execute_result"
    },
    {
     "data": {
      "image/png": "[encoded data removed]",
      "text/plain": [
       "<Figure size 432x288 with 1 Axes>"
      ]
     },
     "metadata": {},
     "output_type": "display_data"
    }
   ],
   "source": [
    "m.plot.scatter('Volatility','Risk_premium')"
   ]
  },
  {
   "cell_type": "markdown",
   "metadata": {
    "id": "z8Ih_ozlalnR"
   },
   "source": [
    "The covariance between BTC and the market is so low that the efficient frontier looks like basically a straight line"
   ]
  },
  {
   "cell_type": "markdown",
   "metadata": {
    "id": "NsVfQW2aa4Yy"
   },
   "source": [
    "Now find the maximum sharpe ratio of this new portfolio blend:"
   ]
  },
  {
   "cell_type": "code",
   "execution_count": 43,
   "metadata": {
    "colab": {
     "base_uri": "https://localhost:8080/"
    },
    "id": "_0i5Re3YafD4",
    "outputId": "3c81dceb-aa13-413a-f18e-62730b4ec0d7"
   },
   "outputs": [
    {
     "data": {
      "text/plain": [
       "array([[261.16564465, -33.44299542],\n",
       "       [-33.44299542,  53.48972652]])"
      ]
     },
     "execution_count": 43,
     "metadata": {},
     "output_type": "execute_result"
    }
   ],
   "source": [
    "np.linalg.inv(max_cov)"
   ]
  },
  {
   "cell_type": "code",
   "execution_count": 44,
   "metadata": {
    "colab": {
     "base_uri": "https://localhost:8080/",
     "height": 112
    },
    "id": "Si2dKJa2bD-P",
    "outputId": "5b07dffb-9646-44a0-e2ca-d1051253f72e"
   },
   "outputs": [
    {
     "data": {
      "text/html": [
       "<div>\n",
       "<style scoped>\n",
       "    .dataframe tbody tr th:only-of-type {\n",
       "        vertical-align: middle;\n",
       "    }\n",
       "\n",
       "    .dataframe tbody tr th {\n",
       "        vertical-align: top;\n",
       "    }\n",
       "\n",
       "    .dataframe thead th {\n",
       "        text-align: right;\n",
       "    }\n",
       "</style>\n",
       "<table border=\"1\" class=\"dataframe\">\n",
       "  <thead>\n",
       "    <tr style=\"text-align: right;\">\n",
       "      <th></th>\n",
       "      <th>Max_Sharpe</th>\n",
       "      <th>GLD</th>\n",
       "    </tr>\n",
       "  </thead>\n",
       "  <tbody>\n",
       "    <tr>\n",
       "      <th>Max_Sharpe</th>\n",
       "      <td>261.165645</td>\n",
       "      <td>-33.442995</td>\n",
       "    </tr>\n",
       "    <tr>\n",
       "      <th>GLD</th>\n",
       "      <td>-33.442995</td>\n",
       "      <td>53.489727</td>\n",
       "    </tr>\n",
       "  </tbody>\n",
       "</table>\n",
       "</div>"
      ],
      "text/plain": [
       "            Max_Sharpe        GLD\n",
       "Max_Sharpe  261.165645 -33.442995\n",
       "GLD         -33.442995  53.489727"
      ]
     },
     "execution_count": 44,
     "metadata": {},
     "output_type": "execute_result"
    }
   ],
   "source": [
    "max_cov_inv = pd.DataFrame(np.linalg.inv(max_cov), columns=max_cov.columns, index=max_cov.index)\n",
    "max_cov_inv"
   ]
  },
  {
   "cell_type": "markdown",
   "metadata": {
    "id": "S2XoVCr-bPXu"
   },
   "source": [
    "Maximum Sharpe Ratio Weights:"
   ]
  },
  {
   "cell_type": "code",
   "execution_count": 45,
   "metadata": {
    "colab": {
     "base_uri": "https://localhost:8080/"
    },
    "id": "TLA9fanObJ4W",
    "outputId": "817aeabc-e400-43a6-d7dc-3fc3d85812c2"
   },
   "outputs": [
    {
     "data": {
      "text/plain": [
       "Max_Sharpe    0.877813\n",
       "GLD           0.122187\n",
       "dtype: float64"
      ]
     },
     "execution_count": 45,
     "metadata": {},
     "output_type": "execute_result"
    }
   ],
   "source": [
    "max_w_maxSharpe = max_cov_inv.dot(max_medx) /  max_cov_inv.dot(max_medx).sum()\n",
    "max_w_maxSharpe"
   ]
  },
  {
   "cell_type": "markdown",
   "metadata": {
    "id": "Vl6zKix8brdl"
   },
   "source": [
    "Unsurprisingly, the max sharpe ratio for this portfolio blend is mostly the base portfolio.\n",
    "\n",
    "Now let's find the minimum volatility weights for this portfolio:"
   ]
  },
  {
   "cell_type": "code",
   "execution_count": 46,
   "metadata": {
    "colab": {
     "base_uri": "https://localhost:8080/"
    },
    "id": "YCP2j1ilbgCq",
    "outputId": "be4b53b5-870d-4a71-d9fe-f979b30dfe5c"
   },
   "outputs": [
    {
     "data": {
      "text/plain": [
       "Max_Sharpe    0.919091\n",
       "GLD           0.080909\n",
       "dtype: float64"
      ]
     },
     "execution_count": 46,
     "metadata": {},
     "output_type": "execute_result"
    }
   ],
   "source": [
    "max_w_minVol = max_cov_inv.sum() / max_cov_inv.sum().sum()\n",
    "max_w_minVol"
   ]
  },
  {
   "cell_type": "markdown",
   "metadata": {
    "id": "QOUXcIPgb7cL"
   },
   "source": [
    "The minimum volatility portfolio actually suggests that one shold not short gold, unlike BTC.\n",
    "\n",
    "Now let's compound the returns of these optimal portfolios, based on a blend of GLD and our maximum sharpe ratio base portfolio."
   ]
  },
  {
   "cell_type": "code",
   "execution_count": 63,
   "metadata": {
    "colab": {
     "base_uri": "https://localhost:8080/",
     "height": 661
    },
    "id": "H-KaUvP3cOZu",
    "outputId": "9a579d8f-806c-4035-fe56-24c7632a9a19"
   },
   "outputs": [
    {
     "data": {
      "text/html": [
       "<div>\n",
       "<style scoped>\n",
       "    .dataframe tbody tr th:only-of-type {\n",
       "        vertical-align: middle;\n",
       "    }\n",
       "\n",
       "    .dataframe tbody tr th {\n",
       "        vertical-align: top;\n",
       "    }\n",
       "\n",
       "    .dataframe thead th {\n",
       "        text-align: right;\n",
       "    }\n",
       "</style>\n",
       "<table border=\"1\" class=\"dataframe\">\n",
       "  <thead>\n",
       "    <tr style=\"text-align: right;\">\n",
       "      <th></th>\n",
       "      <th>Base_Max_Sharpe</th>\n",
       "      <th>GLD</th>\n",
       "      <th>GLD_Max_Sharpe</th>\n",
       "      <th>GLD_Min_Vol</th>\n",
       "    </tr>\n",
       "  </thead>\n",
       "  <tbody>\n",
       "    <tr>\n",
       "      <th>2018-01-03</th>\n",
       "      <td>-0.001694</td>\n",
       "      <td>-0.002637</td>\n",
       "      <td>-0.001809</td>\n",
       "      <td>-0.001765</td>\n",
       "    </tr>\n",
       "    <tr>\n",
       "      <th>2018-01-04</th>\n",
       "      <td>-0.002485</td>\n",
       "      <td>0.005127</td>\n",
       "      <td>-0.001554</td>\n",
       "      <td>-0.001913</td>\n",
       "    </tr>\n",
       "    <tr>\n",
       "      <th>2018-01-05</th>\n",
       "      <td>-0.000438</td>\n",
       "      <td>-0.001036</td>\n",
       "      <td>-0.000511</td>\n",
       "      <td>-0.000483</td>\n",
       "    </tr>\n",
       "    <tr>\n",
       "      <th>2018-01-08</th>\n",
       "      <td>0.001726</td>\n",
       "      <td>-0.000160</td>\n",
       "      <td>0.001495</td>\n",
       "      <td>0.001584</td>\n",
       "    </tr>\n",
       "    <tr>\n",
       "      <th>2018-01-09</th>\n",
       "      <td>-0.004208</td>\n",
       "      <td>-0.004629</td>\n",
       "      <td>-0.004259</td>\n",
       "      <td>-0.004239</td>\n",
       "    </tr>\n",
       "    <tr>\n",
       "      <th>...</th>\n",
       "      <td>...</td>\n",
       "      <td>...</td>\n",
       "      <td>...</td>\n",
       "      <td>...</td>\n",
       "    </tr>\n",
       "    <tr>\n",
       "      <th>2022-02-22</th>\n",
       "      <td>-0.001712</td>\n",
       "      <td>0.002089</td>\n",
       "      <td>-0.001248</td>\n",
       "      <td>-0.001427</td>\n",
       "    </tr>\n",
       "    <tr>\n",
       "      <th>2022-02-23</th>\n",
       "      <td>-0.002608</td>\n",
       "      <td>0.004507</td>\n",
       "      <td>-0.001739</td>\n",
       "      <td>-0.002075</td>\n",
       "    </tr>\n",
       "    <tr>\n",
       "      <th>2022-02-24</th>\n",
       "      <td>0.004231</td>\n",
       "      <td>-0.006450</td>\n",
       "      <td>0.002925</td>\n",
       "      <td>0.003429</td>\n",
       "    </tr>\n",
       "    <tr>\n",
       "      <th>2022-02-25</th>\n",
       "      <td>0.004720</td>\n",
       "      <td>-0.003331</td>\n",
       "      <td>0.003736</td>\n",
       "      <td>0.004116</td>\n",
       "    </tr>\n",
       "    <tr>\n",
       "      <th>2022-02-28</th>\n",
       "      <td>0.005590</td>\n",
       "      <td>0.010365</td>\n",
       "      <td>0.006173</td>\n",
       "      <td>0.005948</td>\n",
       "    </tr>\n",
       "  </tbody>\n",
       "</table>\n",
       "<p>1046 rows × 4 columns</p>\n",
       "</div>"
      ],
      "text/plain": [
       "            Base_Max_Sharpe       GLD  GLD_Max_Sharpe  GLD_Min_Vol\n",
       "2018-01-03        -0.001694 -0.002637       -0.001809    -0.001765\n",
       "2018-01-04        -0.002485  0.005127       -0.001554    -0.001913\n",
       "2018-01-05        -0.000438 -0.001036       -0.000511    -0.000483\n",
       "2018-01-08         0.001726 -0.000160        0.001495     0.001584\n",
       "2018-01-09        -0.004208 -0.004629       -0.004259    -0.004239\n",
       "...                     ...       ...             ...          ...\n",
       "2022-02-22        -0.001712  0.002089       -0.001248    -0.001427\n",
       "2022-02-23        -0.002608  0.004507       -0.001739    -0.002075\n",
       "2022-02-24         0.004231 -0.006450        0.002925     0.003429\n",
       "2022-02-25         0.004720 -0.003331        0.003736     0.004116\n",
       "2022-02-28         0.005590  0.010365        0.006173     0.005948\n",
       "\n",
       "[1046 rows x 4 columns]"
      ]
     },
     "execution_count": 63,
     "metadata": {},
     "output_type": "execute_result"
    },
    {
     "data": {
      "image/png": "[encoded data removed]",
      "text/plain": [
       "<Figure size 432x288 with 1 Axes>"
      ]
     },
     "metadata": {},
     "output_type": "display_data"
    }
   ],
   "source": [
    "l = pd.DataFrame()\n",
    "l['Base_Max_Sharpe'] = t.Max_Sharpe\n",
    "l['GLD']             = t.GLD\n",
    "l['GLD_Max_Sharpe']  = t.multiply(max_w_maxSharpe).sum('columns')\n",
    "l['GLD_Min_Vol']     = t.multiply(max_w_minVol).sum('columns')\n",
    "\n",
    "l.add(1).cumprod().plot(logy=True)\n",
    "l"
   ]
  },
  {
   "cell_type": "markdown",
   "metadata": {
    "id": "dSKzr1AvUcqF"
   },
   "source": [
    "## Adding Gold to the minimum volatility portfolio\n",
    "Find the risk premium of the portfolio:"
   ]
  },
  {
   "cell_type": "code",
   "execution_count": 2,
   "metadata": {
    "colab": {
     "base_uri": "https://localhost:8080/",
     "height": 423
    },
    "id": "n_DcnbNJTjrH",
    "outputId": "00a3546f-57ca-45d6-dfe6-ac64eb1ae9b5"
   },
   "outputs": [
    {
     "ename": "NameError",
     "evalue": "name 'GLD_ret' is not defined",
     "output_type": "error",
     "traceback": [
      "\u001b[1;31m---------------------------------------------------------------------------\u001b[0m",
      "\u001b[1;31mNameError\u001b[0m                                 Traceback (most recent call last)",
      "\u001b[1;32m<ipython-input-2-423e9a44041e>\u001b[0m in \u001b[0;36m<module>\u001b[1;34m\u001b[0m\n\u001b[1;32m----> 1\u001b[1;33m \u001b[0mt\u001b[0m\u001b[1;33m[\u001b[0m\u001b[1;34m'GLD'\u001b[0m\u001b[1;33m]\u001b[0m \u001b[1;33m=\u001b[0m \u001b[0mGLD_ret\u001b[0m\u001b[1;33m\u001b[0m\u001b[1;33m\u001b[0m\u001b[0m\n\u001b[0m\u001b[0;32m      2\u001b[0m \u001b[0mt\u001b[0m\u001b[1;33m\u001b[0m\u001b[1;33m\u001b[0m\u001b[0m\n",
      "\u001b[1;31mNameError\u001b[0m: name 'GLD_ret' is not defined"
     ]
    }
   ],
   "source": [
    "t['GLD'] = GLD_ret\n",
    "t"
   ]
  },
  {
   "cell_type": "code",
   "execution_count": 50,
   "metadata": {
    "colab": {
     "base_uri": "https://localhost:8080/",
     "height": 394
    },
    "id": "G6C0vGRYU_XG",
    "outputId": "0806a35f-58ec-44fe-e413-5a73682c4655"
   },
   "outputs": [
    {
     "data": {
      "text/html": [
       "<div>\n",
       "<style scoped>\n",
       "    .dataframe tbody tr th:only-of-type {\n",
       "        vertical-align: middle;\n",
       "    }\n",
       "\n",
       "    .dataframe tbody tr th {\n",
       "        vertical-align: top;\n",
       "    }\n",
       "\n",
       "    .dataframe thead th {\n",
       "        text-align: right;\n",
       "    }\n",
       "</style>\n",
       "<table border=\"1\" class=\"dataframe\">\n",
       "  <thead>\n",
       "    <tr style=\"text-align: right;\">\n",
       "      <th></th>\n",
       "      <th>ACC</th>\n",
       "      <th>AGG</th>\n",
       "      <th>Max_Sharpe</th>\n",
       "      <th>Min_Vol</th>\n",
       "      <th>BTC</th>\n",
       "    </tr>\n",
       "  </thead>\n",
       "  <tbody>\n",
       "    <tr>\n",
       "      <th>2018-12-31</th>\n",
       "      <td>0.056895</td>\n",
       "      <td>0.002425</td>\n",
       "      <td>0.009965</td>\n",
       "      <td>0.002446</td>\n",
       "      <td>-0.739754</td>\n",
       "    </tr>\n",
       "    <tr>\n",
       "      <th>2019-12-31</th>\n",
       "      <td>0.182683</td>\n",
       "      <td>0.084556</td>\n",
       "      <td>0.095853</td>\n",
       "      <td>0.084586</td>\n",
       "      <td>0.646581</td>\n",
       "    </tr>\n",
       "    <tr>\n",
       "      <th>2020-12-31</th>\n",
       "      <td>-0.043823</td>\n",
       "      <td>0.074771</td>\n",
       "      <td>0.083903</td>\n",
       "      <td>0.074801</td>\n",
       "      <td>3.807329</td>\n",
       "    </tr>\n",
       "    <tr>\n",
       "      <th>2021-12-31</th>\n",
       "      <td>0.394268</td>\n",
       "      <td>-0.017697</td>\n",
       "      <td>0.022178</td>\n",
       "      <td>-0.017593</td>\n",
       "      <td>0.234006</td>\n",
       "    </tr>\n",
       "  </tbody>\n",
       "</table>\n",
       "</div>"
      ],
      "text/plain": [
       "                 ACC       AGG  Max_Sharpe   Min_Vol       BTC\n",
       "2018-12-31  0.056895  0.002425    0.009965  0.002446 -0.739754\n",
       "2019-12-31  0.182683  0.084556    0.095853  0.084586  0.646581\n",
       "2020-12-31 -0.043823  0.074771    0.083903  0.074801  3.807329\n",
       "2021-12-31  0.394268 -0.017697    0.022178 -0.017593  0.234006"
      ]
     },
     "execution_count": 50,
     "metadata": {},
     "output_type": "execute_result"
    }
   ],
   "source": [
    "min_r_annual = t[:'2021'].add(1).resample('A').prod().sub(1)\n",
    "min_r_annual"
   ]
  },
  {
   "cell_type": "code",
   "execution_count": 51,
   "metadata": {
    "colab": {
     "base_uri": "https://localhost:8080/",
     "height": 394
    },
    "id": "drXgPc2JVQk-",
    "outputId": "cab9350a-d86c-4a67-f0b7-eccba341dd4c"
   },
   "outputs": [
    {
     "data": {
      "text/html": [
       "<div>\n",
       "<style scoped>\n",
       "    .dataframe tbody tr th:only-of-type {\n",
       "        vertical-align: middle;\n",
       "    }\n",
       "\n",
       "    .dataframe tbody tr th {\n",
       "        vertical-align: top;\n",
       "    }\n",
       "\n",
       "    .dataframe thead th {\n",
       "        text-align: right;\n",
       "    }\n",
       "</style>\n",
       "<table border=\"1\" class=\"dataframe\">\n",
       "  <thead>\n",
       "    <tr style=\"text-align: right;\">\n",
       "      <th></th>\n",
       "      <th>ACC</th>\n",
       "      <th>AGG</th>\n",
       "      <th>Max_Sharpe</th>\n",
       "      <th>Min_Vol</th>\n",
       "      <th>BTC</th>\n",
       "    </tr>\n",
       "  </thead>\n",
       "  <tbody>\n",
       "    <tr>\n",
       "      <th>2018-12-31</th>\n",
       "      <td>0.038595</td>\n",
       "      <td>-0.015875</td>\n",
       "      <td>-0.008335</td>\n",
       "      <td>-0.015854</td>\n",
       "      <td>-0.758054</td>\n",
       "    </tr>\n",
       "    <tr>\n",
       "      <th>2019-12-31</th>\n",
       "      <td>0.156683</td>\n",
       "      <td>0.058556</td>\n",
       "      <td>0.069853</td>\n",
       "      <td>0.058586</td>\n",
       "      <td>0.620581</td>\n",
       "    </tr>\n",
       "    <tr>\n",
       "      <th>2020-12-31</th>\n",
       "      <td>-0.059423</td>\n",
       "      <td>0.059171</td>\n",
       "      <td>0.068303</td>\n",
       "      <td>0.059201</td>\n",
       "      <td>3.791729</td>\n",
       "    </tr>\n",
       "    <tr>\n",
       "      <th>2021-12-31</th>\n",
       "      <td>0.393268</td>\n",
       "      <td>-0.018697</td>\n",
       "      <td>0.021178</td>\n",
       "      <td>-0.018593</td>\n",
       "      <td>0.233006</td>\n",
       "    </tr>\n",
       "  </tbody>\n",
       "</table>\n",
       "</div>"
      ],
      "text/plain": [
       "                 ACC       AGG  Max_Sharpe   Min_Vol       BTC\n",
       "2018-12-31  0.038595 -0.015875   -0.008335 -0.015854 -0.758054\n",
       "2019-12-31  0.156683  0.058556    0.069853  0.058586  0.620581\n",
       "2020-12-31 -0.059423  0.059171    0.068303  0.059201  3.791729\n",
       "2021-12-31  0.393268 -0.018697    0.021178 -0.018593  0.233006"
      ]
     },
     "execution_count": 51,
     "metadata": {},
     "output_type": "execute_result"
    }
   ],
   "source": [
    "min_rx_annual = min_r_annual.sub(r_annual_Tbill, 'rows').dropna() # Subtract a series from a table with table.sub(series, 'rows')\n",
    "min_rx_annual"
   ]
  },
  {
   "cell_type": "code",
   "execution_count": 60,
   "metadata": {
    "colab": {
     "base_uri": "https://localhost:8080/"
    },
    "id": "HNx5A5L9VzBD",
    "outputId": "3a099b4a-d90c-402b-e12a-dd2e10b7784f"
   },
   "outputs": [
    {
     "data": {
      "text/plain": [
       "Min_Vol    0.020835\n",
       "BTC        0.971816\n",
       "dtype: float64"
      ]
     },
     "execution_count": 60,
     "metadata": {},
     "output_type": "execute_result"
    }
   ],
   "source": [
    "min_meanx = min_rx_annual[['Min_Vol','BTC']].mean()\n",
    "min_meanx"
   ]
  },
  {
   "cell_type": "markdown",
   "metadata": {
    "id": "2kyBHE65W8e2"
   },
   "source": [
    "Obviously, using the annual mean rx for bitcoin isn't going to work here. Using the Median might help here, because it is a metric less sensitive to outliers. I don't know if this is valid to do for the linear algebra though.\n"
   ]
  },
  {
   "cell_type": "code",
   "execution_count": 61,
   "metadata": {
    "colab": {
     "base_uri": "https://localhost:8080/"
    },
    "id": "nU6oP_G0W2vA",
    "outputId": "b2747212-260e-4147-a2b8-c7fd338c2752"
   },
   "outputs": [
    {
     "data": {
      "text/plain": [
       "Min_Vol    0.021366\n",
       "BTC        0.426794\n",
       "dtype: float64"
      ]
     },
     "execution_count": 61,
     "metadata": {},
     "output_type": "execute_result"
    }
   ],
   "source": [
    "min_medx = max_rx_annual[['Min_Vol','BTC']].median()\n",
    "min_medx"
   ]
  },
  {
   "cell_type": "markdown",
   "metadata": {
    "id": "VPLTGwUzX3Kp"
   },
   "source": [
    "Now, set the example weights:"
   ]
  },
  {
   "cell_type": "code",
   "execution_count": 62,
   "metadata": {
    "colab": {
     "base_uri": "https://localhost:8080/"
    },
    "id": "LxfkYf9kXq4K",
    "outputId": "72f6b635-1fee-4a04-843c-8c5736f68d2f"
   },
   "outputs": [
    {
     "data": {
      "text/plain": [
       "Min_Vol    0.6\n",
       "BTC        0.4\n",
       "dtype: float64"
      ]
     },
     "execution_count": 62,
     "metadata": {},
     "output_type": "execute_result"
    }
   ],
   "source": [
    "min_w = pd.Series({'Min_Vol':0.6,'BTC':0.4})\n",
    "min_w"
   ]
  },
  {
   "cell_type": "markdown",
   "metadata": {
    "id": "6KDyX-lpYM8Y"
   },
   "source": [
    "Calculate portfolio risk premium:\n"
   ]
  },
  {
   "cell_type": "code",
   "execution_count": 64,
   "metadata": {
    "colab": {
     "base_uri": "https://localhost:8080/"
    },
    "id": "NwSL9QNqYHks",
    "outputId": "e78932fb-9121-4824-b9ac-83f6c9f0fc17"
   },
   "outputs": [
    {
     "data": {
      "text/plain": [
       "0.1835371462267434"
      ]
     },
     "execution_count": 64,
     "metadata": {},
     "output_type": "execute_result"
    }
   ],
   "source": [
    "(min_w * min_medx).sum()"
   ]
  },
  {
   "cell_type": "markdown",
   "metadata": {
    "id": "qnfe7o9cYbh5"
   },
   "source": [
    "Now find portfolio variance:"
   ]
  },
  {
   "cell_type": "code",
   "execution_count": 63,
   "metadata": {
    "colab": {
     "base_uri": "https://localhost:8080/",
     "height": 112
    },
    "id": "JUIaNZ_XYa8u",
    "outputId": "449731a4-ca02-41f5-e94e-ef3f260132b5"
   },
   "outputs": [
    {
     "data": {
      "text/html": [
       "<div>\n",
       "<style scoped>\n",
       "    .dataframe tbody tr th:only-of-type {\n",
       "        vertical-align: middle;\n",
       "    }\n",
       "\n",
       "    .dataframe tbody tr th {\n",
       "        vertical-align: top;\n",
       "    }\n",
       "\n",
       "    .dataframe thead th {\n",
       "        text-align: right;\n",
       "    }\n",
       "</style>\n",
       "<table border=\"1\" class=\"dataframe\">\n",
       "  <thead>\n",
       "    <tr style=\"text-align: right;\">\n",
       "      <th></th>\n",
       "      <th>Min_Vol</th>\n",
       "      <th>BTC</th>\n",
       "    </tr>\n",
       "  </thead>\n",
       "  <tbody>\n",
       "    <tr>\n",
       "      <th>Min_Vol</th>\n",
       "      <td>0.002536</td>\n",
       "      <td>0.005293</td>\n",
       "    </tr>\n",
       "    <tr>\n",
       "      <th>BTC</th>\n",
       "      <td>0.005293</td>\n",
       "      <td>0.481342</td>\n",
       "    </tr>\n",
       "  </tbody>\n",
       "</table>\n",
       "</div>"
      ],
      "text/plain": [
       "          Min_Vol       BTC\n",
       "Min_Vol  0.002536  0.005293\n",
       "BTC      0.005293  0.481342"
      ]
     },
     "execution_count": 63,
     "metadata": {},
     "output_type": "execute_result"
    }
   ],
   "source": [
    "min_cov = t[['Min_Vol','BTC']].cov()*252\n",
    "min_cov"
   ]
  },
  {
   "cell_type": "markdown",
   "metadata": {
    "id": "X9ov0Wo2Y5s_"
   },
   "source": [
    "Volatility:"
   ]
  },
  {
   "cell_type": "code",
   "execution_count": 65,
   "metadata": {
    "colab": {
     "base_uri": "https://localhost:8080/"
    },
    "id": "ySCg9y8hYbEI",
    "outputId": "8e45b02d-5d90-4abd-d9bd-a709116e9cac"
   },
   "outputs": [
    {
     "data": {
      "text/plain": [
       "0.28366962344681007"
      ]
     },
     "execution_count": 65,
     "metadata": {},
     "output_type": "execute_result"
    }
   ],
   "source": [
    "min_w.dot(min_cov).dot(min_w) ** 0.5 "
   ]
  },
  {
   "cell_type": "code",
   "execution_count": 66,
   "metadata": {
    "colab": {
     "base_uri": "https://localhost:8080/",
     "height": 394
    },
    "id": "c47dct9YYY6S",
    "outputId": "47591b27-2d7e-44cb-c8af-b57268b28b70"
   },
   "outputs": [
    {
     "data": {
      "text/html": [
       "<div>\n",
       "<style scoped>\n",
       "    .dataframe tbody tr th:only-of-type {\n",
       "        vertical-align: middle;\n",
       "    }\n",
       "\n",
       "    .dataframe tbody tr th {\n",
       "        vertical-align: top;\n",
       "    }\n",
       "\n",
       "    .dataframe thead th {\n",
       "        text-align: right;\n",
       "    }\n",
       "</style>\n",
       "<table border=\"1\" class=\"dataframe\">\n",
       "  <thead>\n",
       "    <tr style=\"text-align: right;\">\n",
       "      <th></th>\n",
       "      <th>Min_Vol</th>\n",
       "      <th>BTC</th>\n",
       "      <th>Risk_premium</th>\n",
       "      <th>Volatility</th>\n",
       "      <th>Sharpe</th>\n",
       "    </tr>\n",
       "  </thead>\n",
       "  <tbody>\n",
       "    <tr>\n",
       "      <th>0</th>\n",
       "      <td>0.0</td>\n",
       "      <td>1.0</td>\n",
       "      <td>0.426794</td>\n",
       "      <td>0.693788</td>\n",
       "      <td>0.615164</td>\n",
       "    </tr>\n",
       "    <tr>\n",
       "      <th>1</th>\n",
       "      <td>0.1</td>\n",
       "      <td>0.9</td>\n",
       "      <td>0.386251</td>\n",
       "      <td>0.625192</td>\n",
       "      <td>0.617812</td>\n",
       "    </tr>\n",
       "    <tr>\n",
       "      <th>2</th>\n",
       "      <td>0.2</td>\n",
       "      <td>0.8</td>\n",
       "      <td>0.345708</td>\n",
       "      <td>0.556645</td>\n",
       "      <td>0.621056</td>\n",
       "    </tr>\n",
       "    <tr>\n",
       "      <th>3</th>\n",
       "      <td>0.3</td>\n",
       "      <td>0.7</td>\n",
       "      <td>0.305165</td>\n",
       "      <td>0.488169</td>\n",
       "      <td>0.625122</td>\n",
       "    </tr>\n",
       "    <tr>\n",
       "      <th>4</th>\n",
       "      <td>0.4</td>\n",
       "      <td>0.6</td>\n",
       "      <td>0.264623</td>\n",
       "      <td>0.419797</td>\n",
       "      <td>0.630358</td>\n",
       "    </tr>\n",
       "    <tr>\n",
       "      <th>5</th>\n",
       "      <td>0.5</td>\n",
       "      <td>0.5</td>\n",
       "      <td>0.224080</td>\n",
       "      <td>0.351591</td>\n",
       "      <td>0.637331</td>\n",
       "    </tr>\n",
       "    <tr>\n",
       "      <th>6</th>\n",
       "      <td>0.6</td>\n",
       "      <td>0.4</td>\n",
       "      <td>0.183537</td>\n",
       "      <td>0.283670</td>\n",
       "      <td>0.647010</td>\n",
       "    </tr>\n",
       "    <tr>\n",
       "      <th>7</th>\n",
       "      <td>0.7</td>\n",
       "      <td>0.3</td>\n",
       "      <td>0.142994</td>\n",
       "      <td>0.216302</td>\n",
       "      <td>0.661086</td>\n",
       "    </tr>\n",
       "    <tr>\n",
       "      <th>8</th>\n",
       "      <td>0.8</td>\n",
       "      <td>0.2</td>\n",
       "      <td>0.102452</td>\n",
       "      <td>0.150235</td>\n",
       "      <td>0.681942</td>\n",
       "    </tr>\n",
       "    <tr>\n",
       "      <th>9</th>\n",
       "      <td>0.9</td>\n",
       "      <td>0.1</td>\n",
       "      <td>0.061909</td>\n",
       "      <td>0.088433</td>\n",
       "      <td>0.700064</td>\n",
       "    </tr>\n",
       "    <tr>\n",
       "      <th>10</th>\n",
       "      <td>1.0</td>\n",
       "      <td>0.0</td>\n",
       "      <td>0.021366</td>\n",
       "      <td>0.050360</td>\n",
       "      <td>0.424271</td>\n",
       "    </tr>\n",
       "  </tbody>\n",
       "</table>\n",
       "</div>"
      ],
      "text/plain": [
       "    Min_Vol  BTC  Risk_premium  Volatility    Sharpe\n",
       "0       0.0  1.0      0.426794    0.693788  0.615164\n",
       "1       0.1  0.9      0.386251    0.625192  0.617812\n",
       "2       0.2  0.8      0.345708    0.556645  0.621056\n",
       "3       0.3  0.7      0.305165    0.488169  0.625122\n",
       "4       0.4  0.6      0.264623    0.419797  0.630358\n",
       "5       0.5  0.5      0.224080    0.351591  0.637331\n",
       "6       0.6  0.4      0.183537    0.283670  0.647010\n",
       "7       0.7  0.3      0.142994    0.216302  0.661086\n",
       "8       0.8  0.2      0.102452    0.150235  0.681942\n",
       "9       0.9  0.1      0.061909    0.088433  0.700064\n",
       "10      1.0  0.0      0.021366    0.050360  0.424271"
      ]
     },
     "execution_count": 66,
     "metadata": {},
     "output_type": "execute_result"
    }
   ],
   "source": [
    "m = pd.DataFrame(index=range(11))\n",
    "\n",
    "for i in m.index:\n",
    "    w                       = pd.Series({'Min_Vol':i/10, 'BTC':1-i/10})\n",
    "    m.loc[i,'Min_Vol']      = w.Min_Vol\n",
    "    m.loc[i,'BTC']          = w.BTC\n",
    "    m.loc[i,'Risk_premium'] = w.dot(min_medx)\n",
    "    m.loc[i,'Volatility']   = w.dot(min_cov).dot(w) ** 0.5\n",
    "\n",
    "m['Sharpe'] = m.Risk_premium / m.Volatility        \n",
    "m"
   ]
  },
  {
   "cell_type": "code",
   "execution_count": 67,
   "metadata": {
    "colab": {
     "base_uri": "https://localhost:8080/",
     "height": 299
    },
    "id": "pSqWylL5YTou",
    "outputId": "e5eef51b-782f-4b7c-b17e-50644ac31d8c"
   },
   "outputs": [
    {
     "data": {
      "text/plain": [
       "<AxesSubplot:xlabel='Volatility', ylabel='Risk_premium'>"
      ]
     },
     "execution_count": 67,
     "metadata": {},
     "output_type": "execute_result"
    },
    {
     "data": {
      "image/png": "[encoded data removed]",
      "text/plain": [
       "<Figure size 432x288 with 1 Axes>"
      ]
     },
     "metadata": {},
     "output_type": "display_data"
    }
   ],
   "source": [
    "m.plot.scatter('Volatility','Risk_premium')"
   ]
  },
  {
   "cell_type": "markdown",
   "metadata": {
    "id": "z8Ih_ozlalnR"
   },
   "source": [
    "The covariance between BTC and the market is so low that the efficient frontier looks like basically a straight line"
   ]
  },
  {
   "cell_type": "markdown",
   "metadata": {
    "id": "NsVfQW2aa4Yy"
   },
   "source": [
    "Now find the maximum sharpe ratio of this new portfolio blend:"
   ]
  },
  {
   "cell_type": "code",
   "execution_count": 69,
   "metadata": {
    "colab": {
     "base_uri": "https://localhost:8080/"
    },
    "id": "_0i5Re3YafD4",
    "outputId": "3c81dceb-aa13-413a-f18e-62730b4ec0d7"
   },
   "outputs": [
    {
     "data": {
      "text/plain": [
       "array([[403.57101585,  -4.43798956],\n",
       "       [ -4.43798956,   2.12632866]])"
      ]
     },
     "execution_count": 69,
     "metadata": {},
     "output_type": "execute_result"
    }
   ],
   "source": [
    "np.linalg.inv(min_cov)"
   ]
  },
  {
   "cell_type": "code",
   "execution_count": 70,
   "metadata": {
    "colab": {
     "base_uri": "https://localhost:8080/",
     "height": 112
    },
    "id": "Si2dKJa2bD-P",
    "outputId": "5b07dffb-9646-44a0-e2ca-d1051253f72e"
   },
   "outputs": [
    {
     "data": {
      "text/html": [
       "<div>\n",
       "<style scoped>\n",
       "    .dataframe tbody tr th:only-of-type {\n",
       "        vertical-align: middle;\n",
       "    }\n",
       "\n",
       "    .dataframe tbody tr th {\n",
       "        vertical-align: top;\n",
       "    }\n",
       "\n",
       "    .dataframe thead th {\n",
       "        text-align: right;\n",
       "    }\n",
       "</style>\n",
       "<table border=\"1\" class=\"dataframe\">\n",
       "  <thead>\n",
       "    <tr style=\"text-align: right;\">\n",
       "      <th></th>\n",
       "      <th>Min_Vol</th>\n",
       "      <th>BTC</th>\n",
       "    </tr>\n",
       "  </thead>\n",
       "  <tbody>\n",
       "    <tr>\n",
       "      <th>Min_Vol</th>\n",
       "      <td>403.571016</td>\n",
       "      <td>-4.437990</td>\n",
       "    </tr>\n",
       "    <tr>\n",
       "      <th>BTC</th>\n",
       "      <td>-4.437990</td>\n",
       "      <td>2.126329</td>\n",
       "    </tr>\n",
       "  </tbody>\n",
       "</table>\n",
       "</div>"
      ],
      "text/plain": [
       "            Min_Vol       BTC\n",
       "Min_Vol  403.571016 -4.437990\n",
       "BTC       -4.437990  2.126329"
      ]
     },
     "execution_count": 70,
     "metadata": {},
     "output_type": "execute_result"
    }
   ],
   "source": [
    "min_cov_inv = pd.DataFrame(np.linalg.inv(min_cov), columns=min_cov.columns, index=min_cov.index)\n",
    "min_cov_inv"
   ]
  },
  {
   "cell_type": "markdown",
   "metadata": {
    "id": "S2XoVCr-bPXu"
   },
   "source": [
    "Maximum Sharpe Ratio Weights:"
   ]
  },
  {
   "cell_type": "code",
   "execution_count": 71,
   "metadata": {
    "colab": {
     "base_uri": "https://localhost:8080/"
    },
    "id": "TLA9fanObJ4W",
    "outputId": "817aeabc-e400-43a6-d7dc-3fc3d85812c2"
   },
   "outputs": [
    {
     "data": {
      "text/plain": [
       "Min_Vol    0.892236\n",
       "BTC        0.107764\n",
       "dtype: float64"
      ]
     },
     "execution_count": 71,
     "metadata": {},
     "output_type": "execute_result"
    }
   ],
   "source": [
    "min_w_maxSharpe = min_cov_inv.dot(min_medx) /  min_cov_inv.dot(min_medx).sum()\n",
    "min_w_maxSharpe"
   ]
  },
  {
   "cell_type": "markdown",
   "metadata": {
    "id": "Vl6zKix8brdl"
   },
   "source": [
    "Unsurprisingly, the max sharpe ratio for this portfolio blend is mostly the base portfolio.\n",
    "\n",
    "Now let's find the minimum volatility weights for this portfolio:"
   ]
  },
  {
   "cell_type": "code",
   "execution_count": 72,
   "metadata": {
    "colab": {
     "base_uri": "https://localhost:8080/"
    },
    "id": "YCP2j1ilbgCq",
    "outputId": "be4b53b5-870d-4a71-d9fe-f979b30dfe5c"
   },
   "outputs": [
    {
     "data": {
      "text/plain": [
       "Min_Vol    1.005825\n",
       "BTC       -0.005825\n",
       "dtype: float64"
      ]
     },
     "execution_count": 72,
     "metadata": {},
     "output_type": "execute_result"
    }
   ],
   "source": [
    "min_w_minVol = min_cov_inv.sum() / min_cov_inv.sum().sum()\n",
    "min_w_minVol"
   ]
  },
  {
   "cell_type": "markdown",
   "metadata": {
    "id": "QOUXcIPgb7cL"
   },
   "source": [
    "The minimum volatility portfolio actually suggests that one shold ***short*** bitcoin.\n",
    "\n",
    "Now let's compound the returns of these optimal portfolios, based on a blend of BTC and our maximum sharpe ratio base portfolio."
   ]
  },
  {
   "cell_type": "code",
   "execution_count": 73,
   "metadata": {
    "colab": {
     "base_uri": "https://localhost:8080/",
     "height": 661
    },
    "id": "H-KaUvP3cOZu",
    "outputId": "9a579d8f-806c-4035-fe56-24c7632a9a19",
    "scrolled": true
   },
   "outputs": [
    {
     "data": {
      "text/html": [
       "<div>\n",
       "<style scoped>\n",
       "    .dataframe tbody tr th:only-of-type {\n",
       "        vertical-align: middle;\n",
       "    }\n",
       "\n",
       "    .dataframe tbody tr th {\n",
       "        vertical-align: top;\n",
       "    }\n",
       "\n",
       "    .dataframe thead th {\n",
       "        text-align: right;\n",
       "    }\n",
       "</style>\n",
       "<table border=\"1\" class=\"dataframe\">\n",
       "  <thead>\n",
       "    <tr style=\"text-align: right;\">\n",
       "      <th></th>\n",
       "      <th>Base_Min_Vol</th>\n",
       "      <th>BTC</th>\n",
       "      <th>BTC_Max_Sharpe</th>\n",
       "      <th>BTC_Min_Vol</th>\n",
       "    </tr>\n",
       "  </thead>\n",
       "  <tbody>\n",
       "    <tr>\n",
       "      <th>2018-01-03</th>\n",
       "      <td>0.000087</td>\n",
       "      <td>0.091906</td>\n",
       "      <td>0.009982</td>\n",
       "      <td>-0.000448</td>\n",
       "    </tr>\n",
       "    <tr>\n",
       "      <th>2018-01-04</th>\n",
       "      <td>-0.000646</td>\n",
       "      <td>0.032474</td>\n",
       "      <td>0.002923</td>\n",
       "      <td>-0.000839</td>\n",
       "    </tr>\n",
       "    <tr>\n",
       "      <th>2018-01-05</th>\n",
       "      <td>-0.000641</td>\n",
       "      <td>-0.000788</td>\n",
       "      <td>-0.000657</td>\n",
       "      <td>-0.000640</td>\n",
       "    </tr>\n",
       "    <tr>\n",
       "      <th>2018-01-08</th>\n",
       "      <td>-0.000270</td>\n",
       "      <td>-0.059806</td>\n",
       "      <td>-0.006686</td>\n",
       "      <td>0.000077</td>\n",
       "    </tr>\n",
       "    <tr>\n",
       "      <th>2018-01-09</th>\n",
       "      <td>-0.002756</td>\n",
       "      <td>-0.069712</td>\n",
       "      <td>-0.009971</td>\n",
       "      <td>-0.002366</td>\n",
       "    </tr>\n",
       "    <tr>\n",
       "      <th>...</th>\n",
       "      <td>...</td>\n",
       "      <td>...</td>\n",
       "      <td>...</td>\n",
       "      <td>...</td>\n",
       "    </tr>\n",
       "    <tr>\n",
       "      <th>2022-02-22</th>\n",
       "      <td>-0.001094</td>\n",
       "      <td>0.033086</td>\n",
       "      <td>0.002590</td>\n",
       "      <td>-0.001293</td>\n",
       "    </tr>\n",
       "    <tr>\n",
       "      <th>2022-02-23</th>\n",
       "      <td>-0.004460</td>\n",
       "      <td>-0.025701</td>\n",
       "      <td>-0.006749</td>\n",
       "      <td>-0.004336</td>\n",
       "    </tr>\n",
       "    <tr>\n",
       "      <th>2022-02-24</th>\n",
       "      <td>0.001837</td>\n",
       "      <td>0.029026</td>\n",
       "      <td>0.004767</td>\n",
       "      <td>0.001678</td>\n",
       "    </tr>\n",
       "    <tr>\n",
       "      <th>2022-02-25</th>\n",
       "      <td>0.001015</td>\n",
       "      <td>0.023104</td>\n",
       "      <td>0.003395</td>\n",
       "      <td>0.000886</td>\n",
       "    </tr>\n",
       "    <tr>\n",
       "      <th>2022-02-28</th>\n",
       "      <td>0.007206</td>\n",
       "      <td>0.144965</td>\n",
       "      <td>0.022051</td>\n",
       "      <td>0.006403</td>\n",
       "    </tr>\n",
       "  </tbody>\n",
       "</table>\n",
       "<p>1046 rows × 4 columns</p>\n",
       "</div>"
      ],
      "text/plain": [
       "            Base_Min_Vol       BTC  BTC_Max_Sharpe  BTC_Min_Vol\n",
       "2018-01-03      0.000087  0.091906        0.009982    -0.000448\n",
       "2018-01-04     -0.000646  0.032474        0.002923    -0.000839\n",
       "2018-01-05     -0.000641 -0.000788       -0.000657    -0.000640\n",
       "2018-01-08     -0.000270 -0.059806       -0.006686     0.000077\n",
       "2018-01-09     -0.002756 -0.069712       -0.009971    -0.002366\n",
       "...                  ...       ...             ...          ...\n",
       "2022-02-22     -0.001094  0.033086        0.002590    -0.001293\n",
       "2022-02-23     -0.004460 -0.025701       -0.006749    -0.004336\n",
       "2022-02-24      0.001837  0.029026        0.004767     0.001678\n",
       "2022-02-25      0.001015  0.023104        0.003395     0.000886\n",
       "2022-02-28      0.007206  0.144965        0.022051     0.006403\n",
       "\n",
       "[1046 rows x 4 columns]"
      ]
     },
     "execution_count": 73,
     "metadata": {},
     "output_type": "execute_result"
    },
    {
     "data": {
      "image/png": "[encoded data removed]",
      "text/plain": [
       "<Figure size 432x288 with 1 Axes>"
      ]
     },
     "metadata": {},
     "output_type": "display_data"
    }
   ],
   "source": [
    "l = pd.DataFrame()\n",
    "l['Base_Min_Vol'] = t.Min_Vol\n",
    "l['BTC']             = t.BTC\n",
    "l['BTC_Max_Sharpe']  = t.multiply(min_w_maxSharpe).sum('columns')\n",
    "l['BTC_Min_Vol']     = t.multiply(min_w_minVol).sum('columns')\n",
    "\n",
    "l.add(1).cumprod().plot(logy=True)\n",
    "l"
   ]
  },
  {
   "cell_type": "code",
   "execution_count": 1,
   "metadata": {
    "id": "0PMrOlIcb6df"
   },
   "outputs": [
    {
     "ename": "SyntaxError",
     "evalue": "invalid syntax (<ipython-input-1-0c036c85cdfc>, line 2)",
     "output_type": "error",
     "traceback": [
      "\u001b[1;36m  File \u001b[1;32m\"<ipython-input-1-0c036c85cdfc>\"\u001b[1;36m, line \u001b[1;32m2\u001b[0m\n\u001b[1;33m    Find the risk premium of the portfolio:\u001b[0m\n\u001b[1;37m         ^\u001b[0m\n\u001b[1;31mSyntaxError\u001b[0m\u001b[1;31m:\u001b[0m invalid syntax\n"
     ]
    }
   ],
   "source": [
    "## Adding Crypto to the minimum volatility portfolio\n",
    "Find the risk premium of the portfolio:\n",
    "\n",
    "t['BTC'] = BTC_ret\n",
    "t\n",
    "\n",
    "min_r_annual = t[:'2021'].add(1).resample('A').prod().sub(1)\n",
    "min_r_annual\n",
    "\n",
    "min_rx_annual = min_r_annual.sub(r_annual_Tbill, 'rows').dropna() # Subtract a series from a table with table.sub(series, 'rows')\n",
    "min_rx_annual\n",
    "\n",
    "min_meanx = min_rx_annual[['Min_Vol','BTC']].mean()\n",
    "min_meanx\n",
    "\n",
    "Obviously, using the annual mean rx for bitcoin isn't going to work here. Using the Median might help here, because it is a metric less sensitive to outliers. I don't know if this is valid to do for the linear algebra though.\n",
    "\n",
    "\n",
    "min_medx = max_rx_annual[['Min_Vol','BTC']].median()\n",
    "min_medx\n",
    "\n",
    "Now, set the example weights:\n",
    "\n",
    "min_w = pd.Series({'Min_Vol':0.6,'BTC':0.4})\n",
    "min_w\n",
    "\n",
    "Calculate portfolio risk premium:\n",
    "\n",
    "\n",
    "(min_w * min_medx).sum()\n",
    "\n",
    "Now find portfolio variance:\n",
    "\n",
    "min_cov = t[['Min_Vol','BTC']].cov()*252\n",
    "min_cov\n",
    "\n",
    "Volatility:\n",
    "\n",
    "min_w.dot(min_cov).dot(min_w) ** 0.5 \n",
    "\n",
    "m = pd.DataFrame(index=range(11))\n",
    "\n",
    "for i in m.index:\n",
    "    w                       = pd.Series({'Min_Vol':i/10, 'BTC':1-i/10})\n",
    "    m.loc[i,'Min_Vol']      = w.Min_Vol\n",
    "    m.loc[i,'BTC']          = w.BTC\n",
    "    m.loc[i,'Risk_premium'] = w.dot(min_medx)\n",
    "    m.loc[i,'Volatility']   = w.dot(min_cov).dot(w) ** 0.5\n",
    "\n",
    "m['Sharpe'] = m.Risk_premium / m.Volatility        \n",
    "m\n",
    "\n",
    "m.plot.scatter('Volatility','Risk_premium')\n",
    "\n",
    "The covariance between BTC and the market is so low that the efficient frontier looks like basically a straight line\n",
    "\n",
    "Now find the maximum sharpe ratio of this new portfolio blend:\n",
    "\n",
    "np.linalg.inv(min_cov)\n",
    "\n",
    "min_cov_inv = pd.DataFrame(np.linalg.inv(min_cov), columns=min_cov.columns, index=min_cov.index)\n",
    "min_cov_inv\n",
    "\n",
    "Maximum Sharpe Ratio Weights:\n",
    "\n",
    "min_w_maxSharpe = min_cov_inv.dot(min_medx) /  min_cov_inv.dot(min_medx).sum()\n",
    "min_w_maxSharpe\n",
    "\n",
    "Unsurprisingly, the max sharpe ratio for this portfolio blend is mostly the base portfolio.\n",
    "\n",
    "Now let's find the minimum volatility weights for this portfolio:\n",
    "\n",
    "min_w_minVol = min_cov_inv.sum() / min_cov_inv.sum().sum()\n",
    "min_w_minVol\n",
    "\n",
    "The minimum volatility portfolio actually suggests that one shold ***short*** bitcoin.\n",
    "\n",
    "Now let's compound the returns of these optimal portfolios, based on a blend of BTC and our maximum sharpe ratio base portfolio.\n",
    "\n",
    "l = pd.DataFrame()\n",
    "l['Base_Min_Vol'] = t.Min_Vol\n",
    "l['BTC']             = t.BTC\n",
    "l['BTC_Max_Sharpe']  = t.multiply(min_w_maxSharpe).sum('columns')\n",
    "l['BTC_Min_Vol']     = t.multiply(min_w_minVol).sum('columns')\n",
    "\n",
    "l.add(1).cumprod().plot(logy=True)\n",
    "l"
   ]
  },
  {
   "cell_type": "markdown",
   "metadata": {
    "id": "yJw1aUySdGlO"
   },
   "source": []
  },
  {
   "cell_type": "code",
   "execution_count": null,
   "metadata": {
    "id": "Voez_YN8cFLj"
   },
   "outputs": [],
   "source": []
  }
 ],
 "metadata": {
  "colab": {
   "name": "DB code",
   "provenance": []
  },
  "kernelspec": {
   "display_name": "Python 3",
   "language": "python",
   "name": "python3"
  },
  "language_info": {
   "codemirror_mode": {
    "name": "ipython",
    "version": 3
   },
   "file_extension": ".py",
   "mimetype": "text/x-python",
   "name": "python",
   "nbconvert_exporter": "python",
   "pygments_lexer": "ipython3",
   "version": "3.8.5"
  }
 },
 "nbformat": 4,
 "nbformat_minor": 1
}
