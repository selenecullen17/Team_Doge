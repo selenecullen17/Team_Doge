{
 "cells": [
  {
   "cell_type": "code",
   "execution_count": 436,
   "metadata": {},
   "outputs": [],
   "source": [
    "import pandas as pd                                    # Working with tables\n",
    "import numpy as np\n",
    "\n",
    "\n",
    "from tiingo import TiingoClient                       # Stock prices.\n",
    "import quandl                                         # Economic data, futures prices, ...\n",
    "\n",
    "# API keys:\n",
    "tiingo = TiingoClient({'api_key':'349dd4117e5d1ed71a22f0207a8e439cf3f7b06b'})\n",
    "quandl.ApiConfig.api_key = '_ci7hzC_sPkspKWz2yzt'                      # Replace the XXXX with your API key (must be inside the ' ').\n",
    "\n",
    "import matplotlib.pyplot as plt                        # Basic plot library.\n",
    "plt.style.use('ggplot')                                # Make plots look nice.\n",
    "%matplotlib inline"
   ]
  },
  {
   "cell_type": "code",
   "execution_count": 437,
   "metadata": {},
   "outputs": [],
   "source": [
    "import sharpe_ratio_finder_2 as srf"
   ]
  },
  {
   "cell_type": "code",
   "execution_count": 8,
   "metadata": {},
   "outputs": [
    {
     "name": "stdout",
     "output_type": "stream",
     "text": [
      "hello world!\n"
     ]
    },
    {
     "data": {
      "text/plain": [
       "<module 'sharpe_ratio_finder_2' from 'C:\\\\Users\\\\selen\\\\Practicum Project\\\\Team_Doge\\\\sharpe_ratio_finder_2.py'>"
      ]
     },
     "execution_count": 8,
     "metadata": {},
     "output_type": "execute_result"
    }
   ],
   "source": [
    "import importlib\n",
    "importlib.reload(srf)"
   ]
  },
  {
   "cell_type": "code",
   "execution_count": 493,
   "metadata": {},
   "outputs": [],
   "source": [
    "start_date   = '3-23-2017'\n",
    "end_date     = '3-23-2022'\n",
    "base_tickers = ['ASX','AGG']\n",
    "base_weights = [.99,.01]\n",
    "var_ticker   = ['GLD']\n",
    "trading_days = 252"
   ]
  },
  {
   "cell_type": "markdown",
   "metadata": {},
   "source": [
    "# Here is the model"
   ]
  },
  {
   "cell_type": "code",
   "execution_count": 494,
   "metadata": {},
   "outputs": [],
   "source": [
    "tickers = ['ASX','AGG','GLD']"
   ]
  },
  {
   "cell_type": "markdown",
   "metadata": {},
   "source": [
    "Basic Stock Stats functions\n",
    "```\n",
    "r             = srf.returns(tickers,start_date,end_date,trading_days)\n",
    "risk_premiums = srf.rp(tickers,start_date,end_date,trading_days)\n",
    "volatility    = srf.vol(tickers,start_date,end_date,trading_days)\n",
    "covariance    = srf.cov(tickers,start_date,end_date,trading_days)\n",
    "correlation   = srf.corr(tickers,start_date,end_date)\n",
    "```\n",
    "Return the statistic the function is named for. \n"
   ]
  },
  {
   "cell_type": "code",
   "execution_count": 495,
   "metadata": {},
   "outputs": [],
   "source": [
    "r             = srf.returns(tickers,start_date,end_date,trading_days)\n",
    "risk_premiums = srf.rp(tickers,start_date,end_date,trading_days)\n",
    "volatility    = srf.vol(tickers,start_date,end_date,trading_days)\n",
    "covariance    = srf.cov(tickers,start_date,end_date,trading_days)\n",
    "correlation   = srf.corr(tickers,start_date,end_date)"
   ]
  },
  {
   "cell_type": "code",
   "execution_count": 496,
   "metadata": {},
   "outputs": [
    {
     "data": {
      "text/html": [
       "<div>\n",
       "<style scoped>\n",
       "    .dataframe tbody tr th:only-of-type {\n",
       "        vertical-align: middle;\n",
       "    }\n",
       "\n",
       "    .dataframe tbody tr th {\n",
       "        vertical-align: top;\n",
       "    }\n",
       "\n",
       "    .dataframe thead th {\n",
       "        text-align: right;\n",
       "    }\n",
       "</style>\n",
       "<table border=\"1\" class=\"dataframe\">\n",
       "  <thead>\n",
       "    <tr style=\"text-align: right;\">\n",
       "      <th></th>\n",
       "      <th>ASX</th>\n",
       "      <th>AGG</th>\n",
       "      <th>GLD</th>\n",
       "    </tr>\n",
       "  </thead>\n",
       "  <tbody>\n",
       "    <tr>\n",
       "      <th>2017-03-23</th>\n",
       "      <td>NaN</td>\n",
       "      <td>NaN</td>\n",
       "      <td>NaN</td>\n",
       "    </tr>\n",
       "    <tr>\n",
       "      <th>2017-03-24</th>\n",
       "      <td>0.012384</td>\n",
       "      <td>-0.000830</td>\n",
       "      <td>0.001601</td>\n",
       "    </tr>\n",
       "    <tr>\n",
       "      <th>2017-03-27</th>\n",
       "      <td>0.012232</td>\n",
       "      <td>0.002399</td>\n",
       "      <td>0.005637</td>\n",
       "    </tr>\n",
       "    <tr>\n",
       "      <th>2017-03-28</th>\n",
       "      <td>-0.001511</td>\n",
       "      <td>-0.002302</td>\n",
       "      <td>-0.004099</td>\n",
       "    </tr>\n",
       "    <tr>\n",
       "      <th>2017-03-29</th>\n",
       "      <td>0.001513</td>\n",
       "      <td>0.002215</td>\n",
       "      <td>0.002436</td>\n",
       "    </tr>\n",
       "    <tr>\n",
       "      <th>...</th>\n",
       "      <td>...</td>\n",
       "      <td>...</td>\n",
       "      <td>...</td>\n",
       "    </tr>\n",
       "    <tr>\n",
       "      <th>2022-03-17</th>\n",
       "      <td>0.019048</td>\n",
       "      <td>0.001672</td>\n",
       "      <td>0.004889</td>\n",
       "    </tr>\n",
       "    <tr>\n",
       "      <th>2022-03-18</th>\n",
       "      <td>0.013351</td>\n",
       "      <td>0.002225</td>\n",
       "      <td>-0.008790</td>\n",
       "    </tr>\n",
       "    <tr>\n",
       "      <th>2022-03-21</th>\n",
       "      <td>-0.018445</td>\n",
       "      <td>-0.009806</td>\n",
       "      <td>0.007641</td>\n",
       "    </tr>\n",
       "    <tr>\n",
       "      <th>2022-03-22</th>\n",
       "      <td>0.006711</td>\n",
       "      <td>-0.002709</td>\n",
       "      <td>-0.007251</td>\n",
       "    </tr>\n",
       "    <tr>\n",
       "      <th>2022-03-23</th>\n",
       "      <td>-0.029333</td>\n",
       "      <td>0.004122</td>\n",
       "      <td>0.013660</td>\n",
       "    </tr>\n",
       "  </tbody>\n",
       "</table>\n",
       "<p>1260 rows × 3 columns</p>\n",
       "</div>"
      ],
      "text/plain": [
       "                 ASX       AGG       GLD\n",
       "2017-03-23       NaN       NaN       NaN\n",
       "2017-03-24  0.012384 -0.000830  0.001601\n",
       "2017-03-27  0.012232  0.002399  0.005637\n",
       "2017-03-28 -0.001511 -0.002302 -0.004099\n",
       "2017-03-29  0.001513  0.002215  0.002436\n",
       "...              ...       ...       ...\n",
       "2022-03-17  0.019048  0.001672  0.004889\n",
       "2022-03-18  0.013351  0.002225 -0.008790\n",
       "2022-03-21 -0.018445 -0.009806  0.007641\n",
       "2022-03-22  0.006711 -0.002709 -0.007251\n",
       "2022-03-23 -0.029333  0.004122  0.013660\n",
       "\n",
       "[1260 rows x 3 columns]"
      ]
     },
     "execution_count": 496,
     "metadata": {},
     "output_type": "execute_result"
    }
   ],
   "source": [
    "xmax = 1\n",
    "ymin = -.2\n",
    "ymax = .7\n",
    "\n",
    "r"
   ]
  },
  {
   "cell_type": "markdown",
   "metadata": {},
   "source": [
    "Mean Vol Plot Function:\n",
    "``` \n",
    "mean_vol_plot(tickers,risk_premiums,vol,xmax,ymin,ymax):\n",
    "```\n",
    "Returns a mean-volatility plot"
   ]
  },
  {
   "cell_type": "code",
   "execution_count": 497,
   "metadata": {
    "scrolled": true
   },
   "outputs": [
    {
     "data": {
      "text/plain": [
       "<AxesSubplot:xlabel='Volatility', ylabel='Risk_premium'>"
      ]
     },
     "execution_count": 497,
     "metadata": {},
     "output_type": "execute_result"
    },
    {
     "data": {
      "image/png": "[encoded data removed]",
      "text/plain": [
       "<Figure size 432x288 with 1 Axes>"
      ]
     },
     "metadata": {
      "needs_background": "light"
     },
     "output_type": "display_data"
    }
   ],
   "source": [
    "srf.mean_vol_plot(tickers,risk_premiums,volatility,xmax,ymin,ymax)"
   ]
  },
  {
   "cell_type": "markdown",
   "metadata": {},
   "source": [
    "Efficient Frontier Function\n",
    "```\n",
    "efficient_frontier(tickers,risk_premiums,vol,cov,xmax,ymin,ymax)\n",
    "```\n",
    "Simulates 1000 random portfolios and graphs all of them on a mean-volatility plot. \n",
    "Returns the graph. "
   ]
  },
  {
   "cell_type": "code",
   "execution_count": 498,
   "metadata": {},
   "outputs": [
    {
     "data": {
      "text/plain": [
       "<AxesSubplot:xlabel='Volatility', ylabel='Risk_premium'>"
      ]
     },
     "execution_count": 498,
     "metadata": {},
     "output_type": "execute_result"
    },
    {
     "data": {
      "image/png": "[encoded data removed]",
      "text/plain": [
       "<Figure size 432x288 with 1 Axes>"
      ]
     },
     "metadata": {
      "needs_background": "light"
     },
     "output_type": "display_data"
    }
   ],
   "source": [
    "srf.efficient_frontier(tickers,risk_premiums,volatility,covariance,xmax,ymin,ymax)"
   ]
  },
  {
   "cell_type": "markdown",
   "metadata": {},
   "source": [
    "# Max Sharpe Weight Function\n",
    "```\n",
    "max_sharpe_weights(tickers,risk_premiums,vol,cov)\n",
    "```\n",
    "Does the same simulation as the efficient frontier function, but puts the results in a DataFrame instead of a graph. The function then locates the maximum sharpe ratio, finds the corresponding weights, and puts those weights in a dataframe.\n",
    "Returns the dataframe."
   ]
  },
  {
   "cell_type": "code",
   "execution_count": 499,
   "metadata": {},
   "outputs": [
    {
     "data": {
      "text/html": [
       "<div>\n",
       "<style scoped>\n",
       "    .dataframe tbody tr th:only-of-type {\n",
       "        vertical-align: middle;\n",
       "    }\n",
       "\n",
       "    .dataframe tbody tr th {\n",
       "        vertical-align: top;\n",
       "    }\n",
       "\n",
       "    .dataframe thead th {\n",
       "        text-align: right;\n",
       "    }\n",
       "</style>\n",
       "<table border=\"1\" class=\"dataframe\">\n",
       "  <thead>\n",
       "    <tr style=\"text-align: right;\">\n",
       "      <th></th>\n",
       "      <th>Risk_Premiums</th>\n",
       "      <th>Weights</th>\n",
       "      <th>weighted_ret</th>\n",
       "    </tr>\n",
       "  </thead>\n",
       "  <tbody>\n",
       "    <tr>\n",
       "      <th>ASX</th>\n",
       "      <td>0.121786</td>\n",
       "      <td>0.116471</td>\n",
       "      <td>0.014184</td>\n",
       "    </tr>\n",
       "    <tr>\n",
       "      <th>AGG</th>\n",
       "      <td>0.011029</td>\n",
       "      <td>0.108595</td>\n",
       "      <td>0.001198</td>\n",
       "    </tr>\n",
       "    <tr>\n",
       "      <th>GLD</th>\n",
       "      <td>0.083735</td>\n",
       "      <td>0.774935</td>\n",
       "      <td>0.064889</td>\n",
       "    </tr>\n",
       "  </tbody>\n",
       "</table>\n",
       "</div>"
      ],
      "text/plain": [
       "     Risk_Premiums   Weights  weighted_ret\n",
       "ASX       0.121786  0.116471      0.014184\n",
       "AGG       0.011029  0.108595      0.001198\n",
       "GLD       0.083735  0.774935      0.064889"
      ]
     },
     "execution_count": 499,
     "metadata": {},
     "output_type": "execute_result"
    }
   ],
   "source": [
    "max_sharpe_weights = srf.max_sharpe_weights(tickers,risk_premiums,volatility,covariance)\n",
    "max_sharpe_weights"
   ]
  },
  {
   "cell_type": "markdown",
   "metadata": {},
   "source": [
    "Maximum Sharpe Ratio Value Function\n",
    "```\n",
    "sharpe_ratio_value(tickers,risk_premiums,vol,cov)\n",
    "```\n",
    "Returns the value of the sharpe ratio that corresponds with the above weights. \n",
    "\n",
    "Risk Premium Function\n",
    "```\n",
    "max_sharpe_risk_premium(tickers,risk_premiums,vol,cov)\n",
    "```\n",
    "Returns the risk premium associated with the maximum sharpe ratio.\n",
    "\n",
    "Volatility function\n",
    "```\n",
    "max_sharpe_volatility(tickers,risk_premiums,vol,cov)\n",
    "```\n",
    "Returns the volatility associated with the maximum sharpe ratio portfolio.\n"
   ]
  },
  {
   "cell_type": "code",
   "execution_count": 500,
   "metadata": {},
   "outputs": [
    {
     "data": {
      "text/plain": [
       "0.6645180763683143"
      ]
     },
     "execution_count": 500,
     "metadata": {},
     "output_type": "execute_result"
    }
   ],
   "source": [
    "sharpe_ratio = srf.sharpe_ratio_value(tickers,risk_premiums,volatility,covariance)\n",
    "sharpe_ratio"
   ]
  },
  {
   "cell_type": "code",
   "execution_count": 501,
   "metadata": {},
   "outputs": [
    {
     "data": {
      "text/plain": [
       "482    0.081917\n",
       "Name: Risk_premium, dtype: float64"
      ]
     },
     "execution_count": 501,
     "metadata": {},
     "output_type": "execute_result"
    }
   ],
   "source": [
    "max_sharpe_risk_premium = srf.max_sharpe_risk_premium(tickers,risk_premiums,volatility,covariance)\n",
    "max_sharpe_risk_premium"
   ]
  },
  {
   "cell_type": "code",
   "execution_count": 502,
   "metadata": {},
   "outputs": [
    {
     "data": {
      "text/plain": [
       "876    0.126032\n",
       "Name: Volatility, dtype: float64"
      ]
     },
     "execution_count": 502,
     "metadata": {},
     "output_type": "execute_result"
    }
   ],
   "source": [
    "max_sharpe_volatility = srf.max_sharpe_volatility(tickers,risk_premiums,volatility,covariance)\n",
    "max_sharpe_volatility"
   ]
  },
  {
   "cell_type": "markdown",
   "metadata": {},
   "source": [
    "Variable Weights Function\n",
    "```\n",
    "var_weight_plot(base_tickers,var_ticker,base_weights,start_date,end_date,n)\n",
    "```\n",
    "Varies the weight of the variable security (in this case some kind of crypto) from 1/n to n/n and graphs the changes in Sharpe Ratio, Risk Premium, and Volatility. \n",
    "Important notes - \n",
    "    - There can be as many tickers in the base portfolio as you want, but there can only be one variable ticker\n",
    "    - You must put in the weights of the base portfolio as an argument to the function\n",
    "    \n",
    "This function returns the graph as well as the dataframe containing the simulation's results.\n",
    "  "
   ]
  },
  {
   "cell_type": "code",
   "execution_count": 503,
   "metadata": {},
   "outputs": [],
   "source": [
    "\n",
    "n = 100"
   ]
  },
  {
   "cell_type": "code",
   "execution_count": 504,
   "metadata": {},
   "outputs": [
    {
     "data": {
      "text/plain": [
       "(    var_weight  Risk_Premium  Volatility  Sharpe_Ratio\n",
       " 0         0.00      0.120679    0.382668      0.315361\n",
       " 1         0.01      0.120309    0.378981      0.317455\n",
       " 2         0.02      0.119940    0.375298      0.319585\n",
       " 3         0.03      0.119570    0.371620      0.321754\n",
       " 4         0.04      0.119201    0.367948      0.323961\n",
       " ..         ...           ...         ...           ...\n",
       " 95        0.95      0.085582    0.132970      0.643617\n",
       " 96        0.96      0.085212    0.133455      0.638512\n",
       " 97        0.97      0.084843    0.134053      0.632908\n",
       " 98        0.98      0.084474    0.134763      0.626831\n",
       " 99        0.99      0.084104    0.135584      0.620312\n",
       " \n",
       " [100 rows x 4 columns],\n",
       " <AxesSubplot:>)"
      ]
     },
     "execution_count": 504,
     "metadata": {},
     "output_type": "execute_result"
    },
    {
     "data": {
      "image/png": "[encoded data removed]",
      "text/plain": [
       "<Figure size 432x288 with 1 Axes>"
      ]
     },
     "metadata": {
      "needs_background": "light"
     },
     "output_type": "display_data"
    }
   ],
   "source": [
    "srf.var_weight_plot(base_tickers,var_ticker,base_weights,start_date,end_date,n,trading_days)"
   ]
  },
  {
   "cell_type": "code",
   "execution_count": null,
   "metadata": {},
   "outputs": [],
   "source": []
  }
 ],
 "metadata": {
  "kernelspec": {
   "display_name": "Python 3",
   "language": "python",
   "name": "python3"
  },
  "language_info": {
   "codemirror_mode": {
    "name": "ipython",
    "version": 3
   },
   "file_extension": ".py",
   "mimetype": "text/x-python",
   "name": "python",
   "nbconvert_exporter": "python",
   "pygments_lexer": "ipython3",
   "version": "3.8.5"
  }
 },
 "nbformat": 4,
 "nbformat_minor": 4
}
