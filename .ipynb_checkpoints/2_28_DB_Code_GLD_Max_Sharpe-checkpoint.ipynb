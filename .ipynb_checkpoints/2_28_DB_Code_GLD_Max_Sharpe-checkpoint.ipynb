{
 "cells": [
  {
   "cell_type": "markdown",
   "metadata": {
    "id": "5xakOlyDRJOo"
   },
   "source": [
    "# Setting Up\n",
    "\n"
   ]
  },
  {
   "cell_type": "code",
   "execution_count": null,
   "metadata": {
    "colab": {
     "base_uri": "https://localhost:8080/"
    },
    "id": "T8VdlT6cEv0q",
    "outputId": "2113c57b-43c8-44e2-f786-f5113ba5eb72"
   },
   "outputs": [
    {
     "name": "stdout",
     "output_type": "stream",
     "text": [
      "Collecting tiingo\n",
      "  Downloading tiingo-0.14.0-py2.py3-none-any.whl (13 kB)\n",
      "Requirement already satisfied: requests in /usr/local/lib/python3.7/dist-packages (from tiingo) (2.23.0)\n",
      "Requirement already satisfied: idna<3,>=2.5 in /usr/local/lib/python3.7/dist-packages (from requests->tiingo) (2.10)\n",
      "Requirement already satisfied: urllib3!=1.25.0,!=1.25.1,<1.26,>=1.21.1 in /usr/local/lib/python3.7/dist-packages (from requests->tiingo) (1.24.3)\n",
      "Requirement already satisfied: certifi>=2017.4.17 in /usr/local/lib/python3.7/dist-packages (from requests->tiingo) (2021.10.8)\n",
      "Requirement already satisfied: chardet<4,>=3.0.2 in /usr/local/lib/python3.7/dist-packages (from requests->tiingo) (3.0.4)\n",
      "Installing collected packages: tiingo\n",
      "Successfully installed tiingo-0.14.0\n"
     ]
    }
   ],
   "source": [
    "!pip install tiingo"
   ]
  },
  {
   "cell_type": "code",
   "execution_count": null,
   "metadata": {
    "colab": {
     "base_uri": "https://localhost:8080/"
    },
    "id": "MqDccfXRE9PX",
    "outputId": "a1922008-8315-49c5-eac0-d0c5b8a37978"
   },
   "outputs": [
    {
     "name": "stdout",
     "output_type": "stream",
     "text": [
      "Collecting quandl\n",
      "  Downloading Quandl-3.7.0-py2.py3-none-any.whl (26 kB)\n",
      "Requirement already satisfied: six in /usr/local/lib/python3.7/dist-packages (from quandl) (1.15.0)\n",
      "Requirement already satisfied: numpy>=1.8 in /usr/local/lib/python3.7/dist-packages (from quandl) (1.21.5)\n",
      "Requirement already satisfied: pandas>=0.14 in /usr/local/lib/python3.7/dist-packages (from quandl) (1.3.5)\n",
      "Requirement already satisfied: more-itertools in /usr/local/lib/python3.7/dist-packages (from quandl) (8.12.0)\n",
      "Collecting inflection>=0.3.1\n",
      "  Downloading inflection-0.5.1-py2.py3-none-any.whl (9.5 kB)\n",
      "Requirement already satisfied: requests>=2.7.0 in /usr/local/lib/python3.7/dist-packages (from quandl) (2.23.0)\n",
      "Requirement already satisfied: python-dateutil in /usr/local/lib/python3.7/dist-packages (from quandl) (2.8.2)\n",
      "Requirement already satisfied: pytz>=2017.3 in /usr/local/lib/python3.7/dist-packages (from pandas>=0.14->quandl) (2018.9)\n",
      "Requirement already satisfied: urllib3!=1.25.0,!=1.25.1,<1.26,>=1.21.1 in /usr/local/lib/python3.7/dist-packages (from requests>=2.7.0->quandl) (1.24.3)\n",
      "Requirement already satisfied: certifi>=2017.4.17 in /usr/local/lib/python3.7/dist-packages (from requests>=2.7.0->quandl) (2021.10.8)\n",
      "Requirement already satisfied: chardet<4,>=3.0.2 in /usr/local/lib/python3.7/dist-packages (from requests>=2.7.0->quandl) (3.0.4)\n",
      "Requirement already satisfied: idna<3,>=2.5 in /usr/local/lib/python3.7/dist-packages (from requests>=2.7.0->quandl) (2.10)\n",
      "Installing collected packages: inflection, quandl\n",
      "Successfully installed inflection-0.5.1 quandl-3.7.0\n"
     ]
    }
   ],
   "source": [
    "!pip install quandl"
   ]
  },
  {
   "cell_type": "code",
   "execution_count": 1,
   "metadata": {
    "id": "EMJuIAiN525P"
   },
   "outputs": [],
   "source": [
    "# Working with data:\n",
    "import numpy  as np                                   # For scientific computing.\n",
    "import pandas as pd                                   # Working with tables.\n",
    "\n",
    "# Downloading files:\n",
    "import requests, zipfile, io                                # To access websites.\n",
    "\n",
    "# Specific data providers:\n",
    "from tiingo import TiingoClient                       # Stock prices.\n",
    "import quandl                                         # Economic data, futures prices, ...\n",
    "\n",
    "# API keys:\n",
    "tiingo = TiingoClient({'api_key':'349dd4117e5d1ed71a22f0207a8e439cf3f7b06b'})\n",
    "quandl.ApiConfig.api_key = '_ci7hzC_sPkspKWz2yzt'\n",
    "\n",
    "# Plotting:\n",
    "import matplotlib.pyplot as plt                        # Basic plot library.\n",
    "plt.style.use('ggplot')    \n",
    "\n"
   ]
  },
  {
   "cell_type": "code",
   "execution_count": 2,
   "metadata": {
    "colab": {
     "base_uri": "https://localhost:8080/",
     "height": 423
    },
    "id": "7S6JTlVeHfOz",
    "outputId": "ccf93458-9483-406d-bf58-c333c106a717"
   },
   "outputs": [
    {
     "data": {
      "text/html": [
       "<div>\n",
       "<style scoped>\n",
       "    .dataframe tbody tr th:only-of-type {\n",
       "        vertical-align: middle;\n",
       "    }\n",
       "\n",
       "    .dataframe tbody tr th {\n",
       "        vertical-align: top;\n",
       "    }\n",
       "\n",
       "    .dataframe thead th {\n",
       "        text-align: right;\n",
       "    }\n",
       "</style>\n",
       "<table border=\"1\" class=\"dataframe\">\n",
       "  <thead>\n",
       "    <tr style=\"text-align: right;\">\n",
       "      <th></th>\n",
       "      <th>btcusd</th>\n",
       "    </tr>\n",
       "  </thead>\n",
       "  <tbody>\n",
       "    <tr>\n",
       "      <th>2011-08-19</th>\n",
       "      <td>NaN</td>\n",
       "    </tr>\n",
       "    <tr>\n",
       "      <th>2011-08-20</th>\n",
       "      <td>0.072477</td>\n",
       "    </tr>\n",
       "    <tr>\n",
       "      <th>2011-08-21</th>\n",
       "      <td>0.000855</td>\n",
       "    </tr>\n",
       "    <tr>\n",
       "      <th>2011-08-22</th>\n",
       "      <td>0.000000</td>\n",
       "    </tr>\n",
       "    <tr>\n",
       "      <th>2011-08-23</th>\n",
       "      <td>0.000000</td>\n",
       "    </tr>\n",
       "    <tr>\n",
       "      <th>...</th>\n",
       "      <td>...</td>\n",
       "    </tr>\n",
       "    <tr>\n",
       "      <th>2022-02-18</th>\n",
       "      <td>-0.013437</td>\n",
       "    </tr>\n",
       "    <tr>\n",
       "      <th>2022-02-19</th>\n",
       "      <td>0.002682</td>\n",
       "    </tr>\n",
       "    <tr>\n",
       "      <th>2022-02-20</th>\n",
       "      <td>-0.042345</td>\n",
       "    </tr>\n",
       "    <tr>\n",
       "      <th>2022-02-21</th>\n",
       "      <td>-0.035747</td>\n",
       "    </tr>\n",
       "    <tr>\n",
       "      <th>2022-02-22</th>\n",
       "      <td>0.025159</td>\n",
       "    </tr>\n",
       "  </tbody>\n",
       "</table>\n",
       "<p>3808 rows × 1 columns</p>\n",
       "</div>"
      ],
      "text/plain": [
       "              btcusd\n",
       "2011-08-19       NaN\n",
       "2011-08-20  0.072477\n",
       "2011-08-21  0.000855\n",
       "2011-08-22  0.000000\n",
       "2011-08-23  0.000000\n",
       "...              ...\n",
       "2022-02-18 -0.013437\n",
       "2022-02-19  0.002682\n",
       "2022-02-20 -0.042345\n",
       "2022-02-21 -0.035747\n",
       "2022-02-22  0.025159\n",
       "\n",
       "[3808 rows x 1 columns]"
      ]
     },
     "execution_count": 2,
     "metadata": {},
     "output_type": "execute_result"
    }
   ],
   "source": [
    "#find start of BTC data\n",
    "BTC= tiingo.get_dataframe(['btcusd'],'2008-1-1',metric_name='adjClose')\n",
    "BTC.index = pd.to_datetime(BTC.index).tz_convert(None)\n",
    "BTC_ret = BTC.pct_change()\n",
    "BTC_ret\n",
    "#BTC start date is 2011-08-19, so that is the first date I will use for the analysis"
   ]
  },
  {
   "cell_type": "code",
   "execution_count": 3,
   "metadata": {
    "colab": {
     "base_uri": "https://localhost:8080/",
     "height": 143
    },
    "id": "M0XR0wh7Evus",
    "outputId": "0dca8bf5-228e-45a1-f935-0f07876bde25"
   },
   "outputs": [
    {
     "data": {
      "text/html": [
       "<div>\n",
       "<style scoped>\n",
       "    .dataframe tbody tr th:only-of-type {\n",
       "        vertical-align: middle;\n",
       "    }\n",
       "\n",
       "    .dataframe tbody tr th {\n",
       "        vertical-align: top;\n",
       "    }\n",
       "\n",
       "    .dataframe thead th {\n",
       "        text-align: right;\n",
       "    }\n",
       "</style>\n",
       "<table border=\"1\" class=\"dataframe\">\n",
       "  <thead>\n",
       "    <tr style=\"text-align: right;\">\n",
       "      <th></th>\n",
       "      <th>ACC</th>\n",
       "      <th>AGG</th>\n",
       "    </tr>\n",
       "  </thead>\n",
       "  <tbody>\n",
       "    <tr>\n",
       "      <th>2018-01-02</th>\n",
       "      <td>NaN</td>\n",
       "      <td>NaN</td>\n",
       "    </tr>\n",
       "    <tr>\n",
       "      <th>2018-01-03</th>\n",
       "      <td>-0.016589</td>\n",
       "      <td>0.000092</td>\n",
       "    </tr>\n",
       "    <tr>\n",
       "      <th>2018-01-04</th>\n",
       "      <td>-0.017862</td>\n",
       "      <td>-0.000641</td>\n",
       "    </tr>\n",
       "  </tbody>\n",
       "</table>\n",
       "</div>"
      ],
      "text/plain": [
       "                 ACC       AGG\n",
       "2018-01-02       NaN       NaN\n",
       "2018-01-03 -0.016589  0.000092\n",
       "2018-01-04 -0.017862 -0.000641"
      ]
     },
     "execution_count": 3,
     "metadata": {},
     "output_type": "execute_result"
    }
   ],
   "source": [
    "#get ETF prices for SPY and IEF (7-10 year treasuries)\n",
    "# it doesn't feel right to use 20 year treasuries here because crypto has only been publicly exchanged for around 10 years\n",
    "PRICE = tiingo.get_dataframe(['ACC','AGG'], '2018-01-01', metric_name='adjClose')\n",
    "PRICE.index = pd.to_datetime(PRICE.index).tz_convert(None)\n",
    "\n",
    "RET = PRICE.pct_change()\n",
    "RET[:3]\n"
   ]
  },
  {
   "cell_type": "code",
   "execution_count": null,
   "metadata": {
    "id": "g0u2MWpyTlDX"
   },
   "outputs": [],
   "source": []
  },
  {
   "cell_type": "code",
   "execution_count": 4,
   "metadata": {
    "colab": {
     "base_uri": "https://localhost:8080/",
     "height": 273
    },
    "id": "UTJDWJOeIR8P",
    "outputId": "f2ec7c8d-6a0d-4ff9-fae1-d59d37f9fc64"
   },
   "outputs": [
    {
     "data": {
      "text/plain": [
       "<AxesSubplot:>"
      ]
     },
     "execution_count": 4,
     "metadata": {},
     "output_type": "execute_result"
    },
    {
     "data": {
      "image/png": "[encoded data removed]",
      "text/plain": [
       "<Figure size 432x288 with 1 Axes>"
      ]
     },
     "metadata": {},
     "output_type": "display_data"
    }
   ],
   "source": [
    "#plot SPY and IEF\n",
    "RET.add(1).cumprod().plot(logy=True)"
   ]
  },
  {
   "cell_type": "code",
   "execution_count": 5,
   "metadata": {
    "colab": {
     "base_uri": "https://localhost:8080/",
     "height": 661
    },
    "id": "WLuFuT8xIaT4",
    "outputId": "ede4baa2-edbf-4678-d082-a1ba574d6139"
   },
   "outputs": [
    {
     "data": {
      "text/html": [
       "<div>\n",
       "<style scoped>\n",
       "    .dataframe tbody tr th:only-of-type {\n",
       "        vertical-align: middle;\n",
       "    }\n",
       "\n",
       "    .dataframe tbody tr th {\n",
       "        vertical-align: top;\n",
       "    }\n",
       "\n",
       "    .dataframe thead th {\n",
       "        text-align: right;\n",
       "    }\n",
       "</style>\n",
       "<table border=\"1\" class=\"dataframe\">\n",
       "  <thead>\n",
       "    <tr style=\"text-align: right;\">\n",
       "      <th></th>\n",
       "      <th>btcusd</th>\n",
       "    </tr>\n",
       "  </thead>\n",
       "  <tbody>\n",
       "    <tr>\n",
       "      <th>2011-08-19</th>\n",
       "      <td>NaN</td>\n",
       "    </tr>\n",
       "    <tr>\n",
       "      <th>2011-08-20</th>\n",
       "      <td>0.072477</td>\n",
       "    </tr>\n",
       "    <tr>\n",
       "      <th>2011-08-21</th>\n",
       "      <td>0.000855</td>\n",
       "    </tr>\n",
       "    <tr>\n",
       "      <th>2011-08-22</th>\n",
       "      <td>0.000000</td>\n",
       "    </tr>\n",
       "    <tr>\n",
       "      <th>2011-08-23</th>\n",
       "      <td>0.000000</td>\n",
       "    </tr>\n",
       "    <tr>\n",
       "      <th>...</th>\n",
       "      <td>...</td>\n",
       "    </tr>\n",
       "    <tr>\n",
       "      <th>2022-02-18</th>\n",
       "      <td>-0.013437</td>\n",
       "    </tr>\n",
       "    <tr>\n",
       "      <th>2022-02-19</th>\n",
       "      <td>0.002682</td>\n",
       "    </tr>\n",
       "    <tr>\n",
       "      <th>2022-02-20</th>\n",
       "      <td>-0.042345</td>\n",
       "    </tr>\n",
       "    <tr>\n",
       "      <th>2022-02-21</th>\n",
       "      <td>-0.035747</td>\n",
       "    </tr>\n",
       "    <tr>\n",
       "      <th>2022-02-22</th>\n",
       "      <td>0.025159</td>\n",
       "    </tr>\n",
       "  </tbody>\n",
       "</table>\n",
       "<p>3808 rows × 1 columns</p>\n",
       "</div>"
      ],
      "text/plain": [
       "              btcusd\n",
       "2011-08-19       NaN\n",
       "2011-08-20  0.072477\n",
       "2011-08-21  0.000855\n",
       "2011-08-22  0.000000\n",
       "2011-08-23  0.000000\n",
       "...              ...\n",
       "2022-02-18 -0.013437\n",
       "2022-02-19  0.002682\n",
       "2022-02-20 -0.042345\n",
       "2022-02-21 -0.035747\n",
       "2022-02-22  0.025159\n",
       "\n",
       "[3808 rows x 1 columns]"
      ]
     },
     "execution_count": 5,
     "metadata": {},
     "output_type": "execute_result"
    },
    {
     "data": {
      "image/png": "[encoded data removed]",
      "text/plain": [
       "<Figure size 432x288 with 1 Axes>"
      ]
     },
     "metadata": {},
     "output_type": "display_data"
    }
   ],
   "source": [
    "#Add BTC for fun\n",
    "RET['BTC'] = BTC_ret\n",
    "RET.add(1).cumprod().plot(logy=True)\n",
    "BTC_ret"
   ]
  },
  {
   "cell_type": "code",
   "execution_count": 6,
   "metadata": {
    "colab": {
     "base_uri": "https://localhost:8080/",
     "height": 455
    },
    "id": "NthVpMtvJLyG",
    "outputId": "a384ef90-3f4b-4312-f624-e052e288efee"
   },
   "outputs": [
    {
     "data": {
      "text/html": [
       "<div>\n",
       "<style scoped>\n",
       "    .dataframe tbody tr th:only-of-type {\n",
       "        vertical-align: middle;\n",
       "    }\n",
       "\n",
       "    .dataframe tbody tr th {\n",
       "        vertical-align: top;\n",
       "    }\n",
       "\n",
       "    .dataframe thead th {\n",
       "        text-align: right;\n",
       "    }\n",
       "</style>\n",
       "<table border=\"1\" class=\"dataframe\">\n",
       "  <thead>\n",
       "    <tr style=\"text-align: right;\">\n",
       "      <th></th>\n",
       "      <th>FedFunds</th>\n",
       "      <th>Treasury_1</th>\n",
       "      <th>Treasury_5</th>\n",
       "      <th>Treasury_10</th>\n",
       "      <th>Treasury_30</th>\n",
       "    </tr>\n",
       "    <tr>\n",
       "      <th>Date</th>\n",
       "      <th></th>\n",
       "      <th></th>\n",
       "      <th></th>\n",
       "      <th></th>\n",
       "      <th></th>\n",
       "    </tr>\n",
       "  </thead>\n",
       "  <tbody>\n",
       "    <tr>\n",
       "      <th>1954-07-01</th>\n",
       "      <td>0.0080</td>\n",
       "      <td>NaN</td>\n",
       "      <td>NaN</td>\n",
       "      <td>NaN</td>\n",
       "      <td>NaN</td>\n",
       "    </tr>\n",
       "    <tr>\n",
       "      <th>1954-08-01</th>\n",
       "      <td>0.0122</td>\n",
       "      <td>NaN</td>\n",
       "      <td>NaN</td>\n",
       "      <td>NaN</td>\n",
       "      <td>NaN</td>\n",
       "    </tr>\n",
       "    <tr>\n",
       "      <th>1954-09-01</th>\n",
       "      <td>0.0107</td>\n",
       "      <td>NaN</td>\n",
       "      <td>NaN</td>\n",
       "      <td>NaN</td>\n",
       "      <td>NaN</td>\n",
       "    </tr>\n",
       "    <tr>\n",
       "      <th>1954-10-01</th>\n",
       "      <td>0.0085</td>\n",
       "      <td>NaN</td>\n",
       "      <td>NaN</td>\n",
       "      <td>NaN</td>\n",
       "      <td>NaN</td>\n",
       "    </tr>\n",
       "    <tr>\n",
       "      <th>1954-11-01</th>\n",
       "      <td>0.0083</td>\n",
       "      <td>NaN</td>\n",
       "      <td>NaN</td>\n",
       "      <td>NaN</td>\n",
       "      <td>NaN</td>\n",
       "    </tr>\n",
       "    <tr>\n",
       "      <th>...</th>\n",
       "      <td>...</td>\n",
       "      <td>...</td>\n",
       "      <td>...</td>\n",
       "      <td>...</td>\n",
       "      <td>...</td>\n",
       "    </tr>\n",
       "    <tr>\n",
       "      <th>2022-02-09</th>\n",
       "      <td>NaN</td>\n",
       "      <td>0.0091</td>\n",
       "      <td>0.0182</td>\n",
       "      <td>0.0194</td>\n",
       "      <td>0.0225</td>\n",
       "    </tr>\n",
       "    <tr>\n",
       "      <th>2022-02-10</th>\n",
       "      <td>NaN</td>\n",
       "      <td>0.0114</td>\n",
       "      <td>0.0196</td>\n",
       "      <td>0.0203</td>\n",
       "      <td>0.0230</td>\n",
       "    </tr>\n",
       "    <tr>\n",
       "      <th>2022-02-11</th>\n",
       "      <td>NaN</td>\n",
       "      <td>0.0107</td>\n",
       "      <td>0.0184</td>\n",
       "      <td>0.0192</td>\n",
       "      <td>0.0224</td>\n",
       "    </tr>\n",
       "    <tr>\n",
       "      <th>2022-02-14</th>\n",
       "      <td>NaN</td>\n",
       "      <td>0.0113</td>\n",
       "      <td>0.0190</td>\n",
       "      <td>0.0198</td>\n",
       "      <td>0.0229</td>\n",
       "    </tr>\n",
       "    <tr>\n",
       "      <th>2022-02-15</th>\n",
       "      <td>NaN</td>\n",
       "      <td>0.0111</td>\n",
       "      <td>0.0194</td>\n",
       "      <td>0.0205</td>\n",
       "      <td>0.0237</td>\n",
       "    </tr>\n",
       "  </tbody>\n",
       "</table>\n",
       "<p>15368 rows × 5 columns</p>\n",
       "</div>"
      ],
      "text/plain": [
       "            FedFunds  Treasury_1  Treasury_5  Treasury_10  Treasury_30\n",
       "Date                                                                  \n",
       "1954-07-01    0.0080         NaN         NaN          NaN          NaN\n",
       "1954-08-01    0.0122         NaN         NaN          NaN          NaN\n",
       "1954-09-01    0.0107         NaN         NaN          NaN          NaN\n",
       "1954-10-01    0.0085         NaN         NaN          NaN          NaN\n",
       "1954-11-01    0.0083         NaN         NaN          NaN          NaN\n",
       "...              ...         ...         ...          ...          ...\n",
       "2022-02-09       NaN      0.0091      0.0182       0.0194       0.0225\n",
       "2022-02-10       NaN      0.0114      0.0196       0.0203       0.0230\n",
       "2022-02-11       NaN      0.0107      0.0184       0.0192       0.0224\n",
       "2022-02-14       NaN      0.0113      0.0190       0.0198       0.0229\n",
       "2022-02-15       NaN      0.0111      0.0194       0.0205       0.0237\n",
       "\n",
       "[15368 rows x 5 columns]"
      ]
     },
     "execution_count": 6,
     "metadata": {},
     "output_type": "execute_result"
    }
   ],
   "source": [
    "#get fed funds rate and treasury yields\n",
    "RATES = quandl.get(['FRED/FEDFUNDS','FRED/DGS1','FRED/DGS5','FRED/DGS10','FRED/DGS30']) / 100\n",
    "RATES.columns = ['FedFunds','Treasury_1', 'Treasury_5', 'Treasury_10', 'Treasury_30']\n",
    "RATES"
   ]
  },
  {
   "cell_type": "markdown",
   "metadata": {
    "id": "aYXL-2jJJ3H7"
   },
   "source": [
    "Find Margin Rate (what does this mean? lol)"
   ]
  },
  {
   "cell_type": "code",
   "execution_count": 7,
   "metadata": {
    "colab": {
     "base_uri": "https://localhost:8080/",
     "height": 423
    },
    "id": "vwqtaOVHLwKr",
    "outputId": "1db9e2a9-b78a-4081-fea7-b6f3a50627d7"
   },
   "outputs": [
    {
     "data": {
      "text/html": [
       "<div>\n",
       "<style scoped>\n",
       "    .dataframe tbody tr th:only-of-type {\n",
       "        vertical-align: middle;\n",
       "    }\n",
       "\n",
       "    .dataframe tbody tr th {\n",
       "        vertical-align: top;\n",
       "    }\n",
       "\n",
       "    .dataframe thead th {\n",
       "        text-align: right;\n",
       "    }\n",
       "</style>\n",
       "<table border=\"1\" class=\"dataframe\">\n",
       "  <thead>\n",
       "    <tr style=\"text-align: right;\">\n",
       "      <th></th>\n",
       "      <th>ACC</th>\n",
       "      <th>AGG</th>\n",
       "      <th>BTC</th>\n",
       "    </tr>\n",
       "  </thead>\n",
       "  <tbody>\n",
       "    <tr>\n",
       "      <th>2018-01-02</th>\n",
       "      <td>NaN</td>\n",
       "      <td>NaN</td>\n",
       "      <td>-0.031455</td>\n",
       "    </tr>\n",
       "    <tr>\n",
       "      <th>2018-01-03</th>\n",
       "      <td>-0.016589</td>\n",
       "      <td>0.000092</td>\n",
       "      <td>0.091906</td>\n",
       "    </tr>\n",
       "    <tr>\n",
       "      <th>2018-01-04</th>\n",
       "      <td>-0.017862</td>\n",
       "      <td>-0.000641</td>\n",
       "      <td>0.032474</td>\n",
       "    </tr>\n",
       "    <tr>\n",
       "      <th>2018-01-05</th>\n",
       "      <td>0.001263</td>\n",
       "      <td>-0.000642</td>\n",
       "      <td>-0.000788</td>\n",
       "    </tr>\n",
       "    <tr>\n",
       "      <th>2018-01-08</th>\n",
       "      <td>0.018416</td>\n",
       "      <td>-0.000275</td>\n",
       "      <td>-0.059806</td>\n",
       "    </tr>\n",
       "    <tr>\n",
       "      <th>...</th>\n",
       "      <td>...</td>\n",
       "      <td>...</td>\n",
       "      <td>...</td>\n",
       "    </tr>\n",
       "    <tr>\n",
       "      <th>2022-02-14</th>\n",
       "      <td>-0.007354</td>\n",
       "      <td>-0.005813</td>\n",
       "      <td>0.011436</td>\n",
       "    </tr>\n",
       "    <tr>\n",
       "      <th>2022-02-15</th>\n",
       "      <td>0.008210</td>\n",
       "      <td>-0.001644</td>\n",
       "      <td>0.047334</td>\n",
       "    </tr>\n",
       "    <tr>\n",
       "      <th>2022-02-16</th>\n",
       "      <td>-0.001787</td>\n",
       "      <td>0.001190</td>\n",
       "      <td>-0.015146</td>\n",
       "    </tr>\n",
       "    <tr>\n",
       "      <th>2022-02-17</th>\n",
       "      <td>0.030243</td>\n",
       "      <td>0.002102</td>\n",
       "      <td>-0.076461</td>\n",
       "    </tr>\n",
       "    <tr>\n",
       "      <th>2022-02-18</th>\n",
       "      <td>-0.018347</td>\n",
       "      <td>0.002098</td>\n",
       "      <td>-0.013437</td>\n",
       "    </tr>\n",
       "  </tbody>\n",
       "</table>\n",
       "<p>1042 rows × 3 columns</p>\n",
       "</div>"
      ],
      "text/plain": [
       "                 ACC       AGG       BTC\n",
       "2018-01-02       NaN       NaN -0.031455\n",
       "2018-01-03 -0.016589  0.000092  0.091906\n",
       "2018-01-04 -0.017862 -0.000641  0.032474\n",
       "2018-01-05  0.001263 -0.000642 -0.000788\n",
       "2018-01-08  0.018416 -0.000275 -0.059806\n",
       "...              ...       ...       ...\n",
       "2022-02-14 -0.007354 -0.005813  0.011436\n",
       "2022-02-15  0.008210 -0.001644  0.047334\n",
       "2022-02-16 -0.001787  0.001190 -0.015146\n",
       "2022-02-17  0.030243  0.002102 -0.076461\n",
       "2022-02-18 -0.018347  0.002098 -0.013437\n",
       "\n",
       "[1042 rows x 3 columns]"
      ]
     },
     "execution_count": 7,
     "metadata": {},
     "output_type": "execute_result"
    }
   ],
   "source": [
    "RET"
   ]
  },
  {
   "cell_type": "markdown",
   "metadata": {
    "id": "0qswoPXMOdvj"
   },
   "source": []
  },
  {
   "cell_type": "markdown",
   "metadata": {
    "id": "q14RIWooOdzE"
   },
   "source": [
    "For some reason it wouldn't let me add margin rate and then it added like way too many margin rate columns, so I deleted them all and then re-added the margin rate column "
   ]
  },
  {
   "cell_type": "code",
   "execution_count": 8,
   "metadata": {
    "colab": {
     "base_uri": "https://localhost:8080/",
     "height": 381
    },
    "id": "nIWWlAuB7whk",
    "outputId": "598d34d3-95a9-4f8f-d74c-6d7dcbb29191"
   },
   "outputs": [
    {
     "data": {
      "text/html": [
       "<div>\n",
       "<style scoped>\n",
       "    .dataframe tbody tr th:only-of-type {\n",
       "        vertical-align: middle;\n",
       "    }\n",
       "\n",
       "    .dataframe tbody tr th {\n",
       "        vertical-align: top;\n",
       "    }\n",
       "\n",
       "    .dataframe thead th {\n",
       "        text-align: right;\n",
       "    }\n",
       "</style>\n",
       "<table border=\"1\" class=\"dataframe\">\n",
       "  <thead>\n",
       "    <tr style=\"text-align: right;\">\n",
       "      <th></th>\n",
       "      <th>ACC</th>\n",
       "      <th>AGG</th>\n",
       "      <th>BTC</th>\n",
       "      <th>MarginRate</th>\n",
       "    </tr>\n",
       "  </thead>\n",
       "  <tbody>\n",
       "    <tr>\n",
       "      <th>2018-01-03</th>\n",
       "      <td>-0.016589</td>\n",
       "      <td>0.000092</td>\n",
       "      <td>0.091906</td>\n",
       "      <td>0.000096</td>\n",
       "    </tr>\n",
       "    <tr>\n",
       "      <th>2018-01-04</th>\n",
       "      <td>-0.017862</td>\n",
       "      <td>-0.000641</td>\n",
       "      <td>0.032474</td>\n",
       "      <td>0.000096</td>\n",
       "    </tr>\n",
       "    <tr>\n",
       "      <th>2018-01-05</th>\n",
       "      <td>0.001263</td>\n",
       "      <td>-0.000642</td>\n",
       "      <td>-0.000788</td>\n",
       "      <td>0.000096</td>\n",
       "    </tr>\n",
       "    <tr>\n",
       "      <th>2018-01-08</th>\n",
       "      <td>0.018416</td>\n",
       "      <td>-0.000275</td>\n",
       "      <td>-0.059806</td>\n",
       "      <td>0.000096</td>\n",
       "    </tr>\n",
       "    <tr>\n",
       "      <th>2018-01-09</th>\n",
       "      <td>-0.016349</td>\n",
       "      <td>-0.002752</td>\n",
       "      <td>-0.069712</td>\n",
       "      <td>0.000096</td>\n",
       "    </tr>\n",
       "    <tr>\n",
       "      <th>...</th>\n",
       "      <td>...</td>\n",
       "      <td>...</td>\n",
       "      <td>...</td>\n",
       "      <td>...</td>\n",
       "    </tr>\n",
       "    <tr>\n",
       "      <th>2022-02-14</th>\n",
       "      <td>-0.007354</td>\n",
       "      <td>-0.005813</td>\n",
       "      <td>0.011436</td>\n",
       "      <td>0.000043</td>\n",
       "    </tr>\n",
       "    <tr>\n",
       "      <th>2022-02-15</th>\n",
       "      <td>0.008210</td>\n",
       "      <td>-0.001644</td>\n",
       "      <td>0.047334</td>\n",
       "      <td>0.000043</td>\n",
       "    </tr>\n",
       "    <tr>\n",
       "      <th>2022-02-16</th>\n",
       "      <td>-0.001787</td>\n",
       "      <td>0.001190</td>\n",
       "      <td>-0.015146</td>\n",
       "      <td>0.000043</td>\n",
       "    </tr>\n",
       "    <tr>\n",
       "      <th>2022-02-17</th>\n",
       "      <td>0.030243</td>\n",
       "      <td>0.002102</td>\n",
       "      <td>-0.076461</td>\n",
       "      <td>0.000043</td>\n",
       "    </tr>\n",
       "    <tr>\n",
       "      <th>2022-02-18</th>\n",
       "      <td>-0.018347</td>\n",
       "      <td>0.002098</td>\n",
       "      <td>-0.013437</td>\n",
       "      <td>0.000043</td>\n",
       "    </tr>\n",
       "  </tbody>\n",
       "</table>\n",
       "<p>1041 rows × 4 columns</p>\n",
       "</div>"
      ],
      "text/plain": [
       "                 ACC       AGG       BTC  MarginRate\n",
       "2018-01-03 -0.016589  0.000092  0.091906    0.000096\n",
       "2018-01-04 -0.017862 -0.000641  0.032474    0.000096\n",
       "2018-01-05  0.001263 -0.000642 -0.000788    0.000096\n",
       "2018-01-08  0.018416 -0.000275 -0.059806    0.000096\n",
       "2018-01-09 -0.016349 -0.002752 -0.069712    0.000096\n",
       "...              ...       ...       ...         ...\n",
       "2022-02-14 -0.007354 -0.005813  0.011436    0.000043\n",
       "2022-02-15  0.008210 -0.001644  0.047334    0.000043\n",
       "2022-02-16 -0.001787  0.001190 -0.015146    0.000043\n",
       "2022-02-17  0.030243  0.002102 -0.076461    0.000043\n",
       "2022-02-18 -0.018347  0.002098 -0.013437    0.000043\n",
       "\n",
       "[1041 rows x 4 columns]"
      ]
     },
     "execution_count": 8,
     "metadata": {},
     "output_type": "execute_result"
    }
   ],
   "source": [
    "\n",
    "RET = RET.join(RATES.FedFunds.rename('MarginRate'), how='outer')\n",
    "RET['MarginRate'] = RET.MarginRate.ffill()/252 + 0.01/252           # Assume margin rate = fed funds rate + 100 bsp\n",
    "RET = RET.dropna(subset=['ACC'])\n",
    "RET"
   ]
  },
  {
   "cell_type": "code",
   "execution_count": 9,
   "metadata": {
    "colab": {
     "base_uri": "https://localhost:8080/",
     "height": 143
    },
    "id": "B7EmIZZt8rrY",
    "outputId": "fe3ea407-9242-4aeb-ac98-0cda15d26c6d"
   },
   "outputs": [
    {
     "data": {
      "text/html": [
       "<div>\n",
       "<style scoped>\n",
       "    .dataframe tbody tr th:only-of-type {\n",
       "        vertical-align: middle;\n",
       "    }\n",
       "\n",
       "    .dataframe tbody tr th {\n",
       "        vertical-align: top;\n",
       "    }\n",
       "\n",
       "    .dataframe thead th {\n",
       "        text-align: right;\n",
       "    }\n",
       "</style>\n",
       "<table border=\"1\" class=\"dataframe\">\n",
       "  <thead>\n",
       "    <tr style=\"text-align: right;\">\n",
       "      <th></th>\n",
       "      <th>ACC</th>\n",
       "      <th>AGG</th>\n",
       "      <th>BTC</th>\n",
       "      <th>MarginRate</th>\n",
       "    </tr>\n",
       "  </thead>\n",
       "  <tbody>\n",
       "    <tr>\n",
       "      <th>ACC</th>\n",
       "      <td>1.000000</td>\n",
       "      <td>0.139124</td>\n",
       "      <td>0.099052</td>\n",
       "      <td>-0.017018</td>\n",
       "    </tr>\n",
       "    <tr>\n",
       "      <th>AGG</th>\n",
       "      <td>0.139124</td>\n",
       "      <td>1.000000</td>\n",
       "      <td>0.144634</td>\n",
       "      <td>0.046454</td>\n",
       "    </tr>\n",
       "    <tr>\n",
       "      <th>BTC</th>\n",
       "      <td>0.099052</td>\n",
       "      <td>0.144634</td>\n",
       "      <td>1.000000</td>\n",
       "      <td>-0.029896</td>\n",
       "    </tr>\n",
       "    <tr>\n",
       "      <th>MarginRate</th>\n",
       "      <td>-0.017018</td>\n",
       "      <td>0.046454</td>\n",
       "      <td>-0.029896</td>\n",
       "      <td>1.000000</td>\n",
       "    </tr>\n",
       "  </tbody>\n",
       "</table>\n",
       "</div>"
      ],
      "text/plain": [
       "                 ACC       AGG       BTC  MarginRate\n",
       "ACC         1.000000  0.139124  0.099052   -0.017018\n",
       "AGG         0.139124  1.000000  0.144634    0.046454\n",
       "BTC         0.099052  0.144634  1.000000   -0.029896\n",
       "MarginRate -0.017018  0.046454 -0.029896    1.000000"
      ]
     },
     "execution_count": 9,
     "metadata": {},
     "output_type": "execute_result"
    }
   ],
   "source": [
    "RET.corr()"
   ]
  },
  {
   "cell_type": "code",
   "execution_count": 10,
   "metadata": {
    "colab": {
     "base_uri": "https://localhost:8080/",
     "height": 299
    },
    "id": "DtYKBOZ_Op-6",
    "outputId": "8fea949a-3f3a-48cd-e4f3-7f8aea5fbb61"
   },
   "outputs": [
    {
     "data": {
      "text/plain": [
       "<AxesSubplot:>"
      ]
     },
     "execution_count": 10,
     "metadata": {},
     "output_type": "execute_result"
    },
    {
     "data": {
      "image/png": "[encoded data removed]",
      "text/plain": [
       "<Figure size 432x288 with 1 Axes>"
      ]
     },
     "metadata": {},
     "output_type": "display_data"
    }
   ],
   "source": [
    "RET[['ACC','AGG']].groupby(RET.index.year).corr().unstack().ACC.AGG.plot.bar()"
   ]
  },
  {
   "cell_type": "markdown",
   "metadata": {
    "id": "SpvCkgZ5PZAt"
   },
   "source": [
    "Let's see what the historical corelation between BTC and the market has looked like. "
   ]
  },
  {
   "cell_type": "code",
   "execution_count": 11,
   "metadata": {
    "colab": {
     "base_uri": "https://localhost:8080/",
     "height": 329
    },
    "id": "UUfIcJG9PP1q",
    "outputId": "5fa54505-e31c-43f5-fbf1-b37f3aa61173"
   },
   "outputs": [
    {
     "data": {
      "text/plain": [
       "<AxesSubplot:>"
      ]
     },
     "execution_count": 11,
     "metadata": {},
     "output_type": "execute_result"
    },
    {
     "data": {
      "image/png": "[encoded data removed]",
      "text/plain": [
       "<Figure size 432x288 with 1 Axes>"
      ]
     },
     "metadata": {},
     "output_type": "display_data"
    }
   ],
   "source": [
    "#I'm doing SPY and BTC just to see what the historical correlation has looked like\n",
    "RET[['ACC','BTC']].groupby(RET.index.year).corr().unstack().ACC.BTC.plot.bar()\n"
   ]
  },
  {
   "cell_type": "markdown",
   "metadata": {
    "id": "d7YyoPKNPi0b"
   },
   "source": [
    "It looks like BTC's returns have actually become more correlated with the market over time, which I think checks out. According to the book I read, original demand for BTC was driven by black market activity. But as time went on it became a more popular investment tool for people. And you don't invest in something risky like bitcoin unless you're doing well financially, and more people are doing well when the economy is good. \n",
    "-SC"
   ]
  },
  {
   "cell_type": "markdown",
   "metadata": {
    "id": "b2wtKsn2QMM3"
   },
   "source": [
    "Next we find the annual returns:"
   ]
  },
  {
   "cell_type": "code",
   "execution_count": 12,
   "metadata": {
    "colab": {
     "base_uri": "https://localhost:8080/",
     "height": 394
    },
    "id": "fpZOK6raPgXD",
    "outputId": "ebfbd72b-2843-4dc3-cbed-db601ec3a8ae"
   },
   "outputs": [
    {
     "data": {
      "text/html": [
       "<div>\n",
       "<style scoped>\n",
       "    .dataframe tbody tr th:only-of-type {\n",
       "        vertical-align: middle;\n",
       "    }\n",
       "\n",
       "    .dataframe tbody tr th {\n",
       "        vertical-align: top;\n",
       "    }\n",
       "\n",
       "    .dataframe thead th {\n",
       "        text-align: right;\n",
       "    }\n",
       "</style>\n",
       "<table border=\"1\" class=\"dataframe\">\n",
       "  <thead>\n",
       "    <tr style=\"text-align: right;\">\n",
       "      <th></th>\n",
       "      <th>ACC</th>\n",
       "      <th>AGG</th>\n",
       "      <th>BTC</th>\n",
       "      <th>MarginRate</th>\n",
       "    </tr>\n",
       "  </thead>\n",
       "  <tbody>\n",
       "    <tr>\n",
       "      <th>2018-12-31</th>\n",
       "      <td>0.056895</td>\n",
       "      <td>0.002425</td>\n",
       "      <td>-0.739754</td>\n",
       "      <td>0.028524</td>\n",
       "    </tr>\n",
       "    <tr>\n",
       "      <th>2019-12-31</th>\n",
       "      <td>0.182683</td>\n",
       "      <td>0.084556</td>\n",
       "      <td>0.646581</td>\n",
       "      <td>0.032078</td>\n",
       "    </tr>\n",
       "    <tr>\n",
       "      <th>2020-12-31</th>\n",
       "      <td>-0.043823</td>\n",
       "      <td>0.074771</td>\n",
       "      <td>3.807329</td>\n",
       "      <td>0.013801</td>\n",
       "    </tr>\n",
       "    <tr>\n",
       "      <th>2021-12-31</th>\n",
       "      <td>0.394268</td>\n",
       "      <td>-0.017697</td>\n",
       "      <td>0.234006</td>\n",
       "      <td>0.010858</td>\n",
       "    </tr>\n",
       "  </tbody>\n",
       "</table>\n",
       "</div>"
      ],
      "text/plain": [
       "                 ACC       AGG       BTC  MarginRate\n",
       "2018-12-31  0.056895  0.002425 -0.739754    0.028524\n",
       "2019-12-31  0.182683  0.084556  0.646581    0.032078\n",
       "2020-12-31 -0.043823  0.074771  3.807329    0.013801\n",
       "2021-12-31  0.394268 -0.017697  0.234006    0.010858"
      ]
     },
     "execution_count": 12,
     "metadata": {},
     "output_type": "execute_result"
    }
   ],
   "source": [
    "r_annual = RET[:'2021'].add(1).resample('A').prod().sub(1)\n",
    "r_annual"
   ]
  },
  {
   "cell_type": "markdown",
   "metadata": {
    "id": "GilgyqrlQdZn"
   },
   "source": [
    "Calculating annual excess return (not really sure how this should be done for BTC yet but for now I'll just do it the normal way)"
   ]
  },
  {
   "cell_type": "code",
   "execution_count": 13,
   "metadata": {
    "colab": {
     "base_uri": "https://localhost:8080/"
    },
    "id": "PKskf_ejQOkY",
    "outputId": "88ce641d-6660-4a39-acca-1f25b2945140"
   },
   "outputs": [
    {
     "data": {
      "text/plain": [
       "Date\n",
       "1954-12-31       NaN\n",
       "1955-12-31       NaN\n",
       "1956-12-31       NaN\n",
       "1957-12-31       NaN\n",
       "1958-12-31       NaN\n",
       "               ...  \n",
       "2018-12-31    0.0183\n",
       "2019-12-31    0.0260\n",
       "2020-12-31    0.0156\n",
       "2021-12-31    0.0010\n",
       "2022-12-31    0.0040\n",
       "Freq: A-DEC, Name: Treasury_1, Length: 69, dtype: float64"
      ]
     },
     "execution_count": 13,
     "metadata": {},
     "output_type": "execute_result"
    }
   ],
   "source": [
    "r_annual_Tbill = RATES.Treasury_1.resample('A').first()  # Yield at the beginning of each year\n",
    "r_annual_Tbill\n",
    "\n"
   ]
  },
  {
   "cell_type": "code",
   "execution_count": 14,
   "metadata": {
    "colab": {
     "base_uri": "https://localhost:8080/",
     "height": 394
    },
    "id": "X9eu0yOWQwL2",
    "outputId": "bbf14dea-e0a2-4933-ba5b-4f76c1c52cad"
   },
   "outputs": [
    {
     "data": {
      "text/html": [
       "<div>\n",
       "<style scoped>\n",
       "    .dataframe tbody tr th:only-of-type {\n",
       "        vertical-align: middle;\n",
       "    }\n",
       "\n",
       "    .dataframe tbody tr th {\n",
       "        vertical-align: top;\n",
       "    }\n",
       "\n",
       "    .dataframe thead th {\n",
       "        text-align: right;\n",
       "    }\n",
       "</style>\n",
       "<table border=\"1\" class=\"dataframe\">\n",
       "  <thead>\n",
       "    <tr style=\"text-align: right;\">\n",
       "      <th></th>\n",
       "      <th>ACC</th>\n",
       "      <th>AGG</th>\n",
       "      <th>BTC</th>\n",
       "      <th>MarginRate</th>\n",
       "    </tr>\n",
       "  </thead>\n",
       "  <tbody>\n",
       "    <tr>\n",
       "      <th>2018-12-31</th>\n",
       "      <td>0.038595</td>\n",
       "      <td>-0.015875</td>\n",
       "      <td>-0.758054</td>\n",
       "      <td>0.010224</td>\n",
       "    </tr>\n",
       "    <tr>\n",
       "      <th>2019-12-31</th>\n",
       "      <td>0.156683</td>\n",
       "      <td>0.058556</td>\n",
       "      <td>0.620581</td>\n",
       "      <td>0.006078</td>\n",
       "    </tr>\n",
       "    <tr>\n",
       "      <th>2020-12-31</th>\n",
       "      <td>-0.059423</td>\n",
       "      <td>0.059171</td>\n",
       "      <td>3.791729</td>\n",
       "      <td>-0.001799</td>\n",
       "    </tr>\n",
       "    <tr>\n",
       "      <th>2021-12-31</th>\n",
       "      <td>0.393268</td>\n",
       "      <td>-0.018697</td>\n",
       "      <td>0.233006</td>\n",
       "      <td>0.009858</td>\n",
       "    </tr>\n",
       "  </tbody>\n",
       "</table>\n",
       "</div>"
      ],
      "text/plain": [
       "                 ACC       AGG       BTC  MarginRate\n",
       "2018-12-31  0.038595 -0.015875 -0.758054    0.010224\n",
       "2019-12-31  0.156683  0.058556  0.620581    0.006078\n",
       "2020-12-31 -0.059423  0.059171  3.791729   -0.001799\n",
       "2021-12-31  0.393268 -0.018697  0.233006    0.009858"
      ]
     },
     "execution_count": 14,
     "metadata": {},
     "output_type": "execute_result"
    }
   ],
   "source": [
    "rx_annual = r_annual.sub(r_annual_Tbill, 'rows').dropna() # Subtract a series from a table with table.sub(series, 'rows')\n",
    "rx_annual"
   ]
  },
  {
   "cell_type": "markdown",
   "metadata": {
    "id": "37bKUU-UQ9NE"
   },
   "source": [
    "# Finding the optimal portfolio of SPY and IEF"
   ]
  },
  {
   "cell_type": "markdown",
   "metadata": {
    "id": "1cuKsuwfRRAF"
   },
   "source": [
    "First Find their risk premiums:"
   ]
  },
  {
   "cell_type": "code",
   "execution_count": 16,
   "metadata": {
    "colab": {
     "base_uri": "https://localhost:8080/"
    },
    "id": "uVOsZXC0Qzpb",
    "outputId": "6fdeefa8-73cb-4f1f-c27a-47906b5ffd74"
   },
   "outputs": [
    {
     "data": {
      "text/plain": [
       "ACC    0.132281\n",
       "AGG    0.020789\n",
       "dtype: float64"
      ]
     },
     "execution_count": 16,
     "metadata": {},
     "output_type": "execute_result"
    }
   ],
   "source": [
    "meanx = rx_annual[['ACC','AGG']].mean()\n",
    "meanx"
   ]
  },
  {
   "cell_type": "markdown",
   "metadata": {
    "id": "Q0G7VCG7RcjN"
   },
   "source": [
    "Example Weights:\n"
   ]
  },
  {
   "cell_type": "code",
   "execution_count": 18,
   "metadata": {
    "colab": {
     "base_uri": "https://localhost:8080/"
    },
    "id": "AI0tmyVRRWYw",
    "outputId": "79129691-0598-47c0-cb70-45162bf9dbbc"
   },
   "outputs": [
    {
     "data": {
      "text/plain": [
       "ACC    0.6\n",
       "AGG    0.4\n",
       "dtype: float64"
      ]
     },
     "execution_count": 18,
     "metadata": {},
     "output_type": "execute_result"
    }
   ],
   "source": [
    "w = pd.Series({'ACC':0.6, 'AGG':0.4})\n",
    "w"
   ]
  },
  {
   "cell_type": "markdown",
   "metadata": {
    "id": "cCATCQBIR6zW"
   },
   "source": [
    "Calculate portfolio risk premium:\n",
    "\n",
    "$$\n",
    "\\text{portfolio risk premium}\n",
    "\\hspace{1em}=\\hspace{1em}\n",
    "\\mathbf{w}\\cdot E[\\mathbf{r}^x]\n",
    "\\hspace{1em}=\\hspace{1em}\n",
    "\\underbrace{\\begin{bmatrix}0.7&0.3\\end{bmatrix} \\times \\begin{bmatrix}0.100888\\\\0.064561\\end{bmatrix}}_\\text{\"dot product\"}\n",
    "\\hspace{1em}=\\hspace{1em}\n",
    "\\underbrace{0.7 \\times 0.100888 + 0.3 \\times 0.064561}_\\text{weighted average}\n",
    "$$"
   ]
  },
  {
   "cell_type": "code",
   "execution_count": 19,
   "metadata": {
    "colab": {
     "base_uri": "https://localhost:8080/"
    },
    "id": "Yi9z_8PyRjjH",
    "outputId": "abb159fc-0284-4ce3-f457-bc81941dcafd"
   },
   "outputs": [
    {
     "data": {
      "text/plain": [
       "0.08768391535547611"
      ]
     },
     "execution_count": 19,
     "metadata": {},
     "output_type": "execute_result"
    }
   ],
   "source": [
    "(w * meanx).sum()        # weighted average of individual risk premiums"
   ]
  },
  {
   "cell_type": "markdown",
   "metadata": {
    "id": "YjeUfeD_SHg9"
   },
   "source": [
    "The portfolio variance is the dot product between the portfolio weights and the covariance matrix:\n",
    "\n",
    "$$\n",
    "\\text{portfolio variance } =  \\text{weights }\\times\\text{ covariance matrix }\\times\\text{ weights}\n",
    "$$\n",
    "\n",
    "Implement this:"
   ]
  },
  {
   "cell_type": "code",
   "execution_count": 20,
   "metadata": {
    "colab": {
     "base_uri": "https://localhost:8080/",
     "height": 112
    },
    "id": "8gFSGlXAR7Oc",
    "outputId": "e0e8746f-64e2-4c98-e02b-a068f039f55d"
   },
   "outputs": [
    {
     "data": {
      "text/html": [
       "<div>\n",
       "<style scoped>\n",
       "    .dataframe tbody tr th:only-of-type {\n",
       "        vertical-align: middle;\n",
       "    }\n",
       "\n",
       "    .dataframe tbody tr th {\n",
       "        vertical-align: top;\n",
       "    }\n",
       "\n",
       "    .dataframe thead th {\n",
       "        text-align: right;\n",
       "    }\n",
       "</style>\n",
       "<table border=\"1\" class=\"dataframe\">\n",
       "  <thead>\n",
       "    <tr style=\"text-align: right;\">\n",
       "      <th></th>\n",
       "      <th>ACC</th>\n",
       "      <th>AGG</th>\n",
       "    </tr>\n",
       "  </thead>\n",
       "  <tbody>\n",
       "    <tr>\n",
       "      <th>ACC</th>\n",
       "      <td>0.129790</td>\n",
       "      <td>0.002521</td>\n",
       "    </tr>\n",
       "    <tr>\n",
       "      <th>AGG</th>\n",
       "      <td>0.002521</td>\n",
       "      <td>0.002530</td>\n",
       "    </tr>\n",
       "  </tbody>\n",
       "</table>\n",
       "</div>"
      ],
      "text/plain": [
       "          ACC       AGG\n",
       "ACC  0.129790  0.002521\n",
       "AGG  0.002521  0.002530"
      ]
     },
     "execution_count": 20,
     "metadata": {},
     "output_type": "execute_result"
    }
   ],
   "source": [
    "# Covariance matrix:\n",
    "cov = RET[['ACC','AGG']].cov() * 252      # multiply by 252 to annualize the covariance\n",
    "cov"
   ]
  },
  {
   "cell_type": "code",
   "execution_count": 21,
   "metadata": {
    "colab": {
     "base_uri": "https://localhost:8080/"
    },
    "id": "Skb5_tvbSDUv",
    "outputId": "45bd3af2-d7c6-4705-c80b-eb25c89bce1a"
   },
   "outputs": [
    {
     "data": {
      "text/plain": [
       "0.21986171900437593"
      ]
     },
     "execution_count": 21,
     "metadata": {},
     "output_type": "execute_result"
    }
   ],
   "source": [
    "w.dot(cov).dot(w)**0.5"
   ]
  },
  {
   "cell_type": "code",
   "execution_count": 23,
   "metadata": {
    "colab": {
     "base_uri": "https://localhost:8080/",
     "height": 394
    },
    "id": "TJE1h7HISbwM",
    "outputId": "4fe4f453-d187-4129-e1e4-e58a7f7ff755"
   },
   "outputs": [
    {
     "data": {
      "text/html": [
       "<div>\n",
       "<style scoped>\n",
       "    .dataframe tbody tr th:only-of-type {\n",
       "        vertical-align: middle;\n",
       "    }\n",
       "\n",
       "    .dataframe tbody tr th {\n",
       "        vertical-align: top;\n",
       "    }\n",
       "\n",
       "    .dataframe thead th {\n",
       "        text-align: right;\n",
       "    }\n",
       "</style>\n",
       "<table border=\"1\" class=\"dataframe\">\n",
       "  <thead>\n",
       "    <tr style=\"text-align: right;\">\n",
       "      <th></th>\n",
       "      <th>ACC</th>\n",
       "      <th>AGG</th>\n",
       "      <th>Risk_premium</th>\n",
       "      <th>Volatility</th>\n",
       "      <th>Sharpe</th>\n",
       "    </tr>\n",
       "  </thead>\n",
       "  <tbody>\n",
       "    <tr>\n",
       "      <th>0</th>\n",
       "      <td>0.0</td>\n",
       "      <td>1.0</td>\n",
       "      <td>0.020789</td>\n",
       "      <td>0.050296</td>\n",
       "      <td>0.413328</td>\n",
       "    </tr>\n",
       "    <tr>\n",
       "      <th>1</th>\n",
       "      <td>0.1</td>\n",
       "      <td>0.9</td>\n",
       "      <td>0.031938</td>\n",
       "      <td>0.061650</td>\n",
       "      <td>0.518053</td>\n",
       "    </tr>\n",
       "    <tr>\n",
       "      <th>2</th>\n",
       "      <td>0.2</td>\n",
       "      <td>0.8</td>\n",
       "      <td>0.043087</td>\n",
       "      <td>0.087277</td>\n",
       "      <td>0.493683</td>\n",
       "    </tr>\n",
       "    <tr>\n",
       "      <th>3</th>\n",
       "      <td>0.3</td>\n",
       "      <td>0.7</td>\n",
       "      <td>0.054236</td>\n",
       "      <td>0.118235</td>\n",
       "      <td>0.458718</td>\n",
       "    </tr>\n",
       "    <tr>\n",
       "      <th>4</th>\n",
       "      <td>0.4</td>\n",
       "      <td>0.6</td>\n",
       "      <td>0.065386</td>\n",
       "      <td>0.151285</td>\n",
       "      <td>0.432202</td>\n",
       "    </tr>\n",
       "    <tr>\n",
       "      <th>5</th>\n",
       "      <td>0.5</td>\n",
       "      <td>0.5</td>\n",
       "      <td>0.076535</td>\n",
       "      <td>0.185312</td>\n",
       "      <td>0.413006</td>\n",
       "    </tr>\n",
       "    <tr>\n",
       "      <th>6</th>\n",
       "      <td>0.6</td>\n",
       "      <td>0.4</td>\n",
       "      <td>0.087684</td>\n",
       "      <td>0.219862</td>\n",
       "      <td>0.398814</td>\n",
       "    </tr>\n",
       "    <tr>\n",
       "      <th>7</th>\n",
       "      <td>0.7</td>\n",
       "      <td>0.3</td>\n",
       "      <td>0.098833</td>\n",
       "      <td>0.254722</td>\n",
       "      <td>0.388003</td>\n",
       "    </tr>\n",
       "    <tr>\n",
       "      <th>8</th>\n",
       "      <td>0.8</td>\n",
       "      <td>0.2</td>\n",
       "      <td>0.109982</td>\n",
       "      <td>0.289782</td>\n",
       "      <td>0.379535</td>\n",
       "    </tr>\n",
       "    <tr>\n",
       "      <th>9</th>\n",
       "      <td>0.9</td>\n",
       "      <td>0.1</td>\n",
       "      <td>0.121131</td>\n",
       "      <td>0.324975</td>\n",
       "      <td>0.372740</td>\n",
       "    </tr>\n",
       "    <tr>\n",
       "      <th>10</th>\n",
       "      <td>1.0</td>\n",
       "      <td>0.0</td>\n",
       "      <td>0.132281</td>\n",
       "      <td>0.360264</td>\n",
       "      <td>0.367177</td>\n",
       "    </tr>\n",
       "  </tbody>\n",
       "</table>\n",
       "</div>"
      ],
      "text/plain": [
       "    ACC  AGG  Risk_premium  Volatility    Sharpe\n",
       "0   0.0  1.0      0.020789    0.050296  0.413328\n",
       "1   0.1  0.9      0.031938    0.061650  0.518053\n",
       "2   0.2  0.8      0.043087    0.087277  0.493683\n",
       "3   0.3  0.7      0.054236    0.118235  0.458718\n",
       "4   0.4  0.6      0.065386    0.151285  0.432202\n",
       "5   0.5  0.5      0.076535    0.185312  0.413006\n",
       "6   0.6  0.4      0.087684    0.219862  0.398814\n",
       "7   0.7  0.3      0.098833    0.254722  0.388003\n",
       "8   0.8  0.2      0.109982    0.289782  0.379535\n",
       "9   0.9  0.1      0.121131    0.324975  0.372740\n",
       "10  1.0  0.0      0.132281    0.360264  0.367177"
      ]
     },
     "execution_count": 23,
     "metadata": {},
     "output_type": "execute_result"
    }
   ],
   "source": [
    "t = pd.DataFrame(index=range(11))\n",
    "\n",
    "for i in t.index:\n",
    "    w                       = pd.Series({'ACC':i/10, 'AGG':1-i/10})\n",
    "    t.loc[i,'ACC']          = w.ACC\n",
    "    t.loc[i,'AGG']          = w.AGG\n",
    "    t.loc[i,'Risk_premium'] = w.dot(meanx)\n",
    "    t.loc[i,'Volatility']   = w.dot(cov).dot(w) ** 0.5\n",
    "\n",
    "t['Sharpe'] = t.Risk_premium / t.Volatility        \n",
    "t"
   ]
  },
  {
   "cell_type": "code",
   "execution_count": 24,
   "metadata": {
    "colab": {
     "base_uri": "https://localhost:8080/",
     "height": 299
    },
    "id": "or7rFqNvShXZ",
    "outputId": "aa27da4e-64fc-4a99-852a-c32b8ce036c9"
   },
   "outputs": [
    {
     "data": {
      "text/plain": [
       "<AxesSubplot:xlabel='Volatility', ylabel='Risk_premium'>"
      ]
     },
     "execution_count": 24,
     "metadata": {},
     "output_type": "execute_result"
    },
    {
     "data": {
      "image/png": "[encoded data removed]",
      "text/plain": [
       "<Figure size 432x288 with 1 Axes>"
      ]
     },
     "metadata": {},
     "output_type": "display_data"
    }
   ],
   "source": [
    "t.plot.scatter('Volatility','Risk_premium')"
   ]
  },
  {
   "cell_type": "code",
   "execution_count": 25,
   "metadata": {
    "colab": {
     "base_uri": "https://localhost:8080/",
     "height": 303
    },
    "id": "JeBdfxIISwkK",
    "outputId": "48da38e5-6c4f-49a3-e8ae-23d33f112323"
   },
   "outputs": [
    {
     "data": {
      "text/plain": [
       "<AxesSubplot:xlabel='Volatility', ylabel='Risk_premium'>"
      ]
     },
     "execution_count": 25,
     "metadata": {},
     "output_type": "execute_result"
    },
    {
     "data": {
      "image/png": "[encoded data removed]",
      "text/plain": [
       "<Figure size 432x288 with 1 Axes>"
      ]
     },
     "metadata": {},
     "output_type": "display_data"
    }
   ],
   "source": [
    "t.plot.scatter('Volatility','Risk_premium', ylim=(0,0.1), xlim=(0,0.2))"
   ]
  },
  {
   "cell_type": "markdown",
   "metadata": {
    "id": "7XO-scQ0SpCw"
   },
   "source": [
    "Maximum Sharpe ratio weights:\n",
    "\n",
    "$$\n",
    "\\mathbf{w} = \\frac{\\mathbf{\\Sigma}^{-1}E[\\mathbf{r}^x]}{\\text{Sum}\\big(\\mathbf{\\Sigma}^{-1}E[\\mathbf{r}^x]\\big)}\n",
    "$$\n",
    "\n",
    "($\\Sigma=$ covariance matrix).    \n",
    "\n",
    "Calculate the inverse of the covariance matrix:\n",
    "\n"
   ]
  },
  {
   "cell_type": "code",
   "execution_count": 26,
   "metadata": {
    "colab": {
     "base_uri": "https://localhost:8080/",
     "height": 112
    },
    "id": "jWwuBUKjS2Pw",
    "outputId": "c43d0798-a6f8-43aa-a8e1-32c3809ef549"
   },
   "outputs": [
    {
     "data": {
      "text/html": [
       "<div>\n",
       "<style scoped>\n",
       "    .dataframe tbody tr th:only-of-type {\n",
       "        vertical-align: middle;\n",
       "    }\n",
       "\n",
       "    .dataframe tbody tr th {\n",
       "        vertical-align: top;\n",
       "    }\n",
       "\n",
       "    .dataframe thead th {\n",
       "        text-align: right;\n",
       "    }\n",
       "</style>\n",
       "<table border=\"1\" class=\"dataframe\">\n",
       "  <thead>\n",
       "    <tr style=\"text-align: right;\">\n",
       "      <th></th>\n",
       "      <th>ACC</th>\n",
       "      <th>AGG</th>\n",
       "    </tr>\n",
       "  </thead>\n",
       "  <tbody>\n",
       "    <tr>\n",
       "      <th>ACC</th>\n",
       "      <td>7.856831</td>\n",
       "      <td>-7.829471</td>\n",
       "    </tr>\n",
       "    <tr>\n",
       "      <th>AGG</th>\n",
       "      <td>-7.829471</td>\n",
       "      <td>403.100919</td>\n",
       "    </tr>\n",
       "  </tbody>\n",
       "</table>\n",
       "</div>"
      ],
      "text/plain": [
       "          ACC         AGG\n",
       "ACC  7.856831   -7.829471\n",
       "AGG -7.829471  403.100919"
      ]
     },
     "execution_count": 26,
     "metadata": {},
     "output_type": "execute_result"
    }
   ],
   "source": [
    "cov_inv = pd.DataFrame(np.linalg.inv(cov), columns=cov.columns, index=cov.index)\n",
    "cov_inv"
   ]
  },
  {
   "cell_type": "code",
   "execution_count": 27,
   "metadata": {
    "colab": {
     "base_uri": "https://localhost:8080/"
    },
    "id": "eslUYC-eS4hr",
    "outputId": "64b8b717-a9af-4e0c-fdc8-6a7696225aba"
   },
   "outputs": [
    {
     "data": {
      "text/plain": [
       "ACC    0.106623\n",
       "AGG    0.893377\n",
       "dtype: float64"
      ]
     },
     "execution_count": 27,
     "metadata": {},
     "output_type": "execute_result"
    }
   ],
   "source": [
    "w_maxSharpe = cov_inv.dot(meanx) /  cov_inv.dot(meanx).sum()\n",
    "w_maxSharpe"
   ]
  },
  {
   "cell_type": "markdown",
   "metadata": {
    "id": "r2GKYobRTXq_"
   },
   "source": [
    "Minimum volatility portfolio weights:\n",
    "\n",
    "$$\n",
    "\\mathbf{w_{minvol}}\n",
    "= \\frac{\\mathbf{\\Sigma}^{-1}\\mathbf{1}}{\\text{Sum}\\big(\\mathbf{\\Sigma}^{-1}\\mathbf{1}\\big)}\n",
    "$$\n",
    "\n",
    "where $\\mathbf{1}$ is a vector of ones and $\\mathbf{\\Sigma}^{-1}\\mathbf{1}$ is row or column sum of the inverse covariance matrix.\n",
    "\n",
    "Implement this:"
   ]
  },
  {
   "cell_type": "code",
   "execution_count": 28,
   "metadata": {
    "colab": {
     "base_uri": "https://localhost:8080/"
    },
    "id": "yXYCTZq1TTwJ",
    "outputId": "a491eeb6-07f2-4763-ffe4-f0aee011cdc3"
   },
   "outputs": [
    {
     "data": {
      "text/plain": [
       "ACC    0.000069\n",
       "AGG    0.999931\n",
       "dtype: float64"
      ]
     },
     "execution_count": 28,
     "metadata": {},
     "output_type": "execute_result"
    }
   ],
   "source": [
    "w_minVol = cov_inv.sum() / cov_inv.sum().sum()\n",
    "w_minVol"
   ]
  },
  {
   "cell_type": "code",
   "execution_count": 30,
   "metadata": {
    "colab": {
     "base_uri": "https://localhost:8080/",
     "height": 273
    },
    "id": "1rbwjoE-TbBy",
    "outputId": "d75ca97c-c232-476e-868c-2340f15cf34c"
   },
   "outputs": [
    {
     "data": {
      "text/plain": [
       "<AxesSubplot:>"
      ]
     },
     "execution_count": 30,
     "metadata": {},
     "output_type": "execute_result"
    },
    {
     "data": {
      "image/png": "[encoded data removed]",
      "text/plain": [
       "<Figure size 432x288 with 1 Axes>"
      ]
     },
     "metadata": {},
     "output_type": "display_data"
    }
   ],
   "source": [
    "t = pd.DataFrame()\n",
    "t['ACC']        = RET.ACC\n",
    "t['AGG']        = RET.AGG\n",
    "t['Max_Sharpe'] = RET.multiply(w_maxSharpe).sum('columns')\n",
    "t['Min_Vol']    = RET.multiply(w_minVol).sum('columns')\n",
    "\n",
    "t.add(1).cumprod().plot(logy=True)"
   ]
  },
  {
   "cell_type": "code",
   "execution_count": 31,
   "metadata": {
    "colab": {
     "base_uri": "https://localhost:8080/",
     "height": 423
    },
    "id": "VM-pLda4Te0B",
    "outputId": "8fbea7b3-79cd-4460-af7a-a2c15799b316"
   },
   "outputs": [
    {
     "data": {
      "text/html": [
       "<div>\n",
       "<style scoped>\n",
       "    .dataframe tbody tr th:only-of-type {\n",
       "        vertical-align: middle;\n",
       "    }\n",
       "\n",
       "    .dataframe tbody tr th {\n",
       "        vertical-align: top;\n",
       "    }\n",
       "\n",
       "    .dataframe thead th {\n",
       "        text-align: right;\n",
       "    }\n",
       "</style>\n",
       "<table border=\"1\" class=\"dataframe\">\n",
       "  <thead>\n",
       "    <tr style=\"text-align: right;\">\n",
       "      <th></th>\n",
       "      <th>ACC</th>\n",
       "      <th>AGG</th>\n",
       "      <th>Max_Sharpe</th>\n",
       "      <th>Min_Vol</th>\n",
       "    </tr>\n",
       "  </thead>\n",
       "  <tbody>\n",
       "    <tr>\n",
       "      <th>2018-01-03</th>\n",
       "      <td>-0.016589</td>\n",
       "      <td>0.000092</td>\n",
       "      <td>-0.001687</td>\n",
       "      <td>0.000090</td>\n",
       "    </tr>\n",
       "    <tr>\n",
       "      <th>2018-01-04</th>\n",
       "      <td>-0.017862</td>\n",
       "      <td>-0.000641</td>\n",
       "      <td>-0.002477</td>\n",
       "      <td>-0.000642</td>\n",
       "    </tr>\n",
       "    <tr>\n",
       "      <th>2018-01-05</th>\n",
       "      <td>0.001263</td>\n",
       "      <td>-0.000642</td>\n",
       "      <td>-0.000438</td>\n",
       "      <td>-0.000641</td>\n",
       "    </tr>\n",
       "    <tr>\n",
       "      <th>2018-01-08</th>\n",
       "      <td>0.018416</td>\n",
       "      <td>-0.000275</td>\n",
       "      <td>0.001718</td>\n",
       "      <td>-0.000274</td>\n",
       "    </tr>\n",
       "    <tr>\n",
       "      <th>2018-01-09</th>\n",
       "      <td>-0.016349</td>\n",
       "      <td>-0.002752</td>\n",
       "      <td>-0.004202</td>\n",
       "      <td>-0.002753</td>\n",
       "    </tr>\n",
       "    <tr>\n",
       "      <th>...</th>\n",
       "      <td>...</td>\n",
       "      <td>...</td>\n",
       "      <td>...</td>\n",
       "      <td>...</td>\n",
       "    </tr>\n",
       "    <tr>\n",
       "      <th>2022-02-14</th>\n",
       "      <td>-0.007354</td>\n",
       "      <td>-0.005813</td>\n",
       "      <td>-0.005977</td>\n",
       "      <td>-0.005813</td>\n",
       "    </tr>\n",
       "    <tr>\n",
       "      <th>2022-02-15</th>\n",
       "      <td>0.008210</td>\n",
       "      <td>-0.001644</td>\n",
       "      <td>-0.000594</td>\n",
       "      <td>-0.001644</td>\n",
       "    </tr>\n",
       "    <tr>\n",
       "      <th>2022-02-16</th>\n",
       "      <td>-0.001787</td>\n",
       "      <td>0.001190</td>\n",
       "      <td>0.000872</td>\n",
       "      <td>0.001189</td>\n",
       "    </tr>\n",
       "    <tr>\n",
       "      <th>2022-02-17</th>\n",
       "      <td>0.030243</td>\n",
       "      <td>0.002102</td>\n",
       "      <td>0.005103</td>\n",
       "      <td>0.002104</td>\n",
       "    </tr>\n",
       "    <tr>\n",
       "      <th>2022-02-18</th>\n",
       "      <td>-0.018347</td>\n",
       "      <td>0.002098</td>\n",
       "      <td>-0.000082</td>\n",
       "      <td>0.002096</td>\n",
       "    </tr>\n",
       "  </tbody>\n",
       "</table>\n",
       "<p>1041 rows × 4 columns</p>\n",
       "</div>"
      ],
      "text/plain": [
       "                 ACC       AGG  Max_Sharpe   Min_Vol\n",
       "2018-01-03 -0.016589  0.000092   -0.001687  0.000090\n",
       "2018-01-04 -0.017862 -0.000641   -0.002477 -0.000642\n",
       "2018-01-05  0.001263 -0.000642   -0.000438 -0.000641\n",
       "2018-01-08  0.018416 -0.000275    0.001718 -0.000274\n",
       "2018-01-09 -0.016349 -0.002752   -0.004202 -0.002753\n",
       "...              ...       ...         ...       ...\n",
       "2022-02-14 -0.007354 -0.005813   -0.005977 -0.005813\n",
       "2022-02-15  0.008210 -0.001644   -0.000594 -0.001644\n",
       "2022-02-16 -0.001787  0.001190    0.000872  0.001189\n",
       "2022-02-17  0.030243  0.002102    0.005103  0.002104\n",
       "2022-02-18 -0.018347  0.002098   -0.000082  0.002096\n",
       "\n",
       "[1041 rows x 4 columns]"
      ]
     },
     "execution_count": 31,
     "metadata": {},
     "output_type": "execute_result"
    }
   ],
   "source": [
    "t"
   ]
  },
  {
   "cell_type": "markdown",
   "metadata": {
    "id": "VBNjeReSTo0Z"
   },
   "source": [
    "# Adding Crypto to the portfolio\n",
    "I think that the best way to do this is to treat the portfolio with crypto as if it only has two elements: \n",
    "1. The portfolio we just made with SPY and IEF\n",
    "2. Crypto\n",
    "\n",
    "In other words, we just treat the base portfolio as if it is one security, and as if we are investing in that security and a varying amount of crypto. I think we did something like this in valuation or last year's investment class, where we started with a base portfolio and invested in that portfolio and varying weights of bonds. Doing it this way will make it easier to find the optimized weights with crypto involved. "
   ]
  },
  {
   "cell_type": "markdown",
   "metadata": {
    "id": "dSKzr1AvUcqF"
   },
   "source": [
    "## Starting with the Max Sharpe Portfolio\n",
    "Find the risk premium of the portfolio:"
   ]
  },
  {
   "cell_type": "code",
   "execution_count": 32,
   "metadata": {
    "colab": {
     "base_uri": "https://localhost:8080/",
     "height": 423
    },
    "id": "n_DcnbNJTjrH",
    "outputId": "00a3546f-57ca-45d6-dfe6-ac64eb1ae9b5"
   },
   "outputs": [
    {
     "data": {
      "text/html": [
       "<div>\n",
       "<style scoped>\n",
       "    .dataframe tbody tr th:only-of-type {\n",
       "        vertical-align: middle;\n",
       "    }\n",
       "\n",
       "    .dataframe tbody tr th {\n",
       "        vertical-align: top;\n",
       "    }\n",
       "\n",
       "    .dataframe thead th {\n",
       "        text-align: right;\n",
       "    }\n",
       "</style>\n",
       "<table border=\"1\" class=\"dataframe\">\n",
       "  <thead>\n",
       "    <tr style=\"text-align: right;\">\n",
       "      <th></th>\n",
       "      <th>ACC</th>\n",
       "      <th>AGG</th>\n",
       "      <th>Max_Sharpe</th>\n",
       "      <th>Min_Vol</th>\n",
       "      <th>BTC</th>\n",
       "    </tr>\n",
       "  </thead>\n",
       "  <tbody>\n",
       "    <tr>\n",
       "      <th>2018-01-03</th>\n",
       "      <td>-0.016589</td>\n",
       "      <td>0.000092</td>\n",
       "      <td>-0.001687</td>\n",
       "      <td>0.000090</td>\n",
       "      <td>0.091906</td>\n",
       "    </tr>\n",
       "    <tr>\n",
       "      <th>2018-01-04</th>\n",
       "      <td>-0.017862</td>\n",
       "      <td>-0.000641</td>\n",
       "      <td>-0.002477</td>\n",
       "      <td>-0.000642</td>\n",
       "      <td>0.032474</td>\n",
       "    </tr>\n",
       "    <tr>\n",
       "      <th>2018-01-05</th>\n",
       "      <td>0.001263</td>\n",
       "      <td>-0.000642</td>\n",
       "      <td>-0.000438</td>\n",
       "      <td>-0.000641</td>\n",
       "      <td>-0.000788</td>\n",
       "    </tr>\n",
       "    <tr>\n",
       "      <th>2018-01-08</th>\n",
       "      <td>0.018416</td>\n",
       "      <td>-0.000275</td>\n",
       "      <td>0.001718</td>\n",
       "      <td>-0.000274</td>\n",
       "      <td>-0.059806</td>\n",
       "    </tr>\n",
       "    <tr>\n",
       "      <th>2018-01-09</th>\n",
       "      <td>-0.016349</td>\n",
       "      <td>-0.002752</td>\n",
       "      <td>-0.004202</td>\n",
       "      <td>-0.002753</td>\n",
       "      <td>-0.069712</td>\n",
       "    </tr>\n",
       "    <tr>\n",
       "      <th>...</th>\n",
       "      <td>...</td>\n",
       "      <td>...</td>\n",
       "      <td>...</td>\n",
       "      <td>...</td>\n",
       "      <td>...</td>\n",
       "    </tr>\n",
       "    <tr>\n",
       "      <th>2022-02-14</th>\n",
       "      <td>-0.007354</td>\n",
       "      <td>-0.005813</td>\n",
       "      <td>-0.005977</td>\n",
       "      <td>-0.005813</td>\n",
       "      <td>0.011436</td>\n",
       "    </tr>\n",
       "    <tr>\n",
       "      <th>2022-02-15</th>\n",
       "      <td>0.008210</td>\n",
       "      <td>-0.001644</td>\n",
       "      <td>-0.000594</td>\n",
       "      <td>-0.001644</td>\n",
       "      <td>0.047334</td>\n",
       "    </tr>\n",
       "    <tr>\n",
       "      <th>2022-02-16</th>\n",
       "      <td>-0.001787</td>\n",
       "      <td>0.001190</td>\n",
       "      <td>0.000872</td>\n",
       "      <td>0.001189</td>\n",
       "      <td>-0.015146</td>\n",
       "    </tr>\n",
       "    <tr>\n",
       "      <th>2022-02-17</th>\n",
       "      <td>0.030243</td>\n",
       "      <td>0.002102</td>\n",
       "      <td>0.005103</td>\n",
       "      <td>0.002104</td>\n",
       "      <td>-0.076461</td>\n",
       "    </tr>\n",
       "    <tr>\n",
       "      <th>2022-02-18</th>\n",
       "      <td>-0.018347</td>\n",
       "      <td>0.002098</td>\n",
       "      <td>-0.000082</td>\n",
       "      <td>0.002096</td>\n",
       "      <td>-0.013437</td>\n",
       "    </tr>\n",
       "  </tbody>\n",
       "</table>\n",
       "<p>1041 rows × 5 columns</p>\n",
       "</div>"
      ],
      "text/plain": [
       "                 ACC       AGG  Max_Sharpe   Min_Vol       BTC\n",
       "2018-01-03 -0.016589  0.000092   -0.001687  0.000090  0.091906\n",
       "2018-01-04 -0.017862 -0.000641   -0.002477 -0.000642  0.032474\n",
       "2018-01-05  0.001263 -0.000642   -0.000438 -0.000641 -0.000788\n",
       "2018-01-08  0.018416 -0.000275    0.001718 -0.000274 -0.059806\n",
       "2018-01-09 -0.016349 -0.002752   -0.004202 -0.002753 -0.069712\n",
       "...              ...       ...         ...       ...       ...\n",
       "2022-02-14 -0.007354 -0.005813   -0.005977 -0.005813  0.011436\n",
       "2022-02-15  0.008210 -0.001644   -0.000594 -0.001644  0.047334\n",
       "2022-02-16 -0.001787  0.001190    0.000872  0.001189 -0.015146\n",
       "2022-02-17  0.030243  0.002102    0.005103  0.002104 -0.076461\n",
       "2022-02-18 -0.018347  0.002098   -0.000082  0.002096 -0.013437\n",
       "\n",
       "[1041 rows x 5 columns]"
      ]
     },
     "execution_count": 32,
     "metadata": {},
     "output_type": "execute_result"
    }
   ],
   "source": [
    "t['BTC'] = BTC_ret\n",
    "t"
   ]
  },
  {
   "cell_type": "code",
   "execution_count": 33,
   "metadata": {
    "colab": {
     "base_uri": "https://localhost:8080/",
     "height": 394
    },
    "id": "G6C0vGRYU_XG",
    "outputId": "0806a35f-58ec-44fe-e413-5a73682c4655"
   },
   "outputs": [
    {
     "data": {
      "text/html": [
       "<div>\n",
       "<style scoped>\n",
       "    .dataframe tbody tr th:only-of-type {\n",
       "        vertical-align: middle;\n",
       "    }\n",
       "\n",
       "    .dataframe tbody tr th {\n",
       "        vertical-align: top;\n",
       "    }\n",
       "\n",
       "    .dataframe thead th {\n",
       "        text-align: right;\n",
       "    }\n",
       "</style>\n",
       "<table border=\"1\" class=\"dataframe\">\n",
       "  <thead>\n",
       "    <tr style=\"text-align: right;\">\n",
       "      <th></th>\n",
       "      <th>ACC</th>\n",
       "      <th>AGG</th>\n",
       "      <th>Max_Sharpe</th>\n",
       "      <th>Min_Vol</th>\n",
       "      <th>BTC</th>\n",
       "    </tr>\n",
       "  </thead>\n",
       "  <tbody>\n",
       "    <tr>\n",
       "      <th>2018-12-31</th>\n",
       "      <td>0.056895</td>\n",
       "      <td>0.002425</td>\n",
       "      <td>0.009936</td>\n",
       "      <td>0.002430</td>\n",
       "      <td>-0.739754</td>\n",
       "    </tr>\n",
       "    <tr>\n",
       "      <th>2019-12-31</th>\n",
       "      <td>0.182683</td>\n",
       "      <td>0.084556</td>\n",
       "      <td>0.095809</td>\n",
       "      <td>0.084564</td>\n",
       "      <td>0.646581</td>\n",
       "    </tr>\n",
       "    <tr>\n",
       "      <th>2020-12-31</th>\n",
       "      <td>-0.043823</td>\n",
       "      <td>0.074771</td>\n",
       "      <td>0.083877</td>\n",
       "      <td>0.074778</td>\n",
       "      <td>3.807329</td>\n",
       "    </tr>\n",
       "    <tr>\n",
       "      <th>2021-12-31</th>\n",
       "      <td>0.394268</td>\n",
       "      <td>-0.017697</td>\n",
       "      <td>0.022019</td>\n",
       "      <td>-0.017672</td>\n",
       "      <td>0.234006</td>\n",
       "    </tr>\n",
       "  </tbody>\n",
       "</table>\n",
       "</div>"
      ],
      "text/plain": [
       "                 ACC       AGG  Max_Sharpe   Min_Vol       BTC\n",
       "2018-12-31  0.056895  0.002425    0.009936  0.002430 -0.739754\n",
       "2019-12-31  0.182683  0.084556    0.095809  0.084564  0.646581\n",
       "2020-12-31 -0.043823  0.074771    0.083877  0.074778  3.807329\n",
       "2021-12-31  0.394268 -0.017697    0.022019 -0.017672  0.234006"
      ]
     },
     "execution_count": 33,
     "metadata": {},
     "output_type": "execute_result"
    }
   ],
   "source": [
    "max_r_annual = t[:'2021'].add(1).resample('A').prod().sub(1)\n",
    "max_r_annual"
   ]
  },
  {
   "cell_type": "code",
   "execution_count": 34,
   "metadata": {
    "colab": {
     "base_uri": "https://localhost:8080/",
     "height": 394
    },
    "id": "drXgPc2JVQk-",
    "outputId": "cab9350a-d86c-4a67-f0b7-eccba341dd4c"
   },
   "outputs": [
    {
     "data": {
      "text/html": [
       "<div>\n",
       "<style scoped>\n",
       "    .dataframe tbody tr th:only-of-type {\n",
       "        vertical-align: middle;\n",
       "    }\n",
       "\n",
       "    .dataframe tbody tr th {\n",
       "        vertical-align: top;\n",
       "    }\n",
       "\n",
       "    .dataframe thead th {\n",
       "        text-align: right;\n",
       "    }\n",
       "</style>\n",
       "<table border=\"1\" class=\"dataframe\">\n",
       "  <thead>\n",
       "    <tr style=\"text-align: right;\">\n",
       "      <th></th>\n",
       "      <th>ACC</th>\n",
       "      <th>AGG</th>\n",
       "      <th>Max_Sharpe</th>\n",
       "      <th>Min_Vol</th>\n",
       "      <th>BTC</th>\n",
       "    </tr>\n",
       "  </thead>\n",
       "  <tbody>\n",
       "    <tr>\n",
       "      <th>2018-12-31</th>\n",
       "      <td>0.038595</td>\n",
       "      <td>-0.015875</td>\n",
       "      <td>-0.008364</td>\n",
       "      <td>-0.015870</td>\n",
       "      <td>-0.758054</td>\n",
       "    </tr>\n",
       "    <tr>\n",
       "      <th>2019-12-31</th>\n",
       "      <td>0.156683</td>\n",
       "      <td>0.058556</td>\n",
       "      <td>0.069809</td>\n",
       "      <td>0.058564</td>\n",
       "      <td>0.620581</td>\n",
       "    </tr>\n",
       "    <tr>\n",
       "      <th>2020-12-31</th>\n",
       "      <td>-0.059423</td>\n",
       "      <td>0.059171</td>\n",
       "      <td>0.068277</td>\n",
       "      <td>0.059178</td>\n",
       "      <td>3.791729</td>\n",
       "    </tr>\n",
       "    <tr>\n",
       "      <th>2021-12-31</th>\n",
       "      <td>0.393268</td>\n",
       "      <td>-0.018697</td>\n",
       "      <td>0.021019</td>\n",
       "      <td>-0.018672</td>\n",
       "      <td>0.233006</td>\n",
       "    </tr>\n",
       "  </tbody>\n",
       "</table>\n",
       "</div>"
      ],
      "text/plain": [
       "                 ACC       AGG  Max_Sharpe   Min_Vol       BTC\n",
       "2018-12-31  0.038595 -0.015875   -0.008364 -0.015870 -0.758054\n",
       "2019-12-31  0.156683  0.058556    0.069809  0.058564  0.620581\n",
       "2020-12-31 -0.059423  0.059171    0.068277  0.059178  3.791729\n",
       "2021-12-31  0.393268 -0.018697    0.021019 -0.018672  0.233006"
      ]
     },
     "execution_count": 34,
     "metadata": {},
     "output_type": "execute_result"
    }
   ],
   "source": [
    "max_rx_annual = max_r_annual.sub(r_annual_Tbill, 'rows').dropna() # Subtract a series from a table with table.sub(series, 'rows')\n",
    "max_rx_annual"
   ]
  },
  {
   "cell_type": "code",
   "execution_count": 35,
   "metadata": {
    "colab": {
     "base_uri": "https://localhost:8080/"
    },
    "id": "HNx5A5L9VzBD",
    "outputId": "3a099b4a-d90c-402b-e12a-dd2e10b7784f"
   },
   "outputs": [
    {
     "data": {
      "text/plain": [
       "Max_Sharpe    0.037685\n",
       "BTC           0.971816\n",
       "dtype: float64"
      ]
     },
     "execution_count": 35,
     "metadata": {},
     "output_type": "execute_result"
    }
   ],
   "source": [
    "max_meanx = max_rx_annual[['Max_Sharpe','BTC']].mean()\n",
    "max_meanx"
   ]
  },
  {
   "cell_type": "markdown",
   "metadata": {
    "id": "2kyBHE65W8e2"
   },
   "source": [
    "Obviously, using the annual mean rx for bitcoin isn't going to work here. Using the Median might help here, because it is a metric less sensitive to outliers. I don't know if this is valid to do for the linear algebra though.\n"
   ]
  },
  {
   "cell_type": "code",
   "execution_count": 36,
   "metadata": {
    "colab": {
     "base_uri": "https://localhost:8080/"
    },
    "id": "nU6oP_G0W2vA",
    "outputId": "b2747212-260e-4147-a2b8-c7fd338c2752"
   },
   "outputs": [
    {
     "data": {
      "text/plain": [
       "Max_Sharpe    0.044648\n",
       "BTC           0.426794\n",
       "dtype: float64"
      ]
     },
     "execution_count": 36,
     "metadata": {},
     "output_type": "execute_result"
    }
   ],
   "source": [
    "max_medx = max_rx_annual[['Max_Sharpe','BTC']].median()\n",
    "max_medx"
   ]
  },
  {
   "cell_type": "markdown",
   "metadata": {
    "id": "VPLTGwUzX3Kp"
   },
   "source": [
    "Now, set the example weights:"
   ]
  },
  {
   "cell_type": "code",
   "execution_count": 37,
   "metadata": {
    "colab": {
     "base_uri": "https://localhost:8080/"
    },
    "id": "LxfkYf9kXq4K",
    "outputId": "72f6b635-1fee-4a04-843c-8c5736f68d2f"
   },
   "outputs": [
    {
     "data": {
      "text/plain": [
       "Max_Sharpe    0.6\n",
       "BTC           0.4\n",
       "dtype: float64"
      ]
     },
     "execution_count": 37,
     "metadata": {},
     "output_type": "execute_result"
    }
   ],
   "source": [
    "max_w = pd.Series({'Max_Sharpe':0.6,'BTC':0.4})\n",
    "max_w"
   ]
  },
  {
   "cell_type": "markdown",
   "metadata": {
    "id": "6KDyX-lpYM8Y"
   },
   "source": [
    "Calculate portfolio risk premium:\n"
   ]
  },
  {
   "cell_type": "code",
   "execution_count": 38,
   "metadata": {
    "colab": {
     "base_uri": "https://localhost:8080/"
    },
    "id": "NwSL9QNqYHks",
    "outputId": "e78932fb-9121-4824-b9ac-83f6c9f0fc17"
   },
   "outputs": [
    {
     "data": {
      "text/plain": [
       "0.19750622918152205"
      ]
     },
     "execution_count": 38,
     "metadata": {},
     "output_type": "execute_result"
    }
   ],
   "source": [
    "(max_w * max_medx).sum()"
   ]
  },
  {
   "cell_type": "markdown",
   "metadata": {
    "id": "qnfe7o9cYbh5"
   },
   "source": [
    "Now find portfolio variance:"
   ]
  },
  {
   "cell_type": "code",
   "execution_count": 39,
   "metadata": {
    "colab": {
     "base_uri": "https://localhost:8080/",
     "height": 112
    },
    "id": "JUIaNZ_XYa8u",
    "outputId": "449731a4-ca02-41f5-e94e-ef3f260132b5"
   },
   "outputs": [
    {
     "data": {
      "text/html": [
       "<div>\n",
       "<style scoped>\n",
       "    .dataframe tbody tr th:only-of-type {\n",
       "        vertical-align: middle;\n",
       "    }\n",
       "\n",
       "    .dataframe tbody tr th {\n",
       "        vertical-align: top;\n",
       "    }\n",
       "\n",
       "    .dataframe thead th {\n",
       "        text-align: right;\n",
       "    }\n",
       "</style>\n",
       "<table border=\"1\" class=\"dataframe\">\n",
       "  <thead>\n",
       "    <tr style=\"text-align: right;\">\n",
       "      <th></th>\n",
       "      <th>Max_Sharpe</th>\n",
       "      <th>BTC</th>\n",
       "    </tr>\n",
       "  </thead>\n",
       "  <tbody>\n",
       "    <tr>\n",
       "      <th>Max_Sharpe</th>\n",
       "      <td>0.003975</td>\n",
       "      <td>0.007124</td>\n",
       "    </tr>\n",
       "    <tr>\n",
       "      <th>BTC</th>\n",
       "      <td>0.007124</td>\n",
       "      <td>0.477980</td>\n",
       "    </tr>\n",
       "  </tbody>\n",
       "</table>\n",
       "</div>"
      ],
      "text/plain": [
       "            Max_Sharpe       BTC\n",
       "Max_Sharpe    0.003975  0.007124\n",
       "BTC           0.007124  0.477980"
      ]
     },
     "execution_count": 39,
     "metadata": {},
     "output_type": "execute_result"
    }
   ],
   "source": [
    "max_cov = t[['Max_Sharpe','BTC']].cov()*252\n",
    "max_cov"
   ]
  },
  {
   "cell_type": "markdown",
   "metadata": {
    "id": "X9ov0Wo2Y5s_"
   },
   "source": [
    "Volatility:"
   ]
  },
  {
   "cell_type": "code",
   "execution_count": 40,
   "metadata": {
    "colab": {
     "base_uri": "https://localhost:8080/"
    },
    "id": "ySCg9y8hYbEI",
    "outputId": "8e45b02d-5d90-4abd-d9bd-a709116e9cac"
   },
   "outputs": [
    {
     "data": {
      "text/plain": [
       "0.2851790312019253"
      ]
     },
     "execution_count": 40,
     "metadata": {},
     "output_type": "execute_result"
    }
   ],
   "source": [
    "max_w.dot(max_cov).dot(max_w) ** 0.5 "
   ]
  },
  {
   "cell_type": "code",
   "execution_count": 41,
   "metadata": {
    "colab": {
     "base_uri": "https://localhost:8080/",
     "height": 394
    },
    "id": "c47dct9YYY6S",
    "outputId": "47591b27-2d7e-44cb-c8af-b57268b28b70"
   },
   "outputs": [
    {
     "data": {
      "text/html": [
       "<div>\n",
       "<style scoped>\n",
       "    .dataframe tbody tr th:only-of-type {\n",
       "        vertical-align: middle;\n",
       "    }\n",
       "\n",
       "    .dataframe tbody tr th {\n",
       "        vertical-align: top;\n",
       "    }\n",
       "\n",
       "    .dataframe thead th {\n",
       "        text-align: right;\n",
       "    }\n",
       "</style>\n",
       "<table border=\"1\" class=\"dataframe\">\n",
       "  <thead>\n",
       "    <tr style=\"text-align: right;\">\n",
       "      <th></th>\n",
       "      <th>Max_Sharpe</th>\n",
       "      <th>BTC</th>\n",
       "      <th>Risk_premium</th>\n",
       "      <th>Volatility</th>\n",
       "      <th>Sharpe</th>\n",
       "    </tr>\n",
       "  </thead>\n",
       "  <tbody>\n",
       "    <tr>\n",
       "      <th>0</th>\n",
       "      <td>0.0</td>\n",
       "      <td>1.0</td>\n",
       "      <td>0.426794</td>\n",
       "      <td>0.691361</td>\n",
       "      <td>0.617324</td>\n",
       "    </tr>\n",
       "    <tr>\n",
       "      <th>1</th>\n",
       "      <td>0.1</td>\n",
       "      <td>0.9</td>\n",
       "      <td>0.388579</td>\n",
       "      <td>0.623286</td>\n",
       "      <td>0.623436</td>\n",
       "    </tr>\n",
       "    <tr>\n",
       "      <th>2</th>\n",
       "      <td>0.2</td>\n",
       "      <td>0.8</td>\n",
       "      <td>0.350365</td>\n",
       "      <td>0.555289</td>\n",
       "      <td>0.630959</td>\n",
       "    </tr>\n",
       "    <tr>\n",
       "      <th>3</th>\n",
       "      <td>0.3</td>\n",
       "      <td>0.7</td>\n",
       "      <td>0.312150</td>\n",
       "      <td>0.487401</td>\n",
       "      <td>0.640437</td>\n",
       "    </tr>\n",
       "    <tr>\n",
       "      <th>4</th>\n",
       "      <td>0.4</td>\n",
       "      <td>0.6</td>\n",
       "      <td>0.273935</td>\n",
       "      <td>0.419676</td>\n",
       "      <td>0.652730</td>\n",
       "    </tr>\n",
       "    <tr>\n",
       "      <th>5</th>\n",
       "      <td>0.5</td>\n",
       "      <td>0.5</td>\n",
       "      <td>0.235721</td>\n",
       "      <td>0.352208</td>\n",
       "      <td>0.669266</td>\n",
       "    </tr>\n",
       "    <tr>\n",
       "      <th>6</th>\n",
       "      <td>0.6</td>\n",
       "      <td>0.4</td>\n",
       "      <td>0.197506</td>\n",
       "      <td>0.285179</td>\n",
       "      <td>0.692569</td>\n",
       "    </tr>\n",
       "    <tr>\n",
       "      <th>7</th>\n",
       "      <td>0.7</td>\n",
       "      <td>0.3</td>\n",
       "      <td>0.159292</td>\n",
       "      <td>0.218993</td>\n",
       "      <td>0.727384</td>\n",
       "    </tr>\n",
       "    <tr>\n",
       "      <th>8</th>\n",
       "      <td>0.8</td>\n",
       "      <td>0.2</td>\n",
       "      <td>0.121077</td>\n",
       "      <td>0.154734</td>\n",
       "      <td>0.782485</td>\n",
       "    </tr>\n",
       "    <tr>\n",
       "      <th>9</th>\n",
       "      <td>0.9</td>\n",
       "      <td>0.1</td>\n",
       "      <td>0.082863</td>\n",
       "      <td>0.096341</td>\n",
       "      <td>0.860093</td>\n",
       "    </tr>\n",
       "    <tr>\n",
       "      <th>10</th>\n",
       "      <td>1.0</td>\n",
       "      <td>0.0</td>\n",
       "      <td>0.044648</td>\n",
       "      <td>0.063046</td>\n",
       "      <td>0.708178</td>\n",
       "    </tr>\n",
       "  </tbody>\n",
       "</table>\n",
       "</div>"
      ],
      "text/plain": [
       "    Max_Sharpe  BTC  Risk_premium  Volatility    Sharpe\n",
       "0          0.0  1.0      0.426794    0.691361  0.617324\n",
       "1          0.1  0.9      0.388579    0.623286  0.623436\n",
       "2          0.2  0.8      0.350365    0.555289  0.630959\n",
       "3          0.3  0.7      0.312150    0.487401  0.640437\n",
       "4          0.4  0.6      0.273935    0.419676  0.652730\n",
       "5          0.5  0.5      0.235721    0.352208  0.669266\n",
       "6          0.6  0.4      0.197506    0.285179  0.692569\n",
       "7          0.7  0.3      0.159292    0.218993  0.727384\n",
       "8          0.8  0.2      0.121077    0.154734  0.782485\n",
       "9          0.9  0.1      0.082863    0.096341  0.860093\n",
       "10         1.0  0.0      0.044648    0.063046  0.708178"
      ]
     },
     "execution_count": 41,
     "metadata": {},
     "output_type": "execute_result"
    }
   ],
   "source": [
    "m = pd.DataFrame(index=range(11))\n",
    "\n",
    "for i in m.index:\n",
    "    w                       = pd.Series({'Max_Sharpe':i/10, 'BTC':1-i/10})\n",
    "    m.loc[i,'Max_Sharpe']   = w.Max_Sharpe\n",
    "    m.loc[i,'BTC']          = w.BTC\n",
    "    m.loc[i,'Risk_premium'] = w.dot(max_medx)\n",
    "    m.loc[i,'Volatility']   = w.dot(max_cov).dot(w) ** 0.5\n",
    "\n",
    "m['Sharpe'] = m.Risk_premium / m.Volatility        \n",
    "m"
   ]
  },
  {
   "cell_type": "code",
   "execution_count": 42,
   "metadata": {
    "colab": {
     "base_uri": "https://localhost:8080/",
     "height": 299
    },
    "id": "pSqWylL5YTou",
    "outputId": "e5eef51b-782f-4b7c-b17e-50644ac31d8c"
   },
   "outputs": [
    {
     "data": {
      "text/plain": [
       "<AxesSubplot:xlabel='Volatility', ylabel='Risk_premium'>"
      ]
     },
     "execution_count": 42,
     "metadata": {},
     "output_type": "execute_result"
    },
    {
     "data": {
      "image/png": "[encoded data removed]",
      "text/plain": [
       "<Figure size 432x288 with 1 Axes>"
      ]
     },
     "metadata": {},
     "output_type": "display_data"
    }
   ],
   "source": [
    "m.plot.scatter('Volatility','Risk_premium')"
   ]
  },
  {
   "cell_type": "markdown",
   "metadata": {
    "id": "z8Ih_ozlalnR"
   },
   "source": [
    "The covariance between BTC and the market is so low that the efficient frontier looks like basically a straight line"
   ]
  },
  {
   "cell_type": "markdown",
   "metadata": {
    "id": "NsVfQW2aa4Yy"
   },
   "source": [
    "Now find the maximum sharpe ratio of this new portfolio blend:"
   ]
  },
  {
   "cell_type": "code",
   "execution_count": 43,
   "metadata": {
    "colab": {
     "base_uri": "https://localhost:8080/"
    },
    "id": "_0i5Re3YafD4",
    "outputId": "3c81dceb-aa13-413a-f18e-62730b4ec0d7"
   },
   "outputs": [
    {
     "data": {
      "text/plain": [
       "array([[258.48803515,  -3.85240201],\n",
       "       [ -3.85240201,   2.14955223]])"
      ]
     },
     "execution_count": 43,
     "metadata": {},
     "output_type": "execute_result"
    }
   ],
   "source": [
    "np.linalg.inv(max_cov)"
   ]
  },
  {
   "cell_type": "code",
   "execution_count": 44,
   "metadata": {
    "colab": {
     "base_uri": "https://localhost:8080/",
     "height": 112
    },
    "id": "Si2dKJa2bD-P",
    "outputId": "5b07dffb-9646-44a0-e2ca-d1051253f72e"
   },
   "outputs": [
    {
     "data": {
      "text/html": [
       "<div>\n",
       "<style scoped>\n",
       "    .dataframe tbody tr th:only-of-type {\n",
       "        vertical-align: middle;\n",
       "    }\n",
       "\n",
       "    .dataframe tbody tr th {\n",
       "        vertical-align: top;\n",
       "    }\n",
       "\n",
       "    .dataframe thead th {\n",
       "        text-align: right;\n",
       "    }\n",
       "</style>\n",
       "<table border=\"1\" class=\"dataframe\">\n",
       "  <thead>\n",
       "    <tr style=\"text-align: right;\">\n",
       "      <th></th>\n",
       "      <th>Max_Sharpe</th>\n",
       "      <th>BTC</th>\n",
       "    </tr>\n",
       "  </thead>\n",
       "  <tbody>\n",
       "    <tr>\n",
       "      <th>Max_Sharpe</th>\n",
       "      <td>258.488035</td>\n",
       "      <td>-3.852402</td>\n",
       "    </tr>\n",
       "    <tr>\n",
       "      <th>BTC</th>\n",
       "      <td>-3.852402</td>\n",
       "      <td>2.149552</td>\n",
       "    </tr>\n",
       "  </tbody>\n",
       "</table>\n",
       "</div>"
      ],
      "text/plain": [
       "            Max_Sharpe       BTC\n",
       "Max_Sharpe  258.488035 -3.852402\n",
       "BTC          -3.852402  2.149552"
      ]
     },
     "execution_count": 44,
     "metadata": {},
     "output_type": "execute_result"
    }
   ],
   "source": [
    "max_cov_inv = pd.DataFrame(np.linalg.inv(max_cov), columns=max_cov.columns, index=max_cov.index)\n",
    "max_cov_inv"
   ]
  },
  {
   "cell_type": "markdown",
   "metadata": {
    "id": "S2XoVCr-bPXu"
   },
   "source": [
    "Maximum Sharpe Ratio Weights:"
   ]
  },
  {
   "cell_type": "code",
   "execution_count": 45,
   "metadata": {
    "colab": {
     "base_uri": "https://localhost:8080/"
    },
    "id": "TLA9fanObJ4W",
    "outputId": "817aeabc-e400-43a6-d7dc-3fc3d85812c2"
   },
   "outputs": [
    {
     "data": {
      "text/plain": [
       "Max_Sharpe    0.929957\n",
       "BTC           0.070043\n",
       "dtype: float64"
      ]
     },
     "execution_count": 45,
     "metadata": {},
     "output_type": "execute_result"
    }
   ],
   "source": [
    "max_w_maxSharpe = max_cov_inv.dot(max_medx) /  max_cov_inv.dot(max_medx).sum()\n",
    "max_w_maxSharpe"
   ]
  },
  {
   "cell_type": "markdown",
   "metadata": {
    "id": "Vl6zKix8brdl"
   },
   "source": [
    "Unsurprisingly, the max sharpe ratio for this portfolio blend is mostly the base portfolio.\n",
    "\n",
    "Now let's find the minimum volatility weights for this portfolio:"
   ]
  },
  {
   "cell_type": "code",
   "execution_count": 46,
   "metadata": {
    "colab": {
     "base_uri": "https://localhost:8080/"
    },
    "id": "YCP2j1ilbgCq",
    "outputId": "be4b53b5-870d-4a71-d9fe-f979b30dfe5c"
   },
   "outputs": [
    {
     "data": {
      "text/plain": [
       "Max_Sharpe    1.006732\n",
       "BTC          -0.006732\n",
       "dtype: float64"
      ]
     },
     "execution_count": 46,
     "metadata": {},
     "output_type": "execute_result"
    }
   ],
   "source": [
    "max_w_minVol = max_cov_inv.sum() / max_cov_inv.sum().sum()\n",
    "max_w_minVol"
   ]
  },
  {
   "cell_type": "markdown",
   "metadata": {
    "id": "QOUXcIPgb7cL"
   },
   "source": [
    "The minimum volatility portfolio actually suggests that one shold ***short*** bitcoin.\n",
    "\n",
    "Now let's compound the returns of these optimal portfolios, based on a blend of BTC and our maximum sharpe ratio base portfolio."
   ]
  },
  {
   "cell_type": "code",
   "execution_count": 47,
   "metadata": {
    "colab": {
     "base_uri": "https://localhost:8080/",
     "height": 661
    },
    "id": "H-KaUvP3cOZu",
    "outputId": "9a579d8f-806c-4035-fe56-24c7632a9a19"
   },
   "outputs": [
    {
     "data": {
      "text/html": [
       "<div>\n",
       "<style scoped>\n",
       "    .dataframe tbody tr th:only-of-type {\n",
       "        vertical-align: middle;\n",
       "    }\n",
       "\n",
       "    .dataframe tbody tr th {\n",
       "        vertical-align: top;\n",
       "    }\n",
       "\n",
       "    .dataframe thead th {\n",
       "        text-align: right;\n",
       "    }\n",
       "</style>\n",
       "<table border=\"1\" class=\"dataframe\">\n",
       "  <thead>\n",
       "    <tr style=\"text-align: right;\">\n",
       "      <th></th>\n",
       "      <th>Base_Max_Sharpe</th>\n",
       "      <th>BTC</th>\n",
       "      <th>BTC_Max_Sharpe</th>\n",
       "      <th>BTC_Min_Vol</th>\n",
       "    </tr>\n",
       "  </thead>\n",
       "  <tbody>\n",
       "    <tr>\n",
       "      <th>2018-01-03</th>\n",
       "      <td>-0.001687</td>\n",
       "      <td>0.091906</td>\n",
       "      <td>0.004869</td>\n",
       "      <td>-0.002317</td>\n",
       "    </tr>\n",
       "    <tr>\n",
       "      <th>2018-01-04</th>\n",
       "      <td>-0.002477</td>\n",
       "      <td>0.032474</td>\n",
       "      <td>-0.000029</td>\n",
       "      <td>-0.002713</td>\n",
       "    </tr>\n",
       "    <tr>\n",
       "      <th>2018-01-05</th>\n",
       "      <td>-0.000438</td>\n",
       "      <td>-0.000788</td>\n",
       "      <td>-0.000463</td>\n",
       "      <td>-0.000436</td>\n",
       "    </tr>\n",
       "    <tr>\n",
       "      <th>2018-01-08</th>\n",
       "      <td>0.001718</td>\n",
       "      <td>-0.059806</td>\n",
       "      <td>-0.002592</td>\n",
       "      <td>0.002132</td>\n",
       "    </tr>\n",
       "    <tr>\n",
       "      <th>2018-01-09</th>\n",
       "      <td>-0.004202</td>\n",
       "      <td>-0.069712</td>\n",
       "      <td>-0.008790</td>\n",
       "      <td>-0.003761</td>\n",
       "    </tr>\n",
       "    <tr>\n",
       "      <th>...</th>\n",
       "      <td>...</td>\n",
       "      <td>...</td>\n",
       "      <td>...</td>\n",
       "      <td>...</td>\n",
       "    </tr>\n",
       "    <tr>\n",
       "      <th>2022-02-14</th>\n",
       "      <td>-0.005977</td>\n",
       "      <td>0.011436</td>\n",
       "      <td>-0.004758</td>\n",
       "      <td>-0.006094</td>\n",
       "    </tr>\n",
       "    <tr>\n",
       "      <th>2022-02-15</th>\n",
       "      <td>-0.000594</td>\n",
       "      <td>0.047334</td>\n",
       "      <td>0.002763</td>\n",
       "      <td>-0.000916</td>\n",
       "    </tr>\n",
       "    <tr>\n",
       "      <th>2022-02-16</th>\n",
       "      <td>0.000872</td>\n",
       "      <td>-0.015146</td>\n",
       "      <td>-0.000250</td>\n",
       "      <td>0.000980</td>\n",
       "    </tr>\n",
       "    <tr>\n",
       "      <th>2022-02-17</th>\n",
       "      <td>0.005103</td>\n",
       "      <td>-0.076461</td>\n",
       "      <td>-0.000610</td>\n",
       "      <td>0.005652</td>\n",
       "    </tr>\n",
       "    <tr>\n",
       "      <th>2022-02-18</th>\n",
       "      <td>-0.000082</td>\n",
       "      <td>-0.013437</td>\n",
       "      <td>-0.001018</td>\n",
       "      <td>0.000008</td>\n",
       "    </tr>\n",
       "  </tbody>\n",
       "</table>\n",
       "<p>1041 rows × 4 columns</p>\n",
       "</div>"
      ],
      "text/plain": [
       "            Base_Max_Sharpe       BTC  BTC_Max_Sharpe  BTC_Min_Vol\n",
       "2018-01-03        -0.001687  0.091906        0.004869    -0.002317\n",
       "2018-01-04        -0.002477  0.032474       -0.000029    -0.002713\n",
       "2018-01-05        -0.000438 -0.000788       -0.000463    -0.000436\n",
       "2018-01-08         0.001718 -0.059806       -0.002592     0.002132\n",
       "2018-01-09        -0.004202 -0.069712       -0.008790    -0.003761\n",
       "...                     ...       ...             ...          ...\n",
       "2022-02-14        -0.005977  0.011436       -0.004758    -0.006094\n",
       "2022-02-15        -0.000594  0.047334        0.002763    -0.000916\n",
       "2022-02-16         0.000872 -0.015146       -0.000250     0.000980\n",
       "2022-02-17         0.005103 -0.076461       -0.000610     0.005652\n",
       "2022-02-18        -0.000082 -0.013437       -0.001018     0.000008\n",
       "\n",
       "[1041 rows x 4 columns]"
      ]
     },
     "execution_count": 47,
     "metadata": {},
     "output_type": "execute_result"
    },
    {
     "data": {
      "image/png": "[encoded data removed]",
      "text/plain": [
       "<Figure size 432x288 with 1 Axes>"
      ]
     },
     "metadata": {},
     "output_type": "display_data"
    }
   ],
   "source": [
    "l = pd.DataFrame()\n",
    "l['Base_Max_Sharpe'] = t.Max_Sharpe\n",
    "l['BTC']             = t.BTC\n",
    "l['BTC_Max_Sharpe']  = t.multiply(max_w_maxSharpe).sum('columns')\n",
    "l['BTC_Min_Vol']     = t.multiply(max_w_minVol).sum('columns')\n",
    "\n",
    "l.add(1).cumprod().plot(logy=True)\n",
    "l"
   ]
  },
  {
   "cell_type": "code",
   "execution_count": null,
   "metadata": {
    "id": "0PMrOlIcb6df"
   },
   "outputs": [],
   "source": []
  },
  {
   "cell_type": "markdown",
   "metadata": {
    "id": "yJw1aUySdGlO"
   },
   "source": [
    "## Adding Crypto to the minimum volatility base portfolio"
   ]
  },
  {
   "cell_type": "code",
   "execution_count": null,
   "metadata": {
    "id": "Voez_YN8cFLj"
   },
   "outputs": [],
   "source": []
  }
 ],
 "metadata": {
  "colab": {
   "name": "DB code",
   "provenance": []
  },
  "kernelspec": {
   "display_name": "Python 3",
   "language": "python",
   "name": "python3"
  },
  "language_info": {
   "codemirror_mode": {
    "name": "ipython",
    "version": 3
   },
   "file_extension": ".py",
   "mimetype": "text/x-python",
   "name": "python",
   "nbconvert_exporter": "python",
   "pygments_lexer": "ipython3",
   "version": "3.8.5"
  }
 },
 "nbformat": 4,
 "nbformat_minor": 1
}
