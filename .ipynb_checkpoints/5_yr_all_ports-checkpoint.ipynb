{
 "cells": [
  {
   "cell_type": "code",
   "execution_count": 3,
   "metadata": {},
   "outputs": [],
   "source": [
    "import pandas as pd                                    # Working with tables\n",
    "import numpy as np\n",
    "\n",
    "\n",
    "from tiingo import TiingoClient                       # Stock prices.\n",
    "import quandl                                         # Economic data, futures prices, ...\n",
    "\n",
    "# API keys:\n",
    "tiingo = TiingoClient({'api_key':'349dd4117e5d1ed71a22f0207a8e439cf3f7b06b'})\n",
    "quandl.ApiConfig.api_key = '_ci7hzC_sPkspKWz2yzt'                      # Replace the XXXX with your API key (must be inside the ' ').\n",
    "\n",
    "import matplotlib.pyplot as plt                        # Basic plot library.\n",
    "plt.style.use('ggplot')                                # Make plots look nice.\n",
    "%matplotlib inline"
   ]
  },
  {
   "cell_type": "markdown",
   "metadata": {},
   "source": [
    "# Base Portfolio"
   ]
  },
  {
   "cell_type": "code",
   "execution_count": 4,
   "metadata": {},
   "outputs": [],
   "source": [
    "tickers    = ['ASX','AGG']\n",
    "start_ytd  = '3-23-2020'\n",
    "end_ytd    = '3-23-2022'"
   ]
  },
  {
   "cell_type": "markdown",
   "metadata": {},
   "source": [
    "Now let's look at the returns"
   ]
  },
  {
   "cell_type": "code",
   "execution_count": 50,
   "metadata": {},
   "outputs": [
    {
     "data": {
      "text/plain": [
       "ASX       731\n",
       "AGG       731\n",
       "btcusd    730\n",
       "dtype: int64"
      ]
     },
     "execution_count": 50,
     "metadata": {},
     "output_type": "execute_result"
    }
   ],
   "source": [
    "\n",
    "prices  = tiingo.get_dataframe(tickers, start_ytd, end_ytd, metric_name='adjClose')\n",
    "prices.index = pd.to_datetime(prices.index).tz_convert(None) \n",
    "r_base = prices.pct_change()\n",
    "    \n",
    "r_base.count()\n"
   ]
  },
  {
   "cell_type": "code",
   "execution_count": 8,
   "metadata": {},
   "outputs": [
    {
     "data": {
      "text/plain": [
       "ASX    0.519198\n",
       "AGG   -0.016032\n",
       "dtype: float64"
      ]
     },
     "execution_count": 8,
     "metadata": {},
     "output_type": "execute_result"
    }
   ],
   "source": [
    "rf = 0.011\n",
    "risk_premiums = r.mean() * 252 - rf  \n",
    "risk_premiums"
   ]
  },
  {
   "cell_type": "code",
   "execution_count": 7,
   "metadata": {},
   "outputs": [
    {
     "data": {
      "text/plain": [
       "ASX    0.426452\n",
       "AGG    0.040639\n",
       "dtype: float64"
      ]
     },
     "execution_count": 7,
     "metadata": {},
     "output_type": "execute_result"
    }
   ],
   "source": [
    "vol           = r.std()  * 252**0.5\n",
    "vol"
   ]
  },
  {
   "cell_type": "code",
   "execution_count": 9,
   "metadata": {},
   "outputs": [
    {
     "data": {
      "text/html": [
       "<div>\n",
       "<style scoped>\n",
       "    .dataframe tbody tr th:only-of-type {\n",
       "        vertical-align: middle;\n",
       "    }\n",
       "\n",
       "    .dataframe tbody tr th {\n",
       "        vertical-align: top;\n",
       "    }\n",
       "\n",
       "    .dataframe thead th {\n",
       "        text-align: right;\n",
       "    }\n",
       "</style>\n",
       "<table border=\"1\" class=\"dataframe\">\n",
       "  <thead>\n",
       "    <tr style=\"text-align: right;\">\n",
       "      <th></th>\n",
       "      <th>ASX</th>\n",
       "      <th>AGG</th>\n",
       "    </tr>\n",
       "  </thead>\n",
       "  <tbody>\n",
       "    <tr>\n",
       "      <th>ASX</th>\n",
       "      <td>1.000000</td>\n",
       "      <td>0.067594</td>\n",
       "    </tr>\n",
       "    <tr>\n",
       "      <th>AGG</th>\n",
       "      <td>0.067594</td>\n",
       "      <td>1.000000</td>\n",
       "    </tr>\n",
       "  </tbody>\n",
       "</table>\n",
       "</div>"
      ],
      "text/plain": [
       "          ASX       AGG\n",
       "ASX  1.000000  0.067594\n",
       "AGG  0.067594  1.000000"
      ]
     },
     "execution_count": 9,
     "metadata": {},
     "output_type": "execute_result"
    }
   ],
   "source": [
    "corr          = r.corr()\n",
    "corr"
   ]
  },
  {
   "cell_type": "code",
   "execution_count": 10,
   "metadata": {},
   "outputs": [
    {
     "data": {
      "text/html": [
       "<div>\n",
       "<style scoped>\n",
       "    .dataframe tbody tr th:only-of-type {\n",
       "        vertical-align: middle;\n",
       "    }\n",
       "\n",
       "    .dataframe tbody tr th {\n",
       "        vertical-align: top;\n",
       "    }\n",
       "\n",
       "    .dataframe thead th {\n",
       "        text-align: right;\n",
       "    }\n",
       "</style>\n",
       "<table border=\"1\" class=\"dataframe\">\n",
       "  <thead>\n",
       "    <tr style=\"text-align: right;\">\n",
       "      <th></th>\n",
       "      <th>ASX</th>\n",
       "      <th>AGG</th>\n",
       "    </tr>\n",
       "  </thead>\n",
       "  <tbody>\n",
       "    <tr>\n",
       "      <th>ASX</th>\n",
       "      <td>0.181861</td>\n",
       "      <td>0.001171</td>\n",
       "    </tr>\n",
       "    <tr>\n",
       "      <th>AGG</th>\n",
       "      <td>0.001171</td>\n",
       "      <td>0.001652</td>\n",
       "    </tr>\n",
       "  </tbody>\n",
       "</table>\n",
       "</div>"
      ],
      "text/plain": [
       "          ASX       AGG\n",
       "ASX  0.181861  0.001171\n",
       "AGG  0.001171  0.001652"
      ]
     },
     "execution_count": 10,
     "metadata": {},
     "output_type": "execute_result"
    }
   ],
   "source": [
    "cov           = r.cov()  * 252\n",
    "cov"
   ]
  },
  {
   "cell_type": "markdown",
   "metadata": {},
   "source": [
    "Now we can make a mean-volatility plot to see where these two stocks stand."
   ]
  },
  {
   "cell_type": "code",
   "execution_count": 13,
   "metadata": {},
   "outputs": [
    {
     "data": {
      "image/png": "[encoded data removed]",
      "text/plain": [
       "<Figure size 432x288 with 1 Axes>"
      ]
     },
     "metadata": {
      "needs_background": "light"
     },
     "output_type": "display_data"
    }
   ],
   "source": [
    "assets = pd.DataFrame()                        \n",
    "assets['Risk_premium'] = risk_premiums\n",
    "assets['Volatility']   = vol    \n",
    "assets['Color']        = 'orange'\n",
    "assets['Size']         = 150\n",
    "\n",
    "all_portfolios = assets\n",
    "all_portfolios\n",
    "    \n",
    "graph = all_portfolios.plot.scatter('Volatility','Risk_premium', color=all_portfolios.Color, s=all_portfolios.Size, xlim=(0,1), ylim=(-0.3,1))\n",
    "\n",
    "    # add ticker symbols to plot:\n",
    "for s in tickers:                                 # loop over sectors\n",
    "    x = all_portfolios.loc[s,'Volatility']+0.005  # get x-coordinate from table (+ offset so the labels don't overlap with points)\n",
    "    y = all_portfolios.loc[s,'Risk_premium']      # get y-coordinate from table\n",
    "    graph.text(x,y,s)                             # add the ticker symbol to the graph"
   ]
  },
  {
   "cell_type": "markdown",
   "metadata": {},
   "source": [
    "We can also make an efficient frontier plot to see how different weighted combinations of these stocks would land on the mean-volatility plot."
   ]
  },
  {
   "cell_type": "code",
   "execution_count": 15,
   "metadata": {},
   "outputs": [
    {
     "data": {
      "image/png": "[encoded data removed]",
      "text/plain": [
       "<Figure size 432x288 with 1 Axes>"
      ]
     },
     "metadata": {
      "needs_background": "light"
     },
     "output_type": "display_data"
    }
   ],
   "source": [
    "   \n",
    "# here we are building the simulation that finds the possible portfolios\n",
    "n_portfolios = 1000\n",
    "\n",
    "random_arrays  = [ np.random.uniform(0,1,len(tickers)) for i in range(0,n_portfolios) ]\n",
    "random_weights = [ ra/ra.sum() for ra in random_arrays ]\n",
    "    \n",
    "random = pd.DataFrame()\n",
    "random['Risk_premium'] = [ w.dot(risk_premiums)   for w in random_weights ]\n",
    "random['Volatility']   = [ w.dot(cov).dot(w)**0.5 for w in random_weights ]\n",
    "random['Color']        = 'gray'\n",
    "random['Size']         = 10\n",
    "random['sharpe']       = random['Risk_premium']/random['Volatility']\n",
    "\n",
    "all_portfolios = pd.concat([random, assets])\n",
    "    \n",
    "graph = all_portfolios.plot.scatter('Volatility','Risk_premium', color=all_portfolios.Color, s=all_portfolios.Size, xlim=(0,1), ylim=(-0.2,1))\n",
    "\n",
    "# add ticker to plot:\n",
    "for s in tickers:                                 # loop over sectors\n",
    "    x = all_portfolios.loc[s,'Volatility']+0.005  # get x-coordinate from table (+ offset so the labels don't overlap with points)\n",
    "    y = all_portfolios.loc[s,'Risk_premium']      # get y-coordinate from table\n",
    "    graph.text(x,y,s)                             # add the ticker symbol to the graph\n"
   ]
  },
  {
   "cell_type": "markdown",
   "metadata": {},
   "source": [
    "Time to find the weights that correspond to the maximum sharpe ratio portfolio."
   ]
  },
  {
   "cell_type": "code",
   "execution_count": 48,
   "metadata": {},
   "outputs": [
    {
     "data": {
      "text/html": [
       "<div>\n",
       "<style scoped>\n",
       "    .dataframe tbody tr th:only-of-type {\n",
       "        vertical-align: middle;\n",
       "    }\n",
       "\n",
       "    .dataframe tbody tr th {\n",
       "        vertical-align: top;\n",
       "    }\n",
       "\n",
       "    .dataframe thead th {\n",
       "        text-align: right;\n",
       "    }\n",
       "</style>\n",
       "<table border=\"1\" class=\"dataframe\">\n",
       "  <thead>\n",
       "    <tr style=\"text-align: right;\">\n",
       "      <th></th>\n",
       "      <th>Risk_Premiums</th>\n",
       "      <th>Weights</th>\n",
       "      <th>weighted_ret</th>\n",
       "    </tr>\n",
       "  </thead>\n",
       "  <tbody>\n",
       "    <tr>\n",
       "      <th>ASX</th>\n",
       "      <td>0.355279</td>\n",
       "      <td>0.498202</td>\n",
       "      <td>0.177001</td>\n",
       "    </tr>\n",
       "    <tr>\n",
       "      <th>AGG</th>\n",
       "      <td>-0.014476</td>\n",
       "      <td>0.000491</td>\n",
       "      <td>-0.000007</td>\n",
       "    </tr>\n",
       "    <tr>\n",
       "      <th>btcusd</th>\n",
       "      <td>0.812330</td>\n",
       "      <td>0.501306</td>\n",
       "      <td>0.407226</td>\n",
       "    </tr>\n",
       "  </tbody>\n",
       "</table>\n",
       "</div>"
      ],
      "text/plain": [
       "        Risk_Premiums   Weights  weighted_ret\n",
       "ASX          0.355279  0.498202      0.177001\n",
       "AGG         -0.014476  0.000491     -0.000007\n",
       "btcusd       0.812330  0.501306      0.407226"
      ]
     },
     "execution_count": 48,
     "metadata": {},
     "output_type": "execute_result"
    }
   ],
   "source": [
    "\n",
    "random['weights'] = random_weights\n",
    "wgts = random[(random['sharpe'] >= random.sharpe.max())].weights.astype(str)\n",
    "\n",
    "rp = random[(random['sharpe'] == random.sharpe.max())].Risk_premium\n",
    "#now I have found the weights, but they are in string form. We want them to be a panda series\n",
    "#here i am turning the string weights into a list\n",
    "lw = list(wgts)\n",
    "#finding the first entry in the list(the first entry is always a quote)\n",
    "ws = str(lw[0])\n",
    "# replacing the quote with a blank\n",
    "ws = ws.replace('[','')\n",
    "ws = ws.replace(']','')\n",
    "#deliniating the list values by spaces\n",
    "lw = ws.split(' ')\n",
    "#filtering out the bad data\n",
    "lw = list(filter(None, lw))\n",
    "#Finally turning the list into a numpy array\n",
    "nw = np.array(lw)\n",
    "nw = nw.astype(float)\n",
    "    \n",
    "#now we have to turn the numpy array into a panda series \n",
    "    \n",
    "sharpe_weights                  = pd.DataFrame()\n",
    "sharpe_weights['Risk_Premiums'] = risk_premiums\n",
    "sharpe_weights['Weights']       = nw\n",
    "sharpe_weights['weighted_ret']  = sharpe_weights['Weights']*sharpe_weights['Risk_Premiums']\n",
    "sharpe_weights"
   ]
  },
  {
   "cell_type": "code",
   "execution_count": 51,
   "metadata": {},
   "outputs": [
    {
     "data": {
      "text/html": [
       "<div>\n",
       "<style scoped>\n",
       "    .dataframe tbody tr th:only-of-type {\n",
       "        vertical-align: middle;\n",
       "    }\n",
       "\n",
       "    .dataframe tbody tr th {\n",
       "        vertical-align: top;\n",
       "    }\n",
       "\n",
       "    .dataframe thead th {\n",
       "        text-align: right;\n",
       "    }\n",
       "</style>\n",
       "<table border=\"1\" class=\"dataframe\">\n",
       "  <thead>\n",
       "    <tr style=\"text-align: right;\">\n",
       "      <th></th>\n",
       "      <th>ASX</th>\n",
       "      <th>AGG</th>\n",
       "      <th>btcusd</th>\n",
       "      <th>total_ret</th>\n",
       "    </tr>\n",
       "  </thead>\n",
       "  <tbody>\n",
       "    <tr>\n",
       "      <th>2020-03-23</th>\n",
       "      <td>NaN</td>\n",
       "      <td>NaN</td>\n",
       "      <td>NaN</td>\n",
       "      <td>NaN</td>\n",
       "    </tr>\n",
       "    <tr>\n",
       "      <th>2020-03-24</th>\n",
       "      <td>0.140187</td>\n",
       "      <td>0.008256</td>\n",
       "      <td>NaN</td>\n",
       "      <td>0.148443</td>\n",
       "    </tr>\n",
       "    <tr>\n",
       "      <th>2020-03-25</th>\n",
       "      <td>0.051913</td>\n",
       "      <td>0.010214</td>\n",
       "      <td>-0.010413</td>\n",
       "      <td>0.062127</td>\n",
       "    </tr>\n",
       "    <tr>\n",
       "      <th>2020-03-26</th>\n",
       "      <td>0.031169</td>\n",
       "      <td>0.003051</td>\n",
       "      <td>0.009031</td>\n",
       "      <td>0.034219</td>\n",
       "    </tr>\n",
       "    <tr>\n",
       "      <th>2020-03-27</th>\n",
       "      <td>-0.098237</td>\n",
       "      <td>0.004258</td>\n",
       "      <td>-0.056186</td>\n",
       "      <td>-0.093979</td>\n",
       "    </tr>\n",
       "    <tr>\n",
       "      <th>...</th>\n",
       "      <td>...</td>\n",
       "      <td>...</td>\n",
       "      <td>...</td>\n",
       "      <td>...</td>\n",
       "    </tr>\n",
       "    <tr>\n",
       "      <th>2022-03-20</th>\n",
       "      <td>0.000000</td>\n",
       "      <td>0.000000</td>\n",
       "      <td>-0.022298</td>\n",
       "      <td>0.000000</td>\n",
       "    </tr>\n",
       "    <tr>\n",
       "      <th>2022-03-21</th>\n",
       "      <td>-0.018445</td>\n",
       "      <td>-0.009806</td>\n",
       "      <td>-0.006325</td>\n",
       "      <td>-0.028251</td>\n",
       "    </tr>\n",
       "    <tr>\n",
       "      <th>2022-03-22</th>\n",
       "      <td>0.006711</td>\n",
       "      <td>-0.002709</td>\n",
       "      <td>0.033207</td>\n",
       "      <td>0.004002</td>\n",
       "    </tr>\n",
       "    <tr>\n",
       "      <th>2022-03-23</th>\n",
       "      <td>-0.029333</td>\n",
       "      <td>0.004122</td>\n",
       "      <td>0.012255</td>\n",
       "      <td>-0.025212</td>\n",
       "    </tr>\n",
       "    <tr>\n",
       "      <th>2022-03-24</th>\n",
       "      <td>0.000000</td>\n",
       "      <td>0.000000</td>\n",
       "      <td>0.025883</td>\n",
       "      <td>0.000000</td>\n",
       "    </tr>\n",
       "  </tbody>\n",
       "</table>\n",
       "<p>732 rows × 4 columns</p>\n",
       "</div>"
      ],
      "text/plain": [
       "                 ASX       AGG    btcusd  total_ret\n",
       "2020-03-23       NaN       NaN       NaN        NaN\n",
       "2020-03-24  0.140187  0.008256       NaN   0.148443\n",
       "2020-03-25  0.051913  0.010214 -0.010413   0.062127\n",
       "2020-03-26  0.031169  0.003051  0.009031   0.034219\n",
       "2020-03-27 -0.098237  0.004258 -0.056186  -0.093979\n",
       "...              ...       ...       ...        ...\n",
       "2022-03-20  0.000000  0.000000 -0.022298   0.000000\n",
       "2022-03-21 -0.018445 -0.009806 -0.006325  -0.028251\n",
       "2022-03-22  0.006711 -0.002709  0.033207   0.004002\n",
       "2022-03-23 -0.029333  0.004122  0.012255  -0.025212\n",
       "2022-03-24  0.000000  0.000000  0.025883   0.000000\n",
       "\n",
       "[732 rows x 4 columns]"
      ]
     },
     "execution_count": 51,
     "metadata": {},
     "output_type": "execute_result"
    }
   ],
   "source": [
    "rf = 0.011\n",
    "r_base*sharpe_weights['Weights']\n",
    "r_base['total_ret'] = r.ASX + r.AGG\n",
    "r_base"
   ]
  },
  {
   "cell_type": "code",
   "execution_count": 18,
   "metadata": {},
   "outputs": [
    {
     "data": {
      "text/plain": [
       "0.10153557506416473"
      ]
     },
     "execution_count": 18,
     "metadata": {},
     "output_type": "execute_result"
    }
   ],
   "source": [
    "max_rp = r.total_ret.mean()*54 - 0.011\n",
    "max_rp"
   ]
  },
  {
   "cell_type": "code",
   "execution_count": 19,
   "metadata": {},
   "outputs": [
    {
     "data": {
      "text/plain": [
       "0.19956518488641317"
      ]
     },
     "execution_count": 19,
     "metadata": {},
     "output_type": "execute_result"
    }
   ],
   "source": [
    "max_vol = r.total_ret.std()*54**0.5\n",
    "max_vol"
   ]
  },
  {
   "cell_type": "code",
   "execution_count": 20,
   "metadata": {
    "scrolled": true
   },
   "outputs": [
    {
     "data": {
      "text/plain": [
       "0.5087840102067698"
      ]
     },
     "execution_count": 20,
     "metadata": {},
     "output_type": "execute_result"
    }
   ],
   "source": [
    "max_sharpe = max_rp/max_vol\n",
    "max_sharpe"
   ]
  },
  {
   "cell_type": "markdown",
   "metadata": {},
   "source": [
    "# With Bitcoin"
   ]
  },
  {
   "cell_type": "code",
   "execution_count": 21,
   "metadata": {},
   "outputs": [],
   "source": [
    "tickers = ['ASX','AGG','btcusd']"
   ]
  },
  {
   "cell_type": "code",
   "execution_count": 22,
   "metadata": {},
   "outputs": [
    {
     "data": {
      "text/html": [
       "<div>\n",
       "<style scoped>\n",
       "    .dataframe tbody tr th:only-of-type {\n",
       "        vertical-align: middle;\n",
       "    }\n",
       "\n",
       "    .dataframe tbody tr th {\n",
       "        vertical-align: top;\n",
       "    }\n",
       "\n",
       "    .dataframe thead th {\n",
       "        text-align: right;\n",
       "    }\n",
       "</style>\n",
       "<table border=\"1\" class=\"dataframe\">\n",
       "  <thead>\n",
       "    <tr style=\"text-align: right;\">\n",
       "      <th></th>\n",
       "      <th>ASX</th>\n",
       "      <th>AGG</th>\n",
       "      <th>btcusd</th>\n",
       "    </tr>\n",
       "  </thead>\n",
       "  <tbody>\n",
       "    <tr>\n",
       "      <th>2020-03-23</th>\n",
       "      <td>NaN</td>\n",
       "      <td>NaN</td>\n",
       "      <td>NaN</td>\n",
       "    </tr>\n",
       "    <tr>\n",
       "      <th>2020-03-24</th>\n",
       "      <td>0.140187</td>\n",
       "      <td>0.008256</td>\n",
       "      <td>NaN</td>\n",
       "    </tr>\n",
       "    <tr>\n",
       "      <th>2020-03-25</th>\n",
       "      <td>0.051913</td>\n",
       "      <td>0.010214</td>\n",
       "      <td>-0.010413</td>\n",
       "    </tr>\n",
       "    <tr>\n",
       "      <th>2020-03-26</th>\n",
       "      <td>0.031169</td>\n",
       "      <td>0.003051</td>\n",
       "      <td>0.009031</td>\n",
       "    </tr>\n",
       "    <tr>\n",
       "      <th>2020-03-27</th>\n",
       "      <td>-0.098237</td>\n",
       "      <td>0.004258</td>\n",
       "      <td>-0.056186</td>\n",
       "    </tr>\n",
       "    <tr>\n",
       "      <th>...</th>\n",
       "      <td>...</td>\n",
       "      <td>...</td>\n",
       "      <td>...</td>\n",
       "    </tr>\n",
       "    <tr>\n",
       "      <th>2022-03-20</th>\n",
       "      <td>0.000000</td>\n",
       "      <td>0.000000</td>\n",
       "      <td>-0.022298</td>\n",
       "    </tr>\n",
       "    <tr>\n",
       "      <th>2022-03-21</th>\n",
       "      <td>-0.018445</td>\n",
       "      <td>-0.009806</td>\n",
       "      <td>-0.006325</td>\n",
       "    </tr>\n",
       "    <tr>\n",
       "      <th>2022-03-22</th>\n",
       "      <td>0.006711</td>\n",
       "      <td>-0.002709</td>\n",
       "      <td>0.033207</td>\n",
       "    </tr>\n",
       "    <tr>\n",
       "      <th>2022-03-23</th>\n",
       "      <td>-0.029333</td>\n",
       "      <td>0.004122</td>\n",
       "      <td>0.012255</td>\n",
       "    </tr>\n",
       "    <tr>\n",
       "      <th>2022-03-24</th>\n",
       "      <td>0.000000</td>\n",
       "      <td>0.000000</td>\n",
       "      <td>0.025883</td>\n",
       "    </tr>\n",
       "  </tbody>\n",
       "</table>\n",
       "<p>732 rows × 3 columns</p>\n",
       "</div>"
      ],
      "text/plain": [
       "                 ASX       AGG    btcusd\n",
       "2020-03-23       NaN       NaN       NaN\n",
       "2020-03-24  0.140187  0.008256       NaN\n",
       "2020-03-25  0.051913  0.010214 -0.010413\n",
       "2020-03-26  0.031169  0.003051  0.009031\n",
       "2020-03-27 -0.098237  0.004258 -0.056186\n",
       "...              ...       ...       ...\n",
       "2022-03-20  0.000000  0.000000 -0.022298\n",
       "2022-03-21 -0.018445 -0.009806 -0.006325\n",
       "2022-03-22  0.006711 -0.002709  0.033207\n",
       "2022-03-23 -0.029333  0.004122  0.012255\n",
       "2022-03-24  0.000000  0.000000  0.025883\n",
       "\n",
       "[732 rows x 3 columns]"
      ]
     },
     "execution_count": 22,
     "metadata": {},
     "output_type": "execute_result"
    }
   ],
   "source": [
    "\n",
    "prices  = tiingo.get_dataframe(tickers, start_ytd, end_ytd, metric_name='adjClose')\n",
    "prices.index = pd.to_datetime(prices.index).tz_convert(None) \n",
    "r = prices.pct_change()\n",
    "    \n",
    "r\n"
   ]
  },
  {
   "cell_type": "code",
   "execution_count": 25,
   "metadata": {},
   "outputs": [
    {
     "data": {
      "text/plain": [
       "ASX       0.355279\n",
       "AGG      -0.014476\n",
       "btcusd    0.812330\n",
       "dtype: float64"
      ]
     },
     "execution_count": 25,
     "metadata": {},
     "output_type": "execute_result"
    }
   ],
   "source": [
    "rf = 0.011\n",
    "risk_premiums = r.mean() * 252 - rf  \n",
    "risk_premiums"
   ]
  },
  {
   "cell_type": "code",
   "execution_count": 26,
   "metadata": {},
   "outputs": [
    {
     "data": {
      "text/plain": [
       "ASX       0.354680\n",
       "AGG       0.033768\n",
       "btcusd    0.594495\n",
       "dtype: float64"
      ]
     },
     "execution_count": 26,
     "metadata": {},
     "output_type": "execute_result"
    }
   ],
   "source": [
    "vol           = r.std()  * 252**0.5\n",
    "vol"
   ]
  },
  {
   "cell_type": "code",
   "execution_count": 27,
   "metadata": {},
   "outputs": [
    {
     "data": {
      "text/html": [
       "<div>\n",
       "<style scoped>\n",
       "    .dataframe tbody tr th:only-of-type {\n",
       "        vertical-align: middle;\n",
       "    }\n",
       "\n",
       "    .dataframe tbody tr th {\n",
       "        vertical-align: top;\n",
       "    }\n",
       "\n",
       "    .dataframe thead th {\n",
       "        text-align: right;\n",
       "    }\n",
       "</style>\n",
       "<table border=\"1\" class=\"dataframe\">\n",
       "  <thead>\n",
       "    <tr style=\"text-align: right;\">\n",
       "      <th></th>\n",
       "      <th>ASX</th>\n",
       "      <th>AGG</th>\n",
       "      <th>btcusd</th>\n",
       "    </tr>\n",
       "  </thead>\n",
       "  <tbody>\n",
       "    <tr>\n",
       "      <th>ASX</th>\n",
       "      <td>1.000000</td>\n",
       "      <td>0.067340</td>\n",
       "      <td>0.275524</td>\n",
       "    </tr>\n",
       "    <tr>\n",
       "      <th>AGG</th>\n",
       "      <td>0.067340</td>\n",
       "      <td>1.000000</td>\n",
       "      <td>0.012825</td>\n",
       "    </tr>\n",
       "    <tr>\n",
       "      <th>btcusd</th>\n",
       "      <td>0.275524</td>\n",
       "      <td>0.012825</td>\n",
       "      <td>1.000000</td>\n",
       "    </tr>\n",
       "  </tbody>\n",
       "</table>\n",
       "</div>"
      ],
      "text/plain": [
       "             ASX       AGG    btcusd\n",
       "ASX     1.000000  0.067340  0.275524\n",
       "AGG     0.067340  1.000000  0.012825\n",
       "btcusd  0.275524  0.012825  1.000000"
      ]
     },
     "execution_count": 27,
     "metadata": {},
     "output_type": "execute_result"
    }
   ],
   "source": [
    "corr          = r.corr()\n",
    "corr"
   ]
  },
  {
   "cell_type": "code",
   "execution_count": 28,
   "metadata": {},
   "outputs": [
    {
     "data": {
      "text/html": [
       "<div>\n",
       "<style scoped>\n",
       "    .dataframe tbody tr th:only-of-type {\n",
       "        vertical-align: middle;\n",
       "    }\n",
       "\n",
       "    .dataframe tbody tr th {\n",
       "        vertical-align: top;\n",
       "    }\n",
       "\n",
       "    .dataframe thead th {\n",
       "        text-align: right;\n",
       "    }\n",
       "</style>\n",
       "<table border=\"1\" class=\"dataframe\">\n",
       "  <thead>\n",
       "    <tr style=\"text-align: right;\">\n",
       "      <th></th>\n",
       "      <th>ASX</th>\n",
       "      <th>AGG</th>\n",
       "      <th>btcusd</th>\n",
       "    </tr>\n",
       "  </thead>\n",
       "  <tbody>\n",
       "    <tr>\n",
       "      <th>ASX</th>\n",
       "      <td>0.125798</td>\n",
       "      <td>0.000807</td>\n",
       "      <td>0.056577</td>\n",
       "    </tr>\n",
       "    <tr>\n",
       "      <th>AGG</th>\n",
       "      <td>0.000807</td>\n",
       "      <td>0.001140</td>\n",
       "      <td>0.000255</td>\n",
       "    </tr>\n",
       "    <tr>\n",
       "      <th>btcusd</th>\n",
       "      <td>0.056577</td>\n",
       "      <td>0.000255</td>\n",
       "      <td>0.353424</td>\n",
       "    </tr>\n",
       "  </tbody>\n",
       "</table>\n",
       "</div>"
      ],
      "text/plain": [
       "             ASX       AGG    btcusd\n",
       "ASX     0.125798  0.000807  0.056577\n",
       "AGG     0.000807  0.001140  0.000255\n",
       "btcusd  0.056577  0.000255  0.353424"
      ]
     },
     "execution_count": 28,
     "metadata": {},
     "output_type": "execute_result"
    }
   ],
   "source": [
    "cov           = r.cov()  * 252\n",
    "cov"
   ]
  },
  {
   "cell_type": "markdown",
   "metadata": {},
   "source": [
    "Now we can make a mean-volatility plot to see where these two stocks stand."
   ]
  },
  {
   "cell_type": "code",
   "execution_count": 34,
   "metadata": {},
   "outputs": [
    {
     "data": {
      "image/png": "[encoded data removed]",
      "text/plain": [
       "<Figure size 432x288 with 1 Axes>"
      ]
     },
     "metadata": {
      "needs_background": "light"
     },
     "output_type": "display_data"
    }
   ],
   "source": [
    "assets = pd.DataFrame()                        \n",
    "assets['Risk_premium'] = risk_premiums\n",
    "assets['Volatility']   = vol    \n",
    "assets['Color']        = 'orange'\n",
    "assets['Size']         = 150\n",
    "\n",
    "all_portfolios = assets\n",
    "all_portfolios\n",
    "    \n",
    "graph = all_portfolios.plot.scatter('Volatility','Risk_premium', color=all_portfolios.Color, s=all_portfolios.Size, xlim=(0,0.8), ylim=(-0.2,1.5))\n",
    "\n",
    "    # add ticker symbols to plot:\n",
    "for s in tickers:                                 # loop over sectors\n",
    "    x = all_portfolios.loc[s,'Volatility']+0.005  # get x-coordinate from table (+ offset so the labels don't overlap with points)\n",
    "    y = all_portfolios.loc[s,'Risk_premium']      # get y-coordinate from table\n",
    "    graph.text(x,y,s)                             # add the ticker symbol to the graph"
   ]
  },
  {
   "cell_type": "markdown",
   "metadata": {},
   "source": [
    "We can also make an efficient frontier plot to see how different weighted combinations of these stocks would land on the mean-volatility plot."
   ]
  },
  {
   "cell_type": "code",
   "execution_count": 33,
   "metadata": {},
   "outputs": [
    {
     "data": {
      "image/png": "[encoded data removed]",
      "text/plain": [
       "<Figure size 432x288 with 1 Axes>"
      ]
     },
     "metadata": {
      "needs_background": "light"
     },
     "output_type": "display_data"
    }
   ],
   "source": [
    "   \n",
    "# here we are building the simulation that finds the possible portfolios\n",
    "n_portfolios = 1000\n",
    "\n",
    "random_arrays  = [ np.random.uniform(0,1,len(tickers)) for i in range(0,n_portfolios) ]\n",
    "random_weights = [ ra/ra.sum() for ra in random_arrays ]\n",
    "    \n",
    "random = pd.DataFrame()\n",
    "random['Risk_premium'] = [ w.dot(risk_premiums)   for w in random_weights ]\n",
    "random['Volatility']   = [ w.dot(cov).dot(w)**0.5 for w in random_weights ]\n",
    "random['Color']        = 'gray'\n",
    "random['Size']         = 10\n",
    "random['sharpe']       = random['Risk_premium']/random['Volatility']\n",
    "\n",
    "all_portfolios = pd.concat([random, assets])\n",
    "    \n",
    "graph = all_portfolios.plot.scatter('Volatility','Risk_premium', color=all_portfolios.Color, s=all_portfolios.Size, xlim=(0,.8), ylim=(-0.2,1.5))\n",
    "\n",
    "# add ticker to plot:\n",
    "for s in tickers:                                 # loop over sectors\n",
    "    x = all_portfolios.loc[s,'Volatility']+0.005  # get x-coordinate from table (+ offset so the labels don't overlap with points)\n",
    "    y = all_portfolios.loc[s,'Risk_premium']      # get y-coordinate from table\n",
    "    graph.text(x,y,s)                             # add the ticker symbol to the graph\n"
   ]
  },
  {
   "cell_type": "markdown",
   "metadata": {},
   "source": [
    "Time to find the weights that correspond to the maximum sharpe ratio portfolio."
   ]
  },
  {
   "cell_type": "code",
   "execution_count": 35,
   "metadata": {},
   "outputs": [
    {
     "data": {
      "text/html": [
       "<div>\n",
       "<style scoped>\n",
       "    .dataframe tbody tr th:only-of-type {\n",
       "        vertical-align: middle;\n",
       "    }\n",
       "\n",
       "    .dataframe tbody tr th {\n",
       "        vertical-align: top;\n",
       "    }\n",
       "\n",
       "    .dataframe thead th {\n",
       "        text-align: right;\n",
       "    }\n",
       "</style>\n",
       "<table border=\"1\" class=\"dataframe\">\n",
       "  <thead>\n",
       "    <tr style=\"text-align: right;\">\n",
       "      <th></th>\n",
       "      <th>Risk_Premiums</th>\n",
       "      <th>Weights</th>\n",
       "      <th>weighted_ret</th>\n",
       "    </tr>\n",
       "  </thead>\n",
       "  <tbody>\n",
       "    <tr>\n",
       "      <th>ASX</th>\n",
       "      <td>0.355279</td>\n",
       "      <td>0.498202</td>\n",
       "      <td>0.177001</td>\n",
       "    </tr>\n",
       "    <tr>\n",
       "      <th>AGG</th>\n",
       "      <td>-0.014476</td>\n",
       "      <td>0.000491</td>\n",
       "      <td>-0.000007</td>\n",
       "    </tr>\n",
       "    <tr>\n",
       "      <th>btcusd</th>\n",
       "      <td>0.812330</td>\n",
       "      <td>0.501306</td>\n",
       "      <td>0.407226</td>\n",
       "    </tr>\n",
       "  </tbody>\n",
       "</table>\n",
       "</div>"
      ],
      "text/plain": [
       "        Risk_Premiums   Weights  weighted_ret\n",
       "ASX          0.355279  0.498202      0.177001\n",
       "AGG         -0.014476  0.000491     -0.000007\n",
       "btcusd       0.812330  0.501306      0.407226"
      ]
     },
     "execution_count": 35,
     "metadata": {},
     "output_type": "execute_result"
    }
   ],
   "source": [
    "\n",
    "random['weights'] = random_weights\n",
    "wgts = random[(random['sharpe'] >= random.sharpe.max())].weights.astype(str)\n",
    "\n",
    "rp = random[(random['sharpe'] == random.sharpe.max())].Risk_premium\n",
    "#now I have found the weights, but they are in string form. We want them to be a panda series\n",
    "#here i am turning the string weights into a list\n",
    "lw = list(wgts)\n",
    "#finding the first entry in the list(the first entry is always a quote)\n",
    "ws = str(lw[0])\n",
    "# replacing the quote with a blank\n",
    "ws = ws.replace('[','')\n",
    "ws = ws.replace(']','')\n",
    "#deliniating the list values by spaces\n",
    "lw = ws.split(' ')\n",
    "#filtering out the bad data\n",
    "lw = list(filter(None, lw))\n",
    "#Finally turning the list into a numpy array\n",
    "nw = np.array(lw)\n",
    "nw = nw.astype(float)\n",
    "    \n",
    "#now we have to turn the numpy array into a panda series \n",
    "    \n",
    "sharpe_weights                  = pd.DataFrame()\n",
    "sharpe_weights['Risk_Premiums'] = risk_premiums\n",
    "sharpe_weights['Weights']       = nw\n",
    "sharpe_weights['weighted_ret']  = sharpe_weights['Weights']*sharpe_weights['Risk_Premiums']\n",
    "sharpe_weights"
   ]
  },
  {
   "cell_type": "code",
   "execution_count": 36,
   "metadata": {},
   "outputs": [
    {
     "data": {
      "text/html": [
       "<div>\n",
       "<style scoped>\n",
       "    .dataframe tbody tr th:only-of-type {\n",
       "        vertical-align: middle;\n",
       "    }\n",
       "\n",
       "    .dataframe tbody tr th {\n",
       "        vertical-align: top;\n",
       "    }\n",
       "\n",
       "    .dataframe thead th {\n",
       "        text-align: right;\n",
       "    }\n",
       "</style>\n",
       "<table border=\"1\" class=\"dataframe\">\n",
       "  <thead>\n",
       "    <tr style=\"text-align: right;\">\n",
       "      <th></th>\n",
       "      <th>ASX</th>\n",
       "      <th>AGG</th>\n",
       "      <th>btcusd</th>\n",
       "      <th>total_ret</th>\n",
       "    </tr>\n",
       "  </thead>\n",
       "  <tbody>\n",
       "    <tr>\n",
       "      <th>2020-03-23</th>\n",
       "      <td>NaN</td>\n",
       "      <td>NaN</td>\n",
       "      <td>NaN</td>\n",
       "      <td>NaN</td>\n",
       "    </tr>\n",
       "    <tr>\n",
       "      <th>2020-03-24</th>\n",
       "      <td>0.140187</td>\n",
       "      <td>0.008256</td>\n",
       "      <td>NaN</td>\n",
       "      <td>NaN</td>\n",
       "    </tr>\n",
       "    <tr>\n",
       "      <th>2020-03-25</th>\n",
       "      <td>0.051913</td>\n",
       "      <td>0.010214</td>\n",
       "      <td>-0.010413</td>\n",
       "      <td>0.051713</td>\n",
       "    </tr>\n",
       "    <tr>\n",
       "      <th>2020-03-26</th>\n",
       "      <td>0.031169</td>\n",
       "      <td>0.003051</td>\n",
       "      <td>0.009031</td>\n",
       "      <td>0.043251</td>\n",
       "    </tr>\n",
       "    <tr>\n",
       "      <th>2020-03-27</th>\n",
       "      <td>-0.098237</td>\n",
       "      <td>0.004258</td>\n",
       "      <td>-0.056186</td>\n",
       "      <td>-0.150165</td>\n",
       "    </tr>\n",
       "    <tr>\n",
       "      <th>...</th>\n",
       "      <td>...</td>\n",
       "      <td>...</td>\n",
       "      <td>...</td>\n",
       "      <td>...</td>\n",
       "    </tr>\n",
       "    <tr>\n",
       "      <th>2022-03-20</th>\n",
       "      <td>0.000000</td>\n",
       "      <td>0.000000</td>\n",
       "      <td>-0.022298</td>\n",
       "      <td>-0.022298</td>\n",
       "    </tr>\n",
       "    <tr>\n",
       "      <th>2022-03-21</th>\n",
       "      <td>-0.018445</td>\n",
       "      <td>-0.009806</td>\n",
       "      <td>-0.006325</td>\n",
       "      <td>-0.034576</td>\n",
       "    </tr>\n",
       "    <tr>\n",
       "      <th>2022-03-22</th>\n",
       "      <td>0.006711</td>\n",
       "      <td>-0.002709</td>\n",
       "      <td>0.033207</td>\n",
       "      <td>0.037209</td>\n",
       "    </tr>\n",
       "    <tr>\n",
       "      <th>2022-03-23</th>\n",
       "      <td>-0.029333</td>\n",
       "      <td>0.004122</td>\n",
       "      <td>0.012255</td>\n",
       "      <td>-0.012956</td>\n",
       "    </tr>\n",
       "    <tr>\n",
       "      <th>2022-03-24</th>\n",
       "      <td>0.000000</td>\n",
       "      <td>0.000000</td>\n",
       "      <td>0.025883</td>\n",
       "      <td>0.025883</td>\n",
       "    </tr>\n",
       "  </tbody>\n",
       "</table>\n",
       "<p>732 rows × 4 columns</p>\n",
       "</div>"
      ],
      "text/plain": [
       "                 ASX       AGG    btcusd  total_ret\n",
       "2020-03-23       NaN       NaN       NaN        NaN\n",
       "2020-03-24  0.140187  0.008256       NaN        NaN\n",
       "2020-03-25  0.051913  0.010214 -0.010413   0.051713\n",
       "2020-03-26  0.031169  0.003051  0.009031   0.043251\n",
       "2020-03-27 -0.098237  0.004258 -0.056186  -0.150165\n",
       "...              ...       ...       ...        ...\n",
       "2022-03-20  0.000000  0.000000 -0.022298  -0.022298\n",
       "2022-03-21 -0.018445 -0.009806 -0.006325  -0.034576\n",
       "2022-03-22  0.006711 -0.002709  0.033207   0.037209\n",
       "2022-03-23 -0.029333  0.004122  0.012255  -0.012956\n",
       "2022-03-24  0.000000  0.000000  0.025883   0.025883\n",
       "\n",
       "[732 rows x 4 columns]"
      ]
     },
     "execution_count": 36,
     "metadata": {},
     "output_type": "execute_result"
    }
   ],
   "source": [
    "rf = 0.011\n",
    "r*sharpe_weights['Weights']\n",
    "r['total_ret'] = r.ASX + r.AGG + r.btcusd\n",
    "r"
   ]
  },
  {
   "cell_type": "code",
   "execution_count": 37,
   "metadata": {},
   "outputs": [
    {
     "data": {
      "text/plain": [
       "1.1243858584075728"
      ]
     },
     "execution_count": 37,
     "metadata": {},
     "output_type": "execute_result"
    }
   ],
   "source": [
    "max_rp = r.total_ret.mean()*252 - 0.011\n",
    "max_rp"
   ]
  },
  {
   "cell_type": "code",
   "execution_count": 38,
   "metadata": {},
   "outputs": [
    {
     "data": {
      "text/plain": [
       "0.7670304383949123"
      ]
     },
     "execution_count": 38,
     "metadata": {},
     "output_type": "execute_result"
    }
   ],
   "source": [
    "max_vol = r.total_ret.std()*252**0.5\n",
    "max_vol"
   ]
  },
  {
   "cell_type": "code",
   "execution_count": 39,
   "metadata": {
    "scrolled": true
   },
   "outputs": [
    {
     "data": {
      "text/plain": [
       "1.4658947052485458"
      ]
     },
     "execution_count": 39,
     "metadata": {},
     "output_type": "execute_result"
    }
   ],
   "source": [
    "max_sharpe = max_rp/max_vol\n",
    "max_sharpe"
   ]
  },
  {
   "cell_type": "markdown",
   "metadata": {},
   "source": [
    "Vary the amount of BTC/ GLD in the portfolio"
   ]
  },
  {
   "cell_type": "code",
   "execution_count": 41,
   "metadata": {},
   "outputs": [
    {
     "data": {
      "text/plain": [
       "array([1.  , 0.99, 0.98, 0.97, 0.96, 0.95, 0.94, 0.93, 0.92, 0.91, 0.9 ,\n",
       "       0.89, 0.88, 0.87, 0.86, 0.85, 0.84, 0.83, 0.82, 0.81, 0.8 , 0.79,\n",
       "       0.78, 0.77, 0.76, 0.75, 0.74, 0.73, 0.72, 0.71, 0.7 , 0.69, 0.68,\n",
       "       0.67, 0.66, 0.65, 0.64, 0.63, 0.62, 0.61, 0.6 , 0.59, 0.58, 0.57,\n",
       "       0.56, 0.55, 0.54, 0.53, 0.52, 0.51, 0.5 , 0.49, 0.48, 0.47, 0.46,\n",
       "       0.45, 0.44, 0.43, 0.42, 0.41, 0.4 , 0.39, 0.38, 0.37, 0.36, 0.35,\n",
       "       0.34, 0.33, 0.32, 0.31, 0.3 , 0.29, 0.28, 0.27, 0.26, 0.25, 0.24,\n",
       "       0.23, 0.22, 0.21, 0.2 , 0.19, 0.18, 0.17, 0.16, 0.15, 0.14, 0.13,\n",
       "       0.12, 0.11, 0.1 , 0.09, 0.08, 0.07, 0.06, 0.05, 0.04, 0.03, 0.02,\n",
       "       0.01])"
      ]
     },
     "execution_count": 41,
     "metadata": {},
     "output_type": "execute_result"
    }
   ],
   "source": [
    "var_weight = []\n",
    "for i in range(100):\n",
    "    var_weight.append(i/100)\n",
    "var_weight  = np.array(var_weight)\n",
    "base_weight = 1 - var_weight\n",
    "base_weight\n",
    "    "
   ]
  },
  {
   "cell_type": "code",
   "execution_count": 53,
   "metadata": {},
   "outputs": [
    {
     "data": {
      "text/html": [
       "<div>\n",
       "<style scoped>\n",
       "    .dataframe tbody tr th:only-of-type {\n",
       "        vertical-align: middle;\n",
       "    }\n",
       "\n",
       "    .dataframe tbody tr th {\n",
       "        vertical-align: top;\n",
       "    }\n",
       "\n",
       "    .dataframe thead th {\n",
       "        text-align: right;\n",
       "    }\n",
       "</style>\n",
       "<table border=\"1\" class=\"dataframe\">\n",
       "  <thead>\n",
       "    <tr style=\"text-align: right;\">\n",
       "      <th></th>\n",
       "      <th>Base_Portfolio</th>\n",
       "      <th>btcusd</th>\n",
       "    </tr>\n",
       "  </thead>\n",
       "  <tbody>\n",
       "    <tr>\n",
       "      <th>2020-03-23</th>\n",
       "      <td>NaN</td>\n",
       "      <td>NaN</td>\n",
       "    </tr>\n",
       "    <tr>\n",
       "      <th>2020-03-24</th>\n",
       "      <td>0.148443</td>\n",
       "      <td>NaN</td>\n",
       "    </tr>\n",
       "    <tr>\n",
       "      <th>2020-03-25</th>\n",
       "      <td>0.062127</td>\n",
       "      <td>-0.010413</td>\n",
       "    </tr>\n",
       "    <tr>\n",
       "      <th>2020-03-26</th>\n",
       "      <td>0.034219</td>\n",
       "      <td>0.009031</td>\n",
       "    </tr>\n",
       "    <tr>\n",
       "      <th>2020-03-27</th>\n",
       "      <td>-0.093979</td>\n",
       "      <td>-0.056186</td>\n",
       "    </tr>\n",
       "    <tr>\n",
       "      <th>...</th>\n",
       "      <td>...</td>\n",
       "      <td>...</td>\n",
       "    </tr>\n",
       "    <tr>\n",
       "      <th>2022-03-20</th>\n",
       "      <td>0.000000</td>\n",
       "      <td>-0.022298</td>\n",
       "    </tr>\n",
       "    <tr>\n",
       "      <th>2022-03-21</th>\n",
       "      <td>-0.028251</td>\n",
       "      <td>-0.006325</td>\n",
       "    </tr>\n",
       "    <tr>\n",
       "      <th>2022-03-22</th>\n",
       "      <td>0.004002</td>\n",
       "      <td>0.033207</td>\n",
       "    </tr>\n",
       "    <tr>\n",
       "      <th>2022-03-23</th>\n",
       "      <td>-0.025212</td>\n",
       "      <td>0.012255</td>\n",
       "    </tr>\n",
       "    <tr>\n",
       "      <th>2022-03-24</th>\n",
       "      <td>0.000000</td>\n",
       "      <td>0.025883</td>\n",
       "    </tr>\n",
       "  </tbody>\n",
       "</table>\n",
       "<p>732 rows × 2 columns</p>\n",
       "</div>"
      ],
      "text/plain": [
       "            Base_Portfolio    btcusd\n",
       "2020-03-23             NaN       NaN\n",
       "2020-03-24        0.148443       NaN\n",
       "2020-03-25        0.062127 -0.010413\n",
       "2020-03-26        0.034219  0.009031\n",
       "2020-03-27       -0.093979 -0.056186\n",
       "...                    ...       ...\n",
       "2022-03-20        0.000000 -0.022298\n",
       "2022-03-21       -0.028251 -0.006325\n",
       "2022-03-22        0.004002  0.033207\n",
       "2022-03-23       -0.025212  0.012255\n",
       "2022-03-24        0.000000  0.025883\n",
       "\n",
       "[732 rows x 2 columns]"
      ]
     },
     "execution_count": 53,
     "metadata": {},
     "output_type": "execute_result"
    }
   ],
   "source": [
    "test_returns                   = pd.DataFrame()\n",
    "test_returns['Base_Portfolio'] = r_base.total_ret\n",
    "test_returns['btcusd']         = r.btcusd\n",
    "test_returns"
   ]
  },
  {
   "cell_type": "code",
   "execution_count": 58,
   "metadata": {},
   "outputs": [],
   "source": [
    "Volatility   = []\n",
    "Risk_Premium = []\n",
    "Sharpe_Ratio = []\n",
    "\n",
    "test_port_returns = []\n",
    "\n",
    "for w in var_weight:\n",
    "    var_weighted_return  = test_returns.btcusd*w\n",
    "    base_weighted_return = test_returns.Base_Portfolio*(1-w)\n",
    "    \n",
    "    total_ret = var_weighted_return + base_weighted_return\n",
    "    total_ret = pd.DataFrame(total_ret)\n",
    "    \n",
    "    return_average    = total_ret.mean()*252\n",
    "    return_volatility = total_ret.std()*252**0.5\n",
    "    return_rp         = return_average - 0.011\n",
    "    return_sharpe     = return_rp/return_volatility\n",
    "    \n",
    "    test_port_returns.append(return_average)\n",
    "    Volatility.append(return_volatility)\n",
    "    Risk_Premium.append(return_rp)\n",
    "    \n",
    "    \n",
    "    \n",
    "\n",
    "Risk_Premium = pd.DataFrame(Risk_Premium)\n",
    "Volatility   = pd.DataFrame(Volatility)\n",
    "\n"
   ]
  },
  {
   "cell_type": "code",
   "execution_count": 59,
   "metadata": {},
   "outputs": [
    {
     "data": {
      "text/html": [
       "<div>\n",
       "<style scoped>\n",
       "    .dataframe tbody tr th:only-of-type {\n",
       "        vertical-align: middle;\n",
       "    }\n",
       "\n",
       "    .dataframe tbody tr th {\n",
       "        vertical-align: top;\n",
       "    }\n",
       "\n",
       "    .dataframe thead th {\n",
       "        text-align: right;\n",
       "    }\n",
       "</style>\n",
       "<table border=\"1\" class=\"dataframe\">\n",
       "  <thead>\n",
       "    <tr style=\"text-align: right;\">\n",
       "      <th></th>\n",
       "      <th>var_weight</th>\n",
       "      <th>Risk_Premium</th>\n",
       "      <th>Volatility</th>\n",
       "      <th>Sharpe_Ratio</th>\n",
       "    </tr>\n",
       "  </thead>\n",
       "  <tbody>\n",
       "    <tr>\n",
       "      <th>0</th>\n",
       "      <td>0.00</td>\n",
       "      <td>0.301056</td>\n",
       "      <td>0.348205</td>\n",
       "      <td>0.864594</td>\n",
       "    </tr>\n",
       "    <tr>\n",
       "      <th>1</th>\n",
       "      <td>0.01</td>\n",
       "      <td>0.306169</td>\n",
       "      <td>0.346403</td>\n",
       "      <td>0.883853</td>\n",
       "    </tr>\n",
       "    <tr>\n",
       "      <th>2</th>\n",
       "      <td>0.02</td>\n",
       "      <td>0.311282</td>\n",
       "      <td>0.344695</td>\n",
       "      <td>0.903064</td>\n",
       "    </tr>\n",
       "    <tr>\n",
       "      <th>3</th>\n",
       "      <td>0.03</td>\n",
       "      <td>0.316395</td>\n",
       "      <td>0.343085</td>\n",
       "      <td>0.922206</td>\n",
       "    </tr>\n",
       "    <tr>\n",
       "      <th>4</th>\n",
       "      <td>0.04</td>\n",
       "      <td>0.321507</td>\n",
       "      <td>0.341572</td>\n",
       "      <td>0.941258</td>\n",
       "    </tr>\n",
       "    <tr>\n",
       "      <th>...</th>\n",
       "      <td>...</td>\n",
       "      <td>...</td>\n",
       "      <td>...</td>\n",
       "      <td>...</td>\n",
       "    </tr>\n",
       "    <tr>\n",
       "      <th>95</th>\n",
       "      <td>0.95</td>\n",
       "      <td>0.786766</td>\n",
       "      <td>0.569796</td>\n",
       "      <td>1.380785</td>\n",
       "    </tr>\n",
       "    <tr>\n",
       "      <th>96</th>\n",
       "      <td>0.96</td>\n",
       "      <td>0.791879</td>\n",
       "      <td>0.574695</td>\n",
       "      <td>1.377911</td>\n",
       "    </tr>\n",
       "    <tr>\n",
       "      <th>97</th>\n",
       "      <td>0.97</td>\n",
       "      <td>0.796991</td>\n",
       "      <td>0.579615</td>\n",
       "      <td>1.375036</td>\n",
       "    </tr>\n",
       "    <tr>\n",
       "      <th>98</th>\n",
       "      <td>0.98</td>\n",
       "      <td>0.802104</td>\n",
       "      <td>0.584555</td>\n",
       "      <td>1.372161</td>\n",
       "    </tr>\n",
       "    <tr>\n",
       "      <th>99</th>\n",
       "      <td>0.99</td>\n",
       "      <td>0.807217</td>\n",
       "      <td>0.589515</td>\n",
       "      <td>1.369289</td>\n",
       "    </tr>\n",
       "  </tbody>\n",
       "</table>\n",
       "<p>100 rows × 4 columns</p>\n",
       "</div>"
      ],
      "text/plain": [
       "    var_weight  Risk_Premium  Volatility  Sharpe_Ratio\n",
       "0         0.00      0.301056    0.348205      0.864594\n",
       "1         0.01      0.306169    0.346403      0.883853\n",
       "2         0.02      0.311282    0.344695      0.903064\n",
       "3         0.03      0.316395    0.343085      0.922206\n",
       "4         0.04      0.321507    0.341572      0.941258\n",
       "..         ...           ...         ...           ...\n",
       "95        0.95      0.786766    0.569796      1.380785\n",
       "96        0.96      0.791879    0.574695      1.377911\n",
       "97        0.97      0.796991    0.579615      1.375036\n",
       "98        0.98      0.802104    0.584555      1.372161\n",
       "99        0.99      0.807217    0.589515      1.369289\n",
       "\n",
       "[100 rows x 4 columns]"
      ]
     },
     "execution_count": 59,
     "metadata": {},
     "output_type": "execute_result"
    }
   ],
   "source": [
    "var_test_results                 = pd.DataFrame()\n",
    "var_test_results['var_weight']   = var_weight\n",
    "var_test_results['Risk_Premium'] = Risk_Premium\n",
    "var_test_results['Volatility']   = Volatility\n",
    "var_test_results['Sharpe_Ratio'] = var_test_results.Risk_Premium/var_test_results.Volatility\n",
    "var_test_results"
   ]
  },
  {
   "cell_type": "code",
   "execution_count": 60,
   "metadata": {},
   "outputs": [
    {
     "data": {
      "text/plain": [
       "<AxesSubplot:>"
      ]
     },
     "execution_count": 60,
     "metadata": {},
     "output_type": "execute_result"
    },
    {
     "data": {
      "image/png": "[encoded data removed]",
      "text/plain": [
       "<Figure size 432x288 with 1 Axes>"
      ]
     },
     "metadata": {
      "needs_background": "light"
     },
     "output_type": "display_data"
    }
   ],
   "source": [
    "var_test_results[['Risk_Premium','Volatility','Sharpe_Ratio']].plot(logy = False)"
   ]
  },
  {
   "cell_type": "code",
   "execution_count": 57,
   "metadata": {},
   "outputs": [
    {
     "data": {
      "text/plain": [
       "0.5"
      ]
     },
     "execution_count": 57,
     "metadata": {},
     "output_type": "execute_result"
    }
   ],
   "source": []
  },
  {
   "cell_type": "markdown",
   "metadata": {},
   "source": [
    "# With Gold"
   ]
  },
  {
   "cell_type": "code",
   "execution_count": 61,
   "metadata": {},
   "outputs": [],
   "source": [
    "tickers = ['ASX','AGG','GLD']"
   ]
  },
  {
   "cell_type": "code",
   "execution_count": 62,
   "metadata": {},
   "outputs": [
    {
     "data": {
      "text/plain": [
       "ASX    505\n",
       "AGG    505\n",
       "GLD    505\n",
       "dtype: int64"
      ]
     },
     "execution_count": 62,
     "metadata": {},
     "output_type": "execute_result"
    }
   ],
   "source": [
    "\n",
    "prices  = tiingo.get_dataframe(tickers, start_ytd, end_ytd, metric_name='adjClose')\n",
    "prices.index = pd.to_datetime(prices.index).tz_convert(None) \n",
    "r = prices.pct_change()\n",
    "    \n",
    "r.count()\n"
   ]
  },
  {
   "cell_type": "code",
   "execution_count": 63,
   "metadata": {},
   "outputs": [
    {
     "data": {
      "text/plain": [
       "ASX    0.519198\n",
       "AGG   -0.016032\n",
       "GLD    0.110433\n",
       "dtype: float64"
      ]
     },
     "execution_count": 63,
     "metadata": {},
     "output_type": "execute_result"
    }
   ],
   "source": [
    "rf = 0.011\n",
    "risk_premiums = r.mean() * 252 - rf  \n",
    "risk_premiums"
   ]
  },
  {
   "cell_type": "code",
   "execution_count": 64,
   "metadata": {},
   "outputs": [
    {
     "data": {
      "text/plain": [
       "ASX    0.426452\n",
       "AGG    0.040639\n",
       "GLD    0.160955\n",
       "dtype: float64"
      ]
     },
     "execution_count": 64,
     "metadata": {},
     "output_type": "execute_result"
    }
   ],
   "source": [
    "vol           = r.std()  * 252**0.5\n",
    "vol"
   ]
  },
  {
   "cell_type": "code",
   "execution_count": 65,
   "metadata": {},
   "outputs": [
    {
     "data": {
      "text/html": [
       "<div>\n",
       "<style scoped>\n",
       "    .dataframe tbody tr th:only-of-type {\n",
       "        vertical-align: middle;\n",
       "    }\n",
       "\n",
       "    .dataframe tbody tr th {\n",
       "        vertical-align: top;\n",
       "    }\n",
       "\n",
       "    .dataframe thead th {\n",
       "        text-align: right;\n",
       "    }\n",
       "</style>\n",
       "<table border=\"1\" class=\"dataframe\">\n",
       "  <thead>\n",
       "    <tr style=\"text-align: right;\">\n",
       "      <th></th>\n",
       "      <th>ASX</th>\n",
       "      <th>AGG</th>\n",
       "      <th>GLD</th>\n",
       "    </tr>\n",
       "  </thead>\n",
       "  <tbody>\n",
       "    <tr>\n",
       "      <th>ASX</th>\n",
       "      <td>1.000000</td>\n",
       "      <td>0.067594</td>\n",
       "      <td>0.158446</td>\n",
       "    </tr>\n",
       "    <tr>\n",
       "      <th>AGG</th>\n",
       "      <td>0.067594</td>\n",
       "      <td>1.000000</td>\n",
       "      <td>0.308635</td>\n",
       "    </tr>\n",
       "    <tr>\n",
       "      <th>GLD</th>\n",
       "      <td>0.158446</td>\n",
       "      <td>0.308635</td>\n",
       "      <td>1.000000</td>\n",
       "    </tr>\n",
       "  </tbody>\n",
       "</table>\n",
       "</div>"
      ],
      "text/plain": [
       "          ASX       AGG       GLD\n",
       "ASX  1.000000  0.067594  0.158446\n",
       "AGG  0.067594  1.000000  0.308635\n",
       "GLD  0.158446  0.308635  1.000000"
      ]
     },
     "execution_count": 65,
     "metadata": {},
     "output_type": "execute_result"
    }
   ],
   "source": [
    "corr          = r.corr()\n",
    "corr"
   ]
  },
  {
   "cell_type": "code",
   "execution_count": 66,
   "metadata": {},
   "outputs": [
    {
     "data": {
      "text/html": [
       "<div>\n",
       "<style scoped>\n",
       "    .dataframe tbody tr th:only-of-type {\n",
       "        vertical-align: middle;\n",
       "    }\n",
       "\n",
       "    .dataframe tbody tr th {\n",
       "        vertical-align: top;\n",
       "    }\n",
       "\n",
       "    .dataframe thead th {\n",
       "        text-align: right;\n",
       "    }\n",
       "</style>\n",
       "<table border=\"1\" class=\"dataframe\">\n",
       "  <thead>\n",
       "    <tr style=\"text-align: right;\">\n",
       "      <th></th>\n",
       "      <th>ASX</th>\n",
       "      <th>AGG</th>\n",
       "      <th>GLD</th>\n",
       "    </tr>\n",
       "  </thead>\n",
       "  <tbody>\n",
       "    <tr>\n",
       "      <th>ASX</th>\n",
       "      <td>0.181861</td>\n",
       "      <td>0.001171</td>\n",
       "      <td>0.010876</td>\n",
       "    </tr>\n",
       "    <tr>\n",
       "      <th>AGG</th>\n",
       "      <td>0.001171</td>\n",
       "      <td>0.001652</td>\n",
       "      <td>0.002019</td>\n",
       "    </tr>\n",
       "    <tr>\n",
       "      <th>GLD</th>\n",
       "      <td>0.010876</td>\n",
       "      <td>0.002019</td>\n",
       "      <td>0.025907</td>\n",
       "    </tr>\n",
       "  </tbody>\n",
       "</table>\n",
       "</div>"
      ],
      "text/plain": [
       "          ASX       AGG       GLD\n",
       "ASX  0.181861  0.001171  0.010876\n",
       "AGG  0.001171  0.001652  0.002019\n",
       "GLD  0.010876  0.002019  0.025907"
      ]
     },
     "execution_count": 66,
     "metadata": {},
     "output_type": "execute_result"
    }
   ],
   "source": [
    "cov           = r.cov()  * 252\n",
    "cov"
   ]
  },
  {
   "cell_type": "markdown",
   "metadata": {},
   "source": [
    "Now we can make a mean-volatility plot to see where these two stocks stand."
   ]
  },
  {
   "cell_type": "code",
   "execution_count": 70,
   "metadata": {},
   "outputs": [
    {
     "data": {
      "image/png": "[encoded data removed]",
      "text/plain": [
       "<Figure size 432x288 with 1 Axes>"
      ]
     },
     "metadata": {
      "needs_background": "light"
     },
     "output_type": "display_data"
    }
   ],
   "source": [
    "assets = pd.DataFrame()                        \n",
    "assets['Risk_premium'] = risk_premiums\n",
    "assets['Volatility']   = vol    \n",
    "assets['Color']        = 'orange'\n",
    "assets['Size']         = 150\n",
    "\n",
    "all_portfolios = assets\n",
    "all_portfolios\n",
    "    \n",
    "graph = all_portfolios.plot.scatter('Volatility','Risk_premium', color=all_portfolios.Color, s=all_portfolios.Size, xlim=(0,0.6), ylim=(-0.1,1))\n",
    "\n",
    "    # add ticker symbols to plot:\n",
    "for s in tickers:                                 # loop over sectors\n",
    "    x = all_portfolios.loc[s,'Volatility']+0.005  # get x-coordinate from table (+ offset so the labels don't overlap with points)\n",
    "    y = all_portfolios.loc[s,'Risk_premium']      # get y-coordinate from table\n",
    "    graph.text(x,y,s)                             # add the ticker symbol to the graph"
   ]
  },
  {
   "cell_type": "markdown",
   "metadata": {},
   "source": [
    "We can also make an efficient frontier plot to see how different weighted combinations of these stocks would land on the mean-volatility plot."
   ]
  },
  {
   "cell_type": "code",
   "execution_count": 73,
   "metadata": {},
   "outputs": [
    {
     "data": {
      "image/png": "[encoded data removed]",
      "text/plain": [
       "<Figure size 432x288 with 1 Axes>"
      ]
     },
     "metadata": {
      "needs_background": "light"
     },
     "output_type": "display_data"
    }
   ],
   "source": [
    "   \n",
    "# here we are building the simulation that finds the possible portfolios\n",
    "n_portfolios = 10000\n",
    "\n",
    "random_arrays  = [ np.random.uniform(0,1,len(tickers)) for i in range(0,n_portfolios) ]\n",
    "random_weights = [ ra/ra.sum() for ra in random_arrays ]\n",
    "    \n",
    "random = pd.DataFrame()\n",
    "random['Risk_premium'] = [ w.dot(risk_premiums)   for w in random_weights ]\n",
    "random['Volatility']   = [ w.dot(cov).dot(w)**0.5 for w in random_weights ]\n",
    "random['Color']        = 'gray'\n",
    "random['Size']         = 10\n",
    "random['sharpe']       = random['Risk_premium']/random['Volatility']\n",
    "\n",
    "all_portfolios = pd.concat([random, assets])\n",
    "    \n",
    "graph = all_portfolios.plot.scatter('Volatility','Risk_premium', color=all_portfolios.Color, s=all_portfolios.Size, xlim=(0,.6), ylim=(-0.1,1))\n",
    "\n",
    "# add ticker to plot:\n",
    "for s in tickers:                                 # loop over sectors\n",
    "    x = all_portfolios.loc[s,'Volatility']+0.005  # get x-coordinate from table (+ offset so the labels don't overlap with points)\n",
    "    y = all_portfolios.loc[s,'Risk_premium']      # get y-coordinate from table\n",
    "    graph.text(x,y,s)                             # add the ticker symbol to the graph\n"
   ]
  },
  {
   "cell_type": "markdown",
   "metadata": {},
   "source": [
    "Time to find the weights that correspond to the maximum sharpe ratio portfolio."
   ]
  },
  {
   "cell_type": "code",
   "execution_count": 74,
   "metadata": {},
   "outputs": [
    {
     "data": {
      "text/html": [
       "<div>\n",
       "<style scoped>\n",
       "    .dataframe tbody tr th:only-of-type {\n",
       "        vertical-align: middle;\n",
       "    }\n",
       "\n",
       "    .dataframe tbody tr th {\n",
       "        vertical-align: top;\n",
       "    }\n",
       "\n",
       "    .dataframe thead th {\n",
       "        text-align: right;\n",
       "    }\n",
       "</style>\n",
       "<table border=\"1\" class=\"dataframe\">\n",
       "  <thead>\n",
       "    <tr style=\"text-align: right;\">\n",
       "      <th></th>\n",
       "      <th>Risk_Premiums</th>\n",
       "      <th>Weights</th>\n",
       "      <th>weighted_ret</th>\n",
       "    </tr>\n",
       "  </thead>\n",
       "  <tbody>\n",
       "    <tr>\n",
       "      <th>ASX</th>\n",
       "      <td>0.519198</td>\n",
       "      <td>0.464575</td>\n",
       "      <td>0.241206</td>\n",
       "    </tr>\n",
       "    <tr>\n",
       "      <th>AGG</th>\n",
       "      <td>-0.016032</td>\n",
       "      <td>0.001173</td>\n",
       "      <td>-0.000019</td>\n",
       "    </tr>\n",
       "    <tr>\n",
       "      <th>GLD</th>\n",
       "      <td>0.110433</td>\n",
       "      <td>0.534252</td>\n",
       "      <td>0.058999</td>\n",
       "    </tr>\n",
       "  </tbody>\n",
       "</table>\n",
       "</div>"
      ],
      "text/plain": [
       "     Risk_Premiums   Weights  weighted_ret\n",
       "ASX       0.519198  0.464575      0.241206\n",
       "AGG      -0.016032  0.001173     -0.000019\n",
       "GLD       0.110433  0.534252      0.058999"
      ]
     },
     "execution_count": 74,
     "metadata": {},
     "output_type": "execute_result"
    }
   ],
   "source": [
    "\n",
    "random['weights'] = random_weights\n",
    "wgts = random[(random['sharpe'] >= random.sharpe.max())].weights.astype(str)\n",
    "\n",
    "rp = random[(random['sharpe'] == random.sharpe.max())].Risk_premium\n",
    "#now I have found the weights, but they are in string form. We want them to be a panda series\n",
    "#here i am turning the string weights into a list\n",
    "lw = list(wgts)\n",
    "#finding the first entry in the list(the first entry is always a quote)\n",
    "ws = str(lw[0])\n",
    "# replacing the quote with a blank\n",
    "ws = ws.replace('[','')\n",
    "ws = ws.replace(']','')\n",
    "#deliniating the list values by spaces\n",
    "lw = ws.split(' ')\n",
    "#filtering out the bad data\n",
    "lw = list(filter(None, lw))\n",
    "#Finally turning the list into a numpy array\n",
    "nw = np.array(lw)\n",
    "nw = nw.astype(float)\n",
    "    \n",
    "#now we have to turn the numpy array into a panda series \n",
    "    \n",
    "sharpe_weights                  = pd.DataFrame()\n",
    "sharpe_weights['Risk_Premiums'] = risk_premiums\n",
    "sharpe_weights['Weights']       = nw\n",
    "sharpe_weights['weighted_ret']  = sharpe_weights['Weights']*sharpe_weights['Risk_Premiums']\n",
    "sharpe_weights"
   ]
  },
  {
   "cell_type": "code",
   "execution_count": 75,
   "metadata": {},
   "outputs": [
    {
     "data": {
      "text/html": [
       "<div>\n",
       "<style scoped>\n",
       "    .dataframe tbody tr th:only-of-type {\n",
       "        vertical-align: middle;\n",
       "    }\n",
       "\n",
       "    .dataframe tbody tr th {\n",
       "        vertical-align: top;\n",
       "    }\n",
       "\n",
       "    .dataframe thead th {\n",
       "        text-align: right;\n",
       "    }\n",
       "</style>\n",
       "<table border=\"1\" class=\"dataframe\">\n",
       "  <thead>\n",
       "    <tr style=\"text-align: right;\">\n",
       "      <th></th>\n",
       "      <th>ASX</th>\n",
       "      <th>AGG</th>\n",
       "      <th>GLD</th>\n",
       "      <th>total_ret</th>\n",
       "    </tr>\n",
       "  </thead>\n",
       "  <tbody>\n",
       "    <tr>\n",
       "      <th>2020-03-23</th>\n",
       "      <td>NaN</td>\n",
       "      <td>NaN</td>\n",
       "      <td>NaN</td>\n",
       "      <td>NaN</td>\n",
       "    </tr>\n",
       "    <tr>\n",
       "      <th>2020-03-24</th>\n",
       "      <td>0.140187</td>\n",
       "      <td>0.008256</td>\n",
       "      <td>0.048530</td>\n",
       "      <td>0.196974</td>\n",
       "    </tr>\n",
       "    <tr>\n",
       "      <th>2020-03-25</th>\n",
       "      <td>0.051913</td>\n",
       "      <td>0.010214</td>\n",
       "      <td>-0.013690</td>\n",
       "      <td>0.048437</td>\n",
       "    </tr>\n",
       "    <tr>\n",
       "      <th>2020-03-26</th>\n",
       "      <td>0.031169</td>\n",
       "      <td>0.003051</td>\n",
       "      <td>0.012822</td>\n",
       "      <td>0.047042</td>\n",
       "    </tr>\n",
       "    <tr>\n",
       "      <th>2020-03-27</th>\n",
       "      <td>-0.098237</td>\n",
       "      <td>0.004258</td>\n",
       "      <td>-0.006460</td>\n",
       "      <td>-0.100439</td>\n",
       "    </tr>\n",
       "    <tr>\n",
       "      <th>...</th>\n",
       "      <td>...</td>\n",
       "      <td>...</td>\n",
       "      <td>...</td>\n",
       "      <td>...</td>\n",
       "    </tr>\n",
       "    <tr>\n",
       "      <th>2022-03-17</th>\n",
       "      <td>0.019048</td>\n",
       "      <td>0.001672</td>\n",
       "      <td>0.004889</td>\n",
       "      <td>0.025608</td>\n",
       "    </tr>\n",
       "    <tr>\n",
       "      <th>2022-03-18</th>\n",
       "      <td>0.013351</td>\n",
       "      <td>0.002225</td>\n",
       "      <td>-0.008790</td>\n",
       "      <td>0.006786</td>\n",
       "    </tr>\n",
       "    <tr>\n",
       "      <th>2022-03-21</th>\n",
       "      <td>-0.018445</td>\n",
       "      <td>-0.009806</td>\n",
       "      <td>0.007641</td>\n",
       "      <td>-0.020610</td>\n",
       "    </tr>\n",
       "    <tr>\n",
       "      <th>2022-03-22</th>\n",
       "      <td>0.006711</td>\n",
       "      <td>-0.002709</td>\n",
       "      <td>-0.007251</td>\n",
       "      <td>-0.003249</td>\n",
       "    </tr>\n",
       "    <tr>\n",
       "      <th>2022-03-23</th>\n",
       "      <td>-0.029333</td>\n",
       "      <td>0.004122</td>\n",
       "      <td>0.013660</td>\n",
       "      <td>-0.011552</td>\n",
       "    </tr>\n",
       "  </tbody>\n",
       "</table>\n",
       "<p>506 rows × 4 columns</p>\n",
       "</div>"
      ],
      "text/plain": [
       "                 ASX       AGG       GLD  total_ret\n",
       "2020-03-23       NaN       NaN       NaN        NaN\n",
       "2020-03-24  0.140187  0.008256  0.048530   0.196974\n",
       "2020-03-25  0.051913  0.010214 -0.013690   0.048437\n",
       "2020-03-26  0.031169  0.003051  0.012822   0.047042\n",
       "2020-03-27 -0.098237  0.004258 -0.006460  -0.100439\n",
       "...              ...       ...       ...        ...\n",
       "2022-03-17  0.019048  0.001672  0.004889   0.025608\n",
       "2022-03-18  0.013351  0.002225 -0.008790   0.006786\n",
       "2022-03-21 -0.018445 -0.009806  0.007641  -0.020610\n",
       "2022-03-22  0.006711 -0.002709 -0.007251  -0.003249\n",
       "2022-03-23 -0.029333  0.004122  0.013660  -0.011552\n",
       "\n",
       "[506 rows x 4 columns]"
      ]
     },
     "execution_count": 75,
     "metadata": {},
     "output_type": "execute_result"
    }
   ],
   "source": [
    "rf = 0.011\n",
    "r*sharpe_weights['Weights']\n",
    "r['total_ret'] = r.ASX + r.AGG + r.GLD\n",
    "r"
   ]
  },
  {
   "cell_type": "code",
   "execution_count": 76,
   "metadata": {},
   "outputs": [
    {
     "data": {
      "text/plain": [
       "0.6355989227488618"
      ]
     },
     "execution_count": 76,
     "metadata": {},
     "output_type": "execute_result"
    }
   ],
   "source": [
    "max_rp = r.total_ret.mean()*252 - 0.011\n",
    "max_rp"
   ]
  },
  {
   "cell_type": "code",
   "execution_count": 77,
   "metadata": {},
   "outputs": [
    {
     "data": {
      "text/plain": [
       "0.48739269026028464"
      ]
     },
     "execution_count": 77,
     "metadata": {},
     "output_type": "execute_result"
    }
   ],
   "source": [
    "max_vol = r.total_ret.std()*252**0.5\n",
    "max_vol"
   ]
  },
  {
   "cell_type": "code",
   "execution_count": 80,
   "metadata": {
    "scrolled": true
   },
   "outputs": [
    {
     "data": {
      "text/plain": [
       "-0.22477509653090907"
      ]
     },
     "execution_count": 80,
     "metadata": {},
     "output_type": "execute_result"
    }
   ],
   "source": [
    "max_sharpe = max_rp/max_vol\n",
    "max_sharpe"
   ]
  },
  {
   "cell_type": "markdown",
   "metadata": {},
   "source": [
    "Vary the amount of BTC/ GLD in the portfolio"
   ]
  },
  {
   "cell_type": "code",
   "execution_count": 50,
   "metadata": {},
   "outputs": [
    {
     "data": {
      "text/plain": [
       "array([1.  , 0.99, 0.98, 0.97, 0.96, 0.95, 0.94, 0.93, 0.92, 0.91, 0.9 ,\n",
       "       0.89, 0.88, 0.87, 0.86, 0.85, 0.84, 0.83, 0.82, 0.81, 0.8 , 0.79,\n",
       "       0.78, 0.77, 0.76, 0.75, 0.74, 0.73, 0.72, 0.71, 0.7 , 0.69, 0.68,\n",
       "       0.67, 0.66, 0.65, 0.64, 0.63, 0.62, 0.61, 0.6 , 0.59, 0.58, 0.57,\n",
       "       0.56, 0.55, 0.54, 0.53, 0.52, 0.51, 0.5 , 0.49, 0.48, 0.47, 0.46,\n",
       "       0.45, 0.44, 0.43, 0.42, 0.41, 0.4 , 0.39, 0.38, 0.37, 0.36, 0.35,\n",
       "       0.34, 0.33, 0.32, 0.31, 0.3 , 0.29, 0.28, 0.27, 0.26, 0.25, 0.24,\n",
       "       0.23, 0.22, 0.21, 0.2 , 0.19, 0.18, 0.17, 0.16, 0.15, 0.14, 0.13,\n",
       "       0.12, 0.11, 0.1 , 0.09, 0.08, 0.07, 0.06, 0.05, 0.04, 0.03, 0.02,\n",
       "       0.01])"
      ]
     },
     "execution_count": 50,
     "metadata": {},
     "output_type": "execute_result"
    }
   ],
   "source": [
    "var_weight = []\n",
    "for i in range(100):\n",
    "    var_weight.append(i/100)\n",
    "var_weight  = np.array(var_weight)\n",
    "base_weight = 1 - btc_weight\n",
    "base_weight\n",
    "    "
   ]
  },
  {
   "cell_type": "code",
   "execution_count": 51,
   "metadata": {},
   "outputs": [
    {
     "data": {
      "text/html": [
       "<div>\n",
       "<style scoped>\n",
       "    .dataframe tbody tr th:only-of-type {\n",
       "        vertical-align: middle;\n",
       "    }\n",
       "\n",
       "    .dataframe tbody tr th {\n",
       "        vertical-align: top;\n",
       "    }\n",
       "\n",
       "    .dataframe thead th {\n",
       "        text-align: right;\n",
       "    }\n",
       "</style>\n",
       "<table border=\"1\" class=\"dataframe\">\n",
       "  <thead>\n",
       "    <tr style=\"text-align: right;\">\n",
       "      <th></th>\n",
       "      <th>Base_Portfolio</th>\n",
       "      <th>GLD</th>\n",
       "    </tr>\n",
       "  </thead>\n",
       "  <tbody>\n",
       "    <tr>\n",
       "      <th>2022-01-03</th>\n",
       "      <td>NaN</td>\n",
       "      <td>NaN</td>\n",
       "    </tr>\n",
       "    <tr>\n",
       "      <th>2022-01-04</th>\n",
       "      <td>0.001182</td>\n",
       "      <td>0.007366</td>\n",
       "    </tr>\n",
       "    <tr>\n",
       "      <th>2022-01-05</th>\n",
       "      <td>0.001987</td>\n",
       "      <td>-0.003008</td>\n",
       "    </tr>\n",
       "    <tr>\n",
       "      <th>2022-01-06</th>\n",
       "      <td>0.007776</td>\n",
       "      <td>-0.012244</td>\n",
       "    </tr>\n",
       "    <tr>\n",
       "      <th>2022-01-07</th>\n",
       "      <td>-0.046730</td>\n",
       "      <td>0.004551</td>\n",
       "    </tr>\n",
       "    <tr>\n",
       "      <th>2022-01-10</th>\n",
       "      <td>0.025289</td>\n",
       "      <td>0.003040</td>\n",
       "    </tr>\n",
       "    <tr>\n",
       "      <th>2022-01-11</th>\n",
       "      <td>0.010797</td>\n",
       "      <td>0.012065</td>\n",
       "    </tr>\n",
       "    <tr>\n",
       "      <th>2022-01-12</th>\n",
       "      <td>-0.007585</td>\n",
       "      <td>0.002643</td>\n",
       "    </tr>\n",
       "    <tr>\n",
       "      <th>2022-01-13</th>\n",
       "      <td>-0.002045</td>\n",
       "      <td>-0.003397</td>\n",
       "    </tr>\n",
       "    <tr>\n",
       "      <th>2022-01-14</th>\n",
       "      <td>0.008481</td>\n",
       "      <td>-0.002880</td>\n",
       "    </tr>\n",
       "    <tr>\n",
       "      <th>2022-01-18</th>\n",
       "      <td>-0.036327</td>\n",
       "      <td>-0.001650</td>\n",
       "    </tr>\n",
       "    <tr>\n",
       "      <th>2022-01-19</th>\n",
       "      <td>-0.025156</td>\n",
       "      <td>0.015881</td>\n",
       "    </tr>\n",
       "    <tr>\n",
       "      <th>2022-01-20</th>\n",
       "      <td>0.000537</td>\n",
       "      <td>-0.002499</td>\n",
       "    </tr>\n",
       "    <tr>\n",
       "      <th>2022-01-21</th>\n",
       "      <td>-0.037508</td>\n",
       "      <td>-0.003262</td>\n",
       "    </tr>\n",
       "    <tr>\n",
       "      <th>2022-01-24</th>\n",
       "      <td>0.004420</td>\n",
       "      <td>0.005494</td>\n",
       "    </tr>\n",
       "    <tr>\n",
       "      <th>2022-01-25</th>\n",
       "      <td>-0.028721</td>\n",
       "      <td>0.003197</td>\n",
       "    </tr>\n",
       "    <tr>\n",
       "      <th>2022-01-26</th>\n",
       "      <td>0.005787</td>\n",
       "      <td>-0.016166</td>\n",
       "    </tr>\n",
       "    <tr>\n",
       "      <th>2022-01-27</th>\n",
       "      <td>-0.050274</td>\n",
       "      <td>-0.012898</td>\n",
       "    </tr>\n",
       "    <tr>\n",
       "      <th>2022-01-28</th>\n",
       "      <td>0.009658</td>\n",
       "      <td>-0.002983</td>\n",
       "    </tr>\n",
       "    <tr>\n",
       "      <th>2022-01-31</th>\n",
       "      <td>0.045701</td>\n",
       "      <td>0.005925</td>\n",
       "    </tr>\n",
       "    <tr>\n",
       "      <th>2022-02-01</th>\n",
       "      <td>0.015192</td>\n",
       "      <td>0.000833</td>\n",
       "    </tr>\n",
       "    <tr>\n",
       "      <th>2022-02-02</th>\n",
       "      <td>0.012202</td>\n",
       "      <td>0.003626</td>\n",
       "    </tr>\n",
       "    <tr>\n",
       "      <th>2022-02-03</th>\n",
       "      <td>-0.057673</td>\n",
       "      <td>-0.001421</td>\n",
       "    </tr>\n",
       "    <tr>\n",
       "      <th>2022-02-04</th>\n",
       "      <td>0.015511</td>\n",
       "      <td>0.001542</td>\n",
       "    </tr>\n",
       "    <tr>\n",
       "      <th>2022-02-07</th>\n",
       "      <td>0.013707</td>\n",
       "      <td>0.007403</td>\n",
       "    </tr>\n",
       "    <tr>\n",
       "      <th>2022-02-08</th>\n",
       "      <td>0.012377</td>\n",
       "      <td>0.003057</td>\n",
       "    </tr>\n",
       "    <tr>\n",
       "      <th>2022-02-09</th>\n",
       "      <td>0.035213</td>\n",
       "      <td>0.003399</td>\n",
       "    </tr>\n",
       "    <tr>\n",
       "      <th>2022-02-10</th>\n",
       "      <td>0.001456</td>\n",
       "      <td>-0.003797</td>\n",
       "    </tr>\n",
       "    <tr>\n",
       "      <th>2022-02-11</th>\n",
       "      <td>-0.031777</td>\n",
       "      <td>0.019055</td>\n",
       "    </tr>\n",
       "    <tr>\n",
       "      <th>2022-02-14</th>\n",
       "      <td>-0.016817</td>\n",
       "      <td>0.005351</td>\n",
       "    </tr>\n",
       "    <tr>\n",
       "      <th>2022-02-15</th>\n",
       "      <td>0.042862</td>\n",
       "      <td>-0.009500</td>\n",
       "    </tr>\n",
       "    <tr>\n",
       "      <th>2022-02-16</th>\n",
       "      <td>0.006516</td>\n",
       "      <td>0.010284</td>\n",
       "    </tr>\n",
       "    <tr>\n",
       "      <th>2022-02-17</th>\n",
       "      <td>-0.020414</td>\n",
       "      <td>0.013668</td>\n",
       "    </tr>\n",
       "    <tr>\n",
       "      <th>2022-02-18</th>\n",
       "      <td>0.007518</td>\n",
       "      <td>-0.000733</td>\n",
       "    </tr>\n",
       "    <tr>\n",
       "      <th>2022-02-22</th>\n",
       "      <td>-0.011874</td>\n",
       "      <td>0.002089</td>\n",
       "    </tr>\n",
       "    <tr>\n",
       "      <th>2022-02-23</th>\n",
       "      <td>-0.026263</td>\n",
       "      <td>0.004507</td>\n",
       "    </tr>\n",
       "    <tr>\n",
       "      <th>2022-02-24</th>\n",
       "      <td>0.010187</td>\n",
       "      <td>-0.006450</td>\n",
       "    </tr>\n",
       "    <tr>\n",
       "      <th>2022-02-25</th>\n",
       "      <td>0.010673</td>\n",
       "      <td>-0.003331</td>\n",
       "    </tr>\n",
       "    <tr>\n",
       "      <th>2022-02-28</th>\n",
       "      <td>-0.003734</td>\n",
       "      <td>0.010365</td>\n",
       "    </tr>\n",
       "    <tr>\n",
       "      <th>2022-03-01</th>\n",
       "      <td>0.002857</td>\n",
       "      <td>0.018163</td>\n",
       "    </tr>\n",
       "    <tr>\n",
       "      <th>2022-03-02</th>\n",
       "      <td>0.014351</td>\n",
       "      <td>-0.010406</td>\n",
       "    </tr>\n",
       "    <tr>\n",
       "      <th>2022-03-03</th>\n",
       "      <td>-0.004729</td>\n",
       "      <td>0.005953</td>\n",
       "    </tr>\n",
       "    <tr>\n",
       "      <th>2022-03-04</th>\n",
       "      <td>-0.030055</td>\n",
       "      <td>0.015929</td>\n",
       "    </tr>\n",
       "    <tr>\n",
       "      <th>2022-03-07</th>\n",
       "      <td>-0.069272</td>\n",
       "      <td>0.014863</td>\n",
       "    </tr>\n",
       "    <tr>\n",
       "      <th>2022-03-08</th>\n",
       "      <td>0.023552</td>\n",
       "      <td>0.027359</td>\n",
       "    </tr>\n",
       "    <tr>\n",
       "      <th>2022-03-09</th>\n",
       "      <td>0.049215</td>\n",
       "      <td>-0.029711</td>\n",
       "    </tr>\n",
       "    <tr>\n",
       "      <th>2022-03-10</th>\n",
       "      <td>-0.016752</td>\n",
       "      <td>0.003121</td>\n",
       "    </tr>\n",
       "    <tr>\n",
       "      <th>2022-03-11</th>\n",
       "      <td>-0.011468</td>\n",
       "      <td>-0.007028</td>\n",
       "    </tr>\n",
       "    <tr>\n",
       "      <th>2022-03-14</th>\n",
       "      <td>-0.013965</td>\n",
       "      <td>-0.015074</td>\n",
       "    </tr>\n",
       "    <tr>\n",
       "      <th>2022-03-15</th>\n",
       "      <td>0.009399</td>\n",
       "      <td>-0.018705</td>\n",
       "    </tr>\n",
       "    <tr>\n",
       "      <th>2022-03-16</th>\n",
       "      <td>0.046263</td>\n",
       "      <td>0.006261</td>\n",
       "    </tr>\n",
       "    <tr>\n",
       "      <th>2022-03-17</th>\n",
       "      <td>0.020719</td>\n",
       "      <td>0.004889</td>\n",
       "    </tr>\n",
       "    <tr>\n",
       "      <th>2022-03-18</th>\n",
       "      <td>0.015576</td>\n",
       "      <td>-0.008790</td>\n",
       "    </tr>\n",
       "    <tr>\n",
       "      <th>2022-03-21</th>\n",
       "      <td>-0.028251</td>\n",
       "      <td>0.007641</td>\n",
       "    </tr>\n",
       "    <tr>\n",
       "      <th>2022-03-22</th>\n",
       "      <td>0.004002</td>\n",
       "      <td>-0.007251</td>\n",
       "    </tr>\n",
       "    <tr>\n",
       "      <th>2022-03-23</th>\n",
       "      <td>-0.025212</td>\n",
       "      <td>0.013660</td>\n",
       "    </tr>\n",
       "  </tbody>\n",
       "</table>\n",
       "</div>"
      ],
      "text/plain": [
       "            Base_Portfolio       GLD\n",
       "2022-01-03             NaN       NaN\n",
       "2022-01-04        0.001182  0.007366\n",
       "2022-01-05        0.001987 -0.003008\n",
       "2022-01-06        0.007776 -0.012244\n",
       "2022-01-07       -0.046730  0.004551\n",
       "2022-01-10        0.025289  0.003040\n",
       "2022-01-11        0.010797  0.012065\n",
       "2022-01-12       -0.007585  0.002643\n",
       "2022-01-13       -0.002045 -0.003397\n",
       "2022-01-14        0.008481 -0.002880\n",
       "2022-01-18       -0.036327 -0.001650\n",
       "2022-01-19       -0.025156  0.015881\n",
       "2022-01-20        0.000537 -0.002499\n",
       "2022-01-21       -0.037508 -0.003262\n",
       "2022-01-24        0.004420  0.005494\n",
       "2022-01-25       -0.028721  0.003197\n",
       "2022-01-26        0.005787 -0.016166\n",
       "2022-01-27       -0.050274 -0.012898\n",
       "2022-01-28        0.009658 -0.002983\n",
       "2022-01-31        0.045701  0.005925\n",
       "2022-02-01        0.015192  0.000833\n",
       "2022-02-02        0.012202  0.003626\n",
       "2022-02-03       -0.057673 -0.001421\n",
       "2022-02-04        0.015511  0.001542\n",
       "2022-02-07        0.013707  0.007403\n",
       "2022-02-08        0.012377  0.003057\n",
       "2022-02-09        0.035213  0.003399\n",
       "2022-02-10        0.001456 -0.003797\n",
       "2022-02-11       -0.031777  0.019055\n",
       "2022-02-14       -0.016817  0.005351\n",
       "2022-02-15        0.042862 -0.009500\n",
       "2022-02-16        0.006516  0.010284\n",
       "2022-02-17       -0.020414  0.013668\n",
       "2022-02-18        0.007518 -0.000733\n",
       "2022-02-22       -0.011874  0.002089\n",
       "2022-02-23       -0.026263  0.004507\n",
       "2022-02-24        0.010187 -0.006450\n",
       "2022-02-25        0.010673 -0.003331\n",
       "2022-02-28       -0.003734  0.010365\n",
       "2022-03-01        0.002857  0.018163\n",
       "2022-03-02        0.014351 -0.010406\n",
       "2022-03-03       -0.004729  0.005953\n",
       "2022-03-04       -0.030055  0.015929\n",
       "2022-03-07       -0.069272  0.014863\n",
       "2022-03-08        0.023552  0.027359\n",
       "2022-03-09        0.049215 -0.029711\n",
       "2022-03-10       -0.016752  0.003121\n",
       "2022-03-11       -0.011468 -0.007028\n",
       "2022-03-14       -0.013965 -0.015074\n",
       "2022-03-15        0.009399 -0.018705\n",
       "2022-03-16        0.046263  0.006261\n",
       "2022-03-17        0.020719  0.004889\n",
       "2022-03-18        0.015576 -0.008790\n",
       "2022-03-21       -0.028251  0.007641\n",
       "2022-03-22        0.004002 -0.007251\n",
       "2022-03-23       -0.025212  0.013660"
      ]
     },
     "execution_count": 51,
     "metadata": {},
     "output_type": "execute_result"
    }
   ],
   "source": [
    "test_returns                   = pd.DataFrame()\n",
    "test_returns['Base_Portfolio'] = r.ASX + r.AGG\n",
    "test_returns['GLD']            = r.GLD\n",
    "test_returns"
   ]
  },
  {
   "cell_type": "code",
   "execution_count": 95,
   "metadata": {},
   "outputs": [],
   "source": [
    "Volatility   = []\n",
    "Risk_Premium = []\n",
    "Sharpe_Ratio = []\n",
    "\n",
    "test_port_returns = []\n",
    "\n",
    "for w in var_weight:\n",
    "    var_weighted_return  = test_returns.GLD*w\n",
    "    base_weighted_return = test_returns.Base_Portfolio*(1-w)\n",
    "    \n",
    "    total_ret = var_weighted_return + base_weighted_return\n",
    "    total_ret = pd.DataFrame(total_ret)\n",
    "    \n",
    "    return_average    = total_ret.mean()*54\n",
    "    return_volatility = total_ret.std()*54**0.5\n",
    "    return_rp         = return_average - 0.011\n",
    "    return_sharpe     = return_rp/return_volatility\n",
    "    \n",
    "    test_port_returns.append(return_average)\n",
    "    Volatility.append(return_volatility)\n",
    "    Risk_Premium.append(return_rp)\n",
    "    \n",
    "    \n",
    "    \n",
    "\n",
    "Risk_Premium = pd.DataFrame(Risk_Premium)\n",
    "Volatility   = pd.DataFrame(Volatility)\n",
    "\n"
   ]
  },
  {
   "cell_type": "code",
   "execution_count": 96,
   "metadata": {},
   "outputs": [
    {
     "data": {
      "text/html": [
       "<div>\n",
       "<style scoped>\n",
       "    .dataframe tbody tr th:only-of-type {\n",
       "        vertical-align: middle;\n",
       "    }\n",
       "\n",
       "    .dataframe tbody tr th {\n",
       "        vertical-align: top;\n",
       "    }\n",
       "\n",
       "    .dataframe thead th {\n",
       "        text-align: right;\n",
       "    }\n",
       "</style>\n",
       "<table border=\"1\" class=\"dataframe\">\n",
       "  <thead>\n",
       "    <tr style=\"text-align: right;\">\n",
       "      <th></th>\n",
       "      <th>var_weight</th>\n",
       "      <th>Risk_Premium</th>\n",
       "      <th>Volatility</th>\n",
       "      <th>Sharpe_Ratio</th>\n",
       "    </tr>\n",
       "  </thead>\n",
       "  <tbody>\n",
       "    <tr>\n",
       "      <th>0</th>\n",
       "      <td>0.00</td>\n",
       "      <td>-0.120608</td>\n",
       "      <td>0.189656</td>\n",
       "      <td>-0.635930</td>\n",
       "    </tr>\n",
       "    <tr>\n",
       "      <th>1</th>\n",
       "      <td>0.01</td>\n",
       "      <td>-0.118727</td>\n",
       "      <td>0.187583</td>\n",
       "      <td>-0.632928</td>\n",
       "    </tr>\n",
       "    <tr>\n",
       "      <th>2</th>\n",
       "      <td>0.02</td>\n",
       "      <td>-0.116845</td>\n",
       "      <td>0.185513</td>\n",
       "      <td>-0.629848</td>\n",
       "    </tr>\n",
       "    <tr>\n",
       "      <th>3</th>\n",
       "      <td>0.03</td>\n",
       "      <td>-0.114964</td>\n",
       "      <td>0.183446</td>\n",
       "      <td>-0.626688</td>\n",
       "    </tr>\n",
       "    <tr>\n",
       "      <th>4</th>\n",
       "      <td>0.04</td>\n",
       "      <td>-0.113082</td>\n",
       "      <td>0.181383</td>\n",
       "      <td>-0.623446</td>\n",
       "    </tr>\n",
       "    <tr>\n",
       "      <th>...</th>\n",
       "      <td>...</td>\n",
       "      <td>...</td>\n",
       "      <td>...</td>\n",
       "      <td>...</td>\n",
       "    </tr>\n",
       "    <tr>\n",
       "      <th>95</th>\n",
       "      <td>0.95</td>\n",
       "      <td>0.058133</td>\n",
       "      <td>0.070771</td>\n",
       "      <td>0.821416</td>\n",
       "    </tr>\n",
       "    <tr>\n",
       "      <th>96</th>\n",
       "      <td>0.96</td>\n",
       "      <td>0.060014</td>\n",
       "      <td>0.071753</td>\n",
       "      <td>0.836401</td>\n",
       "    </tr>\n",
       "    <tr>\n",
       "      <th>97</th>\n",
       "      <td>0.97</td>\n",
       "      <td>0.061896</td>\n",
       "      <td>0.072788</td>\n",
       "      <td>0.850356</td>\n",
       "    </tr>\n",
       "    <tr>\n",
       "      <th>98</th>\n",
       "      <td>0.98</td>\n",
       "      <td>0.063777</td>\n",
       "      <td>0.073874</td>\n",
       "      <td>0.863321</td>\n",
       "    </tr>\n",
       "    <tr>\n",
       "      <th>99</th>\n",
       "      <td>0.99</td>\n",
       "      <td>0.065658</td>\n",
       "      <td>0.075009</td>\n",
       "      <td>0.875338</td>\n",
       "    </tr>\n",
       "  </tbody>\n",
       "</table>\n",
       "<p>100 rows × 4 columns</p>\n",
       "</div>"
      ],
      "text/plain": [
       "    var_weight  Risk_Premium  Volatility  Sharpe_Ratio\n",
       "0         0.00     -0.120608    0.189656     -0.635930\n",
       "1         0.01     -0.118727    0.187583     -0.632928\n",
       "2         0.02     -0.116845    0.185513     -0.629848\n",
       "3         0.03     -0.114964    0.183446     -0.626688\n",
       "4         0.04     -0.113082    0.181383     -0.623446\n",
       "..         ...           ...         ...           ...\n",
       "95        0.95      0.058133    0.070771      0.821416\n",
       "96        0.96      0.060014    0.071753      0.836401\n",
       "97        0.97      0.061896    0.072788      0.850356\n",
       "98        0.98      0.063777    0.073874      0.863321\n",
       "99        0.99      0.065658    0.075009      0.875338\n",
       "\n",
       "[100 rows x 4 columns]"
      ]
     },
     "execution_count": 96,
     "metadata": {},
     "output_type": "execute_result"
    }
   ],
   "source": [
    "var_test_results                 = pd.DataFrame()\n",
    "var_test_results['var_weight']   = var_weight\n",
    "var_test_results['Risk_Premium'] = Risk_Premium\n",
    "var_test_results['Volatility']   = Volatility\n",
    "var_test_results['Sharpe_Ratio'] = var_test_results.Risk_Premium/var_test_results.Volatility\n",
    "var_test_results"
   ]
  },
  {
   "cell_type": "code",
   "execution_count": 98,
   "metadata": {},
   "outputs": [
    {
     "data": {
      "text/plain": [
       "<AxesSubplot:>"
      ]
     },
     "execution_count": 98,
     "metadata": {},
     "output_type": "execute_result"
    },
    {
     "data": {
      "image/png": "[encoded data removed]",
      "text/plain": [
       "<Figure size 432x288 with 1 Axes>"
      ]
     },
     "metadata": {
      "needs_background": "light"
     },
     "output_type": "display_data"
    }
   ],
   "source": [
    "var_test_results[['Risk_Premium','Volatility','Sharpe_Ratio']].plot(logy = False)"
   ]
  },
  {
   "cell_type": "code",
   "execution_count": null,
   "metadata": {},
   "outputs": [],
   "source": []
  }
 ],
 "metadata": {
  "kernelspec": {
   "display_name": "Python 3",
   "language": "python",
   "name": "python3"
  },
  "language_info": {
   "codemirror_mode": {
    "name": "ipython",
    "version": 3
   },
   "file_extension": ".py",
   "mimetype": "text/x-python",
   "name": "python",
   "nbconvert_exporter": "python",
   "pygments_lexer": "ipython3",
   "version": "3.8.5"
  }
 },
 "nbformat": 4,
 "nbformat_minor": 4
}
