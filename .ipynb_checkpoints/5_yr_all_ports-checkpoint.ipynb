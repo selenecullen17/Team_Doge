{
 "cells": [
  {
   "cell_type": "code",
   "execution_count": 1,
   "metadata": {},
   "outputs": [],
   "source": [
    "import pandas as pd                                    # Working with tables\n",
    "import numpy as np\n",
    "\n",
    "\n",
    "from tiingo import TiingoClient                       # Stock prices.\n",
    "import quandl                                         # Economic data, futures prices, ...\n",
    "\n",
    "# API keys:\n",
    "tiingo = TiingoClient({'api_key':'349dd4117e5d1ed71a22f0207a8e439cf3f7b06b'})\n",
    "quandl.ApiConfig.api_key = '_ci7hzC_sPkspKWz2yzt'                      # Replace the XXXX with your API key (must be inside the ' ').\n",
    "\n",
    "import matplotlib.pyplot as plt                        # Basic plot library.\n",
    "plt.style.use('ggplot')                                # Make plots look nice.\n",
    "%matplotlib inline"
   ]
  },
  {
   "cell_type": "markdown",
   "metadata": {},
   "source": [
    "# Base Portfolio"
   ]
  },
  {
   "cell_type": "code",
   "execution_count": 2,
   "metadata": {},
   "outputs": [],
   "source": [
    "tickers    = ['ASX','AGG']\n",
    "start_ytd  = '3-23-2017'\n",
    "end_ytd    = '3-23-2022'"
   ]
  },
  {
   "cell_type": "markdown",
   "metadata": {},
   "source": [
    "Now let's look at the returns"
   ]
  },
  {
   "cell_type": "code",
   "execution_count": 3,
   "metadata": {},
   "outputs": [
    {
     "data": {
      "text/plain": [
       "ASX    1259\n",
       "AGG    1259\n",
       "dtype: int64"
      ]
     },
     "execution_count": 3,
     "metadata": {},
     "output_type": "execute_result"
    }
   ],
   "source": [
    "\n",
    "prices  = tiingo.get_dataframe(tickers, start_ytd, end_ytd, metric_name='adjClose')\n",
    "prices.index = pd.to_datetime(prices.index).tz_convert(None) \n",
    "r_base = prices.pct_change()\n",
    "    \n",
    "r_base.count()\n"
   ]
  },
  {
   "cell_type": "code",
   "execution_count": 5,
   "metadata": {},
   "outputs": [
    {
     "data": {
      "text/plain": [
       "ASX    0.121786\n",
       "AGG    0.011029\n",
       "dtype: float64"
      ]
     },
     "execution_count": 5,
     "metadata": {},
     "output_type": "execute_result"
    }
   ],
   "source": [
    "rf = 0.011\n",
    "risk_premiums = r_base.mean() * 252 - rf  \n",
    "risk_premiums"
   ]
  },
  {
   "cell_type": "code",
   "execution_count": 7,
   "metadata": {},
   "outputs": [
    {
     "data": {
      "text/plain": [
       "ASX    0.386498\n",
       "AGG    0.048067\n",
       "dtype: float64"
      ]
     },
     "execution_count": 7,
     "metadata": {},
     "output_type": "execute_result"
    }
   ],
   "source": [
    "vol           = r_base.std()  * 252**0.5\n",
    "vol"
   ]
  },
  {
   "cell_type": "code",
   "execution_count": 8,
   "metadata": {},
   "outputs": [
    {
     "data": {
      "text/html": [
       "<div>\n",
       "<style scoped>\n",
       "    .dataframe tbody tr th:only-of-type {\n",
       "        vertical-align: middle;\n",
       "    }\n",
       "\n",
       "    .dataframe tbody tr th {\n",
       "        vertical-align: top;\n",
       "    }\n",
       "\n",
       "    .dataframe thead th {\n",
       "        text-align: right;\n",
       "    }\n",
       "</style>\n",
       "<table border=\"1\" class=\"dataframe\">\n",
       "  <thead>\n",
       "    <tr style=\"text-align: right;\">\n",
       "      <th></th>\n",
       "      <th>ASX</th>\n",
       "      <th>AGG</th>\n",
       "    </tr>\n",
       "  </thead>\n",
       "  <tbody>\n",
       "    <tr>\n",
       "      <th>ASX</th>\n",
       "      <td>1.000000</td>\n",
       "      <td>0.073216</td>\n",
       "    </tr>\n",
       "    <tr>\n",
       "      <th>AGG</th>\n",
       "      <td>0.073216</td>\n",
       "      <td>1.000000</td>\n",
       "    </tr>\n",
       "  </tbody>\n",
       "</table>\n",
       "</div>"
      ],
      "text/plain": [
       "          ASX       AGG\n",
       "ASX  1.000000  0.073216\n",
       "AGG  0.073216  1.000000"
      ]
     },
     "execution_count": 8,
     "metadata": {},
     "output_type": "execute_result"
    }
   ],
   "source": [
    "corr          = r_base.corr()\n",
    "corr"
   ]
  },
  {
   "cell_type": "code",
   "execution_count": 9,
   "metadata": {},
   "outputs": [
    {
     "data": {
      "text/html": [
       "<div>\n",
       "<style scoped>\n",
       "    .dataframe tbody tr th:only-of-type {\n",
       "        vertical-align: middle;\n",
       "    }\n",
       "\n",
       "    .dataframe tbody tr th {\n",
       "        vertical-align: top;\n",
       "    }\n",
       "\n",
       "    .dataframe thead th {\n",
       "        text-align: right;\n",
       "    }\n",
       "</style>\n",
       "<table border=\"1\" class=\"dataframe\">\n",
       "  <thead>\n",
       "    <tr style=\"text-align: right;\">\n",
       "      <th></th>\n",
       "      <th>ASX</th>\n",
       "      <th>AGG</th>\n",
       "    </tr>\n",
       "  </thead>\n",
       "  <tbody>\n",
       "    <tr>\n",
       "      <th>ASX</th>\n",
       "      <td>0.149381</td>\n",
       "      <td>0.00136</td>\n",
       "    </tr>\n",
       "    <tr>\n",
       "      <th>AGG</th>\n",
       "      <td>0.001360</td>\n",
       "      <td>0.00231</td>\n",
       "    </tr>\n",
       "  </tbody>\n",
       "</table>\n",
       "</div>"
      ],
      "text/plain": [
       "          ASX      AGG\n",
       "ASX  0.149381  0.00136\n",
       "AGG  0.001360  0.00231"
      ]
     },
     "execution_count": 9,
     "metadata": {},
     "output_type": "execute_result"
    }
   ],
   "source": [
    "cov           = r_base.cov()  * 252\n",
    "cov"
   ]
  },
  {
   "cell_type": "markdown",
   "metadata": {},
   "source": [
    "Now we can make a mean-volatility plot to see where these two stocks stand."
   ]
  },
  {
   "cell_type": "code",
   "execution_count": 10,
   "metadata": {},
   "outputs": [
    {
     "data": {
      "image/png": "[encoded data removed]",
      "text/plain": [
       "<Figure size 432x288 with 1 Axes>"
      ]
     },
     "metadata": {
      "needs_background": "light"
     },
     "output_type": "display_data"
    }
   ],
   "source": [
    "assets = pd.DataFrame()                        \n",
    "assets['Risk_premium'] = risk_premiums\n",
    "assets['Volatility']   = vol    \n",
    "assets['Color']        = 'orange'\n",
    "assets['Size']         = 150\n",
    "\n",
    "all_portfolios = assets\n",
    "all_portfolios\n",
    "    \n",
    "graph = all_portfolios.plot.scatter('Volatility','Risk_premium', color=all_portfolios.Color, s=all_portfolios.Size, xlim=(0,1), ylim=(-0.3,1))\n",
    "\n",
    "    # add ticker symbols to plot:\n",
    "for s in tickers:                                 # loop over sectors\n",
    "    x = all_portfolios.loc[s,'Volatility']+0.005  # get x-coordinate from table (+ offset so the labels don't overlap with points)\n",
    "    y = all_portfolios.loc[s,'Risk_premium']      # get y-coordinate from table\n",
    "    graph.text(x,y,s)                             # add the ticker symbol to the graph"
   ]
  },
  {
   "cell_type": "markdown",
   "metadata": {},
   "source": [
    "We can also make an efficient frontier plot to see how different weighted combinations of these stocks would land on the mean-volatility plot."
   ]
  },
  {
   "cell_type": "code",
   "execution_count": 11,
   "metadata": {},
   "outputs": [
    {
     "data": {
      "image/png": "[encoded data removed]",
      "text/plain": [
       "<Figure size 432x288 with 1 Axes>"
      ]
     },
     "metadata": {
      "needs_background": "light"
     },
     "output_type": "display_data"
    }
   ],
   "source": [
    "   \n",
    "# here we are building the simulation that finds the possible portfolios\n",
    "n_portfolios = 1000\n",
    "\n",
    "random_arrays  = [ np.random.uniform(0,1,len(tickers)) for i in range(0,n_portfolios) ]\n",
    "random_weights = [ ra/ra.sum() for ra in random_arrays ]\n",
    "    \n",
    "random = pd.DataFrame()\n",
    "random['Risk_premium'] = [ w.dot(risk_premiums)   for w in random_weights ]\n",
    "random['Volatility']   = [ w.dot(cov).dot(w)**0.5 for w in random_weights ]\n",
    "random['Color']        = 'gray'\n",
    "random['Size']         = 10\n",
    "random['sharpe']       = random['Risk_premium']/random['Volatility']\n",
    "\n",
    "all_portfolios = pd.concat([random, assets])\n",
    "    \n",
    "graph = all_portfolios.plot.scatter('Volatility','Risk_premium', color=all_portfolios.Color, s=all_portfolios.Size, xlim=(0,1), ylim=(-0.2,1))\n",
    "\n",
    "# add ticker to plot:\n",
    "for s in tickers:                                 # loop over sectors\n",
    "    x = all_portfolios.loc[s,'Volatility']+0.005  # get x-coordinate from table (+ offset so the labels don't overlap with points)\n",
    "    y = all_portfolios.loc[s,'Risk_premium']      # get y-coordinate from table\n",
    "    graph.text(x,y,s)                             # add the ticker symbol to the graph\n"
   ]
  },
  {
   "cell_type": "markdown",
   "metadata": {},
   "source": [
    "Time to find the weights that correspond to the maximum sharpe ratio portfolio."
   ]
  },
  {
   "cell_type": "code",
   "execution_count": 12,
   "metadata": {},
   "outputs": [
    {
     "data": {
      "text/html": [
       "<div>\n",
       "<style scoped>\n",
       "    .dataframe tbody tr th:only-of-type {\n",
       "        vertical-align: middle;\n",
       "    }\n",
       "\n",
       "    .dataframe tbody tr th {\n",
       "        vertical-align: top;\n",
       "    }\n",
       "\n",
       "    .dataframe thead th {\n",
       "        text-align: right;\n",
       "    }\n",
       "</style>\n",
       "<table border=\"1\" class=\"dataframe\">\n",
       "  <thead>\n",
       "    <tr style=\"text-align: right;\">\n",
       "      <th></th>\n",
       "      <th>Risk_Premiums</th>\n",
       "      <th>Weights</th>\n",
       "      <th>weighted_ret</th>\n",
       "    </tr>\n",
       "  </thead>\n",
       "  <tbody>\n",
       "    <tr>\n",
       "      <th>ASX</th>\n",
       "      <td>0.121786</td>\n",
       "      <td>0.150932</td>\n",
       "      <td>0.018381</td>\n",
       "    </tr>\n",
       "    <tr>\n",
       "      <th>AGG</th>\n",
       "      <td>0.011029</td>\n",
       "      <td>0.849068</td>\n",
       "      <td>0.009364</td>\n",
       "    </tr>\n",
       "  </tbody>\n",
       "</table>\n",
       "</div>"
      ],
      "text/plain": [
       "     Risk_Premiums   Weights  weighted_ret\n",
       "ASX       0.121786  0.150932      0.018381\n",
       "AGG       0.011029  0.849068      0.009364"
      ]
     },
     "execution_count": 12,
     "metadata": {},
     "output_type": "execute_result"
    }
   ],
   "source": [
    "\n",
    "random['weights'] = random_weights\n",
    "wgts = random[(random['sharpe'] >= random.sharpe.max())].weights.astype(str)\n",
    "\n",
    "rp = random[(random['sharpe'] == random.sharpe.max())].Risk_premium\n",
    "#now I have found the weights, but they are in string form. We want them to be a panda series\n",
    "#here i am turning the string weights into a list\n",
    "lw = list(wgts)\n",
    "#finding the first entry in the list(the first entry is always a quote)\n",
    "ws = str(lw[0])\n",
    "# replacing the quote with a blank\n",
    "ws = ws.replace('[','')\n",
    "ws = ws.replace(']','')\n",
    "#deliniating the list values by spaces\n",
    "lw = ws.split(' ')\n",
    "#filtering out the bad data\n",
    "lw = list(filter(None, lw))\n",
    "#Finally turning the list into a numpy array\n",
    "nw = np.array(lw)\n",
    "nw = nw.astype(float)\n",
    "    \n",
    "#now we have to turn the numpy array into a panda series \n",
    "    \n",
    "sharpe_weights                  = pd.DataFrame()\n",
    "sharpe_weights['Risk_Premiums'] = risk_premiums\n",
    "sharpe_weights['Weights']       = nw\n",
    "sharpe_weights['weighted_ret']  = sharpe_weights['Weights']*sharpe_weights['Risk_Premiums']\n",
    "sharpe_weights"
   ]
  },
  {
   "cell_type": "code",
   "execution_count": 15,
   "metadata": {},
   "outputs": [
    {
     "data": {
      "text/html": [
       "<div>\n",
       "<style scoped>\n",
       "    .dataframe tbody tr th:only-of-type {\n",
       "        vertical-align: middle;\n",
       "    }\n",
       "\n",
       "    .dataframe tbody tr th {\n",
       "        vertical-align: top;\n",
       "    }\n",
       "\n",
       "    .dataframe thead th {\n",
       "        text-align: right;\n",
       "    }\n",
       "</style>\n",
       "<table border=\"1\" class=\"dataframe\">\n",
       "  <thead>\n",
       "    <tr style=\"text-align: right;\">\n",
       "      <th></th>\n",
       "      <th>ASX</th>\n",
       "      <th>AGG</th>\n",
       "      <th>total_ret</th>\n",
       "    </tr>\n",
       "  </thead>\n",
       "  <tbody>\n",
       "    <tr>\n",
       "      <th>2017-03-23</th>\n",
       "      <td>NaN</td>\n",
       "      <td>NaN</td>\n",
       "      <td>NaN</td>\n",
       "    </tr>\n",
       "    <tr>\n",
       "      <th>2017-03-24</th>\n",
       "      <td>0.012384</td>\n",
       "      <td>-0.000830</td>\n",
       "      <td>0.011554</td>\n",
       "    </tr>\n",
       "    <tr>\n",
       "      <th>2017-03-27</th>\n",
       "      <td>0.012232</td>\n",
       "      <td>0.002399</td>\n",
       "      <td>0.014632</td>\n",
       "    </tr>\n",
       "    <tr>\n",
       "      <th>2017-03-28</th>\n",
       "      <td>-0.001511</td>\n",
       "      <td>-0.002302</td>\n",
       "      <td>-0.003812</td>\n",
       "    </tr>\n",
       "    <tr>\n",
       "      <th>2017-03-29</th>\n",
       "      <td>0.001513</td>\n",
       "      <td>0.002215</td>\n",
       "      <td>0.003727</td>\n",
       "    </tr>\n",
       "    <tr>\n",
       "      <th>...</th>\n",
       "      <td>...</td>\n",
       "      <td>...</td>\n",
       "      <td>...</td>\n",
       "    </tr>\n",
       "    <tr>\n",
       "      <th>2022-03-17</th>\n",
       "      <td>0.019048</td>\n",
       "      <td>0.001672</td>\n",
       "      <td>0.020719</td>\n",
       "    </tr>\n",
       "    <tr>\n",
       "      <th>2022-03-18</th>\n",
       "      <td>0.013351</td>\n",
       "      <td>0.002225</td>\n",
       "      <td>0.015576</td>\n",
       "    </tr>\n",
       "    <tr>\n",
       "      <th>2022-03-21</th>\n",
       "      <td>-0.018445</td>\n",
       "      <td>-0.009806</td>\n",
       "      <td>-0.028251</td>\n",
       "    </tr>\n",
       "    <tr>\n",
       "      <th>2022-03-22</th>\n",
       "      <td>0.006711</td>\n",
       "      <td>-0.002709</td>\n",
       "      <td>0.004002</td>\n",
       "    </tr>\n",
       "    <tr>\n",
       "      <th>2022-03-23</th>\n",
       "      <td>-0.029333</td>\n",
       "      <td>0.004122</td>\n",
       "      <td>-0.025212</td>\n",
       "    </tr>\n",
       "  </tbody>\n",
       "</table>\n",
       "<p>1260 rows × 3 columns</p>\n",
       "</div>"
      ],
      "text/plain": [
       "                 ASX       AGG  total_ret\n",
       "2017-03-23       NaN       NaN        NaN\n",
       "2017-03-24  0.012384 -0.000830   0.011554\n",
       "2017-03-27  0.012232  0.002399   0.014632\n",
       "2017-03-28 -0.001511 -0.002302  -0.003812\n",
       "2017-03-29  0.001513  0.002215   0.003727\n",
       "...              ...       ...        ...\n",
       "2022-03-17  0.019048  0.001672   0.020719\n",
       "2022-03-18  0.013351  0.002225   0.015576\n",
       "2022-03-21 -0.018445 -0.009806  -0.028251\n",
       "2022-03-22  0.006711 -0.002709   0.004002\n",
       "2022-03-23 -0.029333  0.004122  -0.025212\n",
       "\n",
       "[1260 rows x 3 columns]"
      ]
     },
     "execution_count": 15,
     "metadata": {},
     "output_type": "execute_result"
    }
   ],
   "source": [
    "rf = 0.011\n",
    "r_base*sharpe_weights['Weights']\n",
    "r_base['total_ret'] = r_base.ASX + r_base.AGG\n",
    "r_base"
   ]
  },
  {
   "cell_type": "code",
   "execution_count": 17,
   "metadata": {},
   "outputs": [
    {
     "data": {
      "text/plain": [
       "0.14381519816352223"
      ]
     },
     "execution_count": 17,
     "metadata": {},
     "output_type": "execute_result"
    }
   ],
   "source": [
    "max_rp = r_base.total_ret.mean()*252 - 0.011\n",
    "max_rp"
   ]
  },
  {
   "cell_type": "code",
   "execution_count": 18,
   "metadata": {},
   "outputs": [
    {
     "data": {
      "text/plain": [
       "0.3929522658577429"
      ]
     },
     "execution_count": 18,
     "metadata": {},
     "output_type": "execute_result"
    }
   ],
   "source": [
    "max_vol = r_base.total_ret.std()*252**0.5\n",
    "max_vol"
   ]
  },
  {
   "cell_type": "code",
   "execution_count": 19,
   "metadata": {
    "scrolled": true
   },
   "outputs": [
    {
     "data": {
      "text/plain": [
       "0.3659864331093752"
      ]
     },
     "execution_count": 19,
     "metadata": {},
     "output_type": "execute_result"
    }
   ],
   "source": [
    "max_sharpe = max_rp/max_vol\n",
    "max_sharpe"
   ]
  },
  {
   "cell_type": "markdown",
   "metadata": {},
   "source": [
    "# With Bitcoin"
   ]
  },
  {
   "cell_type": "code",
   "execution_count": 20,
   "metadata": {},
   "outputs": [],
   "source": [
    "tickers = ['ASX','AGG','btcusd']"
   ]
  },
  {
   "cell_type": "code",
   "execution_count": 21,
   "metadata": {},
   "outputs": [
    {
     "data": {
      "text/html": [
       "<div>\n",
       "<style scoped>\n",
       "    .dataframe tbody tr th:only-of-type {\n",
       "        vertical-align: middle;\n",
       "    }\n",
       "\n",
       "    .dataframe tbody tr th {\n",
       "        vertical-align: top;\n",
       "    }\n",
       "\n",
       "    .dataframe thead th {\n",
       "        text-align: right;\n",
       "    }\n",
       "</style>\n",
       "<table border=\"1\" class=\"dataframe\">\n",
       "  <thead>\n",
       "    <tr style=\"text-align: right;\">\n",
       "      <th></th>\n",
       "      <th>ASX</th>\n",
       "      <th>AGG</th>\n",
       "      <th>btcusd</th>\n",
       "    </tr>\n",
       "  </thead>\n",
       "  <tbody>\n",
       "    <tr>\n",
       "      <th>2017-03-23</th>\n",
       "      <td>NaN</td>\n",
       "      <td>NaN</td>\n",
       "      <td>NaN</td>\n",
       "    </tr>\n",
       "    <tr>\n",
       "      <th>2017-03-24</th>\n",
       "      <td>0.012384</td>\n",
       "      <td>-0.000830</td>\n",
       "      <td>NaN</td>\n",
       "    </tr>\n",
       "    <tr>\n",
       "      <th>2017-03-25</th>\n",
       "      <td>0.000000</td>\n",
       "      <td>0.000000</td>\n",
       "      <td>-0.097693</td>\n",
       "    </tr>\n",
       "    <tr>\n",
       "      <th>2017-03-26</th>\n",
       "      <td>0.000000</td>\n",
       "      <td>0.000000</td>\n",
       "      <td>0.029019</td>\n",
       "    </tr>\n",
       "    <tr>\n",
       "      <th>2017-03-27</th>\n",
       "      <td>0.012232</td>\n",
       "      <td>0.002399</td>\n",
       "      <td>0.004163</td>\n",
       "    </tr>\n",
       "    <tr>\n",
       "      <th>...</th>\n",
       "      <td>...</td>\n",
       "      <td>...</td>\n",
       "      <td>...</td>\n",
       "    </tr>\n",
       "    <tr>\n",
       "      <th>2022-03-20</th>\n",
       "      <td>0.000000</td>\n",
       "      <td>0.000000</td>\n",
       "      <td>-0.022298</td>\n",
       "    </tr>\n",
       "    <tr>\n",
       "      <th>2022-03-21</th>\n",
       "      <td>-0.018445</td>\n",
       "      <td>-0.009806</td>\n",
       "      <td>-0.006325</td>\n",
       "    </tr>\n",
       "    <tr>\n",
       "      <th>2022-03-22</th>\n",
       "      <td>0.006711</td>\n",
       "      <td>-0.002709</td>\n",
       "      <td>0.033207</td>\n",
       "    </tr>\n",
       "    <tr>\n",
       "      <th>2022-03-23</th>\n",
       "      <td>-0.029333</td>\n",
       "      <td>0.004122</td>\n",
       "      <td>0.012255</td>\n",
       "    </tr>\n",
       "    <tr>\n",
       "      <th>2022-03-24</th>\n",
       "      <td>0.000000</td>\n",
       "      <td>0.000000</td>\n",
       "      <td>0.025883</td>\n",
       "    </tr>\n",
       "  </tbody>\n",
       "</table>\n",
       "<p>1828 rows × 3 columns</p>\n",
       "</div>"
      ],
      "text/plain": [
       "                 ASX       AGG    btcusd\n",
       "2017-03-23       NaN       NaN       NaN\n",
       "2017-03-24  0.012384 -0.000830       NaN\n",
       "2017-03-25  0.000000  0.000000 -0.097693\n",
       "2017-03-26  0.000000  0.000000  0.029019\n",
       "2017-03-27  0.012232  0.002399  0.004163\n",
       "...              ...       ...       ...\n",
       "2022-03-20  0.000000  0.000000 -0.022298\n",
       "2022-03-21 -0.018445 -0.009806 -0.006325\n",
       "2022-03-22  0.006711 -0.002709  0.033207\n",
       "2022-03-23 -0.029333  0.004122  0.012255\n",
       "2022-03-24  0.000000  0.000000  0.025883\n",
       "\n",
       "[1828 rows x 3 columns]"
      ]
     },
     "execution_count": 21,
     "metadata": {},
     "output_type": "execute_result"
    }
   ],
   "source": [
    "\n",
    "prices  = tiingo.get_dataframe(tickers, start_ytd, end_ytd, metric_name='adjClose')\n",
    "prices.index = pd.to_datetime(prices.index).tz_convert(None) \n",
    "r = prices.pct_change()\n",
    "    \n",
    "r\n"
   ]
  },
  {
   "cell_type": "code",
   "execution_count": 22,
   "metadata": {},
   "outputs": [
    {
     "data": {
      "text/plain": [
       "ASX       0.080504\n",
       "AGG       0.004180\n",
       "btcusd    0.735090\n",
       "dtype: float64"
      ]
     },
     "execution_count": 22,
     "metadata": {},
     "output_type": "execute_result"
    }
   ],
   "source": [
    "rf = 0.011\n",
    "risk_premiums = r.mean() * 252 - rf  \n",
    "risk_premiums"
   ]
  },
  {
   "cell_type": "code",
   "execution_count": 23,
   "metadata": {},
   "outputs": [
    {
     "data": {
      "text/plain": [
       "ASX       0.320825\n",
       "AGG       0.039902\n",
       "btcusd    0.671414\n",
       "dtype: float64"
      ]
     },
     "execution_count": 23,
     "metadata": {},
     "output_type": "execute_result"
    }
   ],
   "source": [
    "vol           = r.std()  * 252**0.5\n",
    "vol"
   ]
  },
  {
   "cell_type": "code",
   "execution_count": 24,
   "metadata": {},
   "outputs": [
    {
     "data": {
      "text/html": [
       "<div>\n",
       "<style scoped>\n",
       "    .dataframe tbody tr th:only-of-type {\n",
       "        vertical-align: middle;\n",
       "    }\n",
       "\n",
       "    .dataframe tbody tr th {\n",
       "        vertical-align: top;\n",
       "    }\n",
       "\n",
       "    .dataframe thead th {\n",
       "        text-align: right;\n",
       "    }\n",
       "</style>\n",
       "<table border=\"1\" class=\"dataframe\">\n",
       "  <thead>\n",
       "    <tr style=\"text-align: right;\">\n",
       "      <th></th>\n",
       "      <th>ASX</th>\n",
       "      <th>AGG</th>\n",
       "      <th>btcusd</th>\n",
       "    </tr>\n",
       "  </thead>\n",
       "  <tbody>\n",
       "    <tr>\n",
       "      <th>ASX</th>\n",
       "      <td>1.000000</td>\n",
       "      <td>0.073396</td>\n",
       "      <td>0.127395</td>\n",
       "    </tr>\n",
       "    <tr>\n",
       "      <th>AGG</th>\n",
       "      <td>0.073396</td>\n",
       "      <td>1.000000</td>\n",
       "      <td>0.120064</td>\n",
       "    </tr>\n",
       "    <tr>\n",
       "      <th>btcusd</th>\n",
       "      <td>0.127395</td>\n",
       "      <td>0.120064</td>\n",
       "      <td>1.000000</td>\n",
       "    </tr>\n",
       "  </tbody>\n",
       "</table>\n",
       "</div>"
      ],
      "text/plain": [
       "             ASX       AGG    btcusd\n",
       "ASX     1.000000  0.073396  0.127395\n",
       "AGG     0.073396  1.000000  0.120064\n",
       "btcusd  0.127395  0.120064  1.000000"
      ]
     },
     "execution_count": 24,
     "metadata": {},
     "output_type": "execute_result"
    }
   ],
   "source": [
    "corr          = r.corr()\n",
    "corr"
   ]
  },
  {
   "cell_type": "code",
   "execution_count": 26,
   "metadata": {},
   "outputs": [
    {
     "data": {
      "text/html": [
       "<div>\n",
       "<style scoped>\n",
       "    .dataframe tbody tr th:only-of-type {\n",
       "        vertical-align: middle;\n",
       "    }\n",
       "\n",
       "    .dataframe tbody tr th {\n",
       "        vertical-align: top;\n",
       "    }\n",
       "\n",
       "    .dataframe thead th {\n",
       "        text-align: right;\n",
       "    }\n",
       "</style>\n",
       "<table border=\"1\" class=\"dataframe\">\n",
       "  <thead>\n",
       "    <tr style=\"text-align: right;\">\n",
       "      <th></th>\n",
       "      <th>ASX</th>\n",
       "      <th>AGG</th>\n",
       "      <th>btcusd</th>\n",
       "    </tr>\n",
       "  </thead>\n",
       "  <tbody>\n",
       "    <tr>\n",
       "      <th>ASX</th>\n",
       "      <td>0.102929</td>\n",
       "      <td>0.000940</td>\n",
       "      <td>0.027447</td>\n",
       "    </tr>\n",
       "    <tr>\n",
       "      <th>AGG</th>\n",
       "      <td>0.000940</td>\n",
       "      <td>0.001592</td>\n",
       "      <td>0.003217</td>\n",
       "    </tr>\n",
       "    <tr>\n",
       "      <th>btcusd</th>\n",
       "      <td>0.027447</td>\n",
       "      <td>0.003217</td>\n",
       "      <td>0.450797</td>\n",
       "    </tr>\n",
       "  </tbody>\n",
       "</table>\n",
       "</div>"
      ],
      "text/plain": [
       "             ASX       AGG    btcusd\n",
       "ASX     0.102929  0.000940  0.027447\n",
       "AGG     0.000940  0.001592  0.003217\n",
       "btcusd  0.027447  0.003217  0.450797"
      ]
     },
     "execution_count": 26,
     "metadata": {},
     "output_type": "execute_result"
    }
   ],
   "source": [
    "cov           = r.cov()  * 252\n",
    "cov"
   ]
  },
  {
   "cell_type": "markdown",
   "metadata": {},
   "source": [
    "Now we can make a mean-volatility plot to see where these two stocks stand."
   ]
  },
  {
   "cell_type": "code",
   "execution_count": 27,
   "metadata": {},
   "outputs": [
    {
     "data": {
      "image/png": "[encoded data removed]",
      "text/plain": [
       "<Figure size 432x288 with 1 Axes>"
      ]
     },
     "metadata": {
      "needs_background": "light"
     },
     "output_type": "display_data"
    }
   ],
   "source": [
    "assets = pd.DataFrame()                        \n",
    "assets['Risk_premium'] = risk_premiums\n",
    "assets['Volatility']   = vol    \n",
    "assets['Color']        = 'orange'\n",
    "assets['Size']         = 150\n",
    "\n",
    "all_portfolios = assets\n",
    "all_portfolios\n",
    "    \n",
    "graph = all_portfolios.plot.scatter('Volatility','Risk_premium', color=all_portfolios.Color, s=all_portfolios.Size, xlim=(0,0.8), ylim=(-0.2,1.5))\n",
    "\n",
    "    # add ticker symbols to plot:\n",
    "for s in tickers:                                 # loop over sectors\n",
    "    x = all_portfolios.loc[s,'Volatility']+0.005  # get x-coordinate from table (+ offset so the labels don't overlap with points)\n",
    "    y = all_portfolios.loc[s,'Risk_premium']      # get y-coordinate from table\n",
    "    graph.text(x,y,s)                             # add the ticker symbol to the graph"
   ]
  },
  {
   "cell_type": "markdown",
   "metadata": {},
   "source": [
    "We can also make an efficient frontier plot to see how different weighted combinations of these stocks would land on the mean-volatility plot."
   ]
  },
  {
   "cell_type": "code",
   "execution_count": 28,
   "metadata": {},
   "outputs": [
    {
     "data": {
      "image/png": "[encoded data removed]",
      "text/plain": [
       "<Figure size 432x288 with 1 Axes>"
      ]
     },
     "metadata": {
      "needs_background": "light"
     },
     "output_type": "display_data"
    }
   ],
   "source": [
    "   \n",
    "# here we are building the simulation that finds the possible portfolios\n",
    "n_portfolios = 1000\n",
    "\n",
    "random_arrays  = [ np.random.uniform(0,1,len(tickers)) for i in range(0,n_portfolios) ]\n",
    "random_weights = [ ra/ra.sum() for ra in random_arrays ]\n",
    "    \n",
    "random = pd.DataFrame()\n",
    "random['Risk_premium'] = [ w.dot(risk_premiums)   for w in random_weights ]\n",
    "random['Volatility']   = [ w.dot(cov).dot(w)**0.5 for w in random_weights ]\n",
    "random['Color']        = 'gray'\n",
    "random['Size']         = 10\n",
    "random['sharpe']       = random['Risk_premium']/random['Volatility']\n",
    "\n",
    "all_portfolios = pd.concat([random, assets])\n",
    "    \n",
    "graph = all_portfolios.plot.scatter('Volatility','Risk_premium', color=all_portfolios.Color, s=all_portfolios.Size, xlim=(0,.8), ylim=(-0.2,1.5))\n",
    "\n",
    "# add ticker to plot:\n",
    "for s in tickers:                                 # loop over sectors\n",
    "    x = all_portfolios.loc[s,'Volatility']+0.005  # get x-coordinate from table (+ offset so the labels don't overlap with points)\n",
    "    y = all_portfolios.loc[s,'Risk_premium']      # get y-coordinate from table\n",
    "    graph.text(x,y,s)                             # add the ticker symbol to the graph\n"
   ]
  },
  {
   "cell_type": "markdown",
   "metadata": {},
   "source": [
    "Time to find the weights that correspond to the maximum sharpe ratio portfolio."
   ]
  },
  {
   "cell_type": "code",
   "execution_count": 29,
   "metadata": {},
   "outputs": [
    {
     "data": {
      "text/html": [
       "<div>\n",
       "<style scoped>\n",
       "    .dataframe tbody tr th:only-of-type {\n",
       "        vertical-align: middle;\n",
       "    }\n",
       "\n",
       "    .dataframe tbody tr th {\n",
       "        vertical-align: top;\n",
       "    }\n",
       "\n",
       "    .dataframe thead th {\n",
       "        text-align: right;\n",
       "    }\n",
       "</style>\n",
       "<table border=\"1\" class=\"dataframe\">\n",
       "  <thead>\n",
       "    <tr style=\"text-align: right;\">\n",
       "      <th></th>\n",
       "      <th>Risk_Premiums</th>\n",
       "      <th>Weights</th>\n",
       "      <th>weighted_ret</th>\n",
       "    </tr>\n",
       "  </thead>\n",
       "  <tbody>\n",
       "    <tr>\n",
       "      <th>ASX</th>\n",
       "      <td>0.080504</td>\n",
       "      <td>0.156640</td>\n",
       "      <td>0.012610</td>\n",
       "    </tr>\n",
       "    <tr>\n",
       "      <th>AGG</th>\n",
       "      <td>0.004180</td>\n",
       "      <td>0.001373</td>\n",
       "      <td>0.000006</td>\n",
       "    </tr>\n",
       "    <tr>\n",
       "      <th>btcusd</th>\n",
       "      <td>0.735090</td>\n",
       "      <td>0.841987</td>\n",
       "      <td>0.618936</td>\n",
       "    </tr>\n",
       "  </tbody>\n",
       "</table>\n",
       "</div>"
      ],
      "text/plain": [
       "        Risk_Premiums   Weights  weighted_ret\n",
       "ASX          0.080504  0.156640      0.012610\n",
       "AGG          0.004180  0.001373      0.000006\n",
       "btcusd       0.735090  0.841987      0.618936"
      ]
     },
     "execution_count": 29,
     "metadata": {},
     "output_type": "execute_result"
    }
   ],
   "source": [
    "\n",
    "random['weights'] = random_weights\n",
    "wgts = random[(random['sharpe'] >= random.sharpe.max())].weights.astype(str)\n",
    "\n",
    "rp = random[(random['sharpe'] == random.sharpe.max())].Risk_premium\n",
    "#now I have found the weights, but they are in string form. We want them to be a panda series\n",
    "#here i am turning the string weights into a list\n",
    "lw = list(wgts)\n",
    "#finding the first entry in the list(the first entry is always a quote)\n",
    "ws = str(lw[0])\n",
    "# replacing the quote with a blank\n",
    "ws = ws.replace('[','')\n",
    "ws = ws.replace(']','')\n",
    "#deliniating the list values by spaces\n",
    "lw = ws.split(' ')\n",
    "#filtering out the bad data\n",
    "lw = list(filter(None, lw))\n",
    "#Finally turning the list into a numpy array\n",
    "nw = np.array(lw)\n",
    "nw = nw.astype(float)\n",
    "    \n",
    "#now we have to turn the numpy array into a panda series \n",
    "    \n",
    "sharpe_weights                  = pd.DataFrame()\n",
    "sharpe_weights['Risk_Premiums'] = risk_premiums\n",
    "sharpe_weights['Weights']       = nw\n",
    "sharpe_weights['weighted_ret']  = sharpe_weights['Weights']*sharpe_weights['Risk_Premiums']\n",
    "sharpe_weights"
   ]
  },
  {
   "cell_type": "code",
   "execution_count": 30,
   "metadata": {},
   "outputs": [
    {
     "data": {
      "text/html": [
       "<div>\n",
       "<style scoped>\n",
       "    .dataframe tbody tr th:only-of-type {\n",
       "        vertical-align: middle;\n",
       "    }\n",
       "\n",
       "    .dataframe tbody tr th {\n",
       "        vertical-align: top;\n",
       "    }\n",
       "\n",
       "    .dataframe thead th {\n",
       "        text-align: right;\n",
       "    }\n",
       "</style>\n",
       "<table border=\"1\" class=\"dataframe\">\n",
       "  <thead>\n",
       "    <tr style=\"text-align: right;\">\n",
       "      <th></th>\n",
       "      <th>ASX</th>\n",
       "      <th>AGG</th>\n",
       "      <th>btcusd</th>\n",
       "      <th>total_ret</th>\n",
       "    </tr>\n",
       "  </thead>\n",
       "  <tbody>\n",
       "    <tr>\n",
       "      <th>2017-03-23</th>\n",
       "      <td>NaN</td>\n",
       "      <td>NaN</td>\n",
       "      <td>NaN</td>\n",
       "      <td>NaN</td>\n",
       "    </tr>\n",
       "    <tr>\n",
       "      <th>2017-03-24</th>\n",
       "      <td>0.012384</td>\n",
       "      <td>-0.000830</td>\n",
       "      <td>NaN</td>\n",
       "      <td>NaN</td>\n",
       "    </tr>\n",
       "    <tr>\n",
       "      <th>2017-03-25</th>\n",
       "      <td>0.000000</td>\n",
       "      <td>0.000000</td>\n",
       "      <td>-0.097693</td>\n",
       "      <td>-0.097693</td>\n",
       "    </tr>\n",
       "    <tr>\n",
       "      <th>2017-03-26</th>\n",
       "      <td>0.000000</td>\n",
       "      <td>0.000000</td>\n",
       "      <td>0.029019</td>\n",
       "      <td>0.029019</td>\n",
       "    </tr>\n",
       "    <tr>\n",
       "      <th>2017-03-27</th>\n",
       "      <td>0.012232</td>\n",
       "      <td>0.002399</td>\n",
       "      <td>0.004163</td>\n",
       "      <td>0.018795</td>\n",
       "    </tr>\n",
       "    <tr>\n",
       "      <th>...</th>\n",
       "      <td>...</td>\n",
       "      <td>...</td>\n",
       "      <td>...</td>\n",
       "      <td>...</td>\n",
       "    </tr>\n",
       "    <tr>\n",
       "      <th>2022-03-20</th>\n",
       "      <td>0.000000</td>\n",
       "      <td>0.000000</td>\n",
       "      <td>-0.022298</td>\n",
       "      <td>-0.022298</td>\n",
       "    </tr>\n",
       "    <tr>\n",
       "      <th>2022-03-21</th>\n",
       "      <td>-0.018445</td>\n",
       "      <td>-0.009806</td>\n",
       "      <td>-0.006325</td>\n",
       "      <td>-0.034576</td>\n",
       "    </tr>\n",
       "    <tr>\n",
       "      <th>2022-03-22</th>\n",
       "      <td>0.006711</td>\n",
       "      <td>-0.002709</td>\n",
       "      <td>0.033207</td>\n",
       "      <td>0.037209</td>\n",
       "    </tr>\n",
       "    <tr>\n",
       "      <th>2022-03-23</th>\n",
       "      <td>-0.029333</td>\n",
       "      <td>0.004122</td>\n",
       "      <td>0.012255</td>\n",
       "      <td>-0.012956</td>\n",
       "    </tr>\n",
       "    <tr>\n",
       "      <th>2022-03-24</th>\n",
       "      <td>0.000000</td>\n",
       "      <td>0.000000</td>\n",
       "      <td>0.025883</td>\n",
       "      <td>0.025883</td>\n",
       "    </tr>\n",
       "  </tbody>\n",
       "</table>\n",
       "<p>1828 rows × 4 columns</p>\n",
       "</div>"
      ],
      "text/plain": [
       "                 ASX       AGG    btcusd  total_ret\n",
       "2017-03-23       NaN       NaN       NaN        NaN\n",
       "2017-03-24  0.012384 -0.000830       NaN        NaN\n",
       "2017-03-25  0.000000  0.000000 -0.097693  -0.097693\n",
       "2017-03-26  0.000000  0.000000  0.029019   0.029019\n",
       "2017-03-27  0.012232  0.002399  0.004163   0.018795\n",
       "...              ...       ...       ...        ...\n",
       "2022-03-20  0.000000  0.000000 -0.022298  -0.022298\n",
       "2022-03-21 -0.018445 -0.009806 -0.006325  -0.034576\n",
       "2022-03-22  0.006711 -0.002709  0.033207   0.037209\n",
       "2022-03-23 -0.029333  0.004122  0.012255  -0.012956\n",
       "2022-03-24  0.000000  0.000000  0.025883   0.025883\n",
       "\n",
       "[1828 rows x 4 columns]"
      ]
     },
     "execution_count": 30,
     "metadata": {},
     "output_type": "execute_result"
    }
   ],
   "source": [
    "rf = 0.011\n",
    "r*sharpe_weights['Weights']\n",
    "r['total_ret'] = r.ASX + r.AGG + r.btcusd\n",
    "r"
   ]
  },
  {
   "cell_type": "code",
   "execution_count": 31,
   "metadata": {},
   "outputs": [
    {
     "data": {
      "text/plain": [
       "0.8402378246371138"
      ]
     },
     "execution_count": 31,
     "metadata": {},
     "output_type": "execute_result"
    }
   ],
   "source": [
    "max_rp = r.total_ret.mean()*252 - 0.011\n",
    "max_rp"
   ]
  },
  {
   "cell_type": "code",
   "execution_count": 32,
   "metadata": {},
   "outputs": [
    {
     "data": {
      "text/plain": [
       "0.7864895449700392"
      ]
     },
     "execution_count": 32,
     "metadata": {},
     "output_type": "execute_result"
    }
   ],
   "source": [
    "max_vol = r.total_ret.std()*252**0.5\n",
    "max_vol"
   ]
  },
  {
   "cell_type": "code",
   "execution_count": 33,
   "metadata": {
    "scrolled": true
   },
   "outputs": [
    {
     "data": {
      "text/plain": [
       "1.0683394712756444"
      ]
     },
     "execution_count": 33,
     "metadata": {},
     "output_type": "execute_result"
    }
   ],
   "source": [
    "max_sharpe = max_rp/max_vol\n",
    "max_sharpe"
   ]
  },
  {
   "cell_type": "markdown",
   "metadata": {},
   "source": [
    "Vary the amount of BTC/ GLD in the portfolio"
   ]
  },
  {
   "cell_type": "code",
   "execution_count": 34,
   "metadata": {},
   "outputs": [
    {
     "data": {
      "text/plain": [
       "array([1.  , 0.99, 0.98, 0.97, 0.96, 0.95, 0.94, 0.93, 0.92, 0.91, 0.9 ,\n",
       "       0.89, 0.88, 0.87, 0.86, 0.85, 0.84, 0.83, 0.82, 0.81, 0.8 , 0.79,\n",
       "       0.78, 0.77, 0.76, 0.75, 0.74, 0.73, 0.72, 0.71, 0.7 , 0.69, 0.68,\n",
       "       0.67, 0.66, 0.65, 0.64, 0.63, 0.62, 0.61, 0.6 , 0.59, 0.58, 0.57,\n",
       "       0.56, 0.55, 0.54, 0.53, 0.52, 0.51, 0.5 , 0.49, 0.48, 0.47, 0.46,\n",
       "       0.45, 0.44, 0.43, 0.42, 0.41, 0.4 , 0.39, 0.38, 0.37, 0.36, 0.35,\n",
       "       0.34, 0.33, 0.32, 0.31, 0.3 , 0.29, 0.28, 0.27, 0.26, 0.25, 0.24,\n",
       "       0.23, 0.22, 0.21, 0.2 , 0.19, 0.18, 0.17, 0.16, 0.15, 0.14, 0.13,\n",
       "       0.12, 0.11, 0.1 , 0.09, 0.08, 0.07, 0.06, 0.05, 0.04, 0.03, 0.02,\n",
       "       0.01])"
      ]
     },
     "execution_count": 34,
     "metadata": {},
     "output_type": "execute_result"
    }
   ],
   "source": [
    "var_weight = []\n",
    "for i in range(100):\n",
    "    var_weight.append(i/100)\n",
    "var_weight  = np.array(var_weight)\n",
    "base_weight = 1 - var_weight\n",
    "base_weight\n",
    "    "
   ]
  },
  {
   "cell_type": "code",
   "execution_count": 35,
   "metadata": {},
   "outputs": [
    {
     "data": {
      "text/html": [
       "<div>\n",
       "<style scoped>\n",
       "    .dataframe tbody tr th:only-of-type {\n",
       "        vertical-align: middle;\n",
       "    }\n",
       "\n",
       "    .dataframe tbody tr th {\n",
       "        vertical-align: top;\n",
       "    }\n",
       "\n",
       "    .dataframe thead th {\n",
       "        text-align: right;\n",
       "    }\n",
       "</style>\n",
       "<table border=\"1\" class=\"dataframe\">\n",
       "  <thead>\n",
       "    <tr style=\"text-align: right;\">\n",
       "      <th></th>\n",
       "      <th>Base_Portfolio</th>\n",
       "      <th>btcusd</th>\n",
       "    </tr>\n",
       "  </thead>\n",
       "  <tbody>\n",
       "    <tr>\n",
       "      <th>2017-03-23</th>\n",
       "      <td>NaN</td>\n",
       "      <td>NaN</td>\n",
       "    </tr>\n",
       "    <tr>\n",
       "      <th>2017-03-24</th>\n",
       "      <td>0.011554</td>\n",
       "      <td>NaN</td>\n",
       "    </tr>\n",
       "    <tr>\n",
       "      <th>2017-03-27</th>\n",
       "      <td>0.014632</td>\n",
       "      <td>0.004163</td>\n",
       "    </tr>\n",
       "    <tr>\n",
       "      <th>2017-03-28</th>\n",
       "      <td>-0.003812</td>\n",
       "      <td>0.083250</td>\n",
       "    </tr>\n",
       "    <tr>\n",
       "      <th>2017-03-29</th>\n",
       "      <td>0.003727</td>\n",
       "      <td>0.003914</td>\n",
       "    </tr>\n",
       "    <tr>\n",
       "      <th>...</th>\n",
       "      <td>...</td>\n",
       "      <td>...</td>\n",
       "    </tr>\n",
       "    <tr>\n",
       "      <th>2022-03-17</th>\n",
       "      <td>0.020719</td>\n",
       "      <td>-0.004660</td>\n",
       "    </tr>\n",
       "    <tr>\n",
       "      <th>2022-03-18</th>\n",
       "      <td>0.015576</td>\n",
       "      <td>0.020409</td>\n",
       "    </tr>\n",
       "    <tr>\n",
       "      <th>2022-03-21</th>\n",
       "      <td>-0.028251</td>\n",
       "      <td>-0.006325</td>\n",
       "    </tr>\n",
       "    <tr>\n",
       "      <th>2022-03-22</th>\n",
       "      <td>0.004002</td>\n",
       "      <td>0.033207</td>\n",
       "    </tr>\n",
       "    <tr>\n",
       "      <th>2022-03-23</th>\n",
       "      <td>-0.025212</td>\n",
       "      <td>0.012255</td>\n",
       "    </tr>\n",
       "  </tbody>\n",
       "</table>\n",
       "<p>1260 rows × 2 columns</p>\n",
       "</div>"
      ],
      "text/plain": [
       "            Base_Portfolio    btcusd\n",
       "2017-03-23             NaN       NaN\n",
       "2017-03-24        0.011554       NaN\n",
       "2017-03-27        0.014632  0.004163\n",
       "2017-03-28       -0.003812  0.083250\n",
       "2017-03-29        0.003727  0.003914\n",
       "...                    ...       ...\n",
       "2022-03-17        0.020719 -0.004660\n",
       "2022-03-18        0.015576  0.020409\n",
       "2022-03-21       -0.028251 -0.006325\n",
       "2022-03-22        0.004002  0.033207\n",
       "2022-03-23       -0.025212  0.012255\n",
       "\n",
       "[1260 rows x 2 columns]"
      ]
     },
     "execution_count": 35,
     "metadata": {},
     "output_type": "execute_result"
    }
   ],
   "source": [
    "test_returns                   = pd.DataFrame()\n",
    "test_returns['Base_Portfolio'] = r_base.total_ret\n",
    "test_returns['btcusd']         = r.btcusd\n",
    "test_returns"
   ]
  },
  {
   "cell_type": "code",
   "execution_count": 36,
   "metadata": {},
   "outputs": [],
   "source": [
    "Volatility   = []\n",
    "Risk_Premium = []\n",
    "Sharpe_Ratio = []\n",
    "\n",
    "test_port_returns = []\n",
    "\n",
    "for w in var_weight:\n",
    "    var_weighted_return  = test_returns.btcusd*w\n",
    "    base_weighted_return = test_returns.Base_Portfolio*(1-w)\n",
    "    \n",
    "    total_ret = var_weighted_return + base_weighted_return\n",
    "    total_ret = pd.DataFrame(total_ret)\n",
    "    \n",
    "    return_average    = total_ret.mean()*252\n",
    "    return_volatility = total_ret.std()*252**0.5\n",
    "    return_rp         = return_average - 0.011\n",
    "    return_sharpe     = return_rp/return_volatility\n",
    "    \n",
    "    test_port_returns.append(return_average)\n",
    "    Volatility.append(return_volatility)\n",
    "    Risk_Premium.append(return_rp)\n",
    "    \n",
    "    \n",
    "    \n",
    "\n",
    "Risk_Premium = pd.DataFrame(Risk_Premium)\n",
    "Volatility   = pd.DataFrame(Volatility)\n",
    "\n"
   ]
  },
  {
   "cell_type": "code",
   "execution_count": 37,
   "metadata": {},
   "outputs": [
    {
     "data": {
      "text/html": [
       "<div>\n",
       "<style scoped>\n",
       "    .dataframe tbody tr th:only-of-type {\n",
       "        vertical-align: middle;\n",
       "    }\n",
       "\n",
       "    .dataframe tbody tr th {\n",
       "        vertical-align: top;\n",
       "    }\n",
       "\n",
       "    .dataframe thead th {\n",
       "        text-align: right;\n",
       "    }\n",
       "</style>\n",
       "<table border=\"1\" class=\"dataframe\">\n",
       "  <thead>\n",
       "    <tr style=\"text-align: right;\">\n",
       "      <th></th>\n",
       "      <th>var_weight</th>\n",
       "      <th>Risk_Premium</th>\n",
       "      <th>Volatility</th>\n",
       "      <th>Sharpe_Ratio</th>\n",
       "    </tr>\n",
       "  </thead>\n",
       "  <tbody>\n",
       "    <tr>\n",
       "      <th>0</th>\n",
       "      <td>0.00</td>\n",
       "      <td>0.141624</td>\n",
       "      <td>0.393078</td>\n",
       "      <td>0.360294</td>\n",
       "    </tr>\n",
       "    <tr>\n",
       "      <th>1</th>\n",
       "      <td>0.01</td>\n",
       "      <td>0.149293</td>\n",
       "      <td>0.390341</td>\n",
       "      <td>0.382468</td>\n",
       "    </tr>\n",
       "    <tr>\n",
       "      <th>2</th>\n",
       "      <td>0.02</td>\n",
       "      <td>0.156963</td>\n",
       "      <td>0.387734</td>\n",
       "      <td>0.404820</td>\n",
       "    </tr>\n",
       "    <tr>\n",
       "      <th>3</th>\n",
       "      <td>0.03</td>\n",
       "      <td>0.164632</td>\n",
       "      <td>0.385260</td>\n",
       "      <td>0.427327</td>\n",
       "    </tr>\n",
       "    <tr>\n",
       "      <th>4</th>\n",
       "      <td>0.04</td>\n",
       "      <td>0.172301</td>\n",
       "      <td>0.382920</td>\n",
       "      <td>0.449966</td>\n",
       "    </tr>\n",
       "    <tr>\n",
       "      <th>...</th>\n",
       "      <td>...</td>\n",
       "      <td>...</td>\n",
       "      <td>...</td>\n",
       "      <td>...</td>\n",
       "    </tr>\n",
       "    <tr>\n",
       "      <th>95</th>\n",
       "      <td>0.95</td>\n",
       "      <td>0.870216</td>\n",
       "      <td>0.683612</td>\n",
       "      <td>1.272968</td>\n",
       "    </tr>\n",
       "    <tr>\n",
       "      <th>96</th>\n",
       "      <td>0.96</td>\n",
       "      <td>0.877885</td>\n",
       "      <td>0.690051</td>\n",
       "      <td>1.272204</td>\n",
       "    </tr>\n",
       "    <tr>\n",
       "      <th>97</th>\n",
       "      <td>0.97</td>\n",
       "      <td>0.885555</td>\n",
       "      <td>0.696514</td>\n",
       "      <td>1.271410</td>\n",
       "    </tr>\n",
       "    <tr>\n",
       "      <th>98</th>\n",
       "      <td>0.98</td>\n",
       "      <td>0.893224</td>\n",
       "      <td>0.702999</td>\n",
       "      <td>1.270590</td>\n",
       "    </tr>\n",
       "    <tr>\n",
       "      <th>99</th>\n",
       "      <td>0.99</td>\n",
       "      <td>0.900893</td>\n",
       "      <td>0.709507</td>\n",
       "      <td>1.269746</td>\n",
       "    </tr>\n",
       "  </tbody>\n",
       "</table>\n",
       "<p>100 rows × 4 columns</p>\n",
       "</div>"
      ],
      "text/plain": [
       "    var_weight  Risk_Premium  Volatility  Sharpe_Ratio\n",
       "0         0.00      0.141624    0.393078      0.360294\n",
       "1         0.01      0.149293    0.390341      0.382468\n",
       "2         0.02      0.156963    0.387734      0.404820\n",
       "3         0.03      0.164632    0.385260      0.427327\n",
       "4         0.04      0.172301    0.382920      0.449966\n",
       "..         ...           ...         ...           ...\n",
       "95        0.95      0.870216    0.683612      1.272968\n",
       "96        0.96      0.877885    0.690051      1.272204\n",
       "97        0.97      0.885555    0.696514      1.271410\n",
       "98        0.98      0.893224    0.702999      1.270590\n",
       "99        0.99      0.900893    0.709507      1.269746\n",
       "\n",
       "[100 rows x 4 columns]"
      ]
     },
     "execution_count": 37,
     "metadata": {},
     "output_type": "execute_result"
    }
   ],
   "source": [
    "var_test_results                 = pd.DataFrame()\n",
    "var_test_results['var_weight']   = var_weight\n",
    "var_test_results['Risk_Premium'] = Risk_Premium\n",
    "var_test_results['Volatility']   = Volatility\n",
    "var_test_results['Sharpe_Ratio'] = var_test_results.Risk_Premium/var_test_results.Volatility\n",
    "var_test_results"
   ]
  },
  {
   "cell_type": "code",
   "execution_count": 38,
   "metadata": {},
   "outputs": [
    {
     "data": {
      "text/plain": [
       "<AxesSubplot:>"
      ]
     },
     "execution_count": 38,
     "metadata": {},
     "output_type": "execute_result"
    },
    {
     "data": {
      "image/png": "[encoded data removed]",
      "text/plain": [
       "<Figure size 432x288 with 1 Axes>"
      ]
     },
     "metadata": {
      "needs_background": "light"
     },
     "output_type": "display_data"
    }
   ],
   "source": [
    "var_test_results[['Risk_Premium','Volatility','Sharpe_Ratio']].plot(logy = False)"
   ]
  },
  {
   "cell_type": "code",
   "execution_count": 57,
   "metadata": {},
   "outputs": [
    {
     "data": {
      "text/plain": [
       "0.5"
      ]
     },
     "execution_count": 57,
     "metadata": {},
     "output_type": "execute_result"
    }
   ],
   "source": []
  },
  {
   "cell_type": "markdown",
   "metadata": {},
   "source": [
    "# With Gold"
   ]
  },
  {
   "cell_type": "code",
   "execution_count": 39,
   "metadata": {},
   "outputs": [],
   "source": [
    "tickers = ['ASX','AGG','GLD']"
   ]
  },
  {
   "cell_type": "code",
   "execution_count": 45,
   "metadata": {},
   "outputs": [
    {
     "data": {
      "text/plain": [
       "ASX    1259\n",
       "AGG    1259\n",
       "GLD    1259\n",
       "dtype: int64"
      ]
     },
     "execution_count": 45,
     "metadata": {},
     "output_type": "execute_result"
    }
   ],
   "source": [
    "\n",
    "prices  = tiingo.get_dataframe(tickers, start_ytd, end_ytd, metric_name='adjClose')\n",
    "prices.index = pd.to_datetime(prices.index).tz_convert(None) \n",
    "r = prices.pct_change()\n",
    "    \n",
    "r.count()\n"
   ]
  },
  {
   "cell_type": "code",
   "execution_count": 41,
   "metadata": {},
   "outputs": [
    {
     "data": {
      "text/plain": [
       "ASX    0.121786\n",
       "AGG    0.011029\n",
       "GLD    0.083735\n",
       "dtype: float64"
      ]
     },
     "execution_count": 41,
     "metadata": {},
     "output_type": "execute_result"
    }
   ],
   "source": [
    "rf = 0.011\n",
    "risk_premiums = r.mean() * 252 - rf  \n",
    "risk_premiums"
   ]
  },
  {
   "cell_type": "code",
   "execution_count": 47,
   "metadata": {},
   "outputs": [
    {
     "data": {
      "text/plain": [
       "ASX    0.386498\n",
       "AGG    0.048067\n",
       "GLD    0.136513\n",
       "dtype: float64"
      ]
     },
     "execution_count": 47,
     "metadata": {},
     "output_type": "execute_result"
    }
   ],
   "source": [
    "vol           = r.std()  * 252**0.5\n",
    "vol"
   ]
  },
  {
   "cell_type": "code",
   "execution_count": 48,
   "metadata": {},
   "outputs": [
    {
     "data": {
      "text/html": [
       "<div>\n",
       "<style scoped>\n",
       "    .dataframe tbody tr th:only-of-type {\n",
       "        vertical-align: middle;\n",
       "    }\n",
       "\n",
       "    .dataframe tbody tr th {\n",
       "        vertical-align: top;\n",
       "    }\n",
       "\n",
       "    .dataframe thead th {\n",
       "        text-align: right;\n",
       "    }\n",
       "</style>\n",
       "<table border=\"1\" class=\"dataframe\">\n",
       "  <thead>\n",
       "    <tr style=\"text-align: right;\">\n",
       "      <th></th>\n",
       "      <th>ASX</th>\n",
       "      <th>AGG</th>\n",
       "      <th>GLD</th>\n",
       "    </tr>\n",
       "  </thead>\n",
       "  <tbody>\n",
       "    <tr>\n",
       "      <th>ASX</th>\n",
       "      <td>1.000000</td>\n",
       "      <td>0.073216</td>\n",
       "      <td>0.099600</td>\n",
       "    </tr>\n",
       "    <tr>\n",
       "      <th>AGG</th>\n",
       "      <td>0.073216</td>\n",
       "      <td>1.000000</td>\n",
       "      <td>0.327447</td>\n",
       "    </tr>\n",
       "    <tr>\n",
       "      <th>GLD</th>\n",
       "      <td>0.099600</td>\n",
       "      <td>0.327447</td>\n",
       "      <td>1.000000</td>\n",
       "    </tr>\n",
       "  </tbody>\n",
       "</table>\n",
       "</div>"
      ],
      "text/plain": [
       "          ASX       AGG       GLD\n",
       "ASX  1.000000  0.073216  0.099600\n",
       "AGG  0.073216  1.000000  0.327447\n",
       "GLD  0.099600  0.327447  1.000000"
      ]
     },
     "execution_count": 48,
     "metadata": {},
     "output_type": "execute_result"
    }
   ],
   "source": [
    "corr          = r.corr()\n",
    "corr"
   ]
  },
  {
   "cell_type": "code",
   "execution_count": 49,
   "metadata": {},
   "outputs": [
    {
     "data": {
      "text/html": [
       "<div>\n",
       "<style scoped>\n",
       "    .dataframe tbody tr th:only-of-type {\n",
       "        vertical-align: middle;\n",
       "    }\n",
       "\n",
       "    .dataframe tbody tr th {\n",
       "        vertical-align: top;\n",
       "    }\n",
       "\n",
       "    .dataframe thead th {\n",
       "        text-align: right;\n",
       "    }\n",
       "</style>\n",
       "<table border=\"1\" class=\"dataframe\">\n",
       "  <thead>\n",
       "    <tr style=\"text-align: right;\">\n",
       "      <th></th>\n",
       "      <th>ASX</th>\n",
       "      <th>AGG</th>\n",
       "      <th>GLD</th>\n",
       "    </tr>\n",
       "  </thead>\n",
       "  <tbody>\n",
       "    <tr>\n",
       "      <th>ASX</th>\n",
       "      <td>0.149381</td>\n",
       "      <td>0.001360</td>\n",
       "      <td>0.005255</td>\n",
       "    </tr>\n",
       "    <tr>\n",
       "      <th>AGG</th>\n",
       "      <td>0.001360</td>\n",
       "      <td>0.002310</td>\n",
       "      <td>0.002149</td>\n",
       "    </tr>\n",
       "    <tr>\n",
       "      <th>GLD</th>\n",
       "      <td>0.005255</td>\n",
       "      <td>0.002149</td>\n",
       "      <td>0.018636</td>\n",
       "    </tr>\n",
       "  </tbody>\n",
       "</table>\n",
       "</div>"
      ],
      "text/plain": [
       "          ASX       AGG       GLD\n",
       "ASX  0.149381  0.001360  0.005255\n",
       "AGG  0.001360  0.002310  0.002149\n",
       "GLD  0.005255  0.002149  0.018636"
      ]
     },
     "execution_count": 49,
     "metadata": {},
     "output_type": "execute_result"
    }
   ],
   "source": [
    "cov           = r.cov()  * 252\n",
    "cov"
   ]
  },
  {
   "cell_type": "markdown",
   "metadata": {},
   "source": [
    "Now we can make a mean-volatility plot to see where these two stocks stand."
   ]
  },
  {
   "cell_type": "code",
   "execution_count": 50,
   "metadata": {},
   "outputs": [
    {
     "data": {
      "image/png": "[encoded data removed]",
      "text/plain": [
       "<Figure size 432x288 with 1 Axes>"
      ]
     },
     "metadata": {
      "needs_background": "light"
     },
     "output_type": "display_data"
    }
   ],
   "source": [
    "assets = pd.DataFrame()                        \n",
    "assets['Risk_premium'] = risk_premiums\n",
    "assets['Volatility']   = vol    \n",
    "assets['Color']        = 'orange'\n",
    "assets['Size']         = 150\n",
    "\n",
    "all_portfolios = assets\n",
    "all_portfolios\n",
    "    \n",
    "graph = all_portfolios.plot.scatter('Volatility','Risk_premium', color=all_portfolios.Color, s=all_portfolios.Size, xlim=(0,0.6), ylim=(-0.1,1))\n",
    "\n",
    "    # add ticker symbols to plot:\n",
    "for s in tickers:                                 # loop over sectors\n",
    "    x = all_portfolios.loc[s,'Volatility']+0.005  # get x-coordinate from table (+ offset so the labels don't overlap with points)\n",
    "    y = all_portfolios.loc[s,'Risk_premium']      # get y-coordinate from table\n",
    "    graph.text(x,y,s)                             # add the ticker symbol to the graph"
   ]
  },
  {
   "cell_type": "markdown",
   "metadata": {},
   "source": [
    "We can also make an efficient frontier plot to see how different weighted combinations of these stocks would land on the mean-volatility plot."
   ]
  },
  {
   "cell_type": "code",
   "execution_count": 51,
   "metadata": {},
   "outputs": [
    {
     "data": {
      "image/png": "[encoded data removed]",
      "text/plain": [
       "<Figure size 432x288 with 1 Axes>"
      ]
     },
     "metadata": {
      "needs_background": "light"
     },
     "output_type": "display_data"
    }
   ],
   "source": [
    "   \n",
    "# here we are building the simulation that finds the possible portfolios\n",
    "n_portfolios = 10000\n",
    "\n",
    "random_arrays  = [ np.random.uniform(0,1,len(tickers)) for i in range(0,n_portfolios) ]\n",
    "random_weights = [ ra/ra.sum() for ra in random_arrays ]\n",
    "    \n",
    "random = pd.DataFrame()\n",
    "random['Risk_premium'] = [ w.dot(risk_premiums)   for w in random_weights ]\n",
    "random['Volatility']   = [ w.dot(cov).dot(w)**0.5 for w in random_weights ]\n",
    "random['Color']        = 'gray'\n",
    "random['Size']         = 10\n",
    "random['sharpe']       = random['Risk_premium']/random['Volatility']\n",
    "\n",
    "all_portfolios = pd.concat([random, assets])\n",
    "    \n",
    "graph = all_portfolios.plot.scatter('Volatility','Risk_premium', color=all_portfolios.Color, s=all_portfolios.Size, xlim=(0,.6), ylim=(-0.1,1))\n",
    "\n",
    "# add ticker to plot:\n",
    "for s in tickers:                                 # loop over sectors\n",
    "    x = all_portfolios.loc[s,'Volatility']+0.005  # get x-coordinate from table (+ offset so the labels don't overlap with points)\n",
    "    y = all_portfolios.loc[s,'Risk_premium']      # get y-coordinate from table\n",
    "    graph.text(x,y,s)                             # add the ticker symbol to the graph\n"
   ]
  },
  {
   "cell_type": "markdown",
   "metadata": {},
   "source": [
    "Time to find the weights that correspond to the maximum sharpe ratio portfolio."
   ]
  },
  {
   "cell_type": "code",
   "execution_count": 52,
   "metadata": {},
   "outputs": [
    {
     "data": {
      "text/html": [
       "<div>\n",
       "<style scoped>\n",
       "    .dataframe tbody tr th:only-of-type {\n",
       "        vertical-align: middle;\n",
       "    }\n",
       "\n",
       "    .dataframe tbody tr th {\n",
       "        vertical-align: top;\n",
       "    }\n",
       "\n",
       "    .dataframe thead th {\n",
       "        text-align: right;\n",
       "    }\n",
       "</style>\n",
       "<table border=\"1\" class=\"dataframe\">\n",
       "  <thead>\n",
       "    <tr style=\"text-align: right;\">\n",
       "      <th></th>\n",
       "      <th>Risk_Premiums</th>\n",
       "      <th>Weights</th>\n",
       "      <th>weighted_ret</th>\n",
       "    </tr>\n",
       "  </thead>\n",
       "  <tbody>\n",
       "    <tr>\n",
       "      <th>ASX</th>\n",
       "      <td>0.121786</td>\n",
       "      <td>0.123725</td>\n",
       "      <td>0.015068</td>\n",
       "    </tr>\n",
       "    <tr>\n",
       "      <th>AGG</th>\n",
       "      <td>0.011029</td>\n",
       "      <td>0.067437</td>\n",
       "      <td>0.000744</td>\n",
       "    </tr>\n",
       "    <tr>\n",
       "      <th>GLD</th>\n",
       "      <td>0.083735</td>\n",
       "      <td>0.808838</td>\n",
       "      <td>0.067728</td>\n",
       "    </tr>\n",
       "  </tbody>\n",
       "</table>\n",
       "</div>"
      ],
      "text/plain": [
       "     Risk_Premiums   Weights  weighted_ret\n",
       "ASX       0.121786  0.123725      0.015068\n",
       "AGG       0.011029  0.067437      0.000744\n",
       "GLD       0.083735  0.808838      0.067728"
      ]
     },
     "execution_count": 52,
     "metadata": {},
     "output_type": "execute_result"
    }
   ],
   "source": [
    "\n",
    "random['weights'] = random_weights\n",
    "wgts = random[(random['sharpe'] >= random.sharpe.max())].weights.astype(str)\n",
    "\n",
    "rp = random[(random['sharpe'] == random.sharpe.max())].Risk_premium\n",
    "#now I have found the weights, but they are in string form. We want them to be a panda series\n",
    "#here i am turning the string weights into a list\n",
    "lw = list(wgts)\n",
    "#finding the first entry in the list(the first entry is always a quote)\n",
    "ws = str(lw[0])\n",
    "# replacing the quote with a blank\n",
    "ws = ws.replace('[','')\n",
    "ws = ws.replace(']','')\n",
    "#deliniating the list values by spaces\n",
    "lw = ws.split(' ')\n",
    "#filtering out the bad data\n",
    "lw = list(filter(None, lw))\n",
    "#Finally turning the list into a numpy array\n",
    "nw = np.array(lw)\n",
    "nw = nw.astype(float)\n",
    "    \n",
    "#now we have to turn the numpy array into a panda series \n",
    "    \n",
    "sharpe_weights                  = pd.DataFrame()\n",
    "sharpe_weights['Risk_Premiums'] = risk_premiums\n",
    "sharpe_weights['Weights']       = nw\n",
    "sharpe_weights['weighted_ret']  = sharpe_weights['Weights']*sharpe_weights['Risk_Premiums']\n",
    "sharpe_weights"
   ]
  },
  {
   "cell_type": "code",
   "execution_count": 53,
   "metadata": {},
   "outputs": [
    {
     "data": {
      "text/html": [
       "<div>\n",
       "<style scoped>\n",
       "    .dataframe tbody tr th:only-of-type {\n",
       "        vertical-align: middle;\n",
       "    }\n",
       "\n",
       "    .dataframe tbody tr th {\n",
       "        vertical-align: top;\n",
       "    }\n",
       "\n",
       "    .dataframe thead th {\n",
       "        text-align: right;\n",
       "    }\n",
       "</style>\n",
       "<table border=\"1\" class=\"dataframe\">\n",
       "  <thead>\n",
       "    <tr style=\"text-align: right;\">\n",
       "      <th></th>\n",
       "      <th>ASX</th>\n",
       "      <th>AGG</th>\n",
       "      <th>GLD</th>\n",
       "      <th>total_ret</th>\n",
       "    </tr>\n",
       "  </thead>\n",
       "  <tbody>\n",
       "    <tr>\n",
       "      <th>2017-03-23</th>\n",
       "      <td>NaN</td>\n",
       "      <td>NaN</td>\n",
       "      <td>NaN</td>\n",
       "      <td>NaN</td>\n",
       "    </tr>\n",
       "    <tr>\n",
       "      <th>2017-03-24</th>\n",
       "      <td>0.012384</td>\n",
       "      <td>-0.000830</td>\n",
       "      <td>0.001601</td>\n",
       "      <td>0.013155</td>\n",
       "    </tr>\n",
       "    <tr>\n",
       "      <th>2017-03-27</th>\n",
       "      <td>0.012232</td>\n",
       "      <td>0.002399</td>\n",
       "      <td>0.005637</td>\n",
       "      <td>0.020269</td>\n",
       "    </tr>\n",
       "    <tr>\n",
       "      <th>2017-03-28</th>\n",
       "      <td>-0.001511</td>\n",
       "      <td>-0.002302</td>\n",
       "      <td>-0.004099</td>\n",
       "      <td>-0.007912</td>\n",
       "    </tr>\n",
       "    <tr>\n",
       "      <th>2017-03-29</th>\n",
       "      <td>0.001513</td>\n",
       "      <td>0.002215</td>\n",
       "      <td>0.002436</td>\n",
       "      <td>0.006164</td>\n",
       "    </tr>\n",
       "    <tr>\n",
       "      <th>...</th>\n",
       "      <td>...</td>\n",
       "      <td>...</td>\n",
       "      <td>...</td>\n",
       "      <td>...</td>\n",
       "    </tr>\n",
       "    <tr>\n",
       "      <th>2022-03-17</th>\n",
       "      <td>0.019048</td>\n",
       "      <td>0.001672</td>\n",
       "      <td>0.004889</td>\n",
       "      <td>0.025608</td>\n",
       "    </tr>\n",
       "    <tr>\n",
       "      <th>2022-03-18</th>\n",
       "      <td>0.013351</td>\n",
       "      <td>0.002225</td>\n",
       "      <td>-0.008790</td>\n",
       "      <td>0.006786</td>\n",
       "    </tr>\n",
       "    <tr>\n",
       "      <th>2022-03-21</th>\n",
       "      <td>-0.018445</td>\n",
       "      <td>-0.009806</td>\n",
       "      <td>0.007641</td>\n",
       "      <td>-0.020610</td>\n",
       "    </tr>\n",
       "    <tr>\n",
       "      <th>2022-03-22</th>\n",
       "      <td>0.006711</td>\n",
       "      <td>-0.002709</td>\n",
       "      <td>-0.007251</td>\n",
       "      <td>-0.003249</td>\n",
       "    </tr>\n",
       "    <tr>\n",
       "      <th>2022-03-23</th>\n",
       "      <td>-0.029333</td>\n",
       "      <td>0.004122</td>\n",
       "      <td>0.013660</td>\n",
       "      <td>-0.011552</td>\n",
       "    </tr>\n",
       "  </tbody>\n",
       "</table>\n",
       "<p>1260 rows × 4 columns</p>\n",
       "</div>"
      ],
      "text/plain": [
       "                 ASX       AGG       GLD  total_ret\n",
       "2017-03-23       NaN       NaN       NaN        NaN\n",
       "2017-03-24  0.012384 -0.000830  0.001601   0.013155\n",
       "2017-03-27  0.012232  0.002399  0.005637   0.020269\n",
       "2017-03-28 -0.001511 -0.002302 -0.004099  -0.007912\n",
       "2017-03-29  0.001513  0.002215  0.002436   0.006164\n",
       "...              ...       ...       ...        ...\n",
       "2022-03-17  0.019048  0.001672  0.004889   0.025608\n",
       "2022-03-18  0.013351  0.002225 -0.008790   0.006786\n",
       "2022-03-21 -0.018445 -0.009806  0.007641  -0.020610\n",
       "2022-03-22  0.006711 -0.002709 -0.007251  -0.003249\n",
       "2022-03-23 -0.029333  0.004122  0.013660  -0.011552\n",
       "\n",
       "[1260 rows x 4 columns]"
      ]
     },
     "execution_count": 53,
     "metadata": {},
     "output_type": "execute_result"
    }
   ],
   "source": [
    "rf = 0.011\n",
    "r*sharpe_weights['Weights']\n",
    "r['total_ret'] = r.ASX + r.AGG + r.GLD\n",
    "r"
   ]
  },
  {
   "cell_type": "code",
   "execution_count": 54,
   "metadata": {},
   "outputs": [
    {
     "data": {
      "text/plain": [
       "0.23854989586247446"
      ]
     },
     "execution_count": 54,
     "metadata": {},
     "output_type": "execute_result"
    }
   ],
   "source": [
    "max_rp = r.total_ret.mean()*252 - 0.011\n",
    "max_rp"
   ]
  },
  {
   "cell_type": "code",
   "execution_count": 55,
   "metadata": {},
   "outputs": [
    {
     "data": {
      "text/plain": [
       "0.43342195077151846"
      ]
     },
     "execution_count": 55,
     "metadata": {},
     "output_type": "execute_result"
    }
   ],
   "source": [
    "max_vol = r.total_ret.std()*252**0.5\n",
    "max_vol"
   ]
  },
  {
   "cell_type": "code",
   "execution_count": 56,
   "metadata": {
    "scrolled": true
   },
   "outputs": [
    {
     "data": {
      "text/plain": [
       "0.5503872045193848"
      ]
     },
     "execution_count": 56,
     "metadata": {},
     "output_type": "execute_result"
    }
   ],
   "source": [
    "max_sharpe = max_rp/max_vol\n",
    "max_sharpe"
   ]
  },
  {
   "cell_type": "markdown",
   "metadata": {},
   "source": [
    "Vary the amount of BTC/ GLD in the portfolio"
   ]
  },
  {
   "cell_type": "code",
   "execution_count": 58,
   "metadata": {},
   "outputs": [
    {
     "data": {
      "text/plain": [
       "array([1.  , 0.99, 0.98, 0.97, 0.96, 0.95, 0.94, 0.93, 0.92, 0.91, 0.9 ,\n",
       "       0.89, 0.88, 0.87, 0.86, 0.85, 0.84, 0.83, 0.82, 0.81, 0.8 , 0.79,\n",
       "       0.78, 0.77, 0.76, 0.75, 0.74, 0.73, 0.72, 0.71, 0.7 , 0.69, 0.68,\n",
       "       0.67, 0.66, 0.65, 0.64, 0.63, 0.62, 0.61, 0.6 , 0.59, 0.58, 0.57,\n",
       "       0.56, 0.55, 0.54, 0.53, 0.52, 0.51, 0.5 , 0.49, 0.48, 0.47, 0.46,\n",
       "       0.45, 0.44, 0.43, 0.42, 0.41, 0.4 , 0.39, 0.38, 0.37, 0.36, 0.35,\n",
       "       0.34, 0.33, 0.32, 0.31, 0.3 , 0.29, 0.28, 0.27, 0.26, 0.25, 0.24,\n",
       "       0.23, 0.22, 0.21, 0.2 , 0.19, 0.18, 0.17, 0.16, 0.15, 0.14, 0.13,\n",
       "       0.12, 0.11, 0.1 , 0.09, 0.08, 0.07, 0.06, 0.05, 0.04, 0.03, 0.02,\n",
       "       0.01])"
      ]
     },
     "execution_count": 58,
     "metadata": {},
     "output_type": "execute_result"
    }
   ],
   "source": [
    "var_weight = []\n",
    "for i in range(100):\n",
    "    var_weight.append(i/100)\n",
    "var_weight  = np.array(var_weight)\n",
    "base_weight = 1 - var_weight\n",
    "base_weight\n",
    "    "
   ]
  },
  {
   "cell_type": "code",
   "execution_count": 59,
   "metadata": {},
   "outputs": [
    {
     "data": {
      "text/html": [
       "<div>\n",
       "<style scoped>\n",
       "    .dataframe tbody tr th:only-of-type {\n",
       "        vertical-align: middle;\n",
       "    }\n",
       "\n",
       "    .dataframe tbody tr th {\n",
       "        vertical-align: top;\n",
       "    }\n",
       "\n",
       "    .dataframe thead th {\n",
       "        text-align: right;\n",
       "    }\n",
       "</style>\n",
       "<table border=\"1\" class=\"dataframe\">\n",
       "  <thead>\n",
       "    <tr style=\"text-align: right;\">\n",
       "      <th></th>\n",
       "      <th>Base_Portfolio</th>\n",
       "      <th>GLD</th>\n",
       "    </tr>\n",
       "  </thead>\n",
       "  <tbody>\n",
       "    <tr>\n",
       "      <th>2017-03-23</th>\n",
       "      <td>NaN</td>\n",
       "      <td>NaN</td>\n",
       "    </tr>\n",
       "    <tr>\n",
       "      <th>2017-03-24</th>\n",
       "      <td>0.011554</td>\n",
       "      <td>0.001601</td>\n",
       "    </tr>\n",
       "    <tr>\n",
       "      <th>2017-03-27</th>\n",
       "      <td>0.014632</td>\n",
       "      <td>0.005637</td>\n",
       "    </tr>\n",
       "    <tr>\n",
       "      <th>2017-03-28</th>\n",
       "      <td>-0.003812</td>\n",
       "      <td>-0.004099</td>\n",
       "    </tr>\n",
       "    <tr>\n",
       "      <th>2017-03-29</th>\n",
       "      <td>0.003727</td>\n",
       "      <td>0.002436</td>\n",
       "    </tr>\n",
       "    <tr>\n",
       "      <th>...</th>\n",
       "      <td>...</td>\n",
       "      <td>...</td>\n",
       "    </tr>\n",
       "    <tr>\n",
       "      <th>2022-03-17</th>\n",
       "      <td>0.020719</td>\n",
       "      <td>0.004889</td>\n",
       "    </tr>\n",
       "    <tr>\n",
       "      <th>2022-03-18</th>\n",
       "      <td>0.015576</td>\n",
       "      <td>-0.008790</td>\n",
       "    </tr>\n",
       "    <tr>\n",
       "      <th>2022-03-21</th>\n",
       "      <td>-0.028251</td>\n",
       "      <td>0.007641</td>\n",
       "    </tr>\n",
       "    <tr>\n",
       "      <th>2022-03-22</th>\n",
       "      <td>0.004002</td>\n",
       "      <td>-0.007251</td>\n",
       "    </tr>\n",
       "    <tr>\n",
       "      <th>2022-03-23</th>\n",
       "      <td>-0.025212</td>\n",
       "      <td>0.013660</td>\n",
       "    </tr>\n",
       "  </tbody>\n",
       "</table>\n",
       "<p>1260 rows × 2 columns</p>\n",
       "</div>"
      ],
      "text/plain": [
       "            Base_Portfolio       GLD\n",
       "2017-03-23             NaN       NaN\n",
       "2017-03-24        0.011554  0.001601\n",
       "2017-03-27        0.014632  0.005637\n",
       "2017-03-28       -0.003812 -0.004099\n",
       "2017-03-29        0.003727  0.002436\n",
       "...                    ...       ...\n",
       "2022-03-17        0.020719  0.004889\n",
       "2022-03-18        0.015576 -0.008790\n",
       "2022-03-21       -0.028251  0.007641\n",
       "2022-03-22        0.004002 -0.007251\n",
       "2022-03-23       -0.025212  0.013660\n",
       "\n",
       "[1260 rows x 2 columns]"
      ]
     },
     "execution_count": 59,
     "metadata": {},
     "output_type": "execute_result"
    }
   ],
   "source": [
    "test_returns                   = pd.DataFrame()\n",
    "test_returns['Base_Portfolio'] = r.ASX + r.AGG\n",
    "test_returns['GLD']            = r.GLD\n",
    "test_returns"
   ]
  },
  {
   "cell_type": "code",
   "execution_count": 63,
   "metadata": {},
   "outputs": [],
   "source": [
    "Volatility   = []\n",
    "Risk_Premium = []\n",
    "Sharpe_Ratio = []\n",
    "\n",
    "test_port_returns = []\n",
    "\n",
    "for w in var_weight:\n",
    "    var_weighted_return  = test_returns.GLD*w\n",
    "    base_weighted_return = test_returns.Base_Portfolio*(1-w)\n",
    "    \n",
    "    total_ret = var_weighted_return + base_weighted_return\n",
    "    total_ret = pd.DataFrame(total_ret)\n",
    "    \n",
    "    return_average    = total_ret.mean()*252\n",
    "    return_volatility = total_ret.std()*252**0.5\n",
    "    return_rp         = return_average - 0.011\n",
    "    return_sharpe     = return_rp/return_volatility\n",
    "    \n",
    "    test_port_returns.append(return_average)\n",
    "    Volatility.append(return_volatility)\n",
    "    Risk_Premium.append(return_rp)\n",
    "    \n",
    "    \n",
    "    \n",
    "\n",
    "Risk_Premium = pd.DataFrame(Risk_Premium)\n",
    "Volatility   = pd.DataFrame(Volatility)\n",
    "\n"
   ]
  },
  {
   "cell_type": "code",
   "execution_count": 64,
   "metadata": {},
   "outputs": [
    {
     "data": {
      "text/html": [
       "<div>\n",
       "<style scoped>\n",
       "    .dataframe tbody tr th:only-of-type {\n",
       "        vertical-align: middle;\n",
       "    }\n",
       "\n",
       "    .dataframe tbody tr th {\n",
       "        vertical-align: top;\n",
       "    }\n",
       "\n",
       "    .dataframe thead th {\n",
       "        text-align: right;\n",
       "    }\n",
       "</style>\n",
       "<table border=\"1\" class=\"dataframe\">\n",
       "  <thead>\n",
       "    <tr style=\"text-align: right;\">\n",
       "      <th></th>\n",
       "      <th>var_weight</th>\n",
       "      <th>Risk_Premium</th>\n",
       "      <th>Volatility</th>\n",
       "      <th>Sharpe_Ratio</th>\n",
       "    </tr>\n",
       "  </thead>\n",
       "  <tbody>\n",
       "    <tr>\n",
       "      <th>0</th>\n",
       "      <td>0.00</td>\n",
       "      <td>0.143815</td>\n",
       "      <td>0.392952</td>\n",
       "      <td>0.365986</td>\n",
       "    </tr>\n",
       "    <tr>\n",
       "      <th>1</th>\n",
       "      <td>0.01</td>\n",
       "      <td>0.143214</td>\n",
       "      <td>0.389214</td>\n",
       "      <td>0.367958</td>\n",
       "    </tr>\n",
       "    <tr>\n",
       "      <th>2</th>\n",
       "      <td>0.02</td>\n",
       "      <td>0.142614</td>\n",
       "      <td>0.385480</td>\n",
       "      <td>0.369964</td>\n",
       "    </tr>\n",
       "    <tr>\n",
       "      <th>3</th>\n",
       "      <td>0.03</td>\n",
       "      <td>0.142013</td>\n",
       "      <td>0.381750</td>\n",
       "      <td>0.372004</td>\n",
       "    </tr>\n",
       "    <tr>\n",
       "      <th>4</th>\n",
       "      <td>0.04</td>\n",
       "      <td>0.141412</td>\n",
       "      <td>0.378027</td>\n",
       "      <td>0.374080</td>\n",
       "    </tr>\n",
       "    <tr>\n",
       "      <th>...</th>\n",
       "      <td>...</td>\n",
       "      <td>...</td>\n",
       "      <td>...</td>\n",
       "      <td>...</td>\n",
       "    </tr>\n",
       "    <tr>\n",
       "      <th>95</th>\n",
       "      <td>0.95</td>\n",
       "      <td>0.086739</td>\n",
       "      <td>0.133821</td>\n",
       "      <td>0.648169</td>\n",
       "    </tr>\n",
       "    <tr>\n",
       "      <th>96</th>\n",
       "      <td>0.96</td>\n",
       "      <td>0.086138</td>\n",
       "      <td>0.134128</td>\n",
       "      <td>0.642207</td>\n",
       "    </tr>\n",
       "    <tr>\n",
       "      <th>97</th>\n",
       "      <td>0.97</td>\n",
       "      <td>0.085537</td>\n",
       "      <td>0.134552</td>\n",
       "      <td>0.635719</td>\n",
       "    </tr>\n",
       "    <tr>\n",
       "      <th>98</th>\n",
       "      <td>0.98</td>\n",
       "      <td>0.084936</td>\n",
       "      <td>0.135091</td>\n",
       "      <td>0.628732</td>\n",
       "    </tr>\n",
       "    <tr>\n",
       "      <th>99</th>\n",
       "      <td>0.99</td>\n",
       "      <td>0.084336</td>\n",
       "      <td>0.135746</td>\n",
       "      <td>0.621276</td>\n",
       "    </tr>\n",
       "  </tbody>\n",
       "</table>\n",
       "<p>100 rows × 4 columns</p>\n",
       "</div>"
      ],
      "text/plain": [
       "    var_weight  Risk_Premium  Volatility  Sharpe_Ratio\n",
       "0         0.00      0.143815    0.392952      0.365986\n",
       "1         0.01      0.143214    0.389214      0.367958\n",
       "2         0.02      0.142614    0.385480      0.369964\n",
       "3         0.03      0.142013    0.381750      0.372004\n",
       "4         0.04      0.141412    0.378027      0.374080\n",
       "..         ...           ...         ...           ...\n",
       "95        0.95      0.086739    0.133821      0.648169\n",
       "96        0.96      0.086138    0.134128      0.642207\n",
       "97        0.97      0.085537    0.134552      0.635719\n",
       "98        0.98      0.084936    0.135091      0.628732\n",
       "99        0.99      0.084336    0.135746      0.621276\n",
       "\n",
       "[100 rows x 4 columns]"
      ]
     },
     "execution_count": 64,
     "metadata": {},
     "output_type": "execute_result"
    }
   ],
   "source": [
    "var_test_results                 = pd.DataFrame()\n",
    "var_test_results['var_weight']   = var_weight\n",
    "var_test_results['Risk_Premium'] = Risk_Premium\n",
    "var_test_results['Volatility']   = Volatility\n",
    "var_test_results['Sharpe_Ratio'] = var_test_results.Risk_Premium/var_test_results.Volatility\n",
    "var_test_results"
   ]
  },
  {
   "cell_type": "code",
   "execution_count": 65,
   "metadata": {},
   "outputs": [
    {
     "data": {
      "text/plain": [
       "<AxesSubplot:>"
      ]
     },
     "execution_count": 65,
     "metadata": {},
     "output_type": "execute_result"
    },
    {
     "data": {
      "image/png": "[encoded data removed]",
      "text/plain": [
       "<Figure size 432x288 with 1 Axes>"
      ]
     },
     "metadata": {
      "needs_background": "light"
     },
     "output_type": "display_data"
    }
   ],
   "source": [
    "var_test_results[['Risk_Premium','Volatility','Sharpe_Ratio']].plot(logy = False)"
   ]
  },
  {
   "cell_type": "code",
   "execution_count": null,
   "metadata": {},
   "outputs": [],
   "source": []
  }
 ],
 "metadata": {
  "kernelspec": {
   "display_name": "Python 3",
   "language": "python",
   "name": "python3"
  },
  "language_info": {
   "codemirror_mode": {
    "name": "ipython",
    "version": 3
   },
   "file_extension": ".py",
   "mimetype": "text/x-python",
   "name": "python",
   "nbconvert_exporter": "python",
   "pygments_lexer": "ipython3",
   "version": "3.8.5"
  }
 },
 "nbformat": 4,
 "nbformat_minor": 4
}
